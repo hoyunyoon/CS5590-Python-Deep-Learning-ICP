{
  "cells": [
    {
      "cell_type": "code",
      "execution_count": null,
      "metadata": {
        "id": "6l8zW5-NPvcC"
      },
      "outputs": [],
      "source": [
        "# Import the necessary libraries\n",
        "from tensorflow.keras.datasets import cifar10\n",
        "from keras.models import Model, Sequential\n",
        "from keras.layers import Conv2D, MaxPooling2D, Dropout, Activation, Flatten, Dense, Input\n",
        "import tensorflow as tf\n",
        "from tensorflow import keras\n",
        "from tensorflow.keras import layers\n",
        "from tensorflow.keras.utils import to_categorical\n",
        "\n",
        "from sklearn.model_selection import train_test_split\n",
        "import pandas as pd\n",
        "import numpy as np\n",
        "import matplotlib.pyplot as plt"
      ]
    },
    {
      "cell_type": "code",
      "execution_count": null,
      "metadata": {
        "id": "5yGnjskfSTEw",
        "colab": {
          "base_uri": "https://localhost:8080/"
        },
        "outputId": "53ac30f6-d2ac-43cd-88f1-2399711f412f"
      },
      "outputs": [
        {
          "output_type": "stream",
          "name": "stdout",
          "text": [
            "Downloading data from https://www.cs.toronto.edu/~kriz/cifar-10-python.tar.gz\n",
            "170500096/170498071 [==============================] - 2s 0us/step\n",
            "170508288/170498071 [==============================] - 2s 0us/step\n"
          ]
        }
      ],
      "source": [
        "(x_train, y_train),(x_test, y_test) = cifar10.load_data()"
      ]
    },
    {
      "cell_type": "code",
      "execution_count": null,
      "metadata": {
        "id": "_9wZvzN1SeQS"
      },
      "outputs": [],
      "source": [
        "# One hot encode the y training and testing data\n",
        "y_train = to_categorical(y_train, num_classes = 10)\n",
        "y_test = to_categorical(y_test, num_classes = 10)"
      ]
    },
    {
      "cell_type": "code",
      "execution_count": null,
      "metadata": {
        "id": "bn2td_CTTqFk"
      },
      "outputs": [],
      "source": [
        "# Scale the data\n",
        "x_train = x_train /255.0\n",
        "x_test = x_test /255.0"
      ]
    },
    {
      "cell_type": "markdown",
      "metadata": {
        "id": "lOq2ziB1T6L0"
      },
      "source": [
        "Martin Yap, Hoyun Yoon, ICP 10"
      ]
    },
    {
      "cell_type": "markdown",
      "metadata": {
        "id": "9TsCa_kiT_mT"
      },
      "source": [
        "Form the model with the given layer layout"
      ]
    },
    {
      "cell_type": "code",
      "execution_count": null,
      "metadata": {
        "id": "p2hoBlIJTv2q"
      },
      "outputs": [],
      "source": [
        "# Initialize model\n",
        "model1 = Sequential()\n",
        "\n",
        "# Define the layers to the model\n",
        "model1.add(Conv2D(32, (3, 3), padding='same',input_shape=x_train.shape[1:]))\n",
        "model1.add(Activation('relu'))\n",
        "model1.add(Dropout(0.2))\n",
        "model1.add(Conv2D(32, (3, 3), padding='same'))\n",
        "model1.add(Activation('relu'))\n",
        "model1.add(MaxPooling2D(pool_size=(2,2)))\n",
        "\n",
        "model1.add(Conv2D(64, (3, 3), padding='same'))\n",
        "model1.add(Activation('relu'))\n",
        "model1.add(Dropout(0.2))\n",
        "model1.add(Conv2D(64, (3, 3), padding='same'))\n",
        "model1.add(Activation('relu'))\n",
        "model1.add(MaxPooling2D(pool_size=(2,2)))\n",
        "\n",
        "model1.add(Conv2D(128, (3, 3), padding='same'))\n",
        "model1.add(Activation('relu'))\n",
        "model1.add(Dropout(0.2))\n",
        "model1.add(Conv2D(128, (3, 3), padding='same'))\n",
        "model1.add(Activation('relu'))\n",
        "model1.add(MaxPooling2D(pool_size=(2,2)))"
      ]
    },
    {
      "cell_type": "code",
      "execution_count": null,
      "metadata": {
        "id": "Q-o4JgqpV9zi"
      },
      "outputs": [],
      "source": [
        "model1.add(Flatten())\n",
        "model1.add(Dropout(0.2))\n",
        "\n",
        "model1.add(Dense(1024))\n",
        "model1.add(Activation('relu'))\n",
        "model1.add(Dropout(0.2))\n",
        "\n",
        "model1.add(Dense(512))\n",
        "model1.add(Activation('relu'))\n",
        "model1.add(Dropout(0.2))\n",
        "\n",
        "model1.add(Dense(10))\n",
        "model1.add(Activation('softmax'))"
      ]
    },
    {
      "cell_type": "code",
      "execution_count": null,
      "metadata": {
        "colab": {
          "base_uri": "https://localhost:8080/"
        },
        "id": "ycutiq_xWJoF",
        "outputId": "b35a902b-9b47-4db0-9392-ba21193487af"
      },
      "outputs": [
        {
          "output_type": "stream",
          "name": "stdout",
          "text": [
            "Epoch 1/20\n",
            "4000/4000 [==============================] - 468s 117ms/step - loss: 1.9973 - accuracy: 0.2643 - val_loss: 1.7833 - val_accuracy: 0.3809\n",
            "Epoch 2/20\n",
            "4000/4000 [==============================] - 496s 124ms/step - loss: 1.6135 - accuracy: 0.4119 - val_loss: 1.4839 - val_accuracy: 0.4732\n",
            "Epoch 3/20\n",
            "4000/4000 [==============================] - 471s 118ms/step - loss: 1.4291 - accuracy: 0.4811 - val_loss: 1.3287 - val_accuracy: 0.5237\n",
            "Epoch 4/20\n",
            "4000/4000 [==============================] - 468s 117ms/step - loss: 1.3109 - accuracy: 0.5284 - val_loss: 1.2512 - val_accuracy: 0.5523\n",
            "Epoch 5/20\n",
            "4000/4000 [==============================] - 475s 119ms/step - loss: 1.2033 - accuracy: 0.5671 - val_loss: 1.1344 - val_accuracy: 0.5941\n",
            "Epoch 6/20\n",
            "4000/4000 [==============================] - 480s 120ms/step - loss: 1.1045 - accuracy: 0.6051 - val_loss: 1.0296 - val_accuracy: 0.6371\n",
            "Epoch 7/20\n",
            "4000/4000 [==============================] - 483s 121ms/step - loss: 1.0156 - accuracy: 0.6370 - val_loss: 0.9445 - val_accuracy: 0.6663\n",
            "Epoch 8/20\n",
            "4000/4000 [==============================] - 486s 122ms/step - loss: 0.9336 - accuracy: 0.6702 - val_loss: 0.9169 - val_accuracy: 0.6761\n",
            "Epoch 9/20\n",
            "4000/4000 [==============================] - 494s 124ms/step - loss: 0.8547 - accuracy: 0.6960 - val_loss: 0.8273 - val_accuracy: 0.7181\n",
            "Epoch 10/20\n",
            "4000/4000 [==============================] - 504s 126ms/step - loss: 0.7914 - accuracy: 0.7193 - val_loss: 0.8907 - val_accuracy: 0.6865\n",
            "Epoch 11/20\n",
            "4000/4000 [==============================] - 504s 126ms/step - loss: 0.7332 - accuracy: 0.7395 - val_loss: 0.7751 - val_accuracy: 0.7337\n",
            "Epoch 12/20\n",
            "4000/4000 [==============================] - 506s 126ms/step - loss: 0.6731 - accuracy: 0.7602 - val_loss: 0.6997 - val_accuracy: 0.7600\n",
            "Epoch 13/20\n",
            "4000/4000 [==============================] - 500s 125ms/step - loss: 0.6297 - accuracy: 0.7791 - val_loss: 0.6973 - val_accuracy: 0.7611\n",
            "Epoch 14/20\n",
            "4000/4000 [==============================] - 502s 126ms/step - loss: 0.5851 - accuracy: 0.7931 - val_loss: 0.6963 - val_accuracy: 0.7643\n",
            "Epoch 15/20\n",
            "4000/4000 [==============================] - 501s 125ms/step - loss: 0.5468 - accuracy: 0.8069 - val_loss: 0.6647 - val_accuracy: 0.7741\n",
            "Epoch 16/20\n",
            "4000/4000 [==============================] - 499s 125ms/step - loss: 0.5141 - accuracy: 0.8164 - val_loss: 0.6635 - val_accuracy: 0.7786\n",
            "Epoch 17/20\n",
            "4000/4000 [==============================] - 498s 125ms/step - loss: 0.4734 - accuracy: 0.8318 - val_loss: 0.6856 - val_accuracy: 0.7680\n",
            "Epoch 18/20\n",
            "4000/4000 [==============================] - 502s 126ms/step - loss: 0.4445 - accuracy: 0.8424 - val_loss: 0.6416 - val_accuracy: 0.7799\n",
            "Epoch 19/20\n",
            "4000/4000 [==============================] - 508s 127ms/step - loss: 0.4148 - accuracy: 0.8533 - val_loss: 0.6681 - val_accuracy: 0.7810\n",
            "Epoch 20/20\n",
            "4000/4000 [==============================] - 510s 128ms/step - loss: 0.3902 - accuracy: 0.8616 - val_loss: 0.6687 - val_accuracy: 0.7834\n"
          ]
        },
        {
          "output_type": "execute_result",
          "data": {
            "text/plain": [
              "<keras.callbacks.History at 0x7f5e62ada6d0>"
            ]
          },
          "metadata": {},
          "execution_count": 8
        }
      ],
      "source": [
        "# Fit the model\n",
        "model1.compile(loss='categorical_crossentropy', optimizer='SGD', metrics=['accuracy'])\n",
        "model1.fit(x_train, y_train, batch_size=10, epochs=20, validation_split=0.2, shuffle=True)"
      ]
    },
    {
      "cell_type": "code",
      "execution_count": null,
      "metadata": {
        "id": "WR_mfQ21WvS2",
        "colab": {
          "base_uri": "https://localhost:8080/"
        },
        "outputId": "7e49f5d8-6054-401b-fcf0-1d1777f272eb"
      },
      "outputs": [
        {
          "output_type": "stream",
          "name": "stdout",
          "text": [
            "313/313 [==============================] - 23s 72ms/step - loss: 0.6934 - accuracy: 0.7738\n",
            "Test loss: 0.6934332251548767\n",
            "Test accuracy: 0.7738000154495239\n"
          ]
        }
      ],
      "source": [
        "# Evaluate the model\n",
        "score1 = model1.evaluate(x_test, y_test, verbose=1)\n",
        "print('Test loss:', score1[0])\n",
        "print('Test accuracy:', score1[1])"
      ]
    },
    {
      "cell_type": "code",
      "source": [
        "# Save model\n",
        "model1.save('./model1'+'.h5')"
      ],
      "metadata": {
        "id": "GD0NfDkIpV5-"
      },
      "execution_count": null,
      "outputs": []
    },
    {
      "cell_type": "markdown",
      "source": [
        "1) Change the model into a Functional API model"
      ],
      "metadata": {
        "id": "SaF_X3RzCsS6"
      }
    },
    {
      "cell_type": "code",
      "source": [
        "# Form the functional API model using the same settings as the sequential model\n",
        "input_layer = Input(shape=(32, 32, 3))\n",
        "conv1 = Conv2D(32, (3,3), activation='relu', padding='same')(input_layer)\n",
        "drop1 = Dropout(0.2)(conv1)\n",
        "conv2 = Conv2D(32, (3,3), activation='relu', padding='same')(drop1)\n",
        "max1 = MaxPooling2D(pool_size=(2,2))(conv2)\n",
        "\n",
        "conv3 = Conv2D(64, (3,3), activation='relu', padding='same')(max1)\n",
        "drop2 = Dropout(0.2)(conv3)\n",
        "conv4 = Conv2D(64, (3,3), activation='relu', padding='same')(drop2)\n",
        "max2 = MaxPooling2D(pool_size=(2,2))(conv4)\n",
        "\n",
        "conv5 = Conv2D(128, (3,3), activation='relu', padding='same')(max2)\n",
        "drop3 = Dropout(0.2)(conv5)\n",
        "conv6 = Conv2D(128, (3,3), activation='relu', padding='same')(drop3)\n",
        "max3 = MaxPooling2D(pool_size=(2,2))(conv6)\n",
        "\n",
        "flat = Flatten()(max3)\n",
        "drop4 = Dropout(0.2)(flat)\n",
        "den1 = Dense(1024, activation='relu')(drop4)\n",
        "drop5 = Dropout(0.2)(den1)\n",
        "den2 = Dense(512, activation='relu')(drop5)\n",
        "drop6 = Dropout(0.2)(den2)\n",
        "out_layer = Dense(10, activation='softmax')(drop6)"
      ],
      "metadata": {
        "id": "Inc2Dm_uCzng"
      },
      "execution_count": null,
      "outputs": []
    },
    {
      "cell_type": "code",
      "source": [
        "# Create the model by specifying the input and output in the layers\n",
        "model2 = keras.Model(inputs=input_layer, outputs=out_layer, name=\"functional_model\")"
      ],
      "metadata": {
        "id": "UwP3PA9aPJTc"
      },
      "execution_count": null,
      "outputs": []
    },
    {
      "cell_type": "code",
      "source": [
        "# Compile the model with the loss, optimizer, and metrics used in the sequential model\n",
        "model2.compile(loss='categorical_crossentropy', optimizer='SGD', metrics=['accuracy'])\n",
        "\n",
        "# Fit the data to the model\n",
        "model2.fit(x_train, y_train, batch_size=10, epochs=20, validation_split=0.2, shuffle=True)"
      ],
      "metadata": {
        "colab": {
          "base_uri": "https://localhost:8080/"
        },
        "id": "lx_ojQgWPbIm",
        "outputId": "d2917b67-404c-4eab-f3b3-699dcdf7fbb7"
      },
      "execution_count": null,
      "outputs": [
        {
          "output_type": "stream",
          "name": "stdout",
          "text": [
            "Epoch 1/20\n",
            "4000/4000 [==============================] - 477s 119ms/step - loss: 2.0311 - accuracy: 0.2508 - val_loss: 1.7584 - val_accuracy: 0.3676\n",
            "Epoch 2/20\n",
            "4000/4000 [==============================] - 472s 118ms/step - loss: 1.6388 - accuracy: 0.4010 - val_loss: 1.5544 - val_accuracy: 0.4464\n",
            "Epoch 3/20\n",
            "4000/4000 [==============================] - 479s 120ms/step - loss: 1.4435 - accuracy: 0.4775 - val_loss: 1.3971 - val_accuracy: 0.4877\n",
            "Epoch 4/20\n",
            "4000/4000 [==============================] - 486s 122ms/step - loss: 1.3011 - accuracy: 0.5306 - val_loss: 1.1931 - val_accuracy: 0.5748\n",
            "Epoch 5/20\n",
            "4000/4000 [==============================] - 487s 122ms/step - loss: 1.1790 - accuracy: 0.5749 - val_loss: 1.0739 - val_accuracy: 0.6174\n",
            "Epoch 6/20\n",
            "4000/4000 [==============================] - 494s 124ms/step - loss: 1.0710 - accuracy: 0.6176 - val_loss: 0.9945 - val_accuracy: 0.6489\n",
            "Epoch 7/20\n",
            "4000/4000 [==============================] - 494s 123ms/step - loss: 0.9828 - accuracy: 0.6514 - val_loss: 0.9501 - val_accuracy: 0.6633\n",
            "Epoch 8/20\n",
            "4000/4000 [==============================] - 497s 124ms/step - loss: 0.9032 - accuracy: 0.6791 - val_loss: 0.8488 - val_accuracy: 0.7058\n",
            "Epoch 9/20\n",
            "4000/4000 [==============================] - 494s 123ms/step - loss: 0.8319 - accuracy: 0.7077 - val_loss: 0.8289 - val_accuracy: 0.7052\n",
            "Epoch 10/20\n",
            "4000/4000 [==============================] - 492s 123ms/step - loss: 0.7771 - accuracy: 0.7260 - val_loss: 0.8611 - val_accuracy: 0.7001\n",
            "Epoch 11/20\n",
            "4000/4000 [==============================] - 491s 123ms/step - loss: 0.7245 - accuracy: 0.7418 - val_loss: 0.7501 - val_accuracy: 0.7366\n",
            "Epoch 12/20\n",
            "4000/4000 [==============================] - 488s 122ms/step - loss: 0.6758 - accuracy: 0.7638 - val_loss: 0.7180 - val_accuracy: 0.7499\n",
            "Epoch 13/20\n",
            "4000/4000 [==============================] - 490s 123ms/step - loss: 0.6317 - accuracy: 0.7764 - val_loss: 0.7569 - val_accuracy: 0.7423\n",
            "Epoch 14/20\n",
            "4000/4000 [==============================] - 488s 122ms/step - loss: 0.5909 - accuracy: 0.7904 - val_loss: 0.7156 - val_accuracy: 0.7558\n",
            "Epoch 15/20\n",
            "4000/4000 [==============================] - 489s 122ms/step - loss: 0.5527 - accuracy: 0.8042 - val_loss: 0.6863 - val_accuracy: 0.7599\n",
            "Epoch 16/20\n",
            "4000/4000 [==============================] - 489s 122ms/step - loss: 0.5149 - accuracy: 0.8158 - val_loss: 0.6813 - val_accuracy: 0.7654\n",
            "Epoch 17/20\n",
            "4000/4000 [==============================] - 486s 122ms/step - loss: 0.4851 - accuracy: 0.8288 - val_loss: 0.6856 - val_accuracy: 0.7667\n",
            "Epoch 18/20\n",
            "4000/4000 [==============================] - 489s 122ms/step - loss: 0.4509 - accuracy: 0.8397 - val_loss: 0.6822 - val_accuracy: 0.7722\n",
            "Epoch 19/20\n",
            "4000/4000 [==============================] - 492s 123ms/step - loss: 0.4193 - accuracy: 0.8511 - val_loss: 0.6553 - val_accuracy: 0.7803\n",
            "Epoch 20/20\n",
            "4000/4000 [==============================] - 494s 123ms/step - loss: 0.3980 - accuracy: 0.8603 - val_loss: 0.6469 - val_accuracy: 0.7837\n"
          ]
        },
        {
          "output_type": "execute_result",
          "data": {
            "text/plain": [
              "<keras.callbacks.History at 0x7f5e6271bf50>"
            ]
          },
          "metadata": {},
          "execution_count": 19
        }
      ]
    },
    {
      "cell_type": "code",
      "source": [
        "# Evaluate the model\n",
        "score2 = model2.evaluate(x_test, y_test, verbose=1)\n",
        "print('Test loss:', score2[0])\n",
        "print('Test accuracy:', score2[1])"
      ],
      "metadata": {
        "colab": {
          "base_uri": "https://localhost:8080/"
        },
        "id": "xzypORD1SCMB",
        "outputId": "fb262821-1c56-41c4-8050-2903d9ad7c07"
      },
      "execution_count": null,
      "outputs": [
        {
          "output_type": "stream",
          "name": "stdout",
          "text": [
            "313/313 [==============================] - 23s 72ms/step - loss: 0.6848 - accuracy: 0.7769\n",
            "Test loss: 0.6848118901252747\n",
            "Test accuracy: 0.7768999934196472\n"
          ]
        }
      ]
    },
    {
      "cell_type": "markdown",
      "source": [
        "Comparing the performaces of the sequential and functional models, we can see that the two models are close to the same with the functional model having a slightly higher accuracy and lower loss."
      ],
      "metadata": {
        "id": "1FRRKUDCVJMF"
      }
    },
    {
      "cell_type": "code",
      "source": [
        "# Save model\n",
        "model2.save('./model2'+'.h5')"
      ],
      "metadata": {
        "id": "FZH2qs27VJrm"
      },
      "execution_count": null,
      "outputs": []
    },
    {
      "cell_type": "markdown",
      "source": [
        "2) Apply the specified callbacks to the model"
      ],
      "metadata": {
        "id": "tl08V16diWMY"
      }
    },
    {
      "cell_type": "code",
      "source": [
        "# Load the model\n",
        "model2 = keras.models.load_model('/content/model2.h5')"
      ],
      "metadata": {
        "id": "br2Ah2BLgJ_o"
      },
      "execution_count": null,
      "outputs": []
    },
    {
      "cell_type": "code",
      "source": [
        "# Apply the ModelCheckPoint callback\n",
        "mcp = keras.callbacks.ModelCheckpoint(filepath='/content/checkpoint', monitor='val_loss',verbose=0,\n",
        "                                      save_best_only=False, save_weights_only=False, mode='auto')"
      ],
      "metadata": {
        "id": "UjRoBO0wifrb"
      },
      "execution_count": null,
      "outputs": []
    },
    {
      "cell_type": "code",
      "source": [
        "# Apply the ReduceLROnPlateau callback\n",
        "rlp = keras.callbacks.ReduceLROnPlateau(monitor='val_loss', factor=0.2, patience=5, min_lr=0.001)"
      ],
      "metadata": {
        "id": "hn7XoJJMik2O"
      },
      "execution_count": null,
      "outputs": []
    },
    {
      "cell_type": "code",
      "source": [
        "# Apply the EarlyStopping callback using the restore_best_weights parameter\n",
        "es = keras.callbacks.EarlyStopping(monitor='val_loss', min_delta=0, patience=0, \n",
        "                                   verbose=0, mode='auto', baseline=None, \n",
        "                                   restore_best_weights=True)"
      ],
      "metadata": {
        "id": "mOHYhe82ipU7"
      },
      "execution_count": null,
      "outputs": []
    },
    {
      "cell_type": "code",
      "source": [
        "# Store all the callbacks into a list\n",
        "callbacks = [mcp, rlp, es]"
      ],
      "metadata": {
        "id": "06bQL8JAnVSs"
      },
      "execution_count": null,
      "outputs": []
    },
    {
      "cell_type": "code",
      "source": [
        "# Fit the model with the callbacks\n",
        "model2.fit(x_train, y_train, epochs=10, validation_split=0.2, \n",
        "           shuffle=True, callbacks=callbacks)"
      ],
      "metadata": {
        "colab": {
          "base_uri": "https://localhost:8080/"
        },
        "id": "M2xI-KK2nl5I",
        "outputId": "430f752c-a338-4f4d-9047-2fe9004911a9"
      },
      "execution_count": null,
      "outputs": [
        {
          "output_type": "stream",
          "name": "stdout",
          "text": [
            "Epoch 1/10\n",
            "1250/1250 [==============================] - ETA: 0s - loss: 0.2826 - accuracy: 0.8999INFO:tensorflow:Assets written to: /content/checkpoint/assets\n",
            "1250/1250 [==============================] - 362s 289ms/step - loss: 0.2826 - accuracy: 0.8999 - val_loss: 0.6304 - val_accuracy: 0.8010 - lr: 0.0100\n",
            "Epoch 2/10\n",
            "1250/1250 [==============================] - ETA: 0s - loss: 0.2482 - accuracy: 0.9097INFO:tensorflow:Assets written to: /content/checkpoint/assets\n",
            "1250/1250 [==============================] - 360s 288ms/step - loss: 0.2482 - accuracy: 0.9097 - val_loss: 0.6596 - val_accuracy: 0.7976 - lr: 0.0100\n"
          ]
        },
        {
          "output_type": "execute_result",
          "data": {
            "text/plain": [
              "<keras.callbacks.History at 0x7ff1509bae10>"
            ]
          },
          "metadata": {},
          "execution_count": 10
        }
      ]
    },
    {
      "cell_type": "markdown",
      "source": [
        "3) Save the model"
      ],
      "metadata": {
        "id": "Cs4GJEOsizQp"
      }
    },
    {
      "cell_type": "code",
      "source": [
        "# Save model\n",
        "model2.save('./model2_withCallbacks'+'.h5')"
      ],
      "metadata": {
        "id": "12OeDYzdi387"
      },
      "execution_count": null,
      "outputs": []
    },
    {
      "cell_type": "code",
      "source": [
        "# Create a zip file for the checkpoint folder\n",
        "!zip -r /content/checkpoint_files.zip /content/checkpoint"
      ],
      "metadata": {
        "colab": {
          "base_uri": "https://localhost:8080/"
        },
        "id": "TT2LZ6S-woZf",
        "outputId": "433fbf45-4e1a-43fb-adb9-cdda1ec31c52"
      },
      "execution_count": null,
      "outputs": [
        {
          "output_type": "stream",
          "name": "stdout",
          "text": [
            "  adding: content/checkpoint/ (stored 0%)\n",
            "  adding: content/checkpoint/saved_model.pb (deflated 90%)\n",
            "  adding: content/checkpoint/assets/ (stored 0%)\n",
            "  adding: content/checkpoint/variables/ (stored 0%)\n",
            "  adding: content/checkpoint/variables/variables.index (deflated 61%)\n",
            "  adding: content/checkpoint/variables/variables.data-00000-of-00001 (deflated 8%)\n",
            "  adding: content/checkpoint/keras_metadata.pb (deflated 93%)\n"
          ]
        }
      ]
    },
    {
      "cell_type": "markdown",
      "source": [
        "4) Predict first 4 images of test data and print the actual labels"
      ],
      "metadata": {
        "id": "BacG9qgDQaB4"
      }
    },
    {
      "cell_type": "code",
      "source": [
        "# Load the model\n",
        "model2_reload = keras.models.load_model('/content/model2_withCallbacks.h5')"
      ],
      "metadata": {
        "id": "eUmjOVQBQjzu"
      },
      "execution_count": null,
      "outputs": []
    },
    {
      "cell_type": "code",
      "source": [
        "# Predict the first 4 images\n",
        "pred = model2_reload.predict(x_test[0:4, :])\n",
        "classes = np.argmax(pred, axis = 1)"
      ],
      "metadata": {
        "id": "d1D6lSPVQoTD"
      },
      "execution_count": null,
      "outputs": []
    },
    {
      "cell_type": "code",
      "source": [
        "# Show what the model predicted\n",
        "print(\"The model identified the images to belong to classes {}.\".format(classes))"
      ],
      "metadata": {
        "colab": {
          "base_uri": "https://localhost:8080/"
        },
        "id": "Wvpu4HlU1f4o",
        "outputId": "b19baf4f-345d-4fac-83d1-15f98829c818"
      },
      "execution_count": null,
      "outputs": [
        {
          "output_type": "stream",
          "name": "stdout",
          "text": [
            "The model identified the images to belong to classes [3 8 8 0].\n"
          ]
        }
      ]
    },
    {
      "cell_type": "code",
      "source": [
        "# Display and label first image\n",
        "plt.imshow(x_test[0])\n",
        "plt.title('Ground Truth: {}'.format(y_test[0]))"
      ],
      "metadata": {
        "id": "_cRBBy_SQsqp",
        "colab": {
          "base_uri": "https://localhost:8080/",
          "height": 298
        },
        "outputId": "3e9078f2-8324-45e1-e582-82e2e59ba7e4"
      },
      "execution_count": null,
      "outputs": [
        {
          "output_type": "execute_result",
          "data": {
            "text/plain": [
              "Text(0.5, 1.0, 'Ground Truth: [0. 0. 0. 1. 0. 0. 0. 0. 0. 0.]')"
            ]
          },
          "metadata": {},
          "execution_count": 16
        },
        {
          "output_type": "display_data",
          "data": {
            "text/plain": [
              "<Figure size 432x288 with 1 Axes>"
            ],
            "image/png": "[encoded data removed]"
          },
          "metadata": {
            "needs_background": "light"
          }
        }
      ]
    },
    {
      "cell_type": "code",
      "source": [
        "# Display and label second image\n",
        "plt.imshow(x_test[1])\n",
        "plt.title('Ground Truth: {}'.format(y_test[1]))"
      ],
      "metadata": {
        "colab": {
          "base_uri": "https://localhost:8080/",
          "height": 298
        },
        "id": "6DCJc3dg0_5j",
        "outputId": "59a0b9fb-af91-4c73-d02f-2020a247f1dc"
      },
      "execution_count": null,
      "outputs": [
        {
          "output_type": "execute_result",
          "data": {
            "text/plain": [
              "Text(0.5, 1.0, 'Ground Truth: [0. 0. 0. 0. 0. 0. 0. 0. 1. 0.]')"
            ]
          },
          "metadata": {},
          "execution_count": 17
        },
        {
          "output_type": "display_data",
          "data": {
            "text/plain": [
              "<Figure size 432x288 with 1 Axes>"
            ],
            "image/png": "[encoded data removed]"
          },
          "metadata": {
            "needs_background": "light"
          }
        }
      ]
    },
    {
      "cell_type": "code",
      "source": [
        "# Display and label third image\n",
        "plt.imshow(x_test[2])\n",
        "plt.title('Ground Truth: {}'.format(y_test[2]))"
      ],
      "metadata": {
        "colab": {
          "base_uri": "https://localhost:8080/",
          "height": 298
        },
        "id": "t1wrgWFT1CfG",
        "outputId": "eb05350c-6a5d-4aba-b450-ee3211316605"
      },
      "execution_count": null,
      "outputs": [
        {
          "output_type": "execute_result",
          "data": {
            "text/plain": [
              "Text(0.5, 1.0, 'Ground Truth: [0. 0. 0. 0. 0. 0. 0. 0. 1. 0.]')"
            ]
          },
          "metadata": {},
          "execution_count": 18
        },
        {
          "output_type": "display_data",
          "data": {
            "text/plain": [
              "<Figure size 432x288 with 1 Axes>"
            ],
            "image/png": "[encoded data removed]"
          },
          "metadata": {
            "needs_background": "light"
          }
        }
      ]
    },
    {
      "cell_type": "code",
      "source": [
        "# Display and label fourth image\n",
        "plt.imshow(x_test[3])\n",
        "plt.title('Ground Truth: {}'.format(y_test[3]))"
      ],
      "metadata": {
        "colab": {
          "base_uri": "https://localhost:8080/",
          "height": 298
        },
        "id": "8FmzSNQP1Es6",
        "outputId": "772f07ec-1bda-409b-bff0-a588c34c1369"
      },
      "execution_count": null,
      "outputs": [
        {
          "output_type": "execute_result",
          "data": {
            "text/plain": [
              "Text(0.5, 1.0, 'Ground Truth: [1. 0. 0. 0. 0. 0. 0. 0. 0. 0.]')"
            ]
          },
          "metadata": {},
          "execution_count": 19
        },
        {
          "output_type": "display_data",
          "data": {
            "text/plain": [
              "<Figure size 432x288 with 1 Axes>"
            ],
            "image/png": "[encoded data removed]"
          },
          "metadata": {
            "needs_background": "light"
          }
        }
      ]
    },
    {
      "cell_type": "markdown",
      "source": [
        "Looking at the actual labels and those predicted by the model, we can see that the model was able to correctly predict what classes the images belonged to."
      ],
      "metadata": {
        "id": "fc7eMVCi14Nb"
      }
    },
    {
      "cell_type": "markdown",
      "source": [
        "5) Train model with own dataset"
      ],
      "metadata": {
        "id": "G03bzgCH2K19"
      }
    },
    {
      "cell_type": "code",
      "source": [
        "from google.colab import drive\n",
        "drive.mount('/content/drive')"
      ],
      "metadata": {
        "id": "MlkrB5xRG_bv",
        "colab": {
          "base_uri": "https://localhost:8080/"
        },
        "outputId": "045268eb-647a-4019-8a8f-fa8257f6366a"
      },
      "execution_count": null,
      "outputs": [
        {
          "output_type": "stream",
          "name": "stdout",
          "text": [
            "Drive already mounted at /content/drive; to attempt to forcibly remount, call drive.mount(\"/content/drive\", force_remount=True).\n"
          ]
        }
      ]
    },
    {
      "cell_type": "code",
      "source": [
        "# Define the shape for the images and the paths for the datasets\n",
        "SHAPE = (32, 32)\n",
        "test_path = '/content/drive/MyDrive/5590ICP10dataset/Test'\n",
        "train_path = '/content/drive/MyDrive/5590ICP10dataset/Train'"
      ],
      "metadata": {
        "id": "9DtdcFVlRCDm"
      },
      "execution_count": null,
      "outputs": []
    },
    {
      "cell_type": "code",
      "source": [
        "# Define parameters for the image data generator\n",
        "datagen_kwargs = dict(rescale=1./255)\n",
        "\n",
        "# Obtain the testing dataset\n",
        "valid_datagen = keras.preprocessing.image.ImageDataGenerator(**datagen_kwargs)\n",
        "valid_gen = valid_datagen.flow_from_directory(test_path, shuffle=True, target_size=SHAPE, class_mode='categorical')"
      ],
      "metadata": {
        "colab": {
          "base_uri": "https://localhost:8080/"
        },
        "id": "PNh5z8UVSR6K",
        "outputId": "a6e0cd2a-9e15-48bc-b589-302a568e99e1"
      },
      "execution_count": null,
      "outputs": [
        {
          "output_type": "stream",
          "name": "stdout",
          "text": [
            "Found 20 images belonging to 10 classes.\n"
          ]
        }
      ]
    },
    {
      "cell_type": "code",
      "source": [
        "# Split the generator into image and label variables\n",
        "img_val, label_val = next(iter(valid_gen))\n",
        "\n",
        "# Display the shapes of the image and label variables\n",
        "print(\"Image shape:\", img_val.shape)\n",
        "print(\"Label shape:\", label_val.shape)"
      ],
      "metadata": {
        "colab": {
          "base_uri": "https://localhost:8080/"
        },
        "id": "uO4Vc_0dXg-B",
        "outputId": "ec1baf65-d6ad-4b78-ead1-442e948b52e9"
      },
      "execution_count": null,
      "outputs": [
        {
          "output_type": "stream",
          "name": "stdout",
          "text": [
            "Image shape: (20, 32, 32, 3)\n",
            "Label shape: (20, 10)\n"
          ]
        }
      ]
    },
    {
      "cell_type": "code",
      "source": [
        "# Obtain the training dataset\n",
        "train_datagen = keras.preprocessing.image.ImageDataGenerator(**datagen_kwargs)\n",
        "train_gen = valid_datagen.flow_from_directory(train_path, shuffle=True, target_size=SHAPE, class_mode='categorical')"
      ],
      "metadata": {
        "colab": {
          "base_uri": "https://localhost:8080/"
        },
        "id": "OkcLFoPVTFZc",
        "outputId": "1523ed18-4973-49f6-9e8c-5dd69db48a11"
      },
      "execution_count": null,
      "outputs": [
        {
          "output_type": "stream",
          "name": "stdout",
          "text": [
            "Found 80 images belonging to 10 classes.\n"
          ]
        }
      ]
    },
    {
      "cell_type": "code",
      "source": [
        "# Split the generator into image and label variables\n",
        "img_train, label_train = next(iter(train_gen))\n",
        "\n",
        "# Display the shapes of the image and label variables\n",
        "print(\"Image shape:\", img_train.shape)\n",
        "print(\"Label shape:\", label_train.shape)\n",
        "dataset_labels = sorted(train_gen.class_indices.items(), key=lambda pair:pair[1])\n",
        "\n",
        "# Extract the labels of the images\n",
        "dataset_labels = np.array([key.title() for key, value in dataset_labels])\n",
        "print(dataset_labels)"
      ],
      "metadata": {
        "colab": {
          "base_uri": "https://localhost:8080/"
        },
        "id": "3TpqJUOwTlpZ",
        "outputId": "cf40f3ed-1499-4e56-f424-e18090f15869"
      },
      "execution_count": null,
      "outputs": [
        {
          "output_type": "stream",
          "name": "stderr",
          "text": [
            "/usr/local/lib/python3.7/dist-packages/PIL/Image.py:960: UserWarning: Palette images with Transparency expressed in bytes should be converted to RGBA images\n",
            "  \"Palette images with Transparency expressed in bytes should be \"\n"
          ]
        },
        {
          "output_type": "stream",
          "name": "stdout",
          "text": [
            "Image shape: (32, 32, 32, 3)\n",
            "Label shape: (32, 10)\n",
            "['Bike' 'Boat' 'Bus' 'Car' 'Helicopter' 'Locomotive' 'Motorcycle' 'Plane'\n",
            " 'Scooter' 'Truck']\n"
          ]
        }
      ]
    },
    {
      "cell_type": "code",
      "source": [
        "# Compile the model with the loss, optimizer, and metrics used in the sequential model\n",
        "model2_reload.compile(loss='categorical_crossentropy', optimizer='SGD', metrics=['accuracy'])\n",
        "\n",
        "# Fit the data to the model\n",
        "history = model2_reload.fit(img_train, label_train, epochs=40, verbose=1,\n",
        "                            validation_data=(img_val, label_val),\n",
        "                            shuffle=True)"
      ],
      "metadata": {
        "colab": {
          "base_uri": "https://localhost:8080/"
        },
        "id": "94c2dlfaUtxb",
        "outputId": "533322a6-a798-4add-cce8-403187f7f15e"
      },
      "execution_count": null,
      "outputs": [
        {
          "output_type": "stream",
          "name": "stdout",
          "text": [
            "Epoch 1/40\n",
            "1/1 [==============================] - 1s 1s/step - loss: 13.8928 - accuracy: 0.0938 - val_loss: 7.7680 - val_accuracy: 0.2500\n",
            "Epoch 2/40\n",
            "1/1 [==============================] - 0s 333ms/step - loss: 6.6418 - accuracy: 0.1875 - val_loss: 4.7194 - val_accuracy: 0.2000\n",
            "Epoch 3/40\n",
            "1/1 [==============================] - 0s 346ms/step - loss: 3.4077 - accuracy: 0.1250 - val_loss: 4.3507 - val_accuracy: 0.2500\n",
            "Epoch 4/40\n",
            "1/1 [==============================] - 0s 334ms/step - loss: 2.3184 - accuracy: 0.2812 - val_loss: 4.1056 - val_accuracy: 0.2500\n",
            "Epoch 5/40\n",
            "1/1 [==============================] - 0s 334ms/step - loss: 2.1056 - accuracy: 0.4375 - val_loss: 4.0365 - val_accuracy: 0.3000\n",
            "Epoch 6/40\n",
            "1/1 [==============================] - 0s 342ms/step - loss: 1.9839 - accuracy: 0.2812 - val_loss: 3.8861 - val_accuracy: 0.3000\n",
            "Epoch 7/40\n",
            "1/1 [==============================] - 0s 348ms/step - loss: 1.6661 - accuracy: 0.5000 - val_loss: 3.8139 - val_accuracy: 0.3000\n",
            "Epoch 8/40\n",
            "1/1 [==============================] - 0s 340ms/step - loss: 1.4902 - accuracy: 0.5000 - val_loss: 3.7408 - val_accuracy: 0.2500\n",
            "Epoch 9/40\n",
            "1/1 [==============================] - 0s 338ms/step - loss: 1.2666 - accuracy: 0.6562 - val_loss: 3.7353 - val_accuracy: 0.3000\n",
            "Epoch 10/40\n",
            "1/1 [==============================] - 0s 334ms/step - loss: 1.1028 - accuracy: 0.6250 - val_loss: 3.7145 - val_accuracy: 0.3000\n",
            "Epoch 11/40\n",
            "1/1 [==============================] - 0s 332ms/step - loss: 0.9144 - accuracy: 0.7188 - val_loss: 3.6672 - val_accuracy: 0.2000\n",
            "Epoch 12/40\n",
            "1/1 [==============================] - 0s 345ms/step - loss: 1.0558 - accuracy: 0.7188 - val_loss: 3.6325 - val_accuracy: 0.2500\n",
            "Epoch 13/40\n",
            "1/1 [==============================] - 0s 358ms/step - loss: 0.9001 - accuracy: 0.7188 - val_loss: 3.6005 - val_accuracy: 0.3000\n",
            "Epoch 14/40\n",
            "1/1 [==============================] - 0s 329ms/step - loss: 0.8339 - accuracy: 0.7812 - val_loss: 3.5693 - val_accuracy: 0.3000\n",
            "Epoch 15/40\n",
            "1/1 [==============================] - 0s 338ms/step - loss: 0.8894 - accuracy: 0.7500 - val_loss: 3.5369 - val_accuracy: 0.3000\n",
            "Epoch 16/40\n",
            "1/1 [==============================] - 0s 336ms/step - loss: 0.6874 - accuracy: 0.8125 - val_loss: 3.5626 - val_accuracy: 0.2500\n",
            "Epoch 17/40\n",
            "1/1 [==============================] - 0s 330ms/step - loss: 0.8471 - accuracy: 0.7188 - val_loss: 3.5750 - val_accuracy: 0.2000\n",
            "Epoch 18/40\n",
            "1/1 [==============================] - 0s 343ms/step - loss: 0.5060 - accuracy: 0.8438 - val_loss: 3.5598 - val_accuracy: 0.2000\n",
            "Epoch 19/40\n",
            "1/1 [==============================] - 0s 341ms/step - loss: 0.6240 - accuracy: 0.7500 - val_loss: 3.5703 - val_accuracy: 0.1500\n",
            "Epoch 20/40\n",
            "1/1 [==============================] - 0s 334ms/step - loss: 0.5669 - accuracy: 0.8125 - val_loss: 3.5534 - val_accuracy: 0.2000\n",
            "Epoch 21/40\n",
            "1/1 [==============================] - 0s 355ms/step - loss: 0.4535 - accuracy: 0.8750 - val_loss: 3.5844 - val_accuracy: 0.1500\n",
            "Epoch 22/40\n",
            "1/1 [==============================] - 0s 350ms/step - loss: 0.4306 - accuracy: 0.9375 - val_loss: 3.6098 - val_accuracy: 0.1500\n",
            "Epoch 23/40\n",
            "1/1 [==============================] - 0s 333ms/step - loss: 0.4115 - accuracy: 0.9062 - val_loss: 3.6229 - val_accuracy: 0.1500\n",
            "Epoch 24/40\n",
            "1/1 [==============================] - 0s 335ms/step - loss: 0.2574 - accuracy: 1.0000 - val_loss: 3.6313 - val_accuracy: 0.1500\n",
            "Epoch 25/40\n",
            "1/1 [==============================] - 0s 336ms/step - loss: 0.3099 - accuracy: 0.9375 - val_loss: 3.6124 - val_accuracy: 0.1500\n",
            "Epoch 26/40\n",
            "1/1 [==============================] - 0s 333ms/step - loss: 0.1936 - accuracy: 0.9688 - val_loss: 3.6281 - val_accuracy: 0.1500\n",
            "Epoch 27/40\n",
            "1/1 [==============================] - 0s 349ms/step - loss: 0.2237 - accuracy: 0.9688 - val_loss: 3.6073 - val_accuracy: 0.2000\n",
            "Epoch 28/40\n",
            "1/1 [==============================] - 0s 337ms/step - loss: 0.2512 - accuracy: 0.9375 - val_loss: 3.6169 - val_accuracy: 0.2000\n",
            "Epoch 29/40\n",
            "1/1 [==============================] - 0s 356ms/step - loss: 0.2458 - accuracy: 0.9375 - val_loss: 3.6201 - val_accuracy: 0.2000\n",
            "Epoch 30/40\n",
            "1/1 [==============================] - 0s 340ms/step - loss: 0.1796 - accuracy: 0.9688 - val_loss: 3.6490 - val_accuracy: 0.2000\n",
            "Epoch 31/40\n",
            "1/1 [==============================] - 0s 359ms/step - loss: 0.2213 - accuracy: 0.9688 - val_loss: 3.6534 - val_accuracy: 0.2000\n",
            "Epoch 32/40\n",
            "1/1 [==============================] - 0s 367ms/step - loss: 0.2744 - accuracy: 0.9375 - val_loss: 3.7153 - val_accuracy: 0.2000\n",
            "Epoch 33/40\n",
            "1/1 [==============================] - 0s 346ms/step - loss: 0.2123 - accuracy: 0.9375 - val_loss: 3.7078 - val_accuracy: 0.1500\n",
            "Epoch 34/40\n",
            "1/1 [==============================] - 0s 343ms/step - loss: 0.1730 - accuracy: 0.9688 - val_loss: 3.7110 - val_accuracy: 0.2000\n",
            "Epoch 35/40\n",
            "1/1 [==============================] - 0s 349ms/step - loss: 0.1350 - accuracy: 1.0000 - val_loss: 3.7193 - val_accuracy: 0.1500\n",
            "Epoch 36/40\n",
            "1/1 [==============================] - 0s 347ms/step - loss: 0.0938 - accuracy: 1.0000 - val_loss: 3.7443 - val_accuracy: 0.1500\n",
            "Epoch 37/40\n",
            "1/1 [==============================] - 0s 341ms/step - loss: 0.1191 - accuracy: 1.0000 - val_loss: 3.7511 - val_accuracy: 0.1500\n",
            "Epoch 38/40\n",
            "1/1 [==============================] - 0s 344ms/step - loss: 0.1441 - accuracy: 1.0000 - val_loss: 3.7723 - val_accuracy: 0.1500\n",
            "Epoch 39/40\n",
            "1/1 [==============================] - 0s 343ms/step - loss: 0.1534 - accuracy: 0.9688 - val_loss: 3.7325 - val_accuracy: 0.1500\n",
            "Epoch 40/40\n",
            "1/1 [==============================] - 0s 337ms/step - loss: 0.1218 - accuracy: 1.0000 - val_loss: 3.7632 - val_accuracy: 0.1500\n"
          ]
        }
      ]
    },
    {
      "cell_type": "markdown",
      "source": [
        "Plot training and validation accuracy"
      ],
      "metadata": {
        "id": "Us5TZYup2RgT"
      }
    },
    {
      "cell_type": "code",
      "source": [
        "#Plot the accuracies of the training and testing datasets from the history object\n",
        "plt.plot(history.history['accuracy'])\n",
        "plt.plot(history.history['val_accuracy'])\n",
        "\n",
        "#Modify the graph to have the correct labels\n",
        "plt.title('Fitted Model Accuracy')\n",
        "plt.ylabel('Accuracy')\n",
        "plt.xlabel('Epoch')\n",
        "plt.legend(['train', 'test'])\n",
        "plt.show()"
      ],
      "metadata": {
        "id": "4xCdC__52hTW",
        "colab": {
          "base_uri": "https://localhost:8080/",
          "height": 295
        },
        "outputId": "3c68e8f4-6822-4c8d-d955-9a7d69ef3405"
      },
      "execution_count": null,
      "outputs": [
        {
          "output_type": "display_data",
          "data": {
            "text/plain": [
              "<Figure size 432x288 with 1 Axes>"
            ],
            "image/png": "[encoded data removed]"
          },
          "metadata": {
            "needs_background": "light"
          }
        }
      ]
    },
    {
      "cell_type": "markdown",
      "source": [
        "Save model and predict on test data"
      ],
      "metadata": {
        "id": "W5tDbzut2hzP"
      }
    },
    {
      "cell_type": "code",
      "source": [
        "# Save model\n",
        "model2_reload.save('./model2_withCustomData'+'.h5')"
      ],
      "metadata": {
        "id": "G5ETA3Q9hIEw"
      },
      "execution_count": null,
      "outputs": []
    },
    {
      "cell_type": "code",
      "source": [
        "# Load the model\n",
        "model2_custom = keras.models.load_model('/content/model2_withCustomData.h5')"
      ],
      "metadata": {
        "id": "xybX_ay0ifpQ"
      },
      "execution_count": null,
      "outputs": []
    },
    {
      "cell_type": "code",
      "source": [
        "# Predict the classes for the test data\n",
        "pred = model2_custom.predict(img_val)\n",
        "classes = np.argmax(pred, axis = 1)"
      ],
      "metadata": {
        "id": "FxxQkZUminX1"
      },
      "execution_count": null,
      "outputs": []
    },
    {
      "cell_type": "code",
      "source": [
        "# Display the predictions\n",
        "print(classes)\n",
        "\n",
        "# Redisplay the labels for the dataset\n",
        "print(dataset_labels)"
      ],
      "metadata": {
        "colab": {
          "base_uri": "https://localhost:8080/"
        },
        "id": "H6VK86UFjA1J",
        "outputId": "6597a946-0753-47fd-e98f-3690161348cf"
      },
      "execution_count": null,
      "outputs": [
        {
          "output_type": "stream",
          "name": "stdout",
          "text": [
            "[4 7 1 0 4 5 9 8 8 3 6 7 7 9 1 6 3 7 0 4]\n",
            "['Bike' 'Boat' 'Bus' 'Car' 'Helicopter' 'Locomotive' 'Motorcycle' 'Plane'\n",
            " 'Scooter' 'Truck']\n"
          ]
        }
      ]
    },
    {
      "cell_type": "code",
      "source": [
        "# Display image and actual label\n",
        "plt.imshow(img_val[0])\n",
        "plt.title('Ground Truth: {}'.format(label_val[0]))"
      ],
      "metadata": {
        "colab": {
          "base_uri": "https://localhost:8080/",
          "height": 298
        },
        "id": "dVkljWEInaww",
        "outputId": "b905b8a5-f438-48f6-c3a4-91120a4cb165"
      },
      "execution_count": null,
      "outputs": [
        {
          "output_type": "execute_result",
          "data": {
            "text/plain": [
              "Text(0.5, 1.0, 'Ground Truth: [0. 1. 0. 0. 0. 0. 0. 0. 0. 0.]')"
            ]
          },
          "metadata": {},
          "execution_count": 32
        },
        {
          "output_type": "display_data",
          "data": {
            "text/plain": [
              "<Figure size 432x288 with 1 Axes>"
            ],
            "image/png": "[encoded data removed]"
          },
          "metadata": {
            "needs_background": "light"
          }
        }
      ]
    },
    {
      "cell_type": "code",
      "source": [
        "# Display image and actual label\n",
        "plt.imshow(img_val[1])\n",
        "plt.title('Ground Truth: {}'.format(label_val[1]))"
      ],
      "metadata": {
        "colab": {
          "base_uri": "https://localhost:8080/",
          "height": 298
        },
        "id": "FcggtFtrnfzR",
        "outputId": "5f9b291d-0d91-4c4f-c4ad-149abf70d137"
      },
      "execution_count": null,
      "outputs": [
        {
          "output_type": "execute_result",
          "data": {
            "text/plain": [
              "Text(0.5, 1.0, 'Ground Truth: [0. 0. 0. 1. 0. 0. 0. 0. 0. 0.]')"
            ]
          },
          "metadata": {},
          "execution_count": 33
        },
        {
          "output_type": "display_data",
          "data": {
            "text/plain": [
              "<Figure size 432x288 with 1 Axes>"
            ],
            "image/png": "[encoded data removed]"
          },
          "metadata": {
            "needs_background": "light"
          }
        }
      ]
    },
    {
      "cell_type": "code",
      "source": [
        "# Display image and actual label\n",
        "plt.imshow(img_val[7])\n",
        "plt.title('Ground Truth: {}'.format(label_val[7]))"
      ],
      "metadata": {
        "colab": {
          "base_uri": "https://localhost:8080/",
          "height": 298
        },
        "id": "IqGsvHyfnyER",
        "outputId": "54d35c95-221e-4be6-b27f-24411b35332f"
      },
      "execution_count": null,
      "outputs": [
        {
          "output_type": "execute_result",
          "data": {
            "text/plain": [
              "Text(0.5, 1.0, 'Ground Truth: [0. 0. 0. 0. 0. 0. 0. 0. 1. 0.]')"
            ]
          },
          "metadata": {},
          "execution_count": 34
        },
        {
          "output_type": "display_data",
          "data": {
            "text/plain": [
              "<Figure size 432x288 with 1 Axes>"
            ],
            "image/png": "[encoded data removed]"
          },
          "metadata": {
            "needs_background": "light"
          }
        }
      ]
    },
    {
      "cell_type": "code",
      "source": [
        "# Display image and actual label\n",
        "plt.imshow(img_val[10])\n",
        "plt.title('Ground Truth: {}'.format(label_val[10]))"
      ],
      "metadata": {
        "colab": {
          "base_uri": "https://localhost:8080/",
          "height": 298
        },
        "id": "jmXbZnqan-7U",
        "outputId": "1b6c811c-a5e8-4e8a-c67d-ee857fbe6ce1"
      },
      "execution_count": null,
      "outputs": [
        {
          "output_type": "execute_result",
          "data": {
            "text/plain": [
              "Text(0.5, 1.0, 'Ground Truth: [0. 0. 0. 0. 0. 0. 1. 0. 0. 0.]')"
            ]
          },
          "metadata": {},
          "execution_count": 35
        },
        {
          "output_type": "display_data",
          "data": {
            "text/plain": [
              "<Figure size 432x288 with 1 Axes>"
            ],
            "image/png": "[encoded data removed]"
          },
          "metadata": {
            "needs_background": "light"
          }
        }
      ]
    },
    {
      "cell_type": "code",
      "source": [
        "# Display image and actual label\n",
        "plt.imshow(img_val[18])\n",
        "plt.title('Ground Truth: {}'.format(label_val[18]))"
      ],
      "metadata": {
        "colab": {
          "base_uri": "https://localhost:8080/",
          "height": 298
        },
        "id": "YowjfaQ9nk5k",
        "outputId": "32b629f5-a836-4275-f77e-f9f50308164d"
      },
      "execution_count": null,
      "outputs": [
        {
          "output_type": "execute_result",
          "data": {
            "text/plain": [
              "Text(0.5, 1.0, 'Ground Truth: [0. 0. 0. 0. 0. 1. 0. 0. 0. 0.]')"
            ]
          },
          "metadata": {},
          "execution_count": 36
        },
        {
          "output_type": "display_data",
          "data": {
            "text/plain": [
              "<Figure size 432x288 with 1 Axes>"
            ],
            "image/png": "[encoded data removed]"
          },
          "metadata": {
            "needs_background": "light"
          }
        }
      ]
    },
    {
      "cell_type": "code",
      "source": [
        "# Display image and actual label\n",
        "plt.imshow(img_val[19])\n",
        "plt.title('Ground Truth: {}'.format(label_val[19]))"
      ],
      "metadata": {
        "colab": {
          "base_uri": "https://localhost:8080/",
          "height": 298
        },
        "id": "EgHgolaTlpsj",
        "outputId": "f3b54903-c7f0-4ee0-8dc6-4f0baca4fcbc"
      },
      "execution_count": null,
      "outputs": [
        {
          "output_type": "execute_result",
          "data": {
            "text/plain": [
              "Text(0.5, 1.0, 'Ground Truth: [0. 0. 0. 0. 0. 0. 0. 1. 0. 0.]')"
            ]
          },
          "metadata": {},
          "execution_count": 37
        },
        {
          "output_type": "display_data",
          "data": {
            "text/plain": [
              "<Figure size 432x288 with 1 Axes>"
            ],
            "image/png": "[encoded data removed]"
          },
          "metadata": {
            "needs_background": "light"
          }
        }
      ]
    }
  ],
  "metadata": {
    "colab": {
      "name": "Yap_Yoon_ICP_10.ipynb",
      "provenance": [],
      "collapsed_sections": []
    },
    "kernelspec": {
      "display_name": "Python 3",
      "name": "python3"
    },
    "language_info": {
      "name": "python"
    }
  },
  "nbformat": 4,
  "nbformat_minor": 0
}