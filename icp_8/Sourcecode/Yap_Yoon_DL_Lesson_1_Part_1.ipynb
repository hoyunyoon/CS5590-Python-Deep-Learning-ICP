{
  "nbformat": 4,
  "nbformat_minor": 0,
  "metadata": {
    "colab": {
      "name": "Yap_Yoon_DL_Lesson_1_Part_1.ipynb",
      "provenance": [],
      "collapsed_sections": []
    },
    "kernelspec": {
      "name": "python3",
      "display_name": "Python 3"
    }
  },
  "cells": [
    {
      "cell_type": "code",
      "metadata": {
        "id": "pTRagYcvHjDj"
      },
      "source": [
        "import numpy as np\n",
        "import tensorflow as tf\n",
        "from tensorflow import keras\n",
        "\n",
        "from tensorflow.keras import layers\n",
        "\n",
        "from sklearn.preprocessing import StandardScaler\n",
        "\n",
        "from sklearn.model_selection import train_test_split\n",
        "\n",
        "import pandas as pd\n",
        "import numpy as np"
      ],
      "execution_count": 1,
      "outputs": []
    },
    {
      "cell_type": "code",
      "source": [
        "print(tf.__version__)"
      ],
      "metadata": {
        "colab": {
          "base_uri": "https://localhost:8080/"
        },
        "id": "UDXJo55XnEqy",
        "outputId": "538d8f9e-77ce-4d98-eb58-7cf9bd784d0c"
      },
      "execution_count": 2,
      "outputs": [
        {
          "output_type": "stream",
          "name": "stdout",
          "text": [
            "2.8.0\n"
          ]
        }
      ]
    },
    {
      "cell_type": "code",
      "metadata": {
        "id": "ApzFGDkOHnt7"
      },
      "source": [
        "dataset = pd.read_csv(\"/content/diabetes.csv\")"
      ],
      "execution_count": 3,
      "outputs": []
    },
    {
      "cell_type": "code",
      "metadata": {
        "colab": {
          "base_uri": "https://localhost:8080/",
          "height": 206
        },
        "id": "033I05ZJJ9ND",
        "outputId": "11744462-8ab5-4658-ce3c-40a4d86e73e9"
      },
      "source": [
        "dataset.head()"
      ],
      "execution_count": null,
      "outputs": [
        {
          "output_type": "execute_result",
          "data": {
            "text/plain": [
              "   6  148  72  35    0  33.6  0.627  50  1\n",
              "0  1   85  66  29    0  26.6  0.351  31  0\n",
              "1  8  183  64   0    0  23.3  0.672  32  1\n",
              "2  1   89  66  23   94  28.1  0.167  21  0\n",
              "3  0  137  40  35  168  43.1  2.288  33  1\n",
              "4  5  116  74   0    0  25.6  0.201  30  0"
            ],
            "text/html": [
              "\n",
              "  <div id=\"df-854309a4-2cd8-4a15-b463-0f67128c88e5\">\n",
              "    <div class=\"colab-df-container\">\n",
              "      <div>\n",
              "<style scoped>\n",
              "    .dataframe tbody tr th:only-of-type {\n",
              "        vertical-align: middle;\n",
              "    }\n",
              "\n",
              "    .dataframe tbody tr th {\n",
              "        vertical-align: top;\n",
              "    }\n",
              "\n",
              "    .dataframe thead th {\n",
              "        text-align: right;\n",
              "    }\n",
              "</style>\n",
              "<table border=\"1\" class=\"dataframe\">\n",
              "  <thead>\n",
              "    <tr style=\"text-align: right;\">\n",
              "      <th></th>\n",
              "      <th>6</th>\n",
              "      <th>148</th>\n",
              "      <th>72</th>\n",
              "      <th>35</th>\n",
              "      <th>0</th>\n",
              "      <th>33.6</th>\n",
              "      <th>0.627</th>\n",
              "      <th>50</th>\n",
              "      <th>1</th>\n",
              "    </tr>\n",
              "  </thead>\n",
              "  <tbody>\n",
              "    <tr>\n",
              "      <th>0</th>\n",
              "      <td>1</td>\n",
              "      <td>85</td>\n",
              "      <td>66</td>\n",
              "      <td>29</td>\n",
              "      <td>0</td>\n",
              "      <td>26.6</td>\n",
              "      <td>0.351</td>\n",
              "      <td>31</td>\n",
              "      <td>0</td>\n",
              "    </tr>\n",
              "    <tr>\n",
              "      <th>1</th>\n",
              "      <td>8</td>\n",
              "      <td>183</td>\n",
              "      <td>64</td>\n",
              "      <td>0</td>\n",
              "      <td>0</td>\n",
              "      <td>23.3</td>\n",
              "      <td>0.672</td>\n",
              "      <td>32</td>\n",
              "      <td>1</td>\n",
              "    </tr>\n",
              "    <tr>\n",
              "      <th>2</th>\n",
              "      <td>1</td>\n",
              "      <td>89</td>\n",
              "      <td>66</td>\n",
              "      <td>23</td>\n",
              "      <td>94</td>\n",
              "      <td>28.1</td>\n",
              "      <td>0.167</td>\n",
              "      <td>21</td>\n",
              "      <td>0</td>\n",
              "    </tr>\n",
              "    <tr>\n",
              "      <th>3</th>\n",
              "      <td>0</td>\n",
              "      <td>137</td>\n",
              "      <td>40</td>\n",
              "      <td>35</td>\n",
              "      <td>168</td>\n",
              "      <td>43.1</td>\n",
              "      <td>2.288</td>\n",
              "      <td>33</td>\n",
              "      <td>1</td>\n",
              "    </tr>\n",
              "    <tr>\n",
              "      <th>4</th>\n",
              "      <td>5</td>\n",
              "      <td>116</td>\n",
              "      <td>74</td>\n",
              "      <td>0</td>\n",
              "      <td>0</td>\n",
              "      <td>25.6</td>\n",
              "      <td>0.201</td>\n",
              "      <td>30</td>\n",
              "      <td>0</td>\n",
              "    </tr>\n",
              "  </tbody>\n",
              "</table>\n",
              "</div>\n",
              "      <button class=\"colab-df-convert\" onclick=\"convertToInteractive('df-854309a4-2cd8-4a15-b463-0f67128c88e5')\"\n",
              "              title=\"Convert this dataframe to an interactive table.\"\n",
              "              style=\"display:none;\">\n",
              "        \n",
              "  <svg xmlns=\"http://www.w3.org/2000/svg\" height=\"24px\"viewBox=\"0 0 24 24\"\n",
              "       width=\"24px\">\n",
              "    <path d=\"M0 0h24v24H0V0z\" fill=\"none\"/>\n",
              "    <path d=\"M18.56 5.44l.94 2.06.94-2.06 2.06-.94-2.06-.94-.94-2.06-.94 2.06-2.06.94zm-11 1L8.5 8.5l.94-2.06 2.06-.94-2.06-.94L8.5 2.5l-.94 2.06-2.06.94zm10 10l.94 2.06.94-2.06 2.06-.94-2.06-.94-.94-2.06-.94 2.06-2.06.94z\"/><path d=\"M17.41 7.96l-1.37-1.37c-.4-.4-.92-.59-1.43-.59-.52 0-1.04.2-1.43.59L10.3 9.45l-7.72 7.72c-.78.78-.78 2.05 0 2.83L4 21.41c.39.39.9.59 1.41.59.51 0 1.02-.2 1.41-.59l7.78-7.78 2.81-2.81c.8-.78.8-2.07 0-2.86zM5.41 20L4 18.59l7.72-7.72 1.47 1.35L5.41 20z\"/>\n",
              "  </svg>\n",
              "      </button>\n",
              "      \n",
              "  <style>\n",
              "    .colab-df-container {\n",
              "      display:flex;\n",
              "      flex-wrap:wrap;\n",
              "      gap: 12px;\n",
              "    }\n",
              "\n",
              "    .colab-df-convert {\n",
              "      background-color: #E8F0FE;\n",
              "      border: none;\n",
              "      border-radius: 50%;\n",
              "      cursor: pointer;\n",
              "      display: none;\n",
              "      fill: #1967D2;\n",
              "      height: 32px;\n",
              "      padding: 0 0 0 0;\n",
              "      width: 32px;\n",
              "    }\n",
              "\n",
              "    .colab-df-convert:hover {\n",
              "      background-color: #E2EBFA;\n",
              "      box-shadow: 0px 1px 2px rgba(60, 64, 67, 0.3), 0px 1px 3px 1px rgba(60, 64, 67, 0.15);\n",
              "      fill: #174EA6;\n",
              "    }\n",
              "\n",
              "    [theme=dark] .colab-df-convert {\n",
              "      background-color: #3B4455;\n",
              "      fill: #D2E3FC;\n",
              "    }\n",
              "\n",
              "    [theme=dark] .colab-df-convert:hover {\n",
              "      background-color: #434B5C;\n",
              "      box-shadow: 0px 1px 3px 1px rgba(0, 0, 0, 0.15);\n",
              "      filter: drop-shadow(0px 1px 2px rgba(0, 0, 0, 0.3));\n",
              "      fill: #FFFFFF;\n",
              "    }\n",
              "  </style>\n",
              "\n",
              "      <script>\n",
              "        const buttonEl =\n",
              "          document.querySelector('#df-854309a4-2cd8-4a15-b463-0f67128c88e5 button.colab-df-convert');\n",
              "        buttonEl.style.display =\n",
              "          google.colab.kernel.accessAllowed ? 'block' : 'none';\n",
              "\n",
              "        async function convertToInteractive(key) {\n",
              "          const element = document.querySelector('#df-854309a4-2cd8-4a15-b463-0f67128c88e5');\n",
              "          const dataTable =\n",
              "            await google.colab.kernel.invokeFunction('convertToInteractive',\n",
              "                                                     [key], {});\n",
              "          if (!dataTable) return;\n",
              "\n",
              "          const docLinkHtml = 'Like what you see? Visit the ' +\n",
              "            '<a target=\"_blank\" href=https://colab.research.google.com/notebooks/data_table.ipynb>data table notebook</a>'\n",
              "            + ' to learn more about interactive tables.';\n",
              "          element.innerHTML = '';\n",
              "          dataTable['output_type'] = 'display_data';\n",
              "          await google.colab.output.renderOutput(dataTable, element);\n",
              "          const docLink = document.createElement('div');\n",
              "          docLink.innerHTML = docLinkHtml;\n",
              "          element.appendChild(docLink);\n",
              "        }\n",
              "      </script>\n",
              "    </div>\n",
              "  </div>\n",
              "  "
            ]
          },
          "metadata": {},
          "execution_count": 4
        }
      ]
    },
    {
      "cell_type": "code",
      "metadata": {
        "id": "A_aZW8YvKNSz"
      },
      "source": [
        "# get numpy ndarray\n",
        "dataset = dataset.values"
      ],
      "execution_count": 5,
      "outputs": []
    },
    {
      "cell_type": "code",
      "metadata": {
        "id": "KpCo6iu1NY4i",
        "colab": {
          "base_uri": "https://localhost:8080/"
        },
        "outputId": "54735920-c6a6-4189-9026-8fe8996ef1e0"
      },
      "source": [
        "type(dataset)"
      ],
      "execution_count": 6,
      "outputs": [
        {
          "output_type": "execute_result",
          "data": {
            "text/plain": [
              "numpy.ndarray"
            ]
          },
          "metadata": {},
          "execution_count": 6
        }
      ]
    },
    {
      "cell_type": "code",
      "metadata": {
        "id": "JtIe1DBCKegG",
        "colab": {
          "base_uri": "https://localhost:8080/"
        },
        "outputId": "be98d0ab-0254-46c0-b05f-1a4021235ba0"
      },
      "source": [
        "dataset.shape"
      ],
      "execution_count": 7,
      "outputs": [
        {
          "output_type": "execute_result",
          "data": {
            "text/plain": [
              "(767, 9)"
            ]
          },
          "metadata": {},
          "execution_count": 7
        }
      ]
    },
    {
      "cell_type": "code",
      "metadata": {
        "id": "-T0Q43fAxtNW"
      },
      "source": [
        "# Standardize features by removing the mean and scaling to unit variance\n",
        "sc = StandardScaler()"
      ],
      "execution_count": 8,
      "outputs": []
    },
    {
      "cell_type": "code",
      "metadata": {
        "id": "yt64olkkHwft"
      },
      "source": [
        "X_train, X_test, Y_train, Y_test = train_test_split(dataset[:,0:8], dataset[:,8], test_size=0.25, random_state=42)"
      ],
      "execution_count": 9,
      "outputs": []
    },
    {
      "cell_type": "code",
      "metadata": {
        "id": "pTBESlF_5Zw1",
        "colab": {
          "base_uri": "https://localhost:8080/"
        },
        "outputId": "0f9d54c2-f9ea-4f23-bf09-0f17dc5ffa02"
      },
      "source": [
        "sc.fit(X_train)\n",
        "sc.transform(X_train)\n",
        "sc.fit(X_test)\n",
        "sc.transform(X_test)"
      ],
      "execution_count": 10,
      "outputs": [
        {
          "output_type": "execute_result",
          "data": {
            "text/plain": [
              "array([[ 0.68289227, -0.76579988, -0.36993244, ...,  0.28785733,\n",
              "        -0.16235258,  0.96782064],\n",
              "       [-0.85601989,  0.9779149 ,  0.24388139, ..., -0.92114345,\n",
              "        -1.09380192, -0.74274608],\n",
              "       [-0.54823746, -0.470255  , -0.10686937, ..., -0.1727144 ,\n",
              "        -0.98761063, -1.01283556],\n",
              "       ...,\n",
              "       [-0.54823746, -1.2091172 , -0.01918168, ...,  0.02878573,\n",
              "         0.04092789, -0.92280573],\n",
              "       [ 1.914022  , -0.26337359, -2.91287543, ...,  0.47496459,\n",
              "        -1.06042751, -0.29259694],\n",
              "       [ 0.68289227, -0.02693768,  0.24388139, ...,  0.23028586,\n",
              "         0.75696061,  0.1575522 ]])"
            ]
          },
          "metadata": {},
          "execution_count": 10
        }
      ]
    },
    {
      "cell_type": "code",
      "source": [
        "print(X_train.shape)"
      ],
      "metadata": {
        "colab": {
          "base_uri": "https://localhost:8080/"
        },
        "id": "WLv4xOYkoYGt",
        "outputId": "42865091-9e0c-4e0a-d37d-580bbf370ee4"
      },
      "execution_count": 11,
      "outputs": [
        {
          "output_type": "stream",
          "name": "stdout",
          "text": [
            "(575, 8)\n"
          ]
        }
      ]
    },
    {
      "cell_type": "code",
      "metadata": {
        "id": "rMfomxTmH3ww",
        "colab": {
          "base_uri": "https://localhost:8080/"
        },
        "outputId": "0d85dd61-4a69-4f01-f482-f5be039dfac7"
      },
      "source": [
        "model = keras.Sequential() # create model\n",
        "\n",
        "# Change the input_dim for the input from 1 to 8\n",
        "model.add(layers.Dense(32, input_dim=8, activation='relu')) # Input layer\n",
        "\n",
        "model.add(layers.Dense(64, activation='relu')) # hidden layer\n",
        "\n",
        "model.add(layers.Dense(1, activation='sigmoid')) # output layer\n",
        "\n",
        "model.compile(loss='binary_crossentropy', optimizer='adam', metrics=['acc'])\n",
        "\n",
        "model.summary()"
      ],
      "execution_count": 12,
      "outputs": [
        {
          "output_type": "stream",
          "name": "stdout",
          "text": [
            "Model: \"sequential\"\n",
            "_________________________________________________________________\n",
            " Layer (type)                Output Shape              Param #   \n",
            "=================================================================\n",
            " dense (Dense)               (None, 32)                288       \n",
            "                                                                 \n",
            " dense_1 (Dense)             (None, 64)                2112      \n",
            "                                                                 \n",
            " dense_2 (Dense)             (None, 1)                 65        \n",
            "                                                                 \n",
            "=================================================================\n",
            "Total params: 2,465\n",
            "Trainable params: 2,465\n",
            "Non-trainable params: 0\n",
            "_________________________________________________________________\n"
          ]
        }
      ]
    },
    {
      "cell_type": "code",
      "metadata": {
        "id": "2PdPpP7fK-TD",
        "colab": {
          "base_uri": "https://localhost:8080/"
        },
        "outputId": "026b1c67-b8ec-4207-ea4c-966fdc184f9b"
      },
      "source": [
        "my_first_nn_fitted = model.fit(X_train, Y_train, epochs=100)"
      ],
      "execution_count": 13,
      "outputs": [
        {
          "output_type": "stream",
          "name": "stdout",
          "text": [
            "Epoch 1/100\n",
            "18/18 [==============================] - 1s 2ms/step - loss: 4.3950 - acc: 0.5304\n",
            "Epoch 2/100\n",
            "18/18 [==============================] - 0s 2ms/step - loss: 2.4041 - acc: 0.5548\n",
            "Epoch 3/100\n",
            "18/18 [==============================] - 0s 2ms/step - loss: 1.3329 - acc: 0.5791\n",
            "Epoch 4/100\n",
            "18/18 [==============================] - 0s 2ms/step - loss: 1.0842 - acc: 0.5652\n",
            "Epoch 5/100\n",
            "18/18 [==============================] - 0s 2ms/step - loss: 0.9464 - acc: 0.5826\n",
            "Epoch 6/100\n",
            "18/18 [==============================] - 0s 2ms/step - loss: 0.9708 - acc: 0.6035\n",
            "Epoch 7/100\n",
            "18/18 [==============================] - 0s 2ms/step - loss: 0.8391 - acc: 0.5670\n",
            "Epoch 8/100\n",
            "18/18 [==============================] - 0s 2ms/step - loss: 0.7742 - acc: 0.6070\n",
            "Epoch 9/100\n",
            "18/18 [==============================] - 0s 2ms/step - loss: 0.7568 - acc: 0.6157\n",
            "Epoch 10/100\n",
            "18/18 [==============================] - 0s 2ms/step - loss: 0.7699 - acc: 0.6052\n",
            "Epoch 11/100\n",
            "18/18 [==============================] - 0s 2ms/step - loss: 0.6585 - acc: 0.6574\n",
            "Epoch 12/100\n",
            "18/18 [==============================] - 0s 2ms/step - loss: 0.6891 - acc: 0.6209\n",
            "Epoch 13/100\n",
            "18/18 [==============================] - 0s 2ms/step - loss: 0.6484 - acc: 0.6696\n",
            "Epoch 14/100\n",
            "18/18 [==============================] - 0s 2ms/step - loss: 0.6226 - acc: 0.6887\n",
            "Epoch 15/100\n",
            "18/18 [==============================] - 0s 2ms/step - loss: 0.6263 - acc: 0.6643\n",
            "Epoch 16/100\n",
            "18/18 [==============================] - 0s 2ms/step - loss: 0.6181 - acc: 0.6991\n",
            "Epoch 17/100\n",
            "18/18 [==============================] - 0s 2ms/step - loss: 0.6406 - acc: 0.6591\n",
            "Epoch 18/100\n",
            "18/18 [==============================] - 0s 2ms/step - loss: 0.6798 - acc: 0.6626\n",
            "Epoch 19/100\n",
            "18/18 [==============================] - 0s 2ms/step - loss: 0.6650 - acc: 0.6922\n",
            "Epoch 20/100\n",
            "18/18 [==============================] - 0s 2ms/step - loss: 0.7334 - acc: 0.6139\n",
            "Epoch 21/100\n",
            "18/18 [==============================] - 0s 2ms/step - loss: 0.5983 - acc: 0.6991\n",
            "Epoch 22/100\n",
            "18/18 [==============================] - 0s 2ms/step - loss: 0.6561 - acc: 0.6852\n",
            "Epoch 23/100\n",
            "18/18 [==============================] - 0s 3ms/step - loss: 0.6435 - acc: 0.6678\n",
            "Epoch 24/100\n",
            "18/18 [==============================] - 0s 2ms/step - loss: 0.5729 - acc: 0.7026\n",
            "Epoch 25/100\n",
            "18/18 [==============================] - 0s 2ms/step - loss: 0.5749 - acc: 0.7235\n",
            "Epoch 26/100\n",
            "18/18 [==============================] - 0s 2ms/step - loss: 0.6056 - acc: 0.6817\n",
            "Epoch 27/100\n",
            "18/18 [==============================] - 0s 2ms/step - loss: 0.6041 - acc: 0.6957\n",
            "Epoch 28/100\n",
            "18/18 [==============================] - 0s 2ms/step - loss: 0.5689 - acc: 0.7009\n",
            "Epoch 29/100\n",
            "18/18 [==============================] - 0s 2ms/step - loss: 0.5918 - acc: 0.7043\n",
            "Epoch 30/100\n",
            "18/18 [==============================] - 0s 2ms/step - loss: 0.5877 - acc: 0.6870\n",
            "Epoch 31/100\n",
            "18/18 [==============================] - 0s 2ms/step - loss: 0.5938 - acc: 0.6870\n",
            "Epoch 32/100\n",
            "18/18 [==============================] - 0s 2ms/step - loss: 0.5821 - acc: 0.6991\n",
            "Epoch 33/100\n",
            "18/18 [==============================] - 0s 2ms/step - loss: 0.5631 - acc: 0.7183\n",
            "Epoch 34/100\n",
            "18/18 [==============================] - 0s 2ms/step - loss: 0.5540 - acc: 0.7426\n",
            "Epoch 35/100\n",
            "18/18 [==============================] - 0s 2ms/step - loss: 0.5771 - acc: 0.6922\n",
            "Epoch 36/100\n",
            "18/18 [==============================] - 0s 2ms/step - loss: 0.5566 - acc: 0.7478\n",
            "Epoch 37/100\n",
            "18/18 [==============================] - 0s 2ms/step - loss: 0.5779 - acc: 0.6922\n",
            "Epoch 38/100\n",
            "18/18 [==============================] - 0s 2ms/step - loss: 0.5882 - acc: 0.7061\n",
            "Epoch 39/100\n",
            "18/18 [==============================] - 0s 2ms/step - loss: 0.6296 - acc: 0.7026\n",
            "Epoch 40/100\n",
            "18/18 [==============================] - 0s 2ms/step - loss: 0.5657 - acc: 0.7130\n",
            "Epoch 41/100\n",
            "18/18 [==============================] - 0s 2ms/step - loss: 0.5763 - acc: 0.7270\n",
            "Epoch 42/100\n",
            "18/18 [==============================] - 0s 2ms/step - loss: 0.5287 - acc: 0.7426\n",
            "Epoch 43/100\n",
            "18/18 [==============================] - 0s 2ms/step - loss: 0.5504 - acc: 0.7322\n",
            "Epoch 44/100\n",
            "18/18 [==============================] - 0s 2ms/step - loss: 0.5854 - acc: 0.7096\n",
            "Epoch 45/100\n",
            "18/18 [==============================] - 0s 2ms/step - loss: 0.5324 - acc: 0.7530\n",
            "Epoch 46/100\n",
            "18/18 [==============================] - 0s 2ms/step - loss: 0.5819 - acc: 0.7096\n",
            "Epoch 47/100\n",
            "18/18 [==============================] - 0s 2ms/step - loss: 0.5546 - acc: 0.7287\n",
            "Epoch 48/100\n",
            "18/18 [==============================] - 0s 2ms/step - loss: 0.5506 - acc: 0.7374\n",
            "Epoch 49/100\n",
            "18/18 [==============================] - 0s 2ms/step - loss: 0.6413 - acc: 0.7009\n",
            "Epoch 50/100\n",
            "18/18 [==============================] - 0s 2ms/step - loss: 0.6025 - acc: 0.7078\n",
            "Epoch 51/100\n",
            "18/18 [==============================] - 0s 2ms/step - loss: 0.5310 - acc: 0.7461\n",
            "Epoch 52/100\n",
            "18/18 [==============================] - 0s 2ms/step - loss: 0.5421 - acc: 0.7357\n",
            "Epoch 53/100\n",
            "18/18 [==============================] - 0s 2ms/step - loss: 0.5578 - acc: 0.7113\n",
            "Epoch 54/100\n",
            "18/18 [==============================] - 0s 2ms/step - loss: 0.7821 - acc: 0.6661\n",
            "Epoch 55/100\n",
            "18/18 [==============================] - 0s 2ms/step - loss: 0.5682 - acc: 0.7217\n",
            "Epoch 56/100\n",
            "18/18 [==============================] - 0s 2ms/step - loss: 0.5732 - acc: 0.7113\n",
            "Epoch 57/100\n",
            "18/18 [==============================] - 0s 2ms/step - loss: 0.5329 - acc: 0.7339\n",
            "Epoch 58/100\n",
            "18/18 [==============================] - 0s 2ms/step - loss: 0.5524 - acc: 0.7287\n",
            "Epoch 59/100\n",
            "18/18 [==============================] - 0s 2ms/step - loss: 0.6015 - acc: 0.6887\n",
            "Epoch 60/100\n",
            "18/18 [==============================] - 0s 2ms/step - loss: 0.6181 - acc: 0.6922\n",
            "Epoch 61/100\n",
            "18/18 [==============================] - 0s 2ms/step - loss: 0.6079 - acc: 0.7078\n",
            "Epoch 62/100\n",
            "18/18 [==============================] - 0s 2ms/step - loss: 0.5371 - acc: 0.7270\n",
            "Epoch 63/100\n",
            "18/18 [==============================] - 0s 2ms/step - loss: 0.5336 - acc: 0.7357\n",
            "Epoch 64/100\n",
            "18/18 [==============================] - 0s 2ms/step - loss: 0.5225 - acc: 0.7583\n",
            "Epoch 65/100\n",
            "18/18 [==============================] - 0s 2ms/step - loss: 0.5582 - acc: 0.7391\n",
            "Epoch 66/100\n",
            "18/18 [==============================] - 0s 2ms/step - loss: 0.5915 - acc: 0.6991\n",
            "Epoch 67/100\n",
            "18/18 [==============================] - 0s 2ms/step - loss: 0.5225 - acc: 0.7357\n",
            "Epoch 68/100\n",
            "18/18 [==============================] - 0s 2ms/step - loss: 0.5300 - acc: 0.7426\n",
            "Epoch 69/100\n",
            "18/18 [==============================] - 0s 2ms/step - loss: 0.5673 - acc: 0.7357\n",
            "Epoch 70/100\n",
            "18/18 [==============================] - 0s 2ms/step - loss: 0.5912 - acc: 0.7113\n",
            "Epoch 71/100\n",
            "18/18 [==============================] - 0s 2ms/step - loss: 0.5532 - acc: 0.7200\n",
            "Epoch 72/100\n",
            "18/18 [==============================] - 0s 2ms/step - loss: 0.6008 - acc: 0.7096\n",
            "Epoch 73/100\n",
            "18/18 [==============================] - 0s 2ms/step - loss: 0.5092 - acc: 0.7687\n",
            "Epoch 74/100\n",
            "18/18 [==============================] - 0s 2ms/step - loss: 0.5471 - acc: 0.7287\n",
            "Epoch 75/100\n",
            "18/18 [==============================] - 0s 3ms/step - loss: 0.5985 - acc: 0.7026\n",
            "Epoch 76/100\n",
            "18/18 [==============================] - 0s 2ms/step - loss: 0.5115 - acc: 0.7635\n",
            "Epoch 77/100\n",
            "18/18 [==============================] - 0s 2ms/step - loss: 0.5119 - acc: 0.7496\n",
            "Epoch 78/100\n",
            "18/18 [==============================] - 0s 2ms/step - loss: 0.4983 - acc: 0.7513\n",
            "Epoch 79/100\n",
            "18/18 [==============================] - 0s 2ms/step - loss: 0.5300 - acc: 0.7443\n",
            "Epoch 80/100\n",
            "18/18 [==============================] - 0s 2ms/step - loss: 0.5098 - acc: 0.7443\n",
            "Epoch 81/100\n",
            "18/18 [==============================] - 0s 2ms/step - loss: 0.5939 - acc: 0.6939\n",
            "Epoch 82/100\n",
            "18/18 [==============================] - 0s 2ms/step - loss: 0.5793 - acc: 0.7078\n",
            "Epoch 83/100\n",
            "18/18 [==============================] - 0s 2ms/step - loss: 0.5553 - acc: 0.7217\n",
            "Epoch 84/100\n",
            "18/18 [==============================] - 0s 2ms/step - loss: 0.5128 - acc: 0.7426\n",
            "Epoch 85/100\n",
            "18/18 [==============================] - 0s 2ms/step - loss: 0.5101 - acc: 0.7530\n",
            "Epoch 86/100\n",
            "18/18 [==============================] - 0s 2ms/step - loss: 0.5073 - acc: 0.7670\n",
            "Epoch 87/100\n",
            "18/18 [==============================] - 0s 2ms/step - loss: 0.5863 - acc: 0.6974\n",
            "Epoch 88/100\n",
            "18/18 [==============================] - 0s 2ms/step - loss: 0.6154 - acc: 0.7009\n",
            "Epoch 89/100\n",
            "18/18 [==============================] - 0s 2ms/step - loss: 0.5066 - acc: 0.7513\n",
            "Epoch 90/100\n",
            "18/18 [==============================] - 0s 2ms/step - loss: 0.5448 - acc: 0.7287\n",
            "Epoch 91/100\n",
            "18/18 [==============================] - 0s 2ms/step - loss: 0.4870 - acc: 0.7600\n",
            "Epoch 92/100\n",
            "18/18 [==============================] - 0s 2ms/step - loss: 0.5857 - acc: 0.7148\n",
            "Epoch 93/100\n",
            "18/18 [==============================] - 0s 2ms/step - loss: 0.5228 - acc: 0.7530\n",
            "Epoch 94/100\n",
            "18/18 [==============================] - 0s 2ms/step - loss: 0.5455 - acc: 0.7374\n",
            "Epoch 95/100\n",
            "18/18 [==============================] - 0s 2ms/step - loss: 0.5144 - acc: 0.7287\n",
            "Epoch 96/100\n",
            "18/18 [==============================] - 0s 2ms/step - loss: 0.5274 - acc: 0.7391\n",
            "Epoch 97/100\n",
            "18/18 [==============================] - 0s 2ms/step - loss: 0.4876 - acc: 0.7617\n",
            "Epoch 98/100\n",
            "18/18 [==============================] - 0s 2ms/step - loss: 0.5046 - acc: 0.7548\n",
            "Epoch 99/100\n",
            "18/18 [==============================] - 0s 2ms/step - loss: 0.4882 - acc: 0.7757\n",
            "Epoch 100/100\n",
            "18/18 [==============================] - 0s 2ms/step - loss: 0.4863 - acc: 0.7757\n"
          ]
        }
      ]
    },
    {
      "cell_type": "code",
      "metadata": {
        "id": "EBYPua9zH-E6",
        "colab": {
          "base_uri": "https://localhost:8080/"
        },
        "outputId": "8f6cd5c5-6e55-49b6-be08-36e25943e298"
      },
      "source": [
        "scores = model.evaluate(X_test, Y_test)"
      ],
      "execution_count": 14,
      "outputs": [
        {
          "output_type": "stream",
          "name": "stdout",
          "text": [
            "6/6 [==============================] - 0s 2ms/step - loss: 0.5508 - acc: 0.7292\n"
          ]
        }
      ]
    },
    {
      "cell_type": "code",
      "source": [
        "print(scores)"
      ],
      "metadata": {
        "colab": {
          "base_uri": "https://localhost:8080/"
        },
        "id": "3RwYgODqoRGb",
        "outputId": "04dc6b8e-250d-4038-aa9e-675d1508efcd"
      },
      "execution_count": 15,
      "outputs": [
        {
          "output_type": "stream",
          "name": "stdout",
          "text": [
            "[0.5508446097373962, 0.7291666865348816]\n"
          ]
        }
      ]
    },
    {
      "cell_type": "markdown",
      "source": [
        "ICP 8 Part 1"
      ],
      "metadata": {
        "id": "zzq3ueTPEslZ"
      }
    },
    {
      "cell_type": "markdown",
      "source": [
        "a) Add more Dense layers to existing code and check how the accuracy changes"
      ],
      "metadata": {
        "id": "0A4Y1byNFDFf"
      }
    },
    {
      "cell_type": "code",
      "source": [
        "model2 = keras.Sequential() # create model\n",
        "\n",
        "# Change the input_dim for the input from 1 to 8\n",
        "model2.add(layers.Dense(32, input_dim=8, activation='relu')) # Input layer\n",
        "model2.add(layers.Dense(64, activation='relu')) # hidden layer\n",
        "\n",
        "# Add more dense hidden layers with different neuron values\n",
        "model2.add(layers.Dense(28, activation='relu')) # hidden layer\n",
        "model2.add(layers.Dense(16, activation='relu')) # hidden layer\n",
        "model2.add(layers.Dense(10, activation='relu')) # hidden layer\n",
        "model2.add(layers.Dense(4, activation='relu')) # hidden layer\n",
        "\n",
        "model2.add(layers.Dense(1, activation='sigmoid')) # output layer\n",
        "\n",
        "model2.compile(loss='binary_crossentropy', optimizer='adam', metrics=['acc'])\n",
        "model2.summary()"
      ],
      "metadata": {
        "colab": {
          "base_uri": "https://localhost:8080/"
        },
        "id": "zYiuxNT5Eumq",
        "outputId": "d77cbf2e-f1e4-4b9d-ae34-0047b023d2d0"
      },
      "execution_count": 16,
      "outputs": [
        {
          "output_type": "stream",
          "name": "stdout",
          "text": [
            "Model: \"sequential_1\"\n",
            "_________________________________________________________________\n",
            " Layer (type)                Output Shape              Param #   \n",
            "=================================================================\n",
            " dense_3 (Dense)             (None, 32)                288       \n",
            "                                                                 \n",
            " dense_4 (Dense)             (None, 64)                2112      \n",
            "                                                                 \n",
            " dense_5 (Dense)             (None, 28)                1820      \n",
            "                                                                 \n",
            " dense_6 (Dense)             (None, 16)                464       \n",
            "                                                                 \n",
            " dense_7 (Dense)             (None, 10)                170       \n",
            "                                                                 \n",
            " dense_8 (Dense)             (None, 4)                 44        \n",
            "                                                                 \n",
            " dense_9 (Dense)             (None, 1)                 5         \n",
            "                                                                 \n",
            "=================================================================\n",
            "Total params: 4,903\n",
            "Trainable params: 4,903\n",
            "Non-trainable params: 0\n",
            "_________________________________________________________________\n"
          ]
        }
      ]
    },
    {
      "cell_type": "code",
      "source": [
        "# Fit the new model with the training data\n",
        "fitted_mod = model2.fit(X_train, Y_train, epochs=100)"
      ],
      "metadata": {
        "colab": {
          "base_uri": "https://localhost:8080/"
        },
        "id": "cJMZWw1RFriM",
        "outputId": "c159322a-c138-4e35-fd72-407ffabf3dc5"
      },
      "execution_count": 17,
      "outputs": [
        {
          "output_type": "stream",
          "name": "stdout",
          "text": [
            "Epoch 1/100\n",
            "18/18 [==============================] - 1s 3ms/step - loss: 1.0727 - acc: 0.5704\n",
            "Epoch 2/100\n",
            "18/18 [==============================] - 0s 2ms/step - loss: 0.6902 - acc: 0.6539\n",
            "Epoch 3/100\n",
            "18/18 [==============================] - 0s 2ms/step - loss: 0.6882 - acc: 0.6539\n",
            "Epoch 4/100\n",
            "18/18 [==============================] - 0s 2ms/step - loss: 0.6863 - acc: 0.6539\n",
            "Epoch 5/100\n",
            "18/18 [==============================] - 0s 2ms/step - loss: 0.6839 - acc: 0.6539\n",
            "Epoch 6/100\n",
            "18/18 [==============================] - 0s 2ms/step - loss: 0.6807 - acc: 0.6539\n",
            "Epoch 7/100\n",
            "18/18 [==============================] - 0s 2ms/step - loss: 0.6778 - acc: 0.6539\n",
            "Epoch 8/100\n",
            "18/18 [==============================] - 0s 2ms/step - loss: 0.6761 - acc: 0.6539\n",
            "Epoch 9/100\n",
            "18/18 [==============================] - 0s 2ms/step - loss: 0.6741 - acc: 0.6539\n",
            "Epoch 10/100\n",
            "18/18 [==============================] - 0s 2ms/step - loss: 0.6696 - acc: 0.6539\n",
            "Epoch 11/100\n",
            "18/18 [==============================] - 0s 2ms/step - loss: 0.6518 - acc: 0.6539\n",
            "Epoch 12/100\n",
            "18/18 [==============================] - 0s 2ms/step - loss: 0.6452 - acc: 0.6539\n",
            "Epoch 13/100\n",
            "18/18 [==============================] - 0s 2ms/step - loss: 0.6380 - acc: 0.6539\n",
            "Epoch 14/100\n",
            "18/18 [==============================] - 0s 2ms/step - loss: 0.6339 - acc: 0.6539\n",
            "Epoch 15/100\n",
            "18/18 [==============================] - 0s 2ms/step - loss: 0.6312 - acc: 0.6539\n",
            "Epoch 16/100\n",
            "18/18 [==============================] - 0s 2ms/step - loss: 0.6241 - acc: 0.6539\n",
            "Epoch 17/100\n",
            "18/18 [==============================] - 0s 2ms/step - loss: 0.6212 - acc: 0.6539\n",
            "Epoch 18/100\n",
            "18/18 [==============================] - 0s 3ms/step - loss: 0.6230 - acc: 0.6539\n",
            "Epoch 19/100\n",
            "18/18 [==============================] - 0s 2ms/step - loss: 0.6274 - acc: 0.6539\n",
            "Epoch 20/100\n",
            "18/18 [==============================] - 0s 2ms/step - loss: 0.6205 - acc: 0.6539\n",
            "Epoch 21/100\n",
            "18/18 [==============================] - 0s 2ms/step - loss: 0.6103 - acc: 0.6539\n",
            "Epoch 22/100\n",
            "18/18 [==============================] - 0s 2ms/step - loss: 0.6157 - acc: 0.6539\n",
            "Epoch 23/100\n",
            "18/18 [==============================] - 0s 2ms/step - loss: 0.6156 - acc: 0.6539\n",
            "Epoch 24/100\n",
            "18/18 [==============================] - 0s 2ms/step - loss: 0.6178 - acc: 0.6539\n",
            "Epoch 25/100\n",
            "18/18 [==============================] - 0s 2ms/step - loss: 0.6159 - acc: 0.6539\n",
            "Epoch 26/100\n",
            "18/18 [==============================] - 0s 2ms/step - loss: 0.6139 - acc: 0.6539\n",
            "Epoch 27/100\n",
            "18/18 [==============================] - 0s 2ms/step - loss: 0.6252 - acc: 0.6539\n",
            "Epoch 28/100\n",
            "18/18 [==============================] - 0s 2ms/step - loss: 0.6101 - acc: 0.6539\n",
            "Epoch 29/100\n",
            "18/18 [==============================] - 0s 2ms/step - loss: 0.6084 - acc: 0.6539\n",
            "Epoch 30/100\n",
            "18/18 [==============================] - 0s 2ms/step - loss: 0.6050 - acc: 0.6539\n",
            "Epoch 31/100\n",
            "18/18 [==============================] - 0s 2ms/step - loss: 0.6036 - acc: 0.6539\n",
            "Epoch 32/100\n",
            "18/18 [==============================] - 0s 2ms/step - loss: 0.6003 - acc: 0.6539\n",
            "Epoch 33/100\n",
            "18/18 [==============================] - 0s 2ms/step - loss: 0.6050 - acc: 0.6539\n",
            "Epoch 34/100\n",
            "18/18 [==============================] - 0s 2ms/step - loss: 0.6092 - acc: 0.6539\n",
            "Epoch 35/100\n",
            "18/18 [==============================] - 0s 2ms/step - loss: 0.5992 - acc: 0.6539\n",
            "Epoch 36/100\n",
            "18/18 [==============================] - 0s 2ms/step - loss: 0.6027 - acc: 0.6539\n",
            "Epoch 37/100\n",
            "18/18 [==============================] - 0s 2ms/step - loss: 0.5980 - acc: 0.6539\n",
            "Epoch 38/100\n",
            "18/18 [==============================] - 0s 2ms/step - loss: 0.5989 - acc: 0.6539\n",
            "Epoch 39/100\n",
            "18/18 [==============================] - 0s 2ms/step - loss: 0.6049 - acc: 0.6539\n",
            "Epoch 40/100\n",
            "18/18 [==============================] - 0s 2ms/step - loss: 0.5954 - acc: 0.6539\n",
            "Epoch 41/100\n",
            "18/18 [==============================] - 0s 2ms/step - loss: 0.6004 - acc: 0.6539\n",
            "Epoch 42/100\n",
            "18/18 [==============================] - 0s 2ms/step - loss: 0.5967 - acc: 0.6539\n",
            "Epoch 43/100\n",
            "18/18 [==============================] - 0s 2ms/step - loss: 0.5969 - acc: 0.6539\n",
            "Epoch 44/100\n",
            "18/18 [==============================] - 0s 2ms/step - loss: 0.5943 - acc: 0.6539\n",
            "Epoch 45/100\n",
            "18/18 [==============================] - 0s 2ms/step - loss: 0.6126 - acc: 0.6539\n",
            "Epoch 46/100\n",
            "18/18 [==============================] - 0s 2ms/step - loss: 0.6093 - acc: 0.6539\n",
            "Epoch 47/100\n",
            "18/18 [==============================] - 0s 2ms/step - loss: 0.5959 - acc: 0.6539\n",
            "Epoch 48/100\n",
            "18/18 [==============================] - 0s 2ms/step - loss: 0.5907 - acc: 0.6539\n",
            "Epoch 49/100\n",
            "18/18 [==============================] - 0s 2ms/step - loss: 0.5927 - acc: 0.6539\n",
            "Epoch 50/100\n",
            "18/18 [==============================] - 0s 2ms/step - loss: 0.5924 - acc: 0.6539\n",
            "Epoch 51/100\n",
            "18/18 [==============================] - 0s 2ms/step - loss: 0.5854 - acc: 0.6539\n",
            "Epoch 52/100\n",
            "18/18 [==============================] - 0s 3ms/step - loss: 0.5976 - acc: 0.6539\n",
            "Epoch 53/100\n",
            "18/18 [==============================] - 0s 2ms/step - loss: 0.5840 - acc: 0.6539\n",
            "Epoch 54/100\n",
            "18/18 [==============================] - 0s 2ms/step - loss: 0.5947 - acc: 0.6539\n",
            "Epoch 55/100\n",
            "18/18 [==============================] - 0s 2ms/step - loss: 0.5911 - acc: 0.6539\n",
            "Epoch 56/100\n",
            "18/18 [==============================] - 0s 2ms/step - loss: 0.5825 - acc: 0.6539\n",
            "Epoch 57/100\n",
            "18/18 [==============================] - 0s 2ms/step - loss: 0.5898 - acc: 0.6539\n",
            "Epoch 58/100\n",
            "18/18 [==============================] - 0s 2ms/step - loss: 0.5817 - acc: 0.6539\n",
            "Epoch 59/100\n",
            "18/18 [==============================] - 0s 2ms/step - loss: 0.5783 - acc: 0.6539\n",
            "Epoch 60/100\n",
            "18/18 [==============================] - 0s 2ms/step - loss: 0.5832 - acc: 0.6539\n",
            "Epoch 61/100\n",
            "18/18 [==============================] - 0s 2ms/step - loss: 0.5783 - acc: 0.6539\n",
            "Epoch 62/100\n",
            "18/18 [==============================] - 0s 2ms/step - loss: 0.5753 - acc: 0.6539\n",
            "Epoch 63/100\n",
            "18/18 [==============================] - 0s 3ms/step - loss: 0.5800 - acc: 0.6539\n",
            "Epoch 64/100\n",
            "18/18 [==============================] - 0s 2ms/step - loss: 0.5725 - acc: 0.6539\n",
            "Epoch 65/100\n",
            "18/18 [==============================] - 0s 2ms/step - loss: 0.5668 - acc: 0.6539\n",
            "Epoch 66/100\n",
            "18/18 [==============================] - 0s 2ms/step - loss: 0.5714 - acc: 0.6539\n",
            "Epoch 67/100\n",
            "18/18 [==============================] - 0s 2ms/step - loss: 0.5702 - acc: 0.6539\n",
            "Epoch 68/100\n",
            "18/18 [==============================] - 0s 2ms/step - loss: 0.5669 - acc: 0.6539\n",
            "Epoch 69/100\n",
            "18/18 [==============================] - 0s 2ms/step - loss: 0.5624 - acc: 0.6539\n",
            "Epoch 70/100\n",
            "18/18 [==============================] - 0s 2ms/step - loss: 0.5869 - acc: 0.6539\n",
            "Epoch 71/100\n",
            "18/18 [==============================] - 0s 2ms/step - loss: 0.6295 - acc: 0.6539\n",
            "Epoch 72/100\n",
            "18/18 [==============================] - 0s 3ms/step - loss: 0.6254 - acc: 0.6539\n",
            "Epoch 73/100\n",
            "18/18 [==============================] - 0s 2ms/step - loss: 0.5937 - acc: 0.6539\n",
            "Epoch 74/100\n",
            "18/18 [==============================] - 0s 2ms/step - loss: 0.5784 - acc: 0.6539\n",
            "Epoch 75/100\n",
            "18/18 [==============================] - 0s 2ms/step - loss: 0.5695 - acc: 0.6539\n",
            "Epoch 76/100\n",
            "18/18 [==============================] - 0s 2ms/step - loss: 0.5654 - acc: 0.6539\n",
            "Epoch 77/100\n",
            "18/18 [==============================] - 0s 2ms/step - loss: 0.5637 - acc: 0.6539\n",
            "Epoch 78/100\n",
            "18/18 [==============================] - 0s 2ms/step - loss: 0.5552 - acc: 0.6539\n",
            "Epoch 79/100\n",
            "18/18 [==============================] - 0s 2ms/step - loss: 0.5763 - acc: 0.6539\n",
            "Epoch 80/100\n",
            "18/18 [==============================] - 0s 2ms/step - loss: 0.5787 - acc: 0.6539\n",
            "Epoch 81/100\n",
            "18/18 [==============================] - 0s 2ms/step - loss: 0.5876 - acc: 0.6539\n",
            "Epoch 82/100\n",
            "18/18 [==============================] - 0s 2ms/step - loss: 0.5862 - acc: 0.6539\n",
            "Epoch 83/100\n",
            "18/18 [==============================] - 0s 2ms/step - loss: 0.5716 - acc: 0.6539\n",
            "Epoch 84/100\n",
            "18/18 [==============================] - 0s 2ms/step - loss: 0.5579 - acc: 0.6539\n",
            "Epoch 85/100\n",
            "18/18 [==============================] - 0s 2ms/step - loss: 0.5576 - acc: 0.6539\n",
            "Epoch 86/100\n",
            "18/18 [==============================] - 0s 2ms/step - loss: 0.5592 - acc: 0.6539\n",
            "Epoch 87/100\n",
            "18/18 [==============================] - 0s 2ms/step - loss: 0.5591 - acc: 0.6539\n",
            "Epoch 88/100\n",
            "18/18 [==============================] - 0s 2ms/step - loss: 0.5602 - acc: 0.6539\n",
            "Epoch 89/100\n",
            "18/18 [==============================] - 0s 2ms/step - loss: 0.5809 - acc: 0.6539\n",
            "Epoch 90/100\n",
            "18/18 [==============================] - 0s 2ms/step - loss: 0.5616 - acc: 0.6539\n",
            "Epoch 91/100\n",
            "18/18 [==============================] - 0s 2ms/step - loss: 0.5465 - acc: 0.6539\n",
            "Epoch 92/100\n",
            "18/18 [==============================] - 0s 2ms/step - loss: 0.5524 - acc: 0.6539\n",
            "Epoch 93/100\n",
            "18/18 [==============================] - 0s 2ms/step - loss: 0.5618 - acc: 0.6539\n",
            "Epoch 94/100\n",
            "18/18 [==============================] - 0s 2ms/step - loss: 0.5523 - acc: 0.6539\n",
            "Epoch 95/100\n",
            "18/18 [==============================] - 0s 2ms/step - loss: 0.5589 - acc: 0.6539\n",
            "Epoch 96/100\n",
            "18/18 [==============================] - 0s 2ms/step - loss: 0.5561 - acc: 0.6539\n",
            "Epoch 97/100\n",
            "18/18 [==============================] - 0s 2ms/step - loss: 0.5646 - acc: 0.6539\n",
            "Epoch 98/100\n",
            "18/18 [==============================] - 0s 2ms/step - loss: 0.5520 - acc: 0.6539\n",
            "Epoch 99/100\n",
            "18/18 [==============================] - 0s 2ms/step - loss: 0.5513 - acc: 0.6539\n",
            "Epoch 100/100\n",
            "18/18 [==============================] - 0s 2ms/step - loss: 0.5404 - acc: 0.6539\n"
          ]
        }
      ]
    },
    {
      "cell_type": "code",
      "source": [
        "# Calculate the accuracy of the model\n",
        "scores2 = model2.evaluate(X_test, Y_test)"
      ],
      "metadata": {
        "colab": {
          "base_uri": "https://localhost:8080/"
        },
        "id": "0lj_tRNwF4dV",
        "outputId": "7bdd2824-5376-4248-ad14-3cb41bb4ee96"
      },
      "execution_count": 18,
      "outputs": [
        {
          "output_type": "stream",
          "name": "stdout",
          "text": [
            "6/6 [==============================] - 0s 2ms/step - loss: 0.5775 - acc: 0.6458\n"
          ]
        }
      ]
    },
    {
      "cell_type": "code",
      "source": [
        "# Print the scores found\n",
        "print(scores2)"
      ],
      "metadata": {
        "colab": {
          "base_uri": "https://localhost:8080/"
        },
        "id": "9AfX94VxF_6n",
        "outputId": "542f79aa-d9c8-4d30-bfcf-8203dfbd585b"
      },
      "execution_count": 19,
      "outputs": [
        {
          "output_type": "stream",
          "name": "stdout",
          "text": [
            "[0.5774871110916138, 0.6458333134651184]\n"
          ]
        }
      ]
    },
    {
      "cell_type": "markdown",
      "source": [
        "Comparing the accuracies and losses of the two models, we can see that the accuracy increased and the loss decreased when adding more dense layers to the model. Though these results show us that adding more dense layers increases the accuracy of the model, we have to be careful when adding more layers since it can lead to the model overfitting the data."
      ],
      "metadata": {
        "id": "AjFVVlyQLwiJ"
      }
    },
    {
      "cell_type": "markdown",
      "source": [
        "b) Add the validation data attribute to the fit method"
      ],
      "metadata": {
        "id": "wkvKwLrsHRQQ"
      }
    },
    {
      "cell_type": "code",
      "source": [
        "# Pass the validation data X_test and Y_test in the fit method\n",
        "fitted_mod2 = model.fit(X_train, Y_train, epochs=100, validation_data=(X_test, Y_test))"
      ],
      "metadata": {
        "colab": {
          "base_uri": "https://localhost:8080/"
        },
        "id": "EVCQufA3HWIG",
        "outputId": "0c8d37fb-6b0f-4b55-b78f-64a0b3ceb9c0"
      },
      "execution_count": 20,
      "outputs": [
        {
          "output_type": "stream",
          "name": "stdout",
          "text": [
            "Epoch 1/100\n",
            "18/18 [==============================] - 0s 4ms/step - loss: 0.4975 - acc: 0.7478 - val_loss: 0.5383 - val_acc: 0.7188\n",
            "Epoch 2/100\n",
            "18/18 [==============================] - 0s 4ms/step - loss: 0.5250 - acc: 0.7461 - val_loss: 0.6293 - val_acc: 0.7031\n",
            "Epoch 3/100\n",
            "18/18 [==============================] - 0s 4ms/step - loss: 0.5269 - acc: 0.7513 - val_loss: 0.5220 - val_acc: 0.7292\n",
            "Epoch 4/100\n",
            "18/18 [==============================] - 0s 4ms/step - loss: 0.5000 - acc: 0.7722 - val_loss: 0.6198 - val_acc: 0.6875\n",
            "Epoch 5/100\n",
            "18/18 [==============================] - 0s 3ms/step - loss: 0.5064 - acc: 0.7496 - val_loss: 0.5970 - val_acc: 0.6667\n",
            "Epoch 6/100\n",
            "18/18 [==============================] - 0s 4ms/step - loss: 0.5252 - acc: 0.7600 - val_loss: 0.8519 - val_acc: 0.5938\n",
            "Epoch 7/100\n",
            "18/18 [==============================] - 0s 3ms/step - loss: 0.5265 - acc: 0.7322 - val_loss: 0.5344 - val_acc: 0.7396\n",
            "Epoch 8/100\n",
            "18/18 [==============================] - 0s 4ms/step - loss: 0.5054 - acc: 0.7670 - val_loss: 0.5550 - val_acc: 0.7448\n",
            "Epoch 9/100\n",
            "18/18 [==============================] - 0s 4ms/step - loss: 0.5167 - acc: 0.7513 - val_loss: 0.5847 - val_acc: 0.7083\n",
            "Epoch 10/100\n",
            "18/18 [==============================] - 0s 4ms/step - loss: 0.5466 - acc: 0.7200 - val_loss: 0.5259 - val_acc: 0.7292\n",
            "Epoch 11/100\n",
            "18/18 [==============================] - 0s 3ms/step - loss: 0.5571 - acc: 0.7130 - val_loss: 0.6349 - val_acc: 0.7031\n",
            "Epoch 12/100\n",
            "18/18 [==============================] - 0s 3ms/step - loss: 0.5921 - acc: 0.7235 - val_loss: 0.6090 - val_acc: 0.7240\n",
            "Epoch 13/100\n",
            "18/18 [==============================] - 0s 3ms/step - loss: 0.5479 - acc: 0.7461 - val_loss: 0.5530 - val_acc: 0.7292\n",
            "Epoch 14/100\n",
            "18/18 [==============================] - 0s 3ms/step - loss: 0.5141 - acc: 0.7583 - val_loss: 0.5941 - val_acc: 0.7031\n",
            "Epoch 15/100\n",
            "18/18 [==============================] - 0s 3ms/step - loss: 0.4795 - acc: 0.7774 - val_loss: 0.5594 - val_acc: 0.7344\n",
            "Epoch 16/100\n",
            "18/18 [==============================] - 0s 3ms/step - loss: 0.4788 - acc: 0.7774 - val_loss: 0.5550 - val_acc: 0.7448\n",
            "Epoch 17/100\n",
            "18/18 [==============================] - 0s 3ms/step - loss: 0.4879 - acc: 0.7513 - val_loss: 0.5582 - val_acc: 0.7500\n",
            "Epoch 18/100\n",
            "18/18 [==============================] - 0s 3ms/step - loss: 0.5046 - acc: 0.7687 - val_loss: 0.5709 - val_acc: 0.7292\n",
            "Epoch 19/100\n",
            "18/18 [==============================] - 0s 3ms/step - loss: 0.4866 - acc: 0.7670 - val_loss: 0.5866 - val_acc: 0.7448\n",
            "Epoch 20/100\n",
            "18/18 [==============================] - 0s 4ms/step - loss: 0.4784 - acc: 0.7652 - val_loss: 0.5661 - val_acc: 0.7448\n",
            "Epoch 21/100\n",
            "18/18 [==============================] - 0s 3ms/step - loss: 0.4774 - acc: 0.7774 - val_loss: 0.5564 - val_acc: 0.7344\n",
            "Epoch 22/100\n",
            "18/18 [==============================] - 0s 3ms/step - loss: 0.4744 - acc: 0.7670 - val_loss: 0.6370 - val_acc: 0.7240\n",
            "Epoch 23/100\n",
            "18/18 [==============================] - 0s 4ms/step - loss: 0.5286 - acc: 0.7496 - val_loss: 0.5595 - val_acc: 0.7292\n",
            "Epoch 24/100\n",
            "18/18 [==============================] - 0s 4ms/step - loss: 0.5326 - acc: 0.7339 - val_loss: 0.6328 - val_acc: 0.6979\n",
            "Epoch 25/100\n",
            "18/18 [==============================] - 0s 3ms/step - loss: 0.5943 - acc: 0.7235 - val_loss: 0.6233 - val_acc: 0.7292\n",
            "Epoch 26/100\n",
            "18/18 [==============================] - 0s 3ms/step - loss: 0.5363 - acc: 0.7565 - val_loss: 0.6657 - val_acc: 0.7083\n",
            "Epoch 27/100\n",
            "18/18 [==============================] - 0s 4ms/step - loss: 0.6707 - acc: 0.6626 - val_loss: 0.7864 - val_acc: 0.7135\n",
            "Epoch 28/100\n",
            "18/18 [==============================] - 0s 3ms/step - loss: 0.5925 - acc: 0.7357 - val_loss: 0.5446 - val_acc: 0.7240\n",
            "Epoch 29/100\n",
            "18/18 [==============================] - 0s 3ms/step - loss: 0.4685 - acc: 0.7635 - val_loss: 0.5242 - val_acc: 0.7448\n",
            "Epoch 30/100\n",
            "18/18 [==============================] - 0s 3ms/step - loss: 0.4849 - acc: 0.7687 - val_loss: 0.6532 - val_acc: 0.6562\n",
            "Epoch 31/100\n",
            "18/18 [==============================] - 0s 3ms/step - loss: 0.5149 - acc: 0.7583 - val_loss: 0.5328 - val_acc: 0.7344\n",
            "Epoch 32/100\n",
            "18/18 [==============================] - 0s 3ms/step - loss: 0.4991 - acc: 0.7600 - val_loss: 0.6352 - val_acc: 0.6719\n",
            "Epoch 33/100\n",
            "18/18 [==============================] - 0s 3ms/step - loss: 0.5191 - acc: 0.7409 - val_loss: 0.7589 - val_acc: 0.6354\n",
            "Epoch 34/100\n",
            "18/18 [==============================] - 0s 3ms/step - loss: 0.5260 - acc: 0.7461 - val_loss: 0.5818 - val_acc: 0.7396\n",
            "Epoch 35/100\n",
            "18/18 [==============================] - 0s 4ms/step - loss: 0.4832 - acc: 0.7878 - val_loss: 0.5899 - val_acc: 0.7240\n",
            "Epoch 36/100\n",
            "18/18 [==============================] - 0s 4ms/step - loss: 0.4879 - acc: 0.7670 - val_loss: 0.5580 - val_acc: 0.7448\n",
            "Epoch 37/100\n",
            "18/18 [==============================] - 0s 3ms/step - loss: 0.5094 - acc: 0.7513 - val_loss: 0.5470 - val_acc: 0.7396\n",
            "Epoch 38/100\n",
            "18/18 [==============================] - 0s 4ms/step - loss: 0.5267 - acc: 0.7530 - val_loss: 0.6476 - val_acc: 0.6615\n",
            "Epoch 39/100\n",
            "18/18 [==============================] - 0s 3ms/step - loss: 0.4647 - acc: 0.7878 - val_loss: 0.5272 - val_acc: 0.7552\n",
            "Epoch 40/100\n",
            "18/18 [==============================] - 0s 4ms/step - loss: 0.4879 - acc: 0.7635 - val_loss: 0.6974 - val_acc: 0.7135\n",
            "Epoch 41/100\n",
            "18/18 [==============================] - 0s 4ms/step - loss: 0.5113 - acc: 0.7391 - val_loss: 0.6720 - val_acc: 0.6875\n",
            "Epoch 42/100\n",
            "18/18 [==============================] - 0s 4ms/step - loss: 0.4890 - acc: 0.7704 - val_loss: 0.5477 - val_acc: 0.7344\n",
            "Epoch 43/100\n",
            "18/18 [==============================] - 0s 3ms/step - loss: 0.4571 - acc: 0.8000 - val_loss: 0.5555 - val_acc: 0.7344\n",
            "Epoch 44/100\n",
            "18/18 [==============================] - 0s 4ms/step - loss: 0.4648 - acc: 0.7652 - val_loss: 0.5574 - val_acc: 0.7344\n",
            "Epoch 45/100\n",
            "18/18 [==============================] - 0s 3ms/step - loss: 0.4785 - acc: 0.7687 - val_loss: 0.5384 - val_acc: 0.7552\n",
            "Epoch 46/100\n",
            "18/18 [==============================] - 0s 4ms/step - loss: 0.4886 - acc: 0.7670 - val_loss: 0.6035 - val_acc: 0.6979\n",
            "Epoch 47/100\n",
            "18/18 [==============================] - 0s 3ms/step - loss: 0.5131 - acc: 0.7565 - val_loss: 0.5335 - val_acc: 0.7448\n",
            "Epoch 48/100\n",
            "18/18 [==============================] - 0s 4ms/step - loss: 0.4758 - acc: 0.7774 - val_loss: 0.5158 - val_acc: 0.7448\n",
            "Epoch 49/100\n",
            "18/18 [==============================] - 0s 4ms/step - loss: 0.4777 - acc: 0.7670 - val_loss: 0.5593 - val_acc: 0.7240\n",
            "Epoch 50/100\n",
            "18/18 [==============================] - 0s 3ms/step - loss: 0.4853 - acc: 0.7774 - val_loss: 0.5440 - val_acc: 0.7552\n",
            "Epoch 51/100\n",
            "18/18 [==============================] - 0s 3ms/step - loss: 0.5471 - acc: 0.7461 - val_loss: 0.6235 - val_acc: 0.7344\n",
            "Epoch 52/100\n",
            "18/18 [==============================] - 0s 3ms/step - loss: 0.5251 - acc: 0.7461 - val_loss: 0.5658 - val_acc: 0.7292\n",
            "Epoch 53/100\n",
            "18/18 [==============================] - 0s 4ms/step - loss: 0.5636 - acc: 0.7183 - val_loss: 0.6146 - val_acc: 0.7083\n",
            "Epoch 54/100\n",
            "18/18 [==============================] - 0s 3ms/step - loss: 0.5619 - acc: 0.7322 - val_loss: 0.7133 - val_acc: 0.7083\n",
            "Epoch 55/100\n",
            "18/18 [==============================] - 0s 3ms/step - loss: 0.6317 - acc: 0.7078 - val_loss: 0.6035 - val_acc: 0.7188\n",
            "Epoch 56/100\n",
            "18/18 [==============================] - 0s 3ms/step - loss: 0.5320 - acc: 0.7461 - val_loss: 0.5992 - val_acc: 0.6719\n",
            "Epoch 57/100\n",
            "18/18 [==============================] - 0s 3ms/step - loss: 0.4983 - acc: 0.7652 - val_loss: 0.5918 - val_acc: 0.7292\n",
            "Epoch 58/100\n",
            "18/18 [==============================] - 0s 3ms/step - loss: 0.4748 - acc: 0.7652 - val_loss: 0.5640 - val_acc: 0.7083\n",
            "Epoch 59/100\n",
            "18/18 [==============================] - 0s 4ms/step - loss: 0.4630 - acc: 0.7843 - val_loss: 0.5818 - val_acc: 0.7240\n",
            "Epoch 60/100\n",
            "18/18 [==============================] - 0s 3ms/step - loss: 0.4875 - acc: 0.7600 - val_loss: 0.5402 - val_acc: 0.7344\n",
            "Epoch 61/100\n",
            "18/18 [==============================] - 0s 4ms/step - loss: 0.4576 - acc: 0.7948 - val_loss: 0.6322 - val_acc: 0.6979\n",
            "Epoch 62/100\n",
            "18/18 [==============================] - 0s 4ms/step - loss: 0.4621 - acc: 0.7704 - val_loss: 0.6240 - val_acc: 0.7344\n",
            "Epoch 63/100\n",
            "18/18 [==============================] - 0s 4ms/step - loss: 0.4843 - acc: 0.7583 - val_loss: 0.5640 - val_acc: 0.7135\n",
            "Epoch 64/100\n",
            "18/18 [==============================] - 0s 4ms/step - loss: 0.4694 - acc: 0.7704 - val_loss: 0.5159 - val_acc: 0.7396\n",
            "Epoch 65/100\n",
            "18/18 [==============================] - 0s 3ms/step - loss: 0.5129 - acc: 0.7513 - val_loss: 0.5844 - val_acc: 0.7292\n",
            "Epoch 66/100\n",
            "18/18 [==============================] - 0s 4ms/step - loss: 0.5239 - acc: 0.7304 - val_loss: 0.5707 - val_acc: 0.7083\n",
            "Epoch 67/100\n",
            "18/18 [==============================] - 0s 3ms/step - loss: 0.4839 - acc: 0.7513 - val_loss: 0.5226 - val_acc: 0.7552\n",
            "Epoch 68/100\n",
            "18/18 [==============================] - 0s 3ms/step - loss: 0.4506 - acc: 0.7774 - val_loss: 0.6391 - val_acc: 0.7083\n",
            "Epoch 69/100\n",
            "18/18 [==============================] - 0s 3ms/step - loss: 0.4929 - acc: 0.7722 - val_loss: 0.6133 - val_acc: 0.7188\n",
            "Epoch 70/100\n",
            "18/18 [==============================] - 0s 4ms/step - loss: 0.5337 - acc: 0.7304 - val_loss: 0.8617 - val_acc: 0.6146\n",
            "Epoch 71/100\n",
            "18/18 [==============================] - 0s 3ms/step - loss: 0.5222 - acc: 0.7443 - val_loss: 0.6536 - val_acc: 0.6823\n",
            "Epoch 72/100\n",
            "18/18 [==============================] - 0s 3ms/step - loss: 0.5372 - acc: 0.7357 - val_loss: 0.7411 - val_acc: 0.6823\n",
            "Epoch 73/100\n",
            "18/18 [==============================] - 0s 4ms/step - loss: 0.5385 - acc: 0.7530 - val_loss: 0.6264 - val_acc: 0.7188\n",
            "Epoch 74/100\n",
            "18/18 [==============================] - 0s 4ms/step - loss: 0.4823 - acc: 0.7687 - val_loss: 0.9352 - val_acc: 0.6042\n",
            "Epoch 75/100\n",
            "18/18 [==============================] - 0s 3ms/step - loss: 0.5113 - acc: 0.7496 - val_loss: 0.6183 - val_acc: 0.7500\n",
            "Epoch 76/100\n",
            "18/18 [==============================] - 0s 3ms/step - loss: 0.4483 - acc: 0.7896 - val_loss: 0.5456 - val_acc: 0.7031\n",
            "Epoch 77/100\n",
            "18/18 [==============================] - 0s 4ms/step - loss: 0.4810 - acc: 0.7617 - val_loss: 0.7264 - val_acc: 0.6927\n",
            "Epoch 78/100\n",
            "18/18 [==============================] - 0s 4ms/step - loss: 0.4559 - acc: 0.7826 - val_loss: 0.5336 - val_acc: 0.7500\n",
            "Epoch 79/100\n",
            "18/18 [==============================] - 0s 4ms/step - loss: 0.4767 - acc: 0.7652 - val_loss: 0.5708 - val_acc: 0.7500\n",
            "Epoch 80/100\n",
            "18/18 [==============================] - 0s 3ms/step - loss: 0.4623 - acc: 0.7687 - val_loss: 0.5190 - val_acc: 0.7448\n",
            "Epoch 81/100\n",
            "18/18 [==============================] - 0s 3ms/step - loss: 0.4775 - acc: 0.7670 - val_loss: 0.5499 - val_acc: 0.7292\n",
            "Epoch 82/100\n",
            "18/18 [==============================] - 0s 4ms/step - loss: 0.4531 - acc: 0.7965 - val_loss: 0.5538 - val_acc: 0.7135\n",
            "Epoch 83/100\n",
            "18/18 [==============================] - 0s 3ms/step - loss: 0.4476 - acc: 0.7809 - val_loss: 0.5147 - val_acc: 0.7552\n",
            "Epoch 84/100\n",
            "18/18 [==============================] - 0s 4ms/step - loss: 0.4552 - acc: 0.7843 - val_loss: 0.5393 - val_acc: 0.7188\n",
            "Epoch 85/100\n",
            "18/18 [==============================] - 0s 3ms/step - loss: 0.4576 - acc: 0.7861 - val_loss: 0.5474 - val_acc: 0.7292\n",
            "Epoch 86/100\n",
            "18/18 [==============================] - 0s 3ms/step - loss: 0.4748 - acc: 0.7757 - val_loss: 0.5678 - val_acc: 0.7031\n",
            "Epoch 87/100\n",
            "18/18 [==============================] - 0s 3ms/step - loss: 0.4997 - acc: 0.7583 - val_loss: 0.5628 - val_acc: 0.7292\n",
            "Epoch 88/100\n",
            "18/18 [==============================] - 0s 4ms/step - loss: 0.5025 - acc: 0.7704 - val_loss: 0.5285 - val_acc: 0.7448\n",
            "Epoch 89/100\n",
            "18/18 [==============================] - 0s 3ms/step - loss: 0.4791 - acc: 0.7687 - val_loss: 0.5431 - val_acc: 0.7292\n",
            "Epoch 90/100\n",
            "18/18 [==============================] - 0s 3ms/step - loss: 0.5028 - acc: 0.7600 - val_loss: 0.6498 - val_acc: 0.7240\n",
            "Epoch 91/100\n",
            "18/18 [==============================] - 0s 4ms/step - loss: 0.5477 - acc: 0.7461 - val_loss: 0.6450 - val_acc: 0.6979\n",
            "Epoch 92/100\n",
            "18/18 [==============================] - 0s 3ms/step - loss: 0.4493 - acc: 0.7809 - val_loss: 0.5244 - val_acc: 0.7500\n",
            "Epoch 93/100\n",
            "18/18 [==============================] - 0s 4ms/step - loss: 0.5479 - acc: 0.7287 - val_loss: 0.6294 - val_acc: 0.7135\n",
            "Epoch 94/100\n",
            "18/18 [==============================] - 0s 4ms/step - loss: 0.4805 - acc: 0.7826 - val_loss: 0.5734 - val_acc: 0.7448\n",
            "Epoch 95/100\n",
            "18/18 [==============================] - 0s 3ms/step - loss: 0.4748 - acc: 0.7704 - val_loss: 0.5526 - val_acc: 0.7396\n",
            "Epoch 96/100\n",
            "18/18 [==============================] - 0s 4ms/step - loss: 0.4474 - acc: 0.8000 - val_loss: 0.5402 - val_acc: 0.7552\n",
            "Epoch 97/100\n",
            "18/18 [==============================] - 0s 3ms/step - loss: 0.4542 - acc: 0.7670 - val_loss: 0.5415 - val_acc: 0.7344\n",
            "Epoch 98/100\n",
            "18/18 [==============================] - 0s 3ms/step - loss: 0.5319 - acc: 0.7548 - val_loss: 0.6946 - val_acc: 0.6979\n",
            "Epoch 99/100\n",
            "18/18 [==============================] - 0s 3ms/step - loss: 0.5325 - acc: 0.7304 - val_loss: 0.7840 - val_acc: 0.6406\n",
            "Epoch 100/100\n",
            "18/18 [==============================] - 0s 3ms/step - loss: 0.5334 - acc: 0.7339 - val_loss: 0.6944 - val_acc: 0.7031\n"
          ]
        }
      ]
    },
    {
      "cell_type": "markdown",
      "source": [
        "c) Plot accuracy for training and validation of the fitted model"
      ],
      "metadata": {
        "id": "vnz5PNlyMCxb"
      }
    },
    {
      "cell_type": "code",
      "source": [
        "import matplotlib.pyplot as plt"
      ],
      "metadata": {
        "id": "drz9lAkTMHOM"
      },
      "execution_count": 21,
      "outputs": []
    },
    {
      "cell_type": "code",
      "source": [
        "#Identify the data columns needed for the plot\n",
        "print(fitted_mod2.history.keys())"
      ],
      "metadata": {
        "colab": {
          "base_uri": "https://localhost:8080/"
        },
        "id": "kEUDKqT4Mr_d",
        "outputId": "0a4499ff-1afd-46bd-b58a-e64ac794a402"
      },
      "execution_count": 22,
      "outputs": [
        {
          "output_type": "stream",
          "name": "stdout",
          "text": [
            "dict_keys(['loss', 'acc', 'val_loss', 'val_acc'])\n"
          ]
        }
      ]
    },
    {
      "cell_type": "code",
      "source": [
        "#Plot the accuracies of the training and testing datasets from the fitted model\n",
        "plt.plot(fitted_mod2.history['acc']) \n",
        "plt.plot(fitted_mod2.history['val_acc'])\n",
        "\n",
        "#Modify the graph to have the correct labels\n",
        "plt.title('Fitted Model Accuracy')\n",
        "plt.ylabel('Accuracy')\n",
        "plt.xlabel('Epoch')\n",
        "plt.legend(['train', 'test'])\n",
        "plt.show()"
      ],
      "metadata": {
        "colab": {
          "base_uri": "https://localhost:8080/",
          "height": 295
        },
        "id": "KlFcD7k1NGk4",
        "outputId": "059d8415-92fc-42e6-bda6-fdd2a397dd72"
      },
      "execution_count": 23,
      "outputs": [
        {
          "output_type": "display_data",
          "data": {
            "text/plain": [
              "<Figure size 432x288 with 1 Axes>"
            ],
            "image/png": "[encoded data removed]"
          },
          "metadata": {
            "needs_background": "light"
          }
        }
      ]
    },
    {
      "cell_type": "markdown",
      "source": [
        "From the graph, we are able to see similar trends between the training and testing accuracies. The training accuracy appears to have a higher accuracy compared to the testing, while the testing accuracy appears to have more prominant max and min points as epoch increases."
      ],
      "metadata": {
        "id": "RMD7svrFDWU7"
      }
    },
    {
      "cell_type": "markdown",
      "source": [
        "d) Plot the loss for training and validation of the fitted model"
      ],
      "metadata": {
        "id": "6b0TtOhzkYIq"
      }
    },
    {
      "cell_type": "code",
      "source": [
        "#Plot the losses of the training and testing datasets from the fitted model\n",
        "plt.plot(fitted_mod2.history['loss'])\n",
        "plt.plot(fitted_mod2.history['val_loss'])\n",
        "\n",
        "#Modify the graph to have the correct labels\n",
        "plt.title('Fitted Model Losses')\n",
        "plt.ylabel('Loss')\n",
        "plt.xlabel('Epoch')\n",
        "plt.legend(['train', 'test'])\n",
        "plt.show()"
      ],
      "metadata": {
        "colab": {
          "base_uri": "https://localhost:8080/",
          "height": 295
        },
        "id": "II9MW5_4kmjF",
        "outputId": "d472095f-c383-48c4-be5f-9dbd48a01364"
      },
      "execution_count": 24,
      "outputs": [
        {
          "output_type": "display_data",
          "data": {
            "text/plain": [
              "<Figure size 432x288 with 1 Axes>"
            ],
            "image/png": "[encoded data removed]"
          },
          "metadata": {
            "needs_background": "light"
          }
        }
      ]
    },
    {
      "cell_type": "markdown",
      "source": [
        "The graph shows us that the training and testing losses have similar trends going on as epoch increases. The major differences between them are that training has lower loss compared to testing and testing has more prominant min and max spikes as epoch increases. "
      ],
      "metadata": {
        "id": "ykCycL1MEEQZ"
      }
    },
    {
      "cell_type": "markdown",
      "source": [
        "e) Normalize the data before feeding it to the model and check how normalization affects accuracy"
      ],
      "metadata": {
        "id": "qwb-ZyITzTW7"
      }
    },
    {
      "cell_type": "code",
      "source": [
        "#Scale the X datasets\n",
        "scaled_X_train = sc.transform(X_train)\n",
        "scaled_X_test = sc.transform(X_test)"
      ],
      "metadata": {
        "id": "JuTcGLCP0y1-"
      },
      "execution_count": null,
      "outputs": []
    },
    {
      "cell_type": "code",
      "source": [
        "model3 = keras.Sequential() # create model\n",
        "\n",
        "# Change the input_dim for the input from 1 to 8\n",
        "model3.add(layers.Dense(32, input_dim=8, activation='relu')) # Input layer\n",
        "\n",
        "model3.add(layers.Dense(64, activation='relu')) # hidden layer\n",
        "\n",
        "model3.add(layers.Dense(1, activation='sigmoid')) # output layer\n",
        "\n",
        "model3.compile(loss='binary_crossentropy', optimizer='adam', metrics=['acc'])\n",
        "\n",
        "model3.summary()"
      ],
      "metadata": {
        "colab": {
          "base_uri": "https://localhost:8080/"
        },
        "id": "eGUsbFvE4T15",
        "outputId": "8dfe8f9d-90ea-4d14-e062-2124b9ac925c"
      },
      "execution_count": null,
      "outputs": [
        {
          "output_type": "stream",
          "name": "stdout",
          "text": [
            "Model: \"sequential_2\"\n",
            "_________________________________________________________________\n",
            " Layer (type)                Output Shape              Param #   \n",
            "=================================================================\n",
            " dense_10 (Dense)            (None, 32)                288       \n",
            "                                                                 \n",
            " dense_11 (Dense)            (None, 64)                2112      \n",
            "                                                                 \n",
            " dense_12 (Dense)            (None, 1)                 65        \n",
            "                                                                 \n",
            "=================================================================\n",
            "Total params: 2,465\n",
            "Trainable params: 2,465\n",
            "Non-trainable params: 0\n",
            "_________________________________________________________________\n"
          ]
        }
      ]
    },
    {
      "cell_type": "code",
      "source": [
        "# Fit the scaled data to the model\n",
        "scaled_fit = model3.fit(scaled_X_train, Y_train, epochs=100)"
      ],
      "metadata": {
        "colab": {
          "base_uri": "https://localhost:8080/"
        },
        "id": "1O27Q0Wm7DBo",
        "outputId": "e1b78cbc-bfb2-4763-fdda-6fde5baaf215"
      },
      "execution_count": null,
      "outputs": [
        {
          "output_type": "stream",
          "name": "stdout",
          "text": [
            "Epoch 1/100\n",
            "18/18 [==============================] - 1s 5ms/step - loss: 0.6719 - acc: 0.5983\n",
            "Epoch 2/100\n",
            "18/18 [==============================] - 0s 4ms/step - loss: 0.5996 - acc: 0.7461\n",
            "Epoch 3/100\n",
            "18/18 [==============================] - 0s 5ms/step - loss: 0.5472 - acc: 0.7583\n",
            "Epoch 4/100\n",
            "18/18 [==============================] - 0s 4ms/step - loss: 0.5075 - acc: 0.7757\n",
            "Epoch 5/100\n",
            "18/18 [==============================] - 0s 4ms/step - loss: 0.4815 - acc: 0.7774\n",
            "Epoch 6/100\n",
            "18/18 [==============================] - 0s 4ms/step - loss: 0.4665 - acc: 0.7687\n",
            "Epoch 7/100\n",
            "18/18 [==============================] - 0s 4ms/step - loss: 0.4567 - acc: 0.7757\n",
            "Epoch 8/100\n",
            "18/18 [==============================] - 0s 4ms/step - loss: 0.4493 - acc: 0.7739\n",
            "Epoch 9/100\n",
            "18/18 [==============================] - 0s 4ms/step - loss: 0.4445 - acc: 0.7843\n",
            "Epoch 10/100\n",
            "18/18 [==============================] - 0s 4ms/step - loss: 0.4421 - acc: 0.7843\n",
            "Epoch 11/100\n",
            "18/18 [==============================] - 0s 4ms/step - loss: 0.4379 - acc: 0.7809\n",
            "Epoch 12/100\n",
            "18/18 [==============================] - 0s 4ms/step - loss: 0.4328 - acc: 0.7843\n",
            "Epoch 13/100\n",
            "18/18 [==============================] - 0s 4ms/step - loss: 0.4305 - acc: 0.7861\n",
            "Epoch 14/100\n",
            "18/18 [==============================] - 0s 4ms/step - loss: 0.4278 - acc: 0.7896\n",
            "Epoch 15/100\n",
            "18/18 [==============================] - 0s 4ms/step - loss: 0.4259 - acc: 0.7843\n",
            "Epoch 16/100\n",
            "18/18 [==============================] - 0s 4ms/step - loss: 0.4233 - acc: 0.7913\n",
            "Epoch 17/100\n",
            "18/18 [==============================] - 0s 4ms/step - loss: 0.4206 - acc: 0.8000\n",
            "Epoch 18/100\n",
            "18/18 [==============================] - 0s 5ms/step - loss: 0.4192 - acc: 0.7930\n",
            "Epoch 19/100\n",
            "18/18 [==============================] - 0s 4ms/step - loss: 0.4161 - acc: 0.7930\n",
            "Epoch 20/100\n",
            "18/18 [==============================] - 0s 4ms/step - loss: 0.4157 - acc: 0.7948\n",
            "Epoch 21/100\n",
            "18/18 [==============================] - 0s 4ms/step - loss: 0.4130 - acc: 0.8087\n",
            "Epoch 22/100\n",
            "18/18 [==============================] - 0s 4ms/step - loss: 0.4102 - acc: 0.8104\n",
            "Epoch 23/100\n",
            "18/18 [==============================] - 0s 4ms/step - loss: 0.4101 - acc: 0.8122\n",
            "Epoch 24/100\n",
            "18/18 [==============================] - 0s 5ms/step - loss: 0.4072 - acc: 0.8087\n",
            "Epoch 25/100\n",
            "18/18 [==============================] - 0s 5ms/step - loss: 0.4049 - acc: 0.8070\n",
            "Epoch 26/100\n",
            "18/18 [==============================] - 0s 4ms/step - loss: 0.4034 - acc: 0.8052\n",
            "Epoch 27/100\n",
            "18/18 [==============================] - 0s 4ms/step - loss: 0.4020 - acc: 0.8139\n",
            "Epoch 28/100\n",
            "18/18 [==============================] - 0s 5ms/step - loss: 0.3990 - acc: 0.8104\n",
            "Epoch 29/100\n",
            "18/18 [==============================] - 0s 4ms/step - loss: 0.3966 - acc: 0.8157\n",
            "Epoch 30/100\n",
            "18/18 [==============================] - 0s 5ms/step - loss: 0.3958 - acc: 0.8261\n",
            "Epoch 31/100\n",
            "18/18 [==============================] - 0s 4ms/step - loss: 0.3939 - acc: 0.8209\n",
            "Epoch 32/100\n",
            "18/18 [==============================] - 0s 4ms/step - loss: 0.3921 - acc: 0.8209\n",
            "Epoch 33/100\n",
            "18/18 [==============================] - 0s 5ms/step - loss: 0.3918 - acc: 0.8261\n",
            "Epoch 34/100\n",
            "18/18 [==============================] - 0s 4ms/step - loss: 0.3888 - acc: 0.8243\n",
            "Epoch 35/100\n",
            "18/18 [==============================] - 0s 4ms/step - loss: 0.3873 - acc: 0.8313\n",
            "Epoch 36/100\n",
            "18/18 [==============================] - 0s 4ms/step - loss: 0.3843 - acc: 0.8261\n",
            "Epoch 37/100\n",
            "18/18 [==============================] - 0s 4ms/step - loss: 0.3829 - acc: 0.8296\n",
            "Epoch 38/100\n",
            "18/18 [==============================] - 0s 5ms/step - loss: 0.3802 - acc: 0.8296\n",
            "Epoch 39/100\n",
            "18/18 [==============================] - 0s 4ms/step - loss: 0.3800 - acc: 0.8209\n",
            "Epoch 40/100\n",
            "18/18 [==============================] - 0s 5ms/step - loss: 0.3779 - acc: 0.8383\n",
            "Epoch 41/100\n",
            "18/18 [==============================] - 0s 5ms/step - loss: 0.3759 - acc: 0.8400\n",
            "Epoch 42/100\n",
            "18/18 [==============================] - 0s 5ms/step - loss: 0.3734 - acc: 0.8348\n",
            "Epoch 43/100\n",
            "18/18 [==============================] - 0s 4ms/step - loss: 0.3722 - acc: 0.8348\n",
            "Epoch 44/100\n",
            "18/18 [==============================] - 0s 4ms/step - loss: 0.3704 - acc: 0.8330\n",
            "Epoch 45/100\n",
            "18/18 [==============================] - 0s 4ms/step - loss: 0.3670 - acc: 0.8400\n",
            "Epoch 46/100\n",
            "18/18 [==============================] - 0s 4ms/step - loss: 0.3659 - acc: 0.8330\n",
            "Epoch 47/100\n",
            "18/18 [==============================] - 0s 4ms/step - loss: 0.3643 - acc: 0.8313\n",
            "Epoch 48/100\n",
            "18/18 [==============================] - 0s 4ms/step - loss: 0.3625 - acc: 0.8400\n",
            "Epoch 49/100\n",
            "18/18 [==============================] - 0s 5ms/step - loss: 0.3586 - acc: 0.8452\n",
            "Epoch 50/100\n",
            "18/18 [==============================] - 0s 4ms/step - loss: 0.3589 - acc: 0.8348\n",
            "Epoch 51/100\n",
            "18/18 [==============================] - 0s 4ms/step - loss: 0.3578 - acc: 0.8400\n",
            "Epoch 52/100\n",
            "18/18 [==============================] - 0s 5ms/step - loss: 0.3589 - acc: 0.8435\n",
            "Epoch 53/100\n",
            "18/18 [==============================] - 0s 4ms/step - loss: 0.3557 - acc: 0.8383\n",
            "Epoch 54/100\n",
            "18/18 [==============================] - 0s 4ms/step - loss: 0.3515 - acc: 0.8504\n",
            "Epoch 55/100\n",
            "18/18 [==============================] - 0s 4ms/step - loss: 0.3508 - acc: 0.8470\n",
            "Epoch 56/100\n",
            "18/18 [==============================] - 0s 4ms/step - loss: 0.3484 - acc: 0.8557\n",
            "Epoch 57/100\n",
            "18/18 [==============================] - 0s 5ms/step - loss: 0.3452 - acc: 0.8470\n",
            "Epoch 58/100\n",
            "18/18 [==============================] - 0s 4ms/step - loss: 0.3452 - acc: 0.8504\n",
            "Epoch 59/100\n",
            "18/18 [==============================] - 0s 4ms/step - loss: 0.3415 - acc: 0.8557\n",
            "Epoch 60/100\n",
            "18/18 [==============================] - 0s 5ms/step - loss: 0.3425 - acc: 0.8487\n",
            "Epoch 61/100\n",
            "18/18 [==============================] - 0s 5ms/step - loss: 0.3382 - acc: 0.8539\n",
            "Epoch 62/100\n",
            "18/18 [==============================] - 0s 4ms/step - loss: 0.3377 - acc: 0.8504\n",
            "Epoch 63/100\n",
            "18/18 [==============================] - 0s 5ms/step - loss: 0.3369 - acc: 0.8522\n",
            "Epoch 64/100\n",
            "18/18 [==============================] - 0s 4ms/step - loss: 0.3325 - acc: 0.8522\n",
            "Epoch 65/100\n",
            "18/18 [==============================] - 0s 5ms/step - loss: 0.3319 - acc: 0.8504\n",
            "Epoch 66/100\n",
            "18/18 [==============================] - 0s 5ms/step - loss: 0.3295 - acc: 0.8539\n",
            "Epoch 67/100\n",
            "18/18 [==============================] - 0s 5ms/step - loss: 0.3310 - acc: 0.8522\n",
            "Epoch 68/100\n",
            "18/18 [==============================] - 0s 5ms/step - loss: 0.3263 - acc: 0.8557\n",
            "Epoch 69/100\n",
            "18/18 [==============================] - 0s 4ms/step - loss: 0.3259 - acc: 0.8522\n",
            "Epoch 70/100\n",
            "18/18 [==============================] - 0s 4ms/step - loss: 0.3216 - acc: 0.8626\n",
            "Epoch 71/100\n",
            "18/18 [==============================] - 0s 4ms/step - loss: 0.3234 - acc: 0.8539\n",
            "Epoch 72/100\n",
            "18/18 [==============================] - 0s 5ms/step - loss: 0.3190 - acc: 0.8643\n",
            "Epoch 73/100\n",
            "18/18 [==============================] - 0s 5ms/step - loss: 0.3185 - acc: 0.8678\n",
            "Epoch 74/100\n",
            "18/18 [==============================] - 0s 4ms/step - loss: 0.3145 - acc: 0.8661\n",
            "Epoch 75/100\n",
            "18/18 [==============================] - 0s 4ms/step - loss: 0.3118 - acc: 0.8713\n",
            "Epoch 76/100\n",
            "18/18 [==============================] - 0s 5ms/step - loss: 0.3115 - acc: 0.8678\n",
            "Epoch 77/100\n",
            "18/18 [==============================] - 0s 4ms/step - loss: 0.3081 - acc: 0.8696\n",
            "Epoch 78/100\n",
            "18/18 [==============================] - 0s 5ms/step - loss: 0.3105 - acc: 0.8626\n",
            "Epoch 79/100\n",
            "18/18 [==============================] - 0s 5ms/step - loss: 0.3051 - acc: 0.8730\n",
            "Epoch 80/100\n",
            "18/18 [==============================] - 0s 4ms/step - loss: 0.3026 - acc: 0.8696\n",
            "Epoch 81/100\n",
            "18/18 [==============================] - 0s 4ms/step - loss: 0.3020 - acc: 0.8730\n",
            "Epoch 82/100\n",
            "18/18 [==============================] - 0s 5ms/step - loss: 0.3005 - acc: 0.8678\n",
            "Epoch 83/100\n",
            "18/18 [==============================] - 0s 4ms/step - loss: 0.2997 - acc: 0.8713\n",
            "Epoch 84/100\n",
            "18/18 [==============================] - 0s 4ms/step - loss: 0.2959 - acc: 0.8730\n",
            "Epoch 85/100\n",
            "18/18 [==============================] - 0s 5ms/step - loss: 0.2965 - acc: 0.8696\n",
            "Epoch 86/100\n",
            "18/18 [==============================] - 0s 4ms/step - loss: 0.2948 - acc: 0.8783\n",
            "Epoch 87/100\n",
            "18/18 [==============================] - 0s 5ms/step - loss: 0.2912 - acc: 0.8800\n",
            "Epoch 88/100\n",
            "18/18 [==============================] - 0s 5ms/step - loss: 0.2881 - acc: 0.8817\n",
            "Epoch 89/100\n",
            "18/18 [==============================] - 0s 5ms/step - loss: 0.2882 - acc: 0.8817\n",
            "Epoch 90/100\n",
            "18/18 [==============================] - 0s 4ms/step - loss: 0.2868 - acc: 0.8800\n",
            "Epoch 91/100\n",
            "18/18 [==============================] - 0s 4ms/step - loss: 0.2830 - acc: 0.8870\n",
            "Epoch 92/100\n",
            "18/18 [==============================] - 0s 5ms/step - loss: 0.2857 - acc: 0.8783\n",
            "Epoch 93/100\n",
            "18/18 [==============================] - 0s 4ms/step - loss: 0.2825 - acc: 0.8765\n",
            "Epoch 94/100\n",
            "18/18 [==============================] - 0s 5ms/step - loss: 0.2785 - acc: 0.8800\n",
            "Epoch 95/100\n",
            "18/18 [==============================] - 0s 4ms/step - loss: 0.2805 - acc: 0.8748\n",
            "Epoch 96/100\n",
            "18/18 [==============================] - 0s 5ms/step - loss: 0.2747 - acc: 0.8870\n",
            "Epoch 97/100\n",
            "18/18 [==============================] - 0s 4ms/step - loss: 0.2734 - acc: 0.8852\n",
            "Epoch 98/100\n",
            "18/18 [==============================] - 0s 4ms/step - loss: 0.2729 - acc: 0.8870\n",
            "Epoch 99/100\n",
            "18/18 [==============================] - 0s 4ms/step - loss: 0.2691 - acc: 0.8922\n",
            "Epoch 100/100\n",
            "18/18 [==============================] - 0s 5ms/step - loss: 0.2685 - acc: 0.8904\n"
          ]
        }
      ]
    },
    {
      "cell_type": "code",
      "source": [
        "# Find the accuracy and loss of the scaled model\n",
        "scores3 = model3.evaluate(scaled_X_test, Y_test)"
      ],
      "metadata": {
        "colab": {
          "base_uri": "https://localhost:8080/"
        },
        "id": "m5bV7nZ_7U1u",
        "outputId": "a54181f3-4eda-4034-8ee2-fd40a845abd8"
      },
      "execution_count": null,
      "outputs": [
        {
          "output_type": "stream",
          "name": "stdout",
          "text": [
            "6/6 [==============================] - 0s 6ms/step - loss: 0.5369 - acc: 0.7656\n"
          ]
        }
      ]
    },
    {
      "cell_type": "code",
      "source": [
        "# Present the scores found\n",
        "print(scores3)"
      ],
      "metadata": {
        "colab": {
          "base_uri": "https://localhost:8080/"
        },
        "id": "_RtAsamC7e0a",
        "outputId": "c6035e89-eb1b-44bc-d379-a0e13605edae"
      },
      "execution_count": null,
      "outputs": [
        {
          "output_type": "stream",
          "name": "stdout",
          "text": [
            "[0.5368731617927551, 0.765625]\n"
          ]
        }
      ]
    },
    {
      "cell_type": "markdown",
      "source": [
        "Compared to the original accuracy and loss, the scaled data has better accuracy and has a similar loss score."
      ],
      "metadata": {
        "id": "IRtV6jQx717b"
      }
    }
  ]
}