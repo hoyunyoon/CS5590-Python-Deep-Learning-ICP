{
  "cells": [
    {
      "cell_type": "code",
      "execution_count": null,
      "id": "16671985",
      "metadata": {
        "id": "16671985"
      },
      "outputs": [],
      "source": [
        "# importing libraries\n",
        "from keras.models import Sequential\n",
        "from keras.layers.core import Dense, Activation\n",
        "from sklearn.preprocessing import LabelEncoder\n",
        "import tensorflow as tf\n",
        "from tensorflow import keras\n",
        "from tensorflow.keras import layers\n",
        "\n",
        "# load dataset\n",
        "from sklearn.model_selection import train_test_split\n",
        "import pandas as pd\n",
        "import numpy as np"
      ]
    },
    {
      "cell_type": "code",
      "execution_count": null,
      "id": "d5495854",
      "metadata": {
        "colab": {
          "base_uri": "https://localhost:8080/"
        },
        "id": "d5495854",
        "outputId": "a15c53ae-6603-46d3-aece-b747ff5b5f7c"
      },
      "outputs": [
        {
          "output_type": "stream",
          "name": "stdout",
          "text": [
            "2.8.0\n"
          ]
        }
      ],
      "source": [
        "print(tf.__version__)"
      ]
    },
    {
      "cell_type": "code",
      "execution_count": null,
      "id": "8a2116fa",
      "metadata": {
        "id": "8a2116fa"
      },
      "outputs": [],
      "source": [
        "dataset = pd.read_csv(\"Breast Cancer.csv\")"
      ]
    },
    {
      "cell_type": "code",
      "execution_count": null,
      "id": "edb5f15a",
      "metadata": {
        "colab": {
          "base_uri": "https://localhost:8080/",
          "height": 317
        },
        "id": "edb5f15a",
        "outputId": "ac1313cc-304e-40a1-9e6d-89033d1d9245",
        "scrolled": true
      },
      "outputs": [
        {
          "output_type": "execute_result",
          "data": {
            "text/plain": [
              "         id diagnosis  radius_mean  texture_mean  perimeter_mean  area_mean  \\\n",
              "0    842302         M        17.99         10.38          122.80     1001.0   \n",
              "1    842517         M        20.57         17.77          132.90     1326.0   \n",
              "2  84300903         M        19.69         21.25          130.00     1203.0   \n",
              "3  84348301         M        11.42         20.38           77.58      386.1   \n",
              "4  84358402         M        20.29         14.34          135.10     1297.0   \n",
              "\n",
              "   smoothness_mean  compactness_mean  concavity_mean  concave points_mean  \\\n",
              "0          0.11840           0.27760          0.3001              0.14710   \n",
              "1          0.08474           0.07864          0.0869              0.07017   \n",
              "2          0.10960           0.15990          0.1974              0.12790   \n",
              "3          0.14250           0.28390          0.2414              0.10520   \n",
              "4          0.10030           0.13280          0.1980              0.10430   \n",
              "\n",
              "   ...  texture_worst  perimeter_worst  area_worst  smoothness_worst  \\\n",
              "0  ...          17.33           184.60      2019.0            0.1622   \n",
              "1  ...          23.41           158.80      1956.0            0.1238   \n",
              "2  ...          25.53           152.50      1709.0            0.1444   \n",
              "3  ...          26.50            98.87       567.7            0.2098   \n",
              "4  ...          16.67           152.20      1575.0            0.1374   \n",
              "\n",
              "   compactness_worst  concavity_worst  concave points_worst  symmetry_worst  \\\n",
              "0             0.6656           0.7119                0.2654          0.4601   \n",
              "1             0.1866           0.2416                0.1860          0.2750   \n",
              "2             0.4245           0.4504                0.2430          0.3613   \n",
              "3             0.8663           0.6869                0.2575          0.6638   \n",
              "4             0.2050           0.4000                0.1625          0.2364   \n",
              "\n",
              "   fractal_dimension_worst  Unnamed: 32  \n",
              "0                  0.11890          NaN  \n",
              "1                  0.08902          NaN  \n",
              "2                  0.08758          NaN  \n",
              "3                  0.17300          NaN  \n",
              "4                  0.07678          NaN  \n",
              "\n",
              "[5 rows x 33 columns]"
            ],
            "text/html": [
              "\n",
              "  <div id=\"df-a7374bf0-ac11-4123-8901-ecb5da6a1d42\">\n",
              "    <div class=\"colab-df-container\">\n",
              "      <div>\n",
              "<style scoped>\n",
              "    .dataframe tbody tr th:only-of-type {\n",
              "        vertical-align: middle;\n",
              "    }\n",
              "\n",
              "    .dataframe tbody tr th {\n",
              "        vertical-align: top;\n",
              "    }\n",
              "\n",
              "    .dataframe thead th {\n",
              "        text-align: right;\n",
              "    }\n",
              "</style>\n",
              "<table border=\"1\" class=\"dataframe\">\n",
              "  <thead>\n",
              "    <tr style=\"text-align: right;\">\n",
              "      <th></th>\n",
              "      <th>id</th>\n",
              "      <th>diagnosis</th>\n",
              "      <th>radius_mean</th>\n",
              "      <th>texture_mean</th>\n",
              "      <th>perimeter_mean</th>\n",
              "      <th>area_mean</th>\n",
              "      <th>smoothness_mean</th>\n",
              "      <th>compactness_mean</th>\n",
              "      <th>concavity_mean</th>\n",
              "      <th>concave points_mean</th>\n",
              "      <th>...</th>\n",
              "      <th>texture_worst</th>\n",
              "      <th>perimeter_worst</th>\n",
              "      <th>area_worst</th>\n",
              "      <th>smoothness_worst</th>\n",
              "      <th>compactness_worst</th>\n",
              "      <th>concavity_worst</th>\n",
              "      <th>concave points_worst</th>\n",
              "      <th>symmetry_worst</th>\n",
              "      <th>fractal_dimension_worst</th>\n",
              "      <th>Unnamed: 32</th>\n",
              "    </tr>\n",
              "  </thead>\n",
              "  <tbody>\n",
              "    <tr>\n",
              "      <th>0</th>\n",
              "      <td>842302</td>\n",
              "      <td>M</td>\n",
              "      <td>17.99</td>\n",
              "      <td>10.38</td>\n",
              "      <td>122.80</td>\n",
              "      <td>1001.0</td>\n",
              "      <td>0.11840</td>\n",
              "      <td>0.27760</td>\n",
              "      <td>0.3001</td>\n",
              "      <td>0.14710</td>\n",
              "      <td>...</td>\n",
              "      <td>17.33</td>\n",
              "      <td>184.60</td>\n",
              "      <td>2019.0</td>\n",
              "      <td>0.1622</td>\n",
              "      <td>0.6656</td>\n",
              "      <td>0.7119</td>\n",
              "      <td>0.2654</td>\n",
              "      <td>0.4601</td>\n",
              "      <td>0.11890</td>\n",
              "      <td>NaN</td>\n",
              "    </tr>\n",
              "    <tr>\n",
              "      <th>1</th>\n",
              "      <td>842517</td>\n",
              "      <td>M</td>\n",
              "      <td>20.57</td>\n",
              "      <td>17.77</td>\n",
              "      <td>132.90</td>\n",
              "      <td>1326.0</td>\n",
              "      <td>0.08474</td>\n",
              "      <td>0.07864</td>\n",
              "      <td>0.0869</td>\n",
              "      <td>0.07017</td>\n",
              "      <td>...</td>\n",
              "      <td>23.41</td>\n",
              "      <td>158.80</td>\n",
              "      <td>1956.0</td>\n",
              "      <td>0.1238</td>\n",
              "      <td>0.1866</td>\n",
              "      <td>0.2416</td>\n",
              "      <td>0.1860</td>\n",
              "      <td>0.2750</td>\n",
              "      <td>0.08902</td>\n",
              "      <td>NaN</td>\n",
              "    </tr>\n",
              "    <tr>\n",
              "      <th>2</th>\n",
              "      <td>84300903</td>\n",
              "      <td>M</td>\n",
              "      <td>19.69</td>\n",
              "      <td>21.25</td>\n",
              "      <td>130.00</td>\n",
              "      <td>1203.0</td>\n",
              "      <td>0.10960</td>\n",
              "      <td>0.15990</td>\n",
              "      <td>0.1974</td>\n",
              "      <td>0.12790</td>\n",
              "      <td>...</td>\n",
              "      <td>25.53</td>\n",
              "      <td>152.50</td>\n",
              "      <td>1709.0</td>\n",
              "      <td>0.1444</td>\n",
              "      <td>0.4245</td>\n",
              "      <td>0.4504</td>\n",
              "      <td>0.2430</td>\n",
              "      <td>0.3613</td>\n",
              "      <td>0.08758</td>\n",
              "      <td>NaN</td>\n",
              "    </tr>\n",
              "    <tr>\n",
              "      <th>3</th>\n",
              "      <td>84348301</td>\n",
              "      <td>M</td>\n",
              "      <td>11.42</td>\n",
              "      <td>20.38</td>\n",
              "      <td>77.58</td>\n",
              "      <td>386.1</td>\n",
              "      <td>0.14250</td>\n",
              "      <td>0.28390</td>\n",
              "      <td>0.2414</td>\n",
              "      <td>0.10520</td>\n",
              "      <td>...</td>\n",
              "      <td>26.50</td>\n",
              "      <td>98.87</td>\n",
              "      <td>567.7</td>\n",
              "      <td>0.2098</td>\n",
              "      <td>0.8663</td>\n",
              "      <td>0.6869</td>\n",
              "      <td>0.2575</td>\n",
              "      <td>0.6638</td>\n",
              "      <td>0.17300</td>\n",
              "      <td>NaN</td>\n",
              "    </tr>\n",
              "    <tr>\n",
              "      <th>4</th>\n",
              "      <td>84358402</td>\n",
              "      <td>M</td>\n",
              "      <td>20.29</td>\n",
              "      <td>14.34</td>\n",
              "      <td>135.10</td>\n",
              "      <td>1297.0</td>\n",
              "      <td>0.10030</td>\n",
              "      <td>0.13280</td>\n",
              "      <td>0.1980</td>\n",
              "      <td>0.10430</td>\n",
              "      <td>...</td>\n",
              "      <td>16.67</td>\n",
              "      <td>152.20</td>\n",
              "      <td>1575.0</td>\n",
              "      <td>0.1374</td>\n",
              "      <td>0.2050</td>\n",
              "      <td>0.4000</td>\n",
              "      <td>0.1625</td>\n",
              "      <td>0.2364</td>\n",
              "      <td>0.07678</td>\n",
              "      <td>NaN</td>\n",
              "    </tr>\n",
              "  </tbody>\n",
              "</table>\n",
              "<p>5 rows × 33 columns</p>\n",
              "</div>\n",
              "      <button class=\"colab-df-convert\" onclick=\"convertToInteractive('df-a7374bf0-ac11-4123-8901-ecb5da6a1d42')\"\n",
              "              title=\"Convert this dataframe to an interactive table.\"\n",
              "              style=\"display:none;\">\n",
              "        \n",
              "  <svg xmlns=\"http://www.w3.org/2000/svg\" height=\"24px\"viewBox=\"0 0 24 24\"\n",
              "       width=\"24px\">\n",
              "    <path d=\"M0 0h24v24H0V0z\" fill=\"none\"/>\n",
              "    <path d=\"M18.56 5.44l.94 2.06.94-2.06 2.06-.94-2.06-.94-.94-2.06-.94 2.06-2.06.94zm-11 1L8.5 8.5l.94-2.06 2.06-.94-2.06-.94L8.5 2.5l-.94 2.06-2.06.94zm10 10l.94 2.06.94-2.06 2.06-.94-2.06-.94-.94-2.06-.94 2.06-2.06.94z\"/><path d=\"M17.41 7.96l-1.37-1.37c-.4-.4-.92-.59-1.43-.59-.52 0-1.04.2-1.43.59L10.3 9.45l-7.72 7.72c-.78.78-.78 2.05 0 2.83L4 21.41c.39.39.9.59 1.41.59.51 0 1.02-.2 1.41-.59l7.78-7.78 2.81-2.81c.8-.78.8-2.07 0-2.86zM5.41 20L4 18.59l7.72-7.72 1.47 1.35L5.41 20z\"/>\n",
              "  </svg>\n",
              "      </button>\n",
              "      \n",
              "  <style>\n",
              "    .colab-df-container {\n",
              "      display:flex;\n",
              "      flex-wrap:wrap;\n",
              "      gap: 12px;\n",
              "    }\n",
              "\n",
              "    .colab-df-convert {\n",
              "      background-color: #E8F0FE;\n",
              "      border: none;\n",
              "      border-radius: 50%;\n",
              "      cursor: pointer;\n",
              "      display: none;\n",
              "      fill: #1967D2;\n",
              "      height: 32px;\n",
              "      padding: 0 0 0 0;\n",
              "      width: 32px;\n",
              "    }\n",
              "\n",
              "    .colab-df-convert:hover {\n",
              "      background-color: #E2EBFA;\n",
              "      box-shadow: 0px 1px 2px rgba(60, 64, 67, 0.3), 0px 1px 3px 1px rgba(60, 64, 67, 0.15);\n",
              "      fill: #174EA6;\n",
              "    }\n",
              "\n",
              "    [theme=dark] .colab-df-convert {\n",
              "      background-color: #3B4455;\n",
              "      fill: #D2E3FC;\n",
              "    }\n",
              "\n",
              "    [theme=dark] .colab-df-convert:hover {\n",
              "      background-color: #434B5C;\n",
              "      box-shadow: 0px 1px 3px 1px rgba(0, 0, 0, 0.15);\n",
              "      filter: drop-shadow(0px 1px 2px rgba(0, 0, 0, 0.3));\n",
              "      fill: #FFFFFF;\n",
              "    }\n",
              "  </style>\n",
              "\n",
              "      <script>\n",
              "        const buttonEl =\n",
              "          document.querySelector('#df-a7374bf0-ac11-4123-8901-ecb5da6a1d42 button.colab-df-convert');\n",
              "        buttonEl.style.display =\n",
              "          google.colab.kernel.accessAllowed ? 'block' : 'none';\n",
              "\n",
              "        async function convertToInteractive(key) {\n",
              "          const element = document.querySelector('#df-a7374bf0-ac11-4123-8901-ecb5da6a1d42');\n",
              "          const dataTable =\n",
              "            await google.colab.kernel.invokeFunction('convertToInteractive',\n",
              "                                                     [key], {});\n",
              "          if (!dataTable) return;\n",
              "\n",
              "          const docLinkHtml = 'Like what you see? Visit the ' +\n",
              "            '<a target=\"_blank\" href=https://colab.research.google.com/notebooks/data_table.ipynb>data table notebook</a>'\n",
              "            + ' to learn more about interactive tables.';\n",
              "          element.innerHTML = '';\n",
              "          dataTable['output_type'] = 'display_data';\n",
              "          await google.colab.output.renderOutput(dataTable, element);\n",
              "          const docLink = document.createElement('div');\n",
              "          docLink.innerHTML = docLinkHtml;\n",
              "          element.appendChild(docLink);\n",
              "        }\n",
              "      </script>\n",
              "    </div>\n",
              "  </div>\n",
              "  "
            ]
          },
          "metadata": {},
          "execution_count": 4
        }
      ],
      "source": [
        "dataset.head()"
      ]
    },
    {
      "cell_type": "code",
      "execution_count": null,
      "id": "2181f216",
      "metadata": {
        "colab": {
          "base_uri": "https://localhost:8080/"
        },
        "id": "2181f216",
        "outputId": "43b37585-57d8-4cd8-c4c6-c657f35b5b42"
      },
      "outputs": [
        {
          "output_type": "execute_result",
          "data": {
            "text/plain": [
              "pandas.core.frame.DataFrame"
            ]
          },
          "metadata": {},
          "execution_count": 5
        }
      ],
      "source": [
        "type(dataset)"
      ]
    },
    {
      "cell_type": "code",
      "execution_count": null,
      "id": "efe74da9",
      "metadata": {
        "colab": {
          "base_uri": "https://localhost:8080/"
        },
        "id": "efe74da9",
        "outputId": "2ba624b0-9a46-47e6-eb06-4f881146d675"
      },
      "outputs": [
        {
          "output_type": "execute_result",
          "data": {
            "text/plain": [
              "(569, 33)"
            ]
          },
          "metadata": {},
          "execution_count": 6
        }
      ],
      "source": [
        "dataset.shape"
      ]
    },
    {
      "cell_type": "code",
      "execution_count": null,
      "id": "98212e0f",
      "metadata": {
        "id": "98212e0f"
      },
      "outputs": [],
      "source": [
        "#Extract features from the dataset\n",
        "X = dataset.iloc[:, 2:32].values\n",
        "y = dataset.iloc[:, 1].values"
      ]
    },
    {
      "cell_type": "code",
      "execution_count": null,
      "id": "2fe5a549",
      "metadata": {
        "colab": {
          "base_uri": "https://localhost:8080/"
        },
        "id": "2fe5a549",
        "outputId": "cb129443-0165-4574-bb26-03621d3f8b58"
      },
      "outputs": [
        {
          "output_type": "stream",
          "name": "stdout",
          "text": [
            "B    357\n",
            "M    212\n",
            "Name: diagnosis, dtype: int64\n"
          ]
        }
      ],
      "source": [
        "print(dataset.iloc[:, 1].value_counts())"
      ]
    },
    {
      "cell_type": "code",
      "execution_count": null,
      "id": "5ce2ed17",
      "metadata": {
        "id": "5ce2ed17"
      },
      "outputs": [],
      "source": [
        "#Encode data\n",
        "lb_enc = LabelEncoder()\n",
        "\n",
        "#Fit transform the y data with the encoder\n",
        "y = lb_enc.fit_transform(y)"
      ]
    },
    {
      "cell_type": "code",
      "execution_count": null,
      "id": "b0c9a56a",
      "metadata": {
        "id": "b0c9a56a"
      },
      "outputs": [],
      "source": [
        "#Split the data into training and testing\n",
        "X_train, X_test, y_train, y_test = train_test_split(X, y,test_size=0.25, random_state=0)"
      ]
    },
    {
      "cell_type": "code",
      "source": [
        "#implementing the model\n",
        "my_first_nn = Sequential() # create model\n",
        "\n",
        "my_first_nn.add(layers.Dense(32, input_dim=30, activation='relu')) # Input layer\n",
        "\n",
        "my_first_nn.add(layers.Dense(64, activation='relu')) # hidden layer\n",
        "my_first_nn.add(layers.Dense(128, activation='relu')) # hidden layer\n",
        "\n",
        "my_first_nn.add(Dense(1, activation='sigmoid')) # output layer\n",
        "\n",
        "\n",
        "my_first_nn.compile(loss='binary_crossentropy', optimizer='adam', metrics=['acc'])\n",
        "\n",
        "my_first_nn.summary()"
      ],
      "metadata": {
        "colab": {
          "base_uri": "https://localhost:8080/"
        },
        "id": "uxCmxiCSSlkR",
        "outputId": "4bb61267-5d49-4beb-b4c4-a39419da387d"
      },
      "id": "uxCmxiCSSlkR",
      "execution_count": null,
      "outputs": [
        {
          "output_type": "stream",
          "name": "stdout",
          "text": [
            "Model: \"sequential\"\n",
            "_________________________________________________________________\n",
            " Layer (type)                Output Shape              Param #   \n",
            "=================================================================\n",
            " dense (Dense)               (None, 32)                992       \n",
            "                                                                 \n",
            " dense_1 (Dense)             (None, 64)                2112      \n",
            "                                                                 \n",
            " dense_2 (Dense)             (None, 128)               8320      \n",
            "                                                                 \n",
            " dense_3 (Dense)             (None, 1)                 129       \n",
            "                                                                 \n",
            "=================================================================\n",
            "Total params: 11,553\n",
            "Trainable params: 11,553\n",
            "Non-trainable params: 0\n",
            "_________________________________________________________________\n"
          ]
        }
      ]
    },
    {
      "cell_type": "code",
      "source": [
        "my_first_nn_fitted = my_first_nn.fit(X_train, y_train, epochs=100)"
      ],
      "metadata": {
        "colab": {
          "base_uri": "https://localhost:8080/"
        },
        "id": "wLU3bfBgSnYs",
        "outputId": "b0631fdb-5893-4a14-c867-fe9656904304"
      },
      "id": "wLU3bfBgSnYs",
      "execution_count": null,
      "outputs": [
        {
          "output_type": "stream",
          "name": "stdout",
          "text": [
            "Epoch 1/100\n",
            "14/14 [==============================] - 1s 2ms/step - loss: 6.4194 - acc: 0.5751\n",
            "Epoch 2/100\n",
            "14/14 [==============================] - 0s 2ms/step - loss: 2.0321 - acc: 0.7207\n",
            "Epoch 3/100\n",
            "14/14 [==============================] - 0s 2ms/step - loss: 0.8008 - acc: 0.8545\n",
            "Epoch 4/100\n",
            "14/14 [==============================] - 0s 2ms/step - loss: 0.5214 - acc: 0.8732\n",
            "Epoch 5/100\n",
            "14/14 [==============================] - 0s 3ms/step - loss: 0.5842 - acc: 0.7700\n",
            "Epoch 6/100\n",
            "14/14 [==============================] - 0s 2ms/step - loss: 0.4439 - acc: 0.8427\n",
            "Epoch 7/100\n",
            "14/14 [==============================] - 0s 3ms/step - loss: 0.2414 - acc: 0.9085\n",
            "Epoch 8/100\n",
            "14/14 [==============================] - 0s 2ms/step - loss: 0.3508 - acc: 0.8803\n",
            "Epoch 9/100\n",
            "14/14 [==============================] - 0s 2ms/step - loss: 0.4716 - acc: 0.8732\n",
            "Epoch 10/100\n",
            "14/14 [==============================] - 0s 3ms/step - loss: 0.3817 - acc: 0.8709\n",
            "Epoch 11/100\n",
            "14/14 [==============================] - 0s 3ms/step - loss: 0.3094 - acc: 0.9038\n",
            "Epoch 12/100\n",
            "14/14 [==============================] - 0s 3ms/step - loss: 0.2466 - acc: 0.9108\n",
            "Epoch 13/100\n",
            "14/14 [==============================] - 0s 2ms/step - loss: 0.3672 - acc: 0.8685\n",
            "Epoch 14/100\n",
            "14/14 [==============================] - 0s 3ms/step - loss: 0.5880 - acc: 0.8263\n",
            "Epoch 15/100\n",
            "14/14 [==============================] - 0s 3ms/step - loss: 1.0540 - acc: 0.7981\n",
            "Epoch 16/100\n",
            "14/14 [==============================] - 0s 2ms/step - loss: 0.4323 - acc: 0.8826\n",
            "Epoch 17/100\n",
            "14/14 [==============================] - 0s 2ms/step - loss: 0.4033 - acc: 0.8897\n",
            "Epoch 18/100\n",
            "14/14 [==============================] - 0s 3ms/step - loss: 0.3313 - acc: 0.8991\n",
            "Epoch 19/100\n",
            "14/14 [==============================] - 0s 3ms/step - loss: 0.2706 - acc: 0.9061\n",
            "Epoch 20/100\n",
            "14/14 [==============================] - 0s 2ms/step - loss: 0.4540 - acc: 0.8803\n",
            "Epoch 21/100\n",
            "14/14 [==============================] - 0s 3ms/step - loss: 0.2088 - acc: 0.9249\n",
            "Epoch 22/100\n",
            "14/14 [==============================] - 0s 2ms/step - loss: 0.2581 - acc: 0.8944\n",
            "Epoch 23/100\n",
            "14/14 [==============================] - 0s 3ms/step - loss: 0.4019 - acc: 0.8732\n",
            "Epoch 24/100\n",
            "14/14 [==============================] - 0s 2ms/step - loss: 0.6265 - acc: 0.8263\n",
            "Epoch 25/100\n",
            "14/14 [==============================] - 0s 2ms/step - loss: 0.9396 - acc: 0.8005\n",
            "Epoch 26/100\n",
            "14/14 [==============================] - 0s 3ms/step - loss: 0.4679 - acc: 0.8920\n",
            "Epoch 27/100\n",
            "14/14 [==============================] - 0s 2ms/step - loss: 0.2748 - acc: 0.9085\n",
            "Epoch 28/100\n",
            "14/14 [==============================] - 0s 2ms/step - loss: 0.4343 - acc: 0.8897\n",
            "Epoch 29/100\n",
            "14/14 [==============================] - 0s 2ms/step - loss: 0.3265 - acc: 0.9155\n",
            "Epoch 30/100\n",
            "14/14 [==============================] - 0s 2ms/step - loss: 0.4803 - acc: 0.8662\n",
            "Epoch 31/100\n",
            "14/14 [==============================] - 0s 2ms/step - loss: 0.3692 - acc: 0.9061\n",
            "Epoch 32/100\n",
            "14/14 [==============================] - 0s 3ms/step - loss: 0.3129 - acc: 0.9085\n",
            "Epoch 33/100\n",
            "14/14 [==============================] - 0s 2ms/step - loss: 0.9634 - acc: 0.8005\n",
            "Epoch 34/100\n",
            "14/14 [==============================] - 0s 2ms/step - loss: 0.8556 - acc: 0.8286\n",
            "Epoch 35/100\n",
            "14/14 [==============================] - 0s 3ms/step - loss: 0.5680 - acc: 0.8803\n",
            "Epoch 36/100\n",
            "14/14 [==============================] - 0s 2ms/step - loss: 0.2758 - acc: 0.9155\n",
            "Epoch 37/100\n",
            "14/14 [==============================] - 0s 2ms/step - loss: 0.3669 - acc: 0.9085\n",
            "Epoch 38/100\n",
            "14/14 [==============================] - 0s 3ms/step - loss: 0.2319 - acc: 0.9343\n",
            "Epoch 39/100\n",
            "14/14 [==============================] - 0s 2ms/step - loss: 0.3462 - acc: 0.8967\n",
            "Epoch 40/100\n",
            "14/14 [==============================] - 0s 3ms/step - loss: 0.2395 - acc: 0.9108\n",
            "Epoch 41/100\n",
            "14/14 [==============================] - 0s 3ms/step - loss: 0.3643 - acc: 0.9014\n",
            "Epoch 42/100\n",
            "14/14 [==============================] - 0s 2ms/step - loss: 0.2500 - acc: 0.9178\n",
            "Epoch 43/100\n",
            "14/14 [==============================] - 0s 2ms/step - loss: 0.2259 - acc: 0.9225\n",
            "Epoch 44/100\n",
            "14/14 [==============================] - 0s 3ms/step - loss: 0.2274 - acc: 0.9202\n",
            "Epoch 45/100\n",
            "14/14 [==============================] - 0s 2ms/step - loss: 0.2263 - acc: 0.9202\n",
            "Epoch 46/100\n",
            "14/14 [==============================] - 0s 2ms/step - loss: 0.2275 - acc: 0.9272\n",
            "Epoch 47/100\n",
            "14/14 [==============================] - 0s 2ms/step - loss: 0.2020 - acc: 0.9249\n",
            "Epoch 48/100\n",
            "14/14 [==============================] - 0s 2ms/step - loss: 0.2865 - acc: 0.9108\n",
            "Epoch 49/100\n",
            "14/14 [==============================] - 0s 3ms/step - loss: 0.3884 - acc: 0.8897\n",
            "Epoch 50/100\n",
            "14/14 [==============================] - 0s 2ms/step - loss: 0.3877 - acc: 0.8897\n",
            "Epoch 51/100\n",
            "14/14 [==============================] - 0s 2ms/step - loss: 0.2722 - acc: 0.9155\n",
            "Epoch 52/100\n",
            "14/14 [==============================] - 0s 2ms/step - loss: 0.2775 - acc: 0.9202\n",
            "Epoch 53/100\n",
            "14/14 [==============================] - 0s 2ms/step - loss: 0.3548 - acc: 0.9014\n",
            "Epoch 54/100\n",
            "14/14 [==============================] - 0s 2ms/step - loss: 0.2403 - acc: 0.9178\n",
            "Epoch 55/100\n",
            "14/14 [==============================] - 0s 2ms/step - loss: 0.3049 - acc: 0.9155\n",
            "Epoch 56/100\n",
            "14/14 [==============================] - 0s 3ms/step - loss: 0.5189 - acc: 0.8474\n",
            "Epoch 57/100\n",
            "14/14 [==============================] - 0s 2ms/step - loss: 0.2654 - acc: 0.9178\n",
            "Epoch 58/100\n",
            "14/14 [==============================] - 0s 2ms/step - loss: 0.2354 - acc: 0.9249\n",
            "Epoch 59/100\n",
            "14/14 [==============================] - 0s 3ms/step - loss: 0.2384 - acc: 0.9202\n",
            "Epoch 60/100\n",
            "14/14 [==============================] - 0s 2ms/step - loss: 0.1958 - acc: 0.9272\n",
            "Epoch 61/100\n",
            "14/14 [==============================] - 0s 3ms/step - loss: 0.2403 - acc: 0.9296\n",
            "Epoch 62/100\n",
            "14/14 [==============================] - 0s 2ms/step - loss: 0.7794 - acc: 0.8192\n",
            "Epoch 63/100\n",
            "14/14 [==============================] - 0s 3ms/step - loss: 0.7709 - acc: 0.8380\n",
            "Epoch 64/100\n",
            "14/14 [==============================] - 0s 2ms/step - loss: 0.3365 - acc: 0.9202\n",
            "Epoch 65/100\n",
            "14/14 [==============================] - 0s 2ms/step - loss: 0.4442 - acc: 0.8920\n",
            "Epoch 66/100\n",
            "14/14 [==============================] - 0s 3ms/step - loss: 0.3023 - acc: 0.9014\n",
            "Epoch 67/100\n",
            "14/14 [==============================] - 0s 2ms/step - loss: 0.2174 - acc: 0.9343\n",
            "Epoch 68/100\n",
            "14/14 [==============================] - 0s 3ms/step - loss: 0.2271 - acc: 0.9178\n",
            "Epoch 69/100\n",
            "14/14 [==============================] - 0s 3ms/step - loss: 0.2266 - acc: 0.9272\n",
            "Epoch 70/100\n",
            "14/14 [==============================] - 0s 2ms/step - loss: 0.3723 - acc: 0.8850\n",
            "Epoch 71/100\n",
            "14/14 [==============================] - 0s 3ms/step - loss: 0.2105 - acc: 0.9272\n",
            "Epoch 72/100\n",
            "14/14 [==============================] - 0s 3ms/step - loss: 0.2965 - acc: 0.9108\n",
            "Epoch 73/100\n",
            "14/14 [==============================] - 0s 2ms/step - loss: 0.6108 - acc: 0.8685\n",
            "Epoch 74/100\n",
            "14/14 [==============================] - 0s 3ms/step - loss: 0.4273 - acc: 0.8850\n",
            "Epoch 75/100\n",
            "14/14 [==============================] - 0s 2ms/step - loss: 0.4637 - acc: 0.8920\n",
            "Epoch 76/100\n",
            "14/14 [==============================] - 0s 2ms/step - loss: 0.4121 - acc: 0.8826\n",
            "Epoch 77/100\n",
            "14/14 [==============================] - 0s 2ms/step - loss: 0.3336 - acc: 0.9085\n",
            "Epoch 78/100\n",
            "14/14 [==============================] - 0s 2ms/step - loss: 0.1943 - acc: 0.9272\n",
            "Epoch 79/100\n",
            "14/14 [==============================] - 0s 3ms/step - loss: 0.2539 - acc: 0.9155\n",
            "Epoch 80/100\n",
            "14/14 [==============================] - 0s 2ms/step - loss: 0.2831 - acc: 0.9225\n",
            "Epoch 81/100\n",
            "14/14 [==============================] - 0s 2ms/step - loss: 0.2578 - acc: 0.9131\n",
            "Epoch 82/100\n",
            "14/14 [==============================] - 0s 2ms/step - loss: 0.2428 - acc: 0.9272\n",
            "Epoch 83/100\n",
            "14/14 [==============================] - 0s 2ms/step - loss: 0.2133 - acc: 0.9296\n",
            "Epoch 84/100\n",
            "14/14 [==============================] - 0s 3ms/step - loss: 0.1947 - acc: 0.9319\n",
            "Epoch 85/100\n",
            "14/14 [==============================] - 0s 3ms/step - loss: 0.2143 - acc: 0.9131\n",
            "Epoch 86/100\n",
            "14/14 [==============================] - 0s 3ms/step - loss: 0.4363 - acc: 0.8803\n",
            "Epoch 87/100\n",
            "14/14 [==============================] - 0s 2ms/step - loss: 0.2175 - acc: 0.9225\n",
            "Epoch 88/100\n",
            "14/14 [==============================] - 0s 2ms/step - loss: 0.3243 - acc: 0.9014\n",
            "Epoch 89/100\n",
            "14/14 [==============================] - 0s 3ms/step - loss: 0.2249 - acc: 0.9202\n",
            "Epoch 90/100\n",
            "14/14 [==============================] - 0s 2ms/step - loss: 0.3259 - acc: 0.9108\n",
            "Epoch 91/100\n",
            "14/14 [==============================] - 0s 2ms/step - loss: 0.4655 - acc: 0.8850\n",
            "Epoch 92/100\n",
            "14/14 [==============================] - 0s 2ms/step - loss: 0.5266 - acc: 0.8732\n",
            "Epoch 93/100\n",
            "14/14 [==============================] - 0s 2ms/step - loss: 0.8338 - acc: 0.8052\n",
            "Epoch 94/100\n",
            "14/14 [==============================] - 0s 3ms/step - loss: 0.4151 - acc: 0.9061\n",
            "Epoch 95/100\n",
            "14/14 [==============================] - 0s 3ms/step - loss: 0.2837 - acc: 0.9366\n",
            "Epoch 96/100\n",
            "14/14 [==============================] - 0s 2ms/step - loss: 0.2056 - acc: 0.9343\n",
            "Epoch 97/100\n",
            "14/14 [==============================] - 0s 2ms/step - loss: 0.1944 - acc: 0.9319\n",
            "Epoch 98/100\n",
            "14/14 [==============================] - 0s 3ms/step - loss: 0.2644 - acc: 0.9296\n",
            "Epoch 99/100\n",
            "14/14 [==============================] - 0s 2ms/step - loss: 0.3169 - acc: 0.9014\n",
            "Epoch 100/100\n",
            "14/14 [==============================] - 0s 3ms/step - loss: 0.2903 - acc: 0.9061\n"
          ]
        }
      ]
    },
    {
      "cell_type": "code",
      "source": [
        "# Calculate the accuracy of the model\n",
        "scores = my_first_nn.evaluate(X_test, y_test)"
      ],
      "metadata": {
        "colab": {
          "base_uri": "https://localhost:8080/"
        },
        "id": "9jcerhI3SqSz",
        "outputId": "d06fedb9-ec28-40a1-e318-b29b2011ea52"
      },
      "id": "9jcerhI3SqSz",
      "execution_count": null,
      "outputs": [
        {
          "output_type": "stream",
          "name": "stdout",
          "text": [
            "5/5 [==============================] - 0s 2ms/step - loss: 0.2641 - acc: 0.9091\n"
          ]
        }
      ]
    },
    {
      "cell_type": "code",
      "source": [
        "# Print the scores found\n",
        "print(scores)"
      ],
      "metadata": {
        "colab": {
          "base_uri": "https://localhost:8080/"
        },
        "id": "ztQ2ALCjStjL",
        "outputId": "b3d05597-53ff-46c0-9084-d5d2991ecc8a"
      },
      "id": "ztQ2ALCjStjL",
      "execution_count": null,
      "outputs": [
        {
          "output_type": "stream",
          "name": "stdout",
          "text": [
            "[0.264078289270401, 0.9090909361839294]\n"
          ]
        }
      ]
    },
    {
      "cell_type": "markdown",
      "id": "ec547ce1",
      "metadata": {
        "id": "ec547ce1"
      },
      "source": [
        "### a) Add more Dense layers to existing code and check how the accuracy changes"
      ]
    },
    {
      "cell_type": "code",
      "execution_count": null,
      "id": "86f33297",
      "metadata": {
        "colab": {
          "base_uri": "https://localhost:8080/"
        },
        "id": "86f33297",
        "outputId": "209d7342-c5ea-438f-9438-105db9ab8771"
      },
      "outputs": [
        {
          "output_type": "stream",
          "name": "stdout",
          "text": [
            "Model: \"sequential_1\"\n",
            "_________________________________________________________________\n",
            " Layer (type)                Output Shape              Param #   \n",
            "=================================================================\n",
            " dense_4 (Dense)             (None, 32)                992       \n",
            "                                                                 \n",
            " dense_5 (Dense)             (None, 64)                2112      \n",
            "                                                                 \n",
            " dense_6 (Dense)             (None, 128)               8320      \n",
            "                                                                 \n",
            " dense_7 (Dense)             (None, 16)                2064      \n",
            "                                                                 \n",
            " dense_8 (Dense)             (None, 8)                 136       \n",
            "                                                                 \n",
            " dense_9 (Dense)             (None, 1)                 9         \n",
            "                                                                 \n",
            "=================================================================\n",
            "Total params: 13,633\n",
            "Trainable params: 13,633\n",
            "Non-trainable params: 0\n",
            "_________________________________________________________________\n"
          ]
        }
      ],
      "source": [
        "#implementing the model\n",
        "dense = Sequential() # create model\n",
        "\n",
        "dense.add(layers.Dense(32, input_dim=30, activation='relu')) # Input layer\n",
        "dense.add(layers.Dense(64, activation='relu')) # hidden layer\n",
        "dense.add(layers.Dense(128, activation='relu')) # hidden layer\n",
        "\n",
        "# Add more dense layers to the model\n",
        "dense.add(layers.Dense(16, activation='relu')) # hidden layer\n",
        "dense.add(layers.Dense(8, activation='relu')) # hidden layer\n",
        "dense.add(Dense(1, activation='sigmoid')) # output layer\n",
        "\n",
        "dense.compile(loss='binary_crossentropy', optimizer='adam', metrics=['acc'])\n",
        "dense.summary()"
      ]
    },
    {
      "cell_type": "code",
      "execution_count": null,
      "id": "07a90bb6",
      "metadata": {
        "colab": {
          "base_uri": "https://localhost:8080/"
        },
        "id": "07a90bb6",
        "outputId": "701954c2-67bc-4837-cd00-9a64715beffe"
      },
      "outputs": [
        {
          "output_type": "stream",
          "name": "stdout",
          "text": [
            "Epoch 1/100\n",
            "14/14 [==============================] - 1s 3ms/step - loss: 1.3908 - acc: 0.6197\n",
            "Epoch 2/100\n",
            "14/14 [==============================] - 0s 3ms/step - loss: 0.5167 - acc: 0.8310\n",
            "Epoch 3/100\n",
            "14/14 [==============================] - 0s 3ms/step - loss: 0.3851 - acc: 0.8826\n",
            "Epoch 4/100\n",
            "14/14 [==============================] - 0s 3ms/step - loss: 0.3263 - acc: 0.8920\n",
            "Epoch 5/100\n",
            "14/14 [==============================] - 0s 3ms/step - loss: 0.2892 - acc: 0.9131\n",
            "Epoch 6/100\n",
            "14/14 [==============================] - 0s 3ms/step - loss: 0.2761 - acc: 0.9085\n",
            "Epoch 7/100\n",
            "14/14 [==============================] - 0s 3ms/step - loss: 0.2596 - acc: 0.9131\n",
            "Epoch 8/100\n",
            "14/14 [==============================] - 0s 3ms/step - loss: 0.2309 - acc: 0.9085\n",
            "Epoch 9/100\n",
            "14/14 [==============================] - 0s 3ms/step - loss: 0.2823 - acc: 0.8944\n",
            "Epoch 10/100\n",
            "14/14 [==============================] - 0s 3ms/step - loss: 0.2281 - acc: 0.9155\n",
            "Epoch 11/100\n",
            "14/14 [==============================] - 0s 3ms/step - loss: 0.2444 - acc: 0.9108\n",
            "Epoch 12/100\n",
            "14/14 [==============================] - 0s 3ms/step - loss: 0.2178 - acc: 0.9178\n",
            "Epoch 13/100\n",
            "14/14 [==============================] - 0s 3ms/step - loss: 0.2153 - acc: 0.9061\n",
            "Epoch 14/100\n",
            "14/14 [==============================] - 0s 3ms/step - loss: 0.2066 - acc: 0.9225\n",
            "Epoch 15/100\n",
            "14/14 [==============================] - 0s 3ms/step - loss: 0.2283 - acc: 0.9108\n",
            "Epoch 16/100\n",
            "14/14 [==============================] - 0s 3ms/step - loss: 0.2837 - acc: 0.8826\n",
            "Epoch 17/100\n",
            "14/14 [==============================] - 0s 3ms/step - loss: 0.3264 - acc: 0.8850\n",
            "Epoch 18/100\n",
            "14/14 [==============================] - 0s 3ms/step - loss: 0.1991 - acc: 0.9296\n",
            "Epoch 19/100\n",
            "14/14 [==============================] - 0s 3ms/step - loss: 0.3305 - acc: 0.8638\n",
            "Epoch 20/100\n",
            "14/14 [==============================] - 0s 3ms/step - loss: 0.2729 - acc: 0.8991\n",
            "Epoch 21/100\n",
            "14/14 [==============================] - 0s 2ms/step - loss: 0.2355 - acc: 0.9155\n",
            "Epoch 22/100\n",
            "14/14 [==============================] - 0s 3ms/step - loss: 0.3150 - acc: 0.8685\n",
            "Epoch 23/100\n",
            "14/14 [==============================] - 0s 3ms/step - loss: 0.2003 - acc: 0.9085\n",
            "Epoch 24/100\n",
            "14/14 [==============================] - 0s 3ms/step - loss: 0.2130 - acc: 0.9178\n",
            "Epoch 25/100\n",
            "14/14 [==============================] - 0s 3ms/step - loss: 0.2108 - acc: 0.9225\n",
            "Epoch 26/100\n",
            "14/14 [==============================] - 0s 3ms/step - loss: 0.2643 - acc: 0.9108\n",
            "Epoch 27/100\n",
            "14/14 [==============================] - 0s 2ms/step - loss: 0.2665 - acc: 0.9061\n",
            "Epoch 28/100\n",
            "14/14 [==============================] - 0s 3ms/step - loss: 0.2081 - acc: 0.9225\n",
            "Epoch 29/100\n",
            "14/14 [==============================] - 0s 3ms/step - loss: 0.1942 - acc: 0.9225\n",
            "Epoch 30/100\n",
            "14/14 [==============================] - 0s 3ms/step - loss: 0.2369 - acc: 0.9038\n",
            "Epoch 31/100\n",
            "14/14 [==============================] - 0s 3ms/step - loss: 0.2161 - acc: 0.9272\n",
            "Epoch 32/100\n",
            "14/14 [==============================] - 0s 3ms/step - loss: 0.2627 - acc: 0.9061\n",
            "Epoch 33/100\n",
            "14/14 [==============================] - 0s 3ms/step - loss: 0.2544 - acc: 0.9038\n",
            "Epoch 34/100\n",
            "14/14 [==============================] - 0s 3ms/step - loss: 0.2264 - acc: 0.9131\n",
            "Epoch 35/100\n",
            "14/14 [==============================] - 0s 3ms/step - loss: 0.1987 - acc: 0.9249\n",
            "Epoch 36/100\n",
            "14/14 [==============================] - 0s 3ms/step - loss: 0.2538 - acc: 0.9061\n",
            "Epoch 37/100\n",
            "14/14 [==============================] - 0s 4ms/step - loss: 0.2239 - acc: 0.9178\n",
            "Epoch 38/100\n",
            "14/14 [==============================] - 0s 4ms/step - loss: 0.2219 - acc: 0.9202\n",
            "Epoch 39/100\n",
            "14/14 [==============================] - 0s 3ms/step - loss: 0.2069 - acc: 0.9131\n",
            "Epoch 40/100\n",
            "14/14 [==============================] - 0s 3ms/step - loss: 0.2122 - acc: 0.9085\n",
            "Epoch 41/100\n",
            "14/14 [==============================] - 0s 3ms/step - loss: 0.2092 - acc: 0.9131\n",
            "Epoch 42/100\n",
            "14/14 [==============================] - 0s 3ms/step - loss: 0.1896 - acc: 0.9296\n",
            "Epoch 43/100\n",
            "14/14 [==============================] - 0s 3ms/step - loss: 0.1894 - acc: 0.9178\n",
            "Epoch 44/100\n",
            "14/14 [==============================] - 0s 3ms/step - loss: 0.2104 - acc: 0.9225\n",
            "Epoch 45/100\n",
            "14/14 [==============================] - 0s 3ms/step - loss: 0.1781 - acc: 0.9225\n",
            "Epoch 46/100\n",
            "14/14 [==============================] - 0s 3ms/step - loss: 0.1913 - acc: 0.9178\n",
            "Epoch 47/100\n",
            "14/14 [==============================] - 0s 3ms/step - loss: 0.2867 - acc: 0.8967\n",
            "Epoch 48/100\n",
            "14/14 [==============================] - 0s 3ms/step - loss: 0.2924 - acc: 0.9014\n",
            "Epoch 49/100\n",
            "14/14 [==============================] - 0s 3ms/step - loss: 0.2233 - acc: 0.9225\n",
            "Epoch 50/100\n",
            "14/14 [==============================] - 0s 3ms/step - loss: 0.1791 - acc: 0.9272\n",
            "Epoch 51/100\n",
            "14/14 [==============================] - 0s 3ms/step - loss: 0.2259 - acc: 0.9178\n",
            "Epoch 52/100\n",
            "14/14 [==============================] - 0s 3ms/step - loss: 0.2241 - acc: 0.9061\n",
            "Epoch 53/100\n",
            "14/14 [==============================] - 0s 3ms/step - loss: 0.2294 - acc: 0.9178\n",
            "Epoch 54/100\n",
            "14/14 [==============================] - 0s 3ms/step - loss: 0.2092 - acc: 0.9178\n",
            "Epoch 55/100\n",
            "14/14 [==============================] - 0s 3ms/step - loss: 0.2387 - acc: 0.9085\n",
            "Epoch 56/100\n",
            "14/14 [==============================] - 0s 4ms/step - loss: 0.2085 - acc: 0.9225\n",
            "Epoch 57/100\n",
            "14/14 [==============================] - 0s 3ms/step - loss: 0.1855 - acc: 0.9319\n",
            "Epoch 58/100\n",
            "14/14 [==============================] - 0s 3ms/step - loss: 0.1675 - acc: 0.9249\n",
            "Epoch 59/100\n",
            "14/14 [==============================] - 0s 3ms/step - loss: 0.2321 - acc: 0.9038\n",
            "Epoch 60/100\n",
            "14/14 [==============================] - 0s 3ms/step - loss: 0.1757 - acc: 0.9249\n",
            "Epoch 61/100\n",
            "14/14 [==============================] - 0s 3ms/step - loss: 0.2127 - acc: 0.9108\n",
            "Epoch 62/100\n",
            "14/14 [==============================] - 0s 3ms/step - loss: 0.2432 - acc: 0.9014\n",
            "Epoch 63/100\n",
            "14/14 [==============================] - 0s 3ms/step - loss: 0.2087 - acc: 0.9155\n",
            "Epoch 64/100\n",
            "14/14 [==============================] - 0s 3ms/step - loss: 0.1886 - acc: 0.9296\n",
            "Epoch 65/100\n",
            "14/14 [==============================] - 0s 3ms/step - loss: 0.2226 - acc: 0.9225\n",
            "Epoch 66/100\n",
            "14/14 [==============================] - 0s 3ms/step - loss: 0.2607 - acc: 0.8991\n",
            "Epoch 67/100\n",
            "14/14 [==============================] - 0s 4ms/step - loss: 0.2837 - acc: 0.8967\n",
            "Epoch 68/100\n",
            "14/14 [==============================] - 0s 3ms/step - loss: 0.2473 - acc: 0.8967\n",
            "Epoch 69/100\n",
            "14/14 [==============================] - 0s 3ms/step - loss: 0.1859 - acc: 0.9319\n",
            "Epoch 70/100\n",
            "14/14 [==============================] - 0s 4ms/step - loss: 0.1817 - acc: 0.9272\n",
            "Epoch 71/100\n",
            "14/14 [==============================] - 0s 3ms/step - loss: 0.1758 - acc: 0.9225\n",
            "Epoch 72/100\n",
            "14/14 [==============================] - 0s 3ms/step - loss: 0.1828 - acc: 0.9225\n",
            "Epoch 73/100\n",
            "14/14 [==============================] - 0s 2ms/step - loss: 0.2236 - acc: 0.9131\n",
            "Epoch 74/100\n",
            "14/14 [==============================] - 0s 3ms/step - loss: 0.2094 - acc: 0.9155\n",
            "Epoch 75/100\n",
            "14/14 [==============================] - 0s 3ms/step - loss: 0.2056 - acc: 0.9272\n",
            "Epoch 76/100\n",
            "14/14 [==============================] - 0s 4ms/step - loss: 0.2086 - acc: 0.9202\n",
            "Epoch 77/100\n",
            "14/14 [==============================] - 0s 3ms/step - loss: 0.1752 - acc: 0.9272\n",
            "Epoch 78/100\n",
            "14/14 [==============================] - 0s 3ms/step - loss: 0.1923 - acc: 0.9202\n",
            "Epoch 79/100\n",
            "14/14 [==============================] - 0s 3ms/step - loss: 0.1658 - acc: 0.9272\n",
            "Epoch 80/100\n",
            "14/14 [==============================] - 0s 3ms/step - loss: 0.1898 - acc: 0.9225\n",
            "Epoch 81/100\n",
            "14/14 [==============================] - 0s 3ms/step - loss: 0.1884 - acc: 0.9272\n",
            "Epoch 82/100\n",
            "14/14 [==============================] - 0s 2ms/step - loss: 0.1644 - acc: 0.9319\n",
            "Epoch 83/100\n",
            "14/14 [==============================] - 0s 3ms/step - loss: 0.1979 - acc: 0.9272\n",
            "Epoch 84/100\n",
            "14/14 [==============================] - 0s 3ms/step - loss: 0.1825 - acc: 0.9296\n",
            "Epoch 85/100\n",
            "14/14 [==============================] - 0s 3ms/step - loss: 0.2156 - acc: 0.9202\n",
            "Epoch 86/100\n",
            "14/14 [==============================] - 0s 3ms/step - loss: 0.1728 - acc: 0.9296\n",
            "Epoch 87/100\n",
            "14/14 [==============================] - 0s 3ms/step - loss: 0.2195 - acc: 0.9178\n",
            "Epoch 88/100\n",
            "14/14 [==============================] - 0s 3ms/step - loss: 0.2464 - acc: 0.8897\n",
            "Epoch 89/100\n",
            "14/14 [==============================] - 0s 4ms/step - loss: 0.2122 - acc: 0.9202\n",
            "Epoch 90/100\n",
            "14/14 [==============================] - 0s 3ms/step - loss: 0.2200 - acc: 0.9272\n",
            "Epoch 91/100\n",
            "14/14 [==============================] - 0s 3ms/step - loss: 0.1676 - acc: 0.9319\n",
            "Epoch 92/100\n",
            "14/14 [==============================] - 0s 3ms/step - loss: 0.1733 - acc: 0.9225\n",
            "Epoch 93/100\n",
            "14/14 [==============================] - 0s 3ms/step - loss: 0.1586 - acc: 0.9343\n",
            "Epoch 94/100\n",
            "14/14 [==============================] - 0s 3ms/step - loss: 0.1700 - acc: 0.9272\n",
            "Epoch 95/100\n",
            "14/14 [==============================] - 0s 3ms/step - loss: 0.1678 - acc: 0.9225\n",
            "Epoch 96/100\n",
            "14/14 [==============================] - 0s 4ms/step - loss: 0.1567 - acc: 0.9296\n",
            "Epoch 97/100\n",
            "14/14 [==============================] - 0s 3ms/step - loss: 0.1845 - acc: 0.9272\n",
            "Epoch 98/100\n",
            "14/14 [==============================] - 0s 3ms/step - loss: 0.1794 - acc: 0.9202\n",
            "Epoch 99/100\n",
            "14/14 [==============================] - 0s 3ms/step - loss: 0.1674 - acc: 0.9390\n",
            "Epoch 100/100\n",
            "14/14 [==============================] - 0s 3ms/step - loss: 0.1688 - acc: 0.9249\n"
          ]
        }
      ],
      "source": [
        "#Fit the new model with the training data\n",
        "dense_fitted = dense.fit(X_train, y_train, epochs=100)"
      ]
    },
    {
      "cell_type": "code",
      "execution_count": null,
      "id": "6896cf24",
      "metadata": {
        "colab": {
          "base_uri": "https://localhost:8080/"
        },
        "id": "6896cf24",
        "outputId": "c79317fa-bccb-4b7c-9bc8-0595e9e581af"
      },
      "outputs": [
        {
          "output_type": "stream",
          "name": "stdout",
          "text": [
            "5/5 [==============================] - 0s 4ms/step - loss: 0.1720 - acc: 0.9371\n"
          ]
        }
      ],
      "source": [
        "# Calculate the accuracy of the model\n",
        "dense_scores = dense.evaluate(X_test, y_test)"
      ]
    },
    {
      "cell_type": "code",
      "execution_count": null,
      "id": "661018ae",
      "metadata": {
        "colab": {
          "base_uri": "https://localhost:8080/"
        },
        "id": "661018ae",
        "outputId": "d6cab760-1c2e-44af-9395-08ccf7ca2a9e"
      },
      "outputs": [
        {
          "output_type": "stream",
          "name": "stdout",
          "text": [
            "[0.17197559773921967, 0.9370629191398621]\n"
          ]
        }
      ],
      "source": [
        "# Print the scores found\n",
        "print(dense_scores)"
      ]
    },
    {
      "cell_type": "markdown",
      "id": "ed08145b",
      "metadata": {
        "id": "ed08145b"
      },
      "source": [
        "Comparing the accuracies of the two models, we can see that the accuracy increased and the loss decreased when adding more dense layers to the model. Although the accuracy shows a positive trend with increase the number of dense layers, we have to be careful not to overfit the data."
      ]
    },
    {
      "cell_type": "markdown",
      "id": "bfc1f870",
      "metadata": {
        "id": "bfc1f870"
      },
      "source": [
        "### b) Add the validation data attribute to the fit method"
      ]
    },
    {
      "cell_type": "code",
      "execution_count": null,
      "id": "68d2d01d",
      "metadata": {
        "colab": {
          "base_uri": "https://localhost:8080/"
        },
        "id": "68d2d01d",
        "outputId": "df293120-0632-471c-a515-064fa2f0061d"
      },
      "outputs": [
        {
          "output_type": "stream",
          "name": "stdout",
          "text": [
            "Epoch 1/100\n",
            "14/14 [==============================] - 0s 7ms/step - loss: 0.2041 - acc: 0.9202 - val_loss: 0.6194 - val_acc: 0.8671\n",
            "Epoch 2/100\n",
            "14/14 [==============================] - 0s 4ms/step - loss: 0.3335 - acc: 0.9108 - val_loss: 0.3791 - val_acc: 0.8741\n",
            "Epoch 3/100\n",
            "14/14 [==============================] - 0s 5ms/step - loss: 0.1992 - acc: 0.9296 - val_loss: 0.3431 - val_acc: 0.9091\n",
            "Epoch 4/100\n",
            "14/14 [==============================] - 0s 5ms/step - loss: 0.3222 - acc: 0.9085 - val_loss: 0.7628 - val_acc: 0.7902\n",
            "Epoch 5/100\n",
            "14/14 [==============================] - 0s 6ms/step - loss: 0.6869 - acc: 0.8592 - val_loss: 0.3089 - val_acc: 0.9301\n",
            "Epoch 6/100\n",
            "14/14 [==============================] - 0s 5ms/step - loss: 0.5352 - acc: 0.8756 - val_loss: 0.1985 - val_acc: 0.9441\n",
            "Epoch 7/100\n",
            "14/14 [==============================] - 0s 4ms/step - loss: 0.3058 - acc: 0.9155 - val_loss: 0.4066 - val_acc: 0.9161\n",
            "Epoch 8/100\n",
            "14/14 [==============================] - 0s 6ms/step - loss: 0.2879 - acc: 0.9249 - val_loss: 0.2324 - val_acc: 0.9371\n",
            "Epoch 9/100\n",
            "14/14 [==============================] - 0s 6ms/step - loss: 0.2063 - acc: 0.9225 - val_loss: 0.2774 - val_acc: 0.9371\n",
            "Epoch 10/100\n",
            "14/14 [==============================] - 0s 4ms/step - loss: 0.2029 - acc: 0.9249 - val_loss: 0.1891 - val_acc: 0.9371\n",
            "Epoch 11/100\n",
            "14/14 [==============================] - 0s 5ms/step - loss: 0.2496 - acc: 0.9272 - val_loss: 0.1817 - val_acc: 0.9441\n",
            "Epoch 12/100\n",
            "14/14 [==============================] - 0s 4ms/step - loss: 0.2926 - acc: 0.9202 - val_loss: 0.2543 - val_acc: 0.9091\n",
            "Epoch 13/100\n",
            "14/14 [==============================] - 0s 4ms/step - loss: 0.2372 - acc: 0.9225 - val_loss: 0.1785 - val_acc: 0.9441\n",
            "Epoch 14/100\n",
            "14/14 [==============================] - 0s 5ms/step - loss: 0.1782 - acc: 0.9413 - val_loss: 0.6180 - val_acc: 0.8112\n",
            "Epoch 15/100\n",
            "14/14 [==============================] - 0s 6ms/step - loss: 0.3253 - acc: 0.9131 - val_loss: 0.3627 - val_acc: 0.9161\n",
            "Epoch 16/100\n",
            "14/14 [==============================] - 0s 5ms/step - loss: 0.2062 - acc: 0.9249 - val_loss: 0.1837 - val_acc: 0.9441\n",
            "Epoch 17/100\n",
            "14/14 [==============================] - 0s 5ms/step - loss: 0.1843 - acc: 0.9249 - val_loss: 0.2275 - val_acc: 0.9021\n",
            "Epoch 18/100\n",
            "14/14 [==============================] - 0s 6ms/step - loss: 0.1814 - acc: 0.9390 - val_loss: 0.1768 - val_acc: 0.9441\n",
            "Epoch 19/100\n",
            "14/14 [==============================] - 0s 5ms/step - loss: 0.1852 - acc: 0.9437 - val_loss: 0.1658 - val_acc: 0.9441\n",
            "Epoch 20/100\n",
            "14/14 [==============================] - 0s 4ms/step - loss: 0.1647 - acc: 0.9413 - val_loss: 0.1551 - val_acc: 0.9510\n",
            "Epoch 21/100\n",
            "14/14 [==============================] - 0s 4ms/step - loss: 0.2025 - acc: 0.9225 - val_loss: 0.3323 - val_acc: 0.8951\n",
            "Epoch 22/100\n",
            "14/14 [==============================] - 0s 4ms/step - loss: 0.3080 - acc: 0.9085 - val_loss: 0.2979 - val_acc: 0.9091\n",
            "Epoch 23/100\n",
            "14/14 [==============================] - 0s 5ms/step - loss: 0.2088 - acc: 0.9319 - val_loss: 0.1683 - val_acc: 0.9441\n",
            "Epoch 24/100\n",
            "14/14 [==============================] - 0s 4ms/step - loss: 0.2468 - acc: 0.9272 - val_loss: 0.2134 - val_acc: 0.9091\n",
            "Epoch 25/100\n",
            "14/14 [==============================] - 0s 5ms/step - loss: 0.1987 - acc: 0.9249 - val_loss: 0.2688 - val_acc: 0.8811\n",
            "Epoch 26/100\n",
            "14/14 [==============================] - 0s 5ms/step - loss: 0.2459 - acc: 0.9155 - val_loss: 0.4687 - val_acc: 0.8112\n",
            "Epoch 27/100\n",
            "14/14 [==============================] - 0s 5ms/step - loss: 0.2265 - acc: 0.9272 - val_loss: 0.1682 - val_acc: 0.9510\n",
            "Epoch 28/100\n",
            "14/14 [==============================] - 0s 5ms/step - loss: 0.1692 - acc: 0.9319 - val_loss: 0.2461 - val_acc: 0.8811\n",
            "Epoch 29/100\n",
            "14/14 [==============================] - 0s 4ms/step - loss: 0.1677 - acc: 0.9507 - val_loss: 0.1485 - val_acc: 0.9441\n",
            "Epoch 30/100\n",
            "14/14 [==============================] - 0s 6ms/step - loss: 0.3467 - acc: 0.8897 - val_loss: 0.6474 - val_acc: 0.8671\n",
            "Epoch 31/100\n",
            "14/14 [==============================] - 0s 4ms/step - loss: 0.3379 - acc: 0.8991 - val_loss: 0.5711 - val_acc: 0.8182\n",
            "Epoch 32/100\n",
            "14/14 [==============================] - 0s 4ms/step - loss: 0.2458 - acc: 0.9249 - val_loss: 0.5205 - val_acc: 0.8741\n",
            "Epoch 33/100\n",
            "14/14 [==============================] - 0s 5ms/step - loss: 0.2869 - acc: 0.9038 - val_loss: 0.1873 - val_acc: 0.9441\n",
            "Epoch 34/100\n",
            "14/14 [==============================] - 0s 4ms/step - loss: 0.1990 - acc: 0.9249 - val_loss: 0.2359 - val_acc: 0.9371\n",
            "Epoch 35/100\n",
            "14/14 [==============================] - 0s 6ms/step - loss: 0.2093 - acc: 0.9343 - val_loss: 0.2981 - val_acc: 0.8881\n",
            "Epoch 36/100\n",
            "14/14 [==============================] - 0s 4ms/step - loss: 0.2506 - acc: 0.9178 - val_loss: 0.3020 - val_acc: 0.9301\n",
            "Epoch 37/100\n",
            "14/14 [==============================] - 0s 6ms/step - loss: 0.3062 - acc: 0.9155 - val_loss: 0.1702 - val_acc: 0.9371\n",
            "Epoch 38/100\n",
            "14/14 [==============================] - 0s 4ms/step - loss: 0.1841 - acc: 0.9366 - val_loss: 0.2574 - val_acc: 0.9371\n",
            "Epoch 39/100\n",
            "14/14 [==============================] - 0s 5ms/step - loss: 0.2501 - acc: 0.9225 - val_loss: 0.1612 - val_acc: 0.9441\n",
            "Epoch 40/100\n",
            "14/14 [==============================] - 0s 5ms/step - loss: 0.1661 - acc: 0.9413 - val_loss: 0.2715 - val_acc: 0.8951\n",
            "Epoch 41/100\n",
            "14/14 [==============================] - 0s 4ms/step - loss: 0.2157 - acc: 0.9249 - val_loss: 0.1765 - val_acc: 0.9371\n",
            "Epoch 42/100\n",
            "14/14 [==============================] - 0s 6ms/step - loss: 0.3186 - acc: 0.9131 - val_loss: 0.2646 - val_acc: 0.8881\n",
            "Epoch 43/100\n",
            "14/14 [==============================] - 0s 4ms/step - loss: 0.1836 - acc: 0.9319 - val_loss: 0.1566 - val_acc: 0.9510\n",
            "Epoch 44/100\n",
            "14/14 [==============================] - 0s 6ms/step - loss: 0.2005 - acc: 0.9390 - val_loss: 0.3246 - val_acc: 0.8601\n",
            "Epoch 45/100\n",
            "14/14 [==============================] - 0s 4ms/step - loss: 0.3320 - acc: 0.8897 - val_loss: 0.2261 - val_acc: 0.9371\n",
            "Epoch 46/100\n",
            "14/14 [==============================] - 0s 6ms/step - loss: 0.1849 - acc: 0.9319 - val_loss: 0.5127 - val_acc: 0.8182\n",
            "Epoch 47/100\n",
            "14/14 [==============================] - 0s 4ms/step - loss: 0.5254 - acc: 0.8568 - val_loss: 0.2755 - val_acc: 0.9371\n",
            "Epoch 48/100\n",
            "14/14 [==============================] - 0s 4ms/step - loss: 0.1890 - acc: 0.9319 - val_loss: 0.1859 - val_acc: 0.9510\n",
            "Epoch 49/100\n",
            "14/14 [==============================] - 0s 4ms/step - loss: 0.2299 - acc: 0.9155 - val_loss: 0.5353 - val_acc: 0.8182\n",
            "Epoch 50/100\n",
            "14/14 [==============================] - 0s 4ms/step - loss: 0.2290 - acc: 0.9272 - val_loss: 0.1826 - val_acc: 0.9371\n",
            "Epoch 51/100\n",
            "14/14 [==============================] - 0s 4ms/step - loss: 0.1837 - acc: 0.9249 - val_loss: 0.1510 - val_acc: 0.9510\n",
            "Epoch 52/100\n",
            "14/14 [==============================] - 0s 5ms/step - loss: 0.1610 - acc: 0.9343 - val_loss: 0.4784 - val_acc: 0.8741\n",
            "Epoch 53/100\n",
            "14/14 [==============================] - 0s 4ms/step - loss: 0.2783 - acc: 0.8991 - val_loss: 0.5114 - val_acc: 0.8322\n",
            "Epoch 54/100\n",
            "14/14 [==============================] - 0s 4ms/step - loss: 0.2019 - acc: 0.9249 - val_loss: 0.1973 - val_acc: 0.9371\n",
            "Epoch 55/100\n",
            "14/14 [==============================] - 0s 5ms/step - loss: 0.1742 - acc: 0.9296 - val_loss: 0.1921 - val_acc: 0.9301\n",
            "Epoch 56/100\n",
            "14/14 [==============================] - 0s 5ms/step - loss: 0.1454 - acc: 0.9390 - val_loss: 0.1501 - val_acc: 0.9510\n",
            "Epoch 57/100\n",
            "14/14 [==============================] - 0s 4ms/step - loss: 0.1547 - acc: 0.9390 - val_loss: 0.1804 - val_acc: 0.9371\n",
            "Epoch 58/100\n",
            "14/14 [==============================] - 0s 6ms/step - loss: 0.3325 - acc: 0.8897 - val_loss: 0.2291 - val_acc: 0.9301\n",
            "Epoch 59/100\n",
            "14/14 [==============================] - 0s 5ms/step - loss: 0.4309 - acc: 0.8920 - val_loss: 0.4577 - val_acc: 0.8392\n",
            "Epoch 60/100\n",
            "14/14 [==============================] - 0s 5ms/step - loss: 0.3607 - acc: 0.8873 - val_loss: 0.1927 - val_acc: 0.9510\n",
            "Epoch 61/100\n",
            "14/14 [==============================] - 0s 4ms/step - loss: 0.2230 - acc: 0.9366 - val_loss: 0.1671 - val_acc: 0.9510\n",
            "Epoch 62/100\n",
            "14/14 [==============================] - 0s 6ms/step - loss: 0.1544 - acc: 0.9413 - val_loss: 0.2182 - val_acc: 0.9231\n",
            "Epoch 63/100\n",
            "14/14 [==============================] - 0s 4ms/step - loss: 0.2405 - acc: 0.9272 - val_loss: 0.2222 - val_acc: 0.9371\n",
            "Epoch 64/100\n",
            "14/14 [==============================] - 0s 4ms/step - loss: 0.1725 - acc: 0.9343 - val_loss: 0.2293 - val_acc: 0.9441\n",
            "Epoch 65/100\n",
            "14/14 [==============================] - 0s 4ms/step - loss: 0.1722 - acc: 0.9366 - val_loss: 0.1656 - val_acc: 0.9510\n",
            "Epoch 66/100\n",
            "14/14 [==============================] - 0s 5ms/step - loss: 0.1838 - acc: 0.9343 - val_loss: 0.1799 - val_acc: 0.9301\n",
            "Epoch 67/100\n",
            "14/14 [==============================] - 0s 4ms/step - loss: 0.1460 - acc: 0.9390 - val_loss: 0.1895 - val_acc: 0.9441\n",
            "Epoch 68/100\n",
            "14/14 [==============================] - 0s 5ms/step - loss: 0.2009 - acc: 0.9272 - val_loss: 0.1422 - val_acc: 0.9441\n",
            "Epoch 69/100\n",
            "14/14 [==============================] - 0s 5ms/step - loss: 0.1570 - acc: 0.9296 - val_loss: 0.1389 - val_acc: 0.9510\n",
            "Epoch 70/100\n",
            "14/14 [==============================] - 0s 6ms/step - loss: 0.1788 - acc: 0.9272 - val_loss: 0.1403 - val_acc: 0.9510\n",
            "Epoch 71/100\n",
            "14/14 [==============================] - 0s 4ms/step - loss: 0.1946 - acc: 0.9296 - val_loss: 0.4579 - val_acc: 0.8671\n",
            "Epoch 72/100\n",
            "14/14 [==============================] - 0s 5ms/step - loss: 0.3454 - acc: 0.8944 - val_loss: 0.3209 - val_acc: 0.8881\n",
            "Epoch 73/100\n",
            "14/14 [==============================] - 0s 5ms/step - loss: 0.1656 - acc: 0.9319 - val_loss: 0.4570 - val_acc: 0.8252\n",
            "Epoch 74/100\n",
            "14/14 [==============================] - 0s 6ms/step - loss: 0.4031 - acc: 0.8803 - val_loss: 0.3898 - val_acc: 0.9091\n",
            "Epoch 75/100\n",
            "14/14 [==============================] - 0s 5ms/step - loss: 0.4070 - acc: 0.8967 - val_loss: 0.4139 - val_acc: 0.8462\n",
            "Epoch 76/100\n",
            "14/14 [==============================] - 0s 4ms/step - loss: 0.3153 - acc: 0.9085 - val_loss: 0.1747 - val_acc: 0.9441\n",
            "Epoch 77/100\n",
            "14/14 [==============================] - 0s 5ms/step - loss: 0.2872 - acc: 0.9038 - val_loss: 0.1668 - val_acc: 0.9510\n",
            "Epoch 78/100\n",
            "14/14 [==============================] - 0s 5ms/step - loss: 0.2507 - acc: 0.9202 - val_loss: 0.1802 - val_acc: 0.9371\n",
            "Epoch 79/100\n",
            "14/14 [==============================] - 0s 5ms/step - loss: 0.1837 - acc: 0.9319 - val_loss: 0.1600 - val_acc: 0.9441\n",
            "Epoch 80/100\n",
            "14/14 [==============================] - 0s 6ms/step - loss: 0.1627 - acc: 0.9437 - val_loss: 0.1455 - val_acc: 0.9510\n",
            "Epoch 81/100\n",
            "14/14 [==============================] - 0s 4ms/step - loss: 0.2532 - acc: 0.9108 - val_loss: 0.6812 - val_acc: 0.8042\n",
            "Epoch 82/100\n",
            "14/14 [==============================] - 0s 4ms/step - loss: 0.4433 - acc: 0.8732 - val_loss: 0.1766 - val_acc: 0.9510\n",
            "Epoch 83/100\n",
            "14/14 [==============================] - 0s 4ms/step - loss: 0.2603 - acc: 0.9108 - val_loss: 0.1552 - val_acc: 0.9510\n",
            "Epoch 84/100\n",
            "14/14 [==============================] - 0s 4ms/step - loss: 0.2120 - acc: 0.9366 - val_loss: 0.3194 - val_acc: 0.8741\n",
            "Epoch 85/100\n",
            "14/14 [==============================] - 0s 4ms/step - loss: 0.2112 - acc: 0.9296 - val_loss: 0.1941 - val_acc: 0.9510\n",
            "Epoch 86/100\n",
            "14/14 [==============================] - 0s 5ms/step - loss: 0.3080 - acc: 0.9108 - val_loss: 0.1584 - val_acc: 0.9510\n",
            "Epoch 87/100\n",
            "14/14 [==============================] - 0s 5ms/step - loss: 0.2078 - acc: 0.9296 - val_loss: 0.1886 - val_acc: 0.9231\n",
            "Epoch 88/100\n",
            "14/14 [==============================] - 0s 5ms/step - loss: 0.1944 - acc: 0.9413 - val_loss: 0.1466 - val_acc: 0.9510\n",
            "Epoch 89/100\n",
            "14/14 [==============================] - 0s 4ms/step - loss: 0.1934 - acc: 0.9343 - val_loss: 0.4379 - val_acc: 0.8252\n",
            "Epoch 90/100\n",
            "14/14 [==============================] - 0s 4ms/step - loss: 0.2423 - acc: 0.9296 - val_loss: 0.1653 - val_acc: 0.9510\n",
            "Epoch 91/100\n",
            "14/14 [==============================] - 0s 5ms/step - loss: 0.1811 - acc: 0.9343 - val_loss: 0.1825 - val_acc: 0.9371\n",
            "Epoch 92/100\n",
            "14/14 [==============================] - 0s 5ms/step - loss: 0.1435 - acc: 0.9413 - val_loss: 0.1640 - val_acc: 0.9441\n",
            "Epoch 93/100\n",
            "14/14 [==============================] - 0s 5ms/step - loss: 0.1827 - acc: 0.9343 - val_loss: 0.1740 - val_acc: 0.9301\n",
            "Epoch 94/100\n",
            "14/14 [==============================] - 0s 4ms/step - loss: 0.2781 - acc: 0.9131 - val_loss: 0.1667 - val_acc: 0.9510\n",
            "Epoch 95/100\n",
            "14/14 [==============================] - 0s 4ms/step - loss: 0.2320 - acc: 0.9131 - val_loss: 0.1444 - val_acc: 0.9441\n",
            "Epoch 96/100\n",
            "14/14 [==============================] - 0s 5ms/step - loss: 0.1392 - acc: 0.9437 - val_loss: 0.1872 - val_acc: 0.9301\n",
            "Epoch 97/100\n",
            "14/14 [==============================] - 0s 4ms/step - loss: 0.1748 - acc: 0.9366 - val_loss: 0.1631 - val_acc: 0.9441\n",
            "Epoch 98/100\n",
            "14/14 [==============================] - 0s 5ms/step - loss: 0.1396 - acc: 0.9413 - val_loss: 0.1351 - val_acc: 0.9510\n",
            "Epoch 99/100\n",
            "14/14 [==============================] - 0s 4ms/step - loss: 0.2147 - acc: 0.9225 - val_loss: 0.1516 - val_acc: 0.9580\n",
            "Epoch 100/100\n",
            "14/14 [==============================] - 0s 4ms/step - loss: 0.1597 - acc: 0.9413 - val_loss: 0.1373 - val_acc: 0.9580\n"
          ]
        }
      ],
      "source": [
        "# Pass the validation data X_test and Y_test in the fit method\n",
        "my_first_nn2 = my_first_nn.fit(X_train, y_train, epochs=100, validation_data=(X_test, y_test))"
      ]
    },
    {
      "cell_type": "markdown",
      "id": "0c0f85f8",
      "metadata": {
        "id": "0c0f85f8"
      },
      "source": [
        "### c) Plot accuracy for training and validation of the fitted model"
      ]
    },
    {
      "cell_type": "code",
      "execution_count": null,
      "id": "b39cc382",
      "metadata": {
        "id": "b39cc382"
      },
      "outputs": [],
      "source": [
        "import matplotlib.pyplot as plt"
      ]
    },
    {
      "cell_type": "code",
      "execution_count": null,
      "id": "e7b9f46b",
      "metadata": {
        "colab": {
          "base_uri": "https://localhost:8080/"
        },
        "id": "e7b9f46b",
        "outputId": "f337e946-c2ff-4baa-ffe8-1fbce2a2734e"
      },
      "outputs": [
        {
          "output_type": "stream",
          "name": "stdout",
          "text": [
            "dict_keys(['loss', 'acc', 'val_loss', 'val_acc'])\n"
          ]
        }
      ],
      "source": [
        "# check key values \n",
        "print(my_first_nn2.history.keys())"
      ]
    },
    {
      "cell_type": "code",
      "execution_count": null,
      "id": "74a06cf5",
      "metadata": {
        "colab": {
          "base_uri": "https://localhost:8080/",
          "height": 295
        },
        "id": "74a06cf5",
        "outputId": "1d309a06-3a66-4555-f5e6-085c8820cffe"
      },
      "outputs": [
        {
          "output_type": "display_data",
          "data": {
            "text/plain": [
              "<Figure size 432x288 with 1 Axes>"
            ],
            "image/png": "[encoded data removed]"
          },
          "metadata": {
            "needs_background": "light"
          }
        }
      ],
      "source": [
        "#Plot the accuracies of the training and testing datasets from the fitted model\n",
        "plt.plot(my_first_nn2.history['acc'])\n",
        "plt.plot(my_first_nn2.history['val_acc'])\n",
        "\n",
        "#Modify the graph to have the correct labels\n",
        "plt.title('Fitted Model Accuracy')\n",
        "plt.ylabel('Accuracy')\n",
        "plt.xlabel('Epoch')\n",
        "plt.legend(['train', 'test'])\n",
        "plt.show()"
      ]
    },
    {
      "cell_type": "markdown",
      "source": [
        "Looking at the graph, we can see that the training and testing accuracies follow similar trends as epoch increases. The main difference between the two being that testing accuracy has very sharp max and min spikes as epoch increases."
      ],
      "metadata": {
        "id": "jUQZBHzRGosS"
      },
      "id": "jUQZBHzRGosS"
    },
    {
      "cell_type": "markdown",
      "id": "97bcfa0d",
      "metadata": {
        "id": "97bcfa0d"
      },
      "source": [
        "### d) Plot the loss for training and validation of the fitted model"
      ]
    },
    {
      "cell_type": "code",
      "execution_count": null,
      "id": "b8e65218",
      "metadata": {
        "colab": {
          "base_uri": "https://localhost:8080/",
          "height": 295
        },
        "id": "b8e65218",
        "outputId": "3d16fbc7-a769-4920-9b10-192200804354"
      },
      "outputs": [
        {
          "output_type": "display_data",
          "data": {
            "text/plain": [
              "<Figure size 432x288 with 1 Axes>"
            ],
            "image/png": "[encoded data removed]"
          },
          "metadata": {
            "needs_background": "light"
          }
        }
      ],
      "source": [
        "#Plot the losses of the training and testing datasets from the fitted model\n",
        "plt.plot(my_first_nn2.history['loss'])\n",
        "plt.plot(my_first_nn2.history['val_loss'])\n",
        "\n",
        "#Modify the graph to have the correct labels\n",
        "plt.title('Fitted Model Loss')\n",
        "plt.ylabel('Loss')\n",
        "plt.xlabel('Epoch')\n",
        "plt.legend(['train', 'test'])\n",
        "plt.show()"
      ]
    },
    {
      "cell_type": "markdown",
      "source": [
        "The graph shows that the training and testing losses follow similar trends as epoch increases. Similar to the accuracy graph, the testing loss shows more prominant min and max spikes as epoch increases."
      ],
      "metadata": {
        "id": "55db-b3DG-zW"
      },
      "id": "55db-b3DG-zW"
    },
    {
      "cell_type": "markdown",
      "id": "da940f41",
      "metadata": {
        "id": "da940f41"
      },
      "source": [
        "### e) Normalize the data before feeding it to the model and check how normalization affects accuracy"
      ]
    },
    {
      "cell_type": "code",
      "source": [
        "from sklearn.preprocessing import StandardScaler\n",
        "\n",
        "# Standardize features by removing the mean and scaling to unit variance\n",
        "sc = StandardScaler()"
      ],
      "metadata": {
        "id": "LK40mB4THlTk"
      },
      "id": "LK40mB4THlTk",
      "execution_count": null,
      "outputs": []
    },
    {
      "cell_type": "code",
      "execution_count": null,
      "id": "2588a918",
      "metadata": {
        "id": "2588a918"
      },
      "outputs": [],
      "source": [
        "#Scale the X training and testing datasets\n",
        "sc.fit(X_train)\n",
        "scaled_X_train = sc.transform(X_train)\n",
        "sc.fit(X_test)\n",
        "scaled_X_test = sc.transform(X_test)"
      ]
    },
    {
      "cell_type": "code",
      "execution_count": null,
      "id": "f2dfe15a",
      "metadata": {
        "scrolled": true,
        "colab": {
          "base_uri": "https://localhost:8080/"
        },
        "id": "f2dfe15a",
        "outputId": "77d48853-ffa7-4d09-94e0-b85bf7300773"
      },
      "outputs": [
        {
          "output_type": "stream",
          "name": "stdout",
          "text": [
            "Model: \"sequential_2\"\n",
            "_________________________________________________________________\n",
            " Layer (type)                Output Shape              Param #   \n",
            "=================================================================\n",
            " dense_10 (Dense)            (None, 32)                992       \n",
            "                                                                 \n",
            " dense_11 (Dense)            (None, 64)                2112      \n",
            "                                                                 \n",
            " dense_12 (Dense)            (None, 128)               8320      \n",
            "                                                                 \n",
            " dense_13 (Dense)            (None, 1)                 129       \n",
            "                                                                 \n",
            "=================================================================\n",
            "Total params: 11,553\n",
            "Trainable params: 11,553\n",
            "Non-trainable params: 0\n",
            "_________________________________________________________________\n"
          ]
        }
      ],
      "source": [
        "#implementing the model\n",
        "model3 = Sequential() # create model\n",
        "\n",
        "# Change the input_dim for the input from 1 to 8\n",
        "model3.add(layers.Dense(32, input_dim=30, activation='relu')) # Input layer\n",
        "\n",
        "model3.add(layers.Dense(64, activation='relu')) # hidden layer\n",
        "\n",
        "model3.add(layers.Dense(128, activation='relu')) # hidden layer\n",
        "\n",
        "model3.add(layers.Dense(1, activation='sigmoid')) # output layer\n",
        "\n",
        "model3.compile(loss='binary_crossentropy', optimizer='adam', metrics=['acc'])\n",
        "\n",
        "model3.summary()"
      ]
    },
    {
      "cell_type": "code",
      "execution_count": null,
      "id": "053c6d09",
      "metadata": {
        "colab": {
          "base_uri": "https://localhost:8080/"
        },
        "id": "053c6d09",
        "outputId": "86dd391c-933c-43d3-91e3-6fc864947ee9"
      },
      "outputs": [
        {
          "output_type": "stream",
          "name": "stdout",
          "text": [
            "Epoch 1/100\n",
            "14/14 [==============================] - 1s 2ms/step - loss: 0.5125 - acc: 0.9178\n",
            "Epoch 2/100\n",
            "14/14 [==============================] - 0s 2ms/step - loss: 0.2518 - acc: 0.9484\n",
            "Epoch 3/100\n",
            "14/14 [==============================] - 0s 3ms/step - loss: 0.1302 - acc: 0.9648\n",
            "Epoch 4/100\n",
            "14/14 [==============================] - 0s 3ms/step - loss: 0.0856 - acc: 0.9742\n",
            "Epoch 5/100\n",
            "14/14 [==============================] - 0s 2ms/step - loss: 0.0668 - acc: 0.9812\n",
            "Epoch 6/100\n",
            "14/14 [==============================] - 0s 3ms/step - loss: 0.0581 - acc: 0.9812\n",
            "Epoch 7/100\n",
            "14/14 [==============================] - 0s 3ms/step - loss: 0.0507 - acc: 0.9883\n",
            "Epoch 8/100\n",
            "14/14 [==============================] - 0s 2ms/step - loss: 0.0462 - acc: 0.9859\n",
            "Epoch 9/100\n",
            "14/14 [==============================] - 0s 2ms/step - loss: 0.0413 - acc: 0.9859\n",
            "Epoch 10/100\n",
            "14/14 [==============================] - 0s 2ms/step - loss: 0.0366 - acc: 0.9883\n",
            "Epoch 11/100\n",
            "14/14 [==============================] - 0s 3ms/step - loss: 0.0335 - acc: 0.9883\n",
            "Epoch 12/100\n",
            "14/14 [==============================] - 0s 2ms/step - loss: 0.0303 - acc: 0.9930\n",
            "Epoch 13/100\n",
            "14/14 [==============================] - 0s 3ms/step - loss: 0.0277 - acc: 0.9930\n",
            "Epoch 14/100\n",
            "14/14 [==============================] - 0s 3ms/step - loss: 0.0235 - acc: 0.9930\n",
            "Epoch 15/100\n",
            "14/14 [==============================] - 0s 3ms/step - loss: 0.0211 - acc: 0.9930\n",
            "Epoch 16/100\n",
            "14/14 [==============================] - 0s 2ms/step - loss: 0.0193 - acc: 0.9953\n",
            "Epoch 17/100\n",
            "14/14 [==============================] - 0s 2ms/step - loss: 0.0164 - acc: 0.9977\n",
            "Epoch 18/100\n",
            "14/14 [==============================] - 0s 3ms/step - loss: 0.0145 - acc: 0.9977\n",
            "Epoch 19/100\n",
            "14/14 [==============================] - 0s 2ms/step - loss: 0.0128 - acc: 0.9977\n",
            "Epoch 20/100\n",
            "14/14 [==============================] - 0s 2ms/step - loss: 0.0120 - acc: 0.9977\n",
            "Epoch 21/100\n",
            "14/14 [==============================] - 0s 2ms/step - loss: 0.0106 - acc: 0.9977\n",
            "Epoch 22/100\n",
            "14/14 [==============================] - 0s 2ms/step - loss: 0.0087 - acc: 0.9977\n",
            "Epoch 23/100\n",
            "14/14 [==============================] - 0s 3ms/step - loss: 0.0070 - acc: 0.9977\n",
            "Epoch 24/100\n",
            "14/14 [==============================] - 0s 2ms/step - loss: 0.0064 - acc: 0.9977\n",
            "Epoch 25/100\n",
            "14/14 [==============================] - 0s 2ms/step - loss: 0.0069 - acc: 1.0000\n",
            "Epoch 26/100\n",
            "14/14 [==============================] - 0s 2ms/step - loss: 0.0045 - acc: 1.0000\n",
            "Epoch 27/100\n",
            "14/14 [==============================] - 0s 3ms/step - loss: 0.0035 - acc: 1.0000\n",
            "Epoch 28/100\n",
            "14/14 [==============================] - 0s 2ms/step - loss: 0.0032 - acc: 1.0000\n",
            "Epoch 29/100\n",
            "14/14 [==============================] - 0s 3ms/step - loss: 0.0026 - acc: 1.0000\n",
            "Epoch 30/100\n",
            "14/14 [==============================] - 0s 3ms/step - loss: 0.0026 - acc: 1.0000\n",
            "Epoch 31/100\n",
            "14/14 [==============================] - 0s 2ms/step - loss: 0.0022 - acc: 1.0000\n",
            "Epoch 32/100\n",
            "14/14 [==============================] - 0s 3ms/step - loss: 0.0019 - acc: 1.0000\n",
            "Epoch 33/100\n",
            "14/14 [==============================] - 0s 2ms/step - loss: 0.0016 - acc: 1.0000\n",
            "Epoch 34/100\n",
            "14/14 [==============================] - 0s 3ms/step - loss: 0.0014 - acc: 1.0000\n",
            "Epoch 35/100\n",
            "14/14 [==============================] - 0s 2ms/step - loss: 0.0013 - acc: 1.0000\n",
            "Epoch 36/100\n",
            "14/14 [==============================] - 0s 3ms/step - loss: 0.0012 - acc: 1.0000\n",
            "Epoch 37/100\n",
            "14/14 [==============================] - 0s 2ms/step - loss: 0.0010 - acc: 1.0000\n",
            "Epoch 38/100\n",
            "14/14 [==============================] - 0s 2ms/step - loss: 0.0011 - acc: 1.0000\n",
            "Epoch 39/100\n",
            "14/14 [==============================] - 0s 2ms/step - loss: 9.0026e-04 - acc: 1.0000\n",
            "Epoch 40/100\n",
            "14/14 [==============================] - 0s 2ms/step - loss: 8.0347e-04 - acc: 1.0000\n",
            "Epoch 41/100\n",
            "14/14 [==============================] - 0s 2ms/step - loss: 7.4374e-04 - acc: 1.0000\n",
            "Epoch 42/100\n",
            "14/14 [==============================] - 0s 2ms/step - loss: 6.7357e-04 - acc: 1.0000\n",
            "Epoch 43/100\n",
            "14/14 [==============================] - 0s 3ms/step - loss: 6.2477e-04 - acc: 1.0000\n",
            "Epoch 44/100\n",
            "14/14 [==============================] - 0s 3ms/step - loss: 5.8910e-04 - acc: 1.0000\n",
            "Epoch 45/100\n",
            "14/14 [==============================] - 0s 2ms/step - loss: 5.3885e-04 - acc: 1.0000\n",
            "Epoch 46/100\n",
            "14/14 [==============================] - 0s 2ms/step - loss: 5.0839e-04 - acc: 1.0000\n",
            "Epoch 47/100\n",
            "14/14 [==============================] - 0s 3ms/step - loss: 4.7813e-04 - acc: 1.0000\n",
            "Epoch 48/100\n",
            "14/14 [==============================] - 0s 2ms/step - loss: 4.6563e-04 - acc: 1.0000\n",
            "Epoch 49/100\n",
            "14/14 [==============================] - 0s 3ms/step - loss: 4.3549e-04 - acc: 1.0000\n",
            "Epoch 50/100\n",
            "14/14 [==============================] - 0s 2ms/step - loss: 4.2401e-04 - acc: 1.0000\n",
            "Epoch 51/100\n",
            "14/14 [==============================] - 0s 2ms/step - loss: 3.8001e-04 - acc: 1.0000\n",
            "Epoch 52/100\n",
            "14/14 [==============================] - 0s 2ms/step - loss: 3.6094e-04 - acc: 1.0000\n",
            "Epoch 53/100\n",
            "14/14 [==============================] - 0s 2ms/step - loss: 3.3387e-04 - acc: 1.0000\n",
            "Epoch 54/100\n",
            "14/14 [==============================] - 0s 2ms/step - loss: 3.2228e-04 - acc: 1.0000\n",
            "Epoch 55/100\n",
            "14/14 [==============================] - 0s 2ms/step - loss: 3.0472e-04 - acc: 1.0000\n",
            "Epoch 56/100\n",
            "14/14 [==============================] - 0s 2ms/step - loss: 2.8711e-04 - acc: 1.0000\n",
            "Epoch 57/100\n",
            "14/14 [==============================] - 0s 3ms/step - loss: 2.7725e-04 - acc: 1.0000\n",
            "Epoch 58/100\n",
            "14/14 [==============================] - 0s 2ms/step - loss: 2.5864e-04 - acc: 1.0000\n",
            "Epoch 59/100\n",
            "14/14 [==============================] - 0s 2ms/step - loss: 2.5063e-04 - acc: 1.0000\n",
            "Epoch 60/100\n",
            "14/14 [==============================] - 0s 2ms/step - loss: 2.3989e-04 - acc: 1.0000\n",
            "Epoch 61/100\n",
            "14/14 [==============================] - 0s 3ms/step - loss: 2.2727e-04 - acc: 1.0000\n",
            "Epoch 62/100\n",
            "14/14 [==============================] - 0s 2ms/step - loss: 2.1880e-04 - acc: 1.0000\n",
            "Epoch 63/100\n",
            "14/14 [==============================] - 0s 2ms/step - loss: 2.1376e-04 - acc: 1.0000\n",
            "Epoch 64/100\n",
            "14/14 [==============================] - 0s 2ms/step - loss: 1.9975e-04 - acc: 1.0000\n",
            "Epoch 65/100\n",
            "14/14 [==============================] - 0s 2ms/step - loss: 1.8964e-04 - acc: 1.0000\n",
            "Epoch 66/100\n",
            "14/14 [==============================] - 0s 2ms/step - loss: 1.8915e-04 - acc: 1.0000\n",
            "Epoch 67/100\n",
            "14/14 [==============================] - 0s 3ms/step - loss: 1.7711e-04 - acc: 1.0000\n",
            "Epoch 68/100\n",
            "14/14 [==============================] - 0s 3ms/step - loss: 1.7122e-04 - acc: 1.0000\n",
            "Epoch 69/100\n",
            "14/14 [==============================] - 0s 2ms/step - loss: 1.6512e-04 - acc: 1.0000\n",
            "Epoch 70/100\n",
            "14/14 [==============================] - 0s 2ms/step - loss: 1.5784e-04 - acc: 1.0000\n",
            "Epoch 71/100\n",
            "14/14 [==============================] - 0s 3ms/step - loss: 1.5600e-04 - acc: 1.0000\n",
            "Epoch 72/100\n",
            "14/14 [==============================] - 0s 2ms/step - loss: 1.4573e-04 - acc: 1.0000\n",
            "Epoch 73/100\n",
            "14/14 [==============================] - 0s 2ms/step - loss: 1.3977e-04 - acc: 1.0000\n",
            "Epoch 74/100\n",
            "14/14 [==============================] - 0s 3ms/step - loss: 1.3654e-04 - acc: 1.0000\n",
            "Epoch 75/100\n",
            "14/14 [==============================] - 0s 2ms/step - loss: 1.3211e-04 - acc: 1.0000\n",
            "Epoch 76/100\n",
            "14/14 [==============================] - 0s 2ms/step - loss: 1.2711e-04 - acc: 1.0000\n",
            "Epoch 77/100\n",
            "14/14 [==============================] - 0s 3ms/step - loss: 1.2200e-04 - acc: 1.0000\n",
            "Epoch 78/100\n",
            "14/14 [==============================] - 0s 2ms/step - loss: 1.1942e-04 - acc: 1.0000\n",
            "Epoch 79/100\n",
            "14/14 [==============================] - 0s 2ms/step - loss: 1.1447e-04 - acc: 1.0000\n",
            "Epoch 80/100\n",
            "14/14 [==============================] - 0s 2ms/step - loss: 1.1124e-04 - acc: 1.0000\n",
            "Epoch 81/100\n",
            "14/14 [==============================] - 0s 3ms/step - loss: 1.0736e-04 - acc: 1.0000\n",
            "Epoch 82/100\n",
            "14/14 [==============================] - 0s 2ms/step - loss: 1.0679e-04 - acc: 1.0000\n",
            "Epoch 83/100\n",
            "14/14 [==============================] - 0s 2ms/step - loss: 1.0039e-04 - acc: 1.0000\n",
            "Epoch 84/100\n",
            "14/14 [==============================] - 0s 3ms/step - loss: 1.0303e-04 - acc: 1.0000\n",
            "Epoch 85/100\n",
            "14/14 [==============================] - 0s 2ms/step - loss: 1.1220e-04 - acc: 1.0000\n",
            "Epoch 86/100\n",
            "14/14 [==============================] - 0s 2ms/step - loss: 9.4505e-05 - acc: 1.0000\n",
            "Epoch 87/100\n",
            "14/14 [==============================] - 0s 3ms/step - loss: 9.0787e-05 - acc: 1.0000\n",
            "Epoch 88/100\n",
            "14/14 [==============================] - 0s 2ms/step - loss: 8.8847e-05 - acc: 1.0000\n",
            "Epoch 89/100\n",
            "14/14 [==============================] - 0s 2ms/step - loss: 8.2933e-05 - acc: 1.0000\n",
            "Epoch 90/100\n",
            "14/14 [==============================] - 0s 3ms/step - loss: 8.0905e-05 - acc: 1.0000\n",
            "Epoch 91/100\n",
            "14/14 [==============================] - 0s 4ms/step - loss: 7.8836e-05 - acc: 1.0000\n",
            "Epoch 92/100\n",
            "14/14 [==============================] - 0s 3ms/step - loss: 7.6357e-05 - acc: 1.0000\n",
            "Epoch 93/100\n",
            "14/14 [==============================] - 0s 2ms/step - loss: 7.4021e-05 - acc: 1.0000\n",
            "Epoch 94/100\n",
            "14/14 [==============================] - 0s 2ms/step - loss: 7.2585e-05 - acc: 1.0000\n",
            "Epoch 95/100\n",
            "14/14 [==============================] - 0s 3ms/step - loss: 6.9940e-05 - acc: 1.0000\n",
            "Epoch 96/100\n",
            "14/14 [==============================] - 0s 2ms/step - loss: 6.7837e-05 - acc: 1.0000\n",
            "Epoch 97/100\n",
            "14/14 [==============================] - 0s 3ms/step - loss: 6.6393e-05 - acc: 1.0000\n",
            "Epoch 98/100\n",
            "14/14 [==============================] - 0s 2ms/step - loss: 6.4064e-05 - acc: 1.0000\n",
            "Epoch 99/100\n",
            "14/14 [==============================] - 0s 2ms/step - loss: 6.2812e-05 - acc: 1.0000\n",
            "Epoch 100/100\n",
            "14/14 [==============================] - 0s 2ms/step - loss: 6.2147e-05 - acc: 1.0000\n"
          ]
        }
      ],
      "source": [
        "# Fit the scaled data to the model\n",
        "scaled_fit = model3.fit(scaled_X_train, y_train, epochs=100)"
      ]
    },
    {
      "cell_type": "code",
      "execution_count": null,
      "id": "4ddb9520",
      "metadata": {
        "colab": {
          "base_uri": "https://localhost:8080/"
        },
        "id": "4ddb9520",
        "outputId": "a5f89ab9-5a32-4b12-ef43-7a2c8c8591a9"
      },
      "outputs": [
        {
          "output_type": "stream",
          "name": "stdout",
          "text": [
            "5/5 [==============================] - 0s 2ms/step - loss: 0.2161 - acc: 0.9510\n"
          ]
        }
      ],
      "source": [
        "# Find the accuracy and loss of the scaled model\n",
        "scores3 = model3.evaluate(scaled_X_test, y_test)"
      ]
    },
    {
      "cell_type": "code",
      "execution_count": null,
      "id": "aded00aa",
      "metadata": {
        "colab": {
          "base_uri": "https://localhost:8080/"
        },
        "id": "aded00aa",
        "outputId": "9984b499-a685-4086-d80d-d65e2f73fcf9"
      },
      "outputs": [
        {
          "output_type": "stream",
          "name": "stdout",
          "text": [
            "[0.2160700112581253, 0.9510489702224731]\n"
          ]
        }
      ],
      "source": [
        "# Present the scores found\n",
        "print(scores3)"
      ]
    },
    {
      "cell_type": "markdown",
      "source": [
        "Compared to the original model, the scaled model has a lower loss and a higher accuracy. "
      ],
      "metadata": {
        "id": "3UO8GJmzU-q-"
      },
      "id": "3UO8GJmzU-q-"
    }
  ],
  "metadata": {
    "kernelspec": {
      "display_name": "Python 3 (ipykernel)",
      "language": "python",
      "name": "python3"
    },
    "language_info": {
      "codemirror_mode": {
        "name": "ipython",
        "version": 3
      },
      "file_extension": ".py",
      "mimetype": "text/x-python",
      "name": "python",
      "nbconvert_exporter": "python",
      "pygments_lexer": "ipython3",
      "version": "3.9.7"
    },
    "colab": {
      "name": "Yap_Yoon_DL_Lesson_1_Part_2.ipynb",
      "provenance": []
    }
  },
  "nbformat": 4,
  "nbformat_minor": 5
}