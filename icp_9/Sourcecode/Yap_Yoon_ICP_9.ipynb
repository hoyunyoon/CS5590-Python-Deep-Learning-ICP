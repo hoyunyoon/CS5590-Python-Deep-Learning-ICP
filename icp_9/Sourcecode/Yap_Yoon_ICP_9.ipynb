{
  "nbformat": 4,
  "nbformat_minor": 0,
  "metadata": {
    "colab": {
      "name": "Yap_Yoon_ICP_9.ipynb",
      "provenance": [],
      "collapsed_sections": []
    },
    "kernelspec": {
      "name": "python3",
      "display_name": "Python 3"
    },
    "language_info": {
      "name": "python"
    }
  },
  "cells": [
    {
      "cell_type": "markdown",
      "source": [
        "Martin Yap, Hoyun Yoon ICP 9"
      ],
      "metadata": {
        "id": "5N0b-GzSEP9g"
      }
    },
    {
      "cell_type": "code",
      "execution_count": 1,
      "metadata": {
        "id": "pNly3z4bCX5n"
      },
      "outputs": [],
      "source": [
        "# Import the necessary libraries\n",
        "from tensorflow.keras.datasets import mnist\n",
        "from keras.models import Sequential, Model\n",
        "from keras.layers import Input, Dense, Activation\n",
        "import tensorflow as tf\n",
        "from tensorflow import keras\n",
        "from tensorflow.keras import layers\n",
        "from tensorflow.keras.utils import to_categorical\n",
        "\n",
        "from sklearn.model_selection import train_test_split\n",
        "import pandas as pd\n",
        "import numpy as np\n",
        "import matplotlib.pyplot as plt"
      ]
    },
    {
      "cell_type": "code",
      "source": [
        "# Get the training and testing labels and images from the dataset\n",
        "(train_images, train_labels), (test_images, test_labels) = mnist.load_data()"
      ],
      "metadata": {
        "id": "Labg9Qs9GfzK",
        "colab": {
          "base_uri": "https://localhost:8080/"
        },
        "outputId": "1a5c713c-8bde-4232-e0eb-2b660223ae40"
      },
      "execution_count": 2,
      "outputs": [
        {
          "output_type": "stream",
          "name": "stdout",
          "text": [
            "Downloading data from https://storage.googleapis.com/tensorflow/tf-keras-datasets/mnist.npz\n",
            "11493376/11490434 [==============================] - 0s 0us/step\n",
            "11501568/11490434 [==============================] - 0s 0us/step\n"
          ]
        }
      ]
    },
    {
      "cell_type": "markdown",
      "source": [
        "Preprocess the training and testing data so that the model can read the information"
      ],
      "metadata": {
        "id": "dkadW_rFIKTf"
      }
    },
    {
      "cell_type": "code",
      "source": [
        "# Preprocess the data by converting each image into a single feature\n",
        "dimData = np.prod(train_images.shape[1:])\n",
        "\n",
        "# Form the testing and training data for the model\n",
        "train_data = train_images.reshape(train_images.shape[0], dimData)\n",
        "test_data = test_images.reshape(test_images.shape[0], dimData)"
      ],
      "metadata": {
        "id": "7Z0LUI1eHQz6"
      },
      "execution_count": 3,
      "outputs": []
    },
    {
      "cell_type": "code",
      "source": [
        "# Convert the data to float\n",
        "train_data.astype('float')\n",
        "test_data.astype('float')\n",
        "\n",
        "# Scale the values between 0 and 1\n",
        "train_data = train_data / 255.0\n",
        "test_data = test_data / 255.0"
      ],
      "metadata": {
        "id": "sDu_ZnJfIJH2"
      },
      "execution_count": 4,
      "outputs": []
    },
    {
      "cell_type": "code",
      "source": [
        "# Change labels from integer to one-hot encoding\n",
        "train_labels_one_hot = to_categorical(train_labels)\n",
        "test_labels_one_hot = to_categorical(test_labels)"
      ],
      "metadata": {
        "id": "OKZ1t9sgIqbA"
      },
      "execution_count": 5,
      "outputs": []
    },
    {
      "cell_type": "markdown",
      "source": [
        "Create model and fitting the data"
      ],
      "metadata": {
        "id": "8_QHWwehJFjN"
      }
    },
    {
      "cell_type": "code",
      "source": [
        "# Initialize the model\n",
        "model = Sequential()\n",
        "model.add(Dense(512, activation='relu', input_shape=(dimData,)))\n",
        "model.add(Dense(512, activation='relu'))\n",
        "model.add(Dense(10, activation='softmax'))"
      ],
      "metadata": {
        "id": "69T7kV5xJDeh"
      },
      "execution_count": 6,
      "outputs": []
    },
    {
      "cell_type": "code",
      "source": [
        "# Compile the model\n",
        "model.compile(optimizer='rmsprop', loss='categorical_crossentropy', metrics=['accuracy'])\n",
        "\n",
        "# Fit the model with the data\n",
        "history = model.fit(train_data, train_labels_one_hot, batch_size=256, epochs=20, verbose=1, validation_data=(test_data, test_labels_one_hot))"
      ],
      "metadata": {
        "id": "lhtBo1V3Jm8D",
        "colab": {
          "base_uri": "https://localhost:8080/"
        },
        "outputId": "098c38a7-8b8c-40a8-a3fc-1f20bb43ab90"
      },
      "execution_count": 7,
      "outputs": [
        {
          "output_type": "stream",
          "name": "stdout",
          "text": [
            "Epoch 1/20\n",
            "235/235 [==============================] - 15s 56ms/step - loss: 0.2709 - accuracy: 0.9156 - val_loss: 0.1290 - val_accuracy: 0.9611\n",
            "Epoch 2/20\n",
            "235/235 [==============================] - 10s 43ms/step - loss: 0.0919 - accuracy: 0.9715 - val_loss: 0.0895 - val_accuracy: 0.9738\n",
            "Epoch 3/20\n",
            "235/235 [==============================] - 6s 27ms/step - loss: 0.0579 - accuracy: 0.9815 - val_loss: 0.1007 - val_accuracy: 0.9684\n",
            "Epoch 4/20\n",
            "235/235 [==============================] - 7s 28ms/step - loss: 0.0402 - accuracy: 0.9872 - val_loss: 0.0777 - val_accuracy: 0.9768\n",
            "Epoch 5/20\n",
            "235/235 [==============================] - 7s 28ms/step - loss: 0.0285 - accuracy: 0.9908 - val_loss: 0.0800 - val_accuracy: 0.9779\n",
            "Epoch 6/20\n",
            "235/235 [==============================] - 7s 28ms/step - loss: 0.0204 - accuracy: 0.9933 - val_loss: 0.0988 - val_accuracy: 0.9734\n",
            "Epoch 7/20\n",
            "235/235 [==============================] - 6s 27ms/step - loss: 0.0170 - accuracy: 0.9945 - val_loss: 0.1129 - val_accuracy: 0.9738\n",
            "Epoch 8/20\n",
            "235/235 [==============================] - 6s 28ms/step - loss: 0.0134 - accuracy: 0.9959 - val_loss: 0.0892 - val_accuracy: 0.9802\n",
            "Epoch 9/20\n",
            "235/235 [==============================] - 6s 27ms/step - loss: 0.0111 - accuracy: 0.9963 - val_loss: 0.0780 - val_accuracy: 0.9819\n",
            "Epoch 10/20\n",
            "235/235 [==============================] - 6s 27ms/step - loss: 0.0088 - accuracy: 0.9970 - val_loss: 0.1095 - val_accuracy: 0.9783\n",
            "Epoch 11/20\n",
            "235/235 [==============================] - 6s 27ms/step - loss: 0.0082 - accuracy: 0.9973 - val_loss: 0.0932 - val_accuracy: 0.9818\n",
            "Epoch 12/20\n",
            "235/235 [==============================] - 7s 28ms/step - loss: 0.0078 - accuracy: 0.9976 - val_loss: 0.0979 - val_accuracy: 0.9820\n",
            "Epoch 13/20\n",
            "235/235 [==============================] - 7s 28ms/step - loss: 0.0052 - accuracy: 0.9983 - val_loss: 0.1298 - val_accuracy: 0.9769\n",
            "Epoch 14/20\n",
            "235/235 [==============================] - 7s 28ms/step - loss: 0.0064 - accuracy: 0.9983 - val_loss: 0.0994 - val_accuracy: 0.9841\n",
            "Epoch 15/20\n",
            "235/235 [==============================] - 6s 28ms/step - loss: 0.0052 - accuracy: 0.9985 - val_loss: 0.1283 - val_accuracy: 0.9807\n",
            "Epoch 16/20\n",
            "235/235 [==============================] - 6s 27ms/step - loss: 0.0043 - accuracy: 0.9987 - val_loss: 0.1212 - val_accuracy: 0.9829\n",
            "Epoch 17/20\n",
            "235/235 [==============================] - 7s 29ms/step - loss: 0.0042 - accuracy: 0.9987 - val_loss: 0.1049 - val_accuracy: 0.9859\n",
            "Epoch 18/20\n",
            "235/235 [==============================] - 6s 27ms/step - loss: 0.0045 - accuracy: 0.9987 - val_loss: 0.1276 - val_accuracy: 0.9830\n",
            "Epoch 19/20\n",
            "235/235 [==============================] - 6s 27ms/step - loss: 0.0035 - accuracy: 0.9990 - val_loss: 0.1394 - val_accuracy: 0.9821\n",
            "Epoch 20/20\n",
            "235/235 [==============================] - 6s 28ms/step - loss: 0.0039 - accuracy: 0.9988 - val_loss: 0.1475 - val_accuracy: 0.9815\n"
          ]
        }
      ]
    },
    {
      "cell_type": "code",
      "source": [
        "# Evaluate the model to find the loss and accuracy\n",
        "[test_loss, test_acc] = model.evaluate(test_data, test_labels_one_hot)\n",
        "\n",
        "print(\"Evaluation result on Test Data: Loss = {}, Accuracy = {}\".format(test_loss, test_acc))"
      ],
      "metadata": {
        "colab": {
          "base_uri": "https://localhost:8080/"
        },
        "id": "YEEHcI-2LLCy",
        "outputId": "3dded242-12d0-407e-9556-afff57065c8e"
      },
      "execution_count": 8,
      "outputs": [
        {
          "output_type": "stream",
          "name": "stdout",
          "text": [
            "313/313 [==============================] - 1s 4ms/step - loss: 0.1475 - accuracy: 0.9815\n",
            "Evaluation result on Test Data: Loss = 0.14748309552669525, Accuracy = 0.9815000295639038\n"
          ]
        }
      ]
    },
    {
      "cell_type": "markdown",
      "source": [
        "The original model had an accuracy of about 0.982 and a loss of about 0.147."
      ],
      "metadata": {
        "id": "fqg2Dc3FNSw1"
      }
    },
    {
      "cell_type": "markdown",
      "source": [
        "ICP 9 Tasks"
      ],
      "metadata": {
        "id": "O3_DMorOMgzU"
      }
    },
    {
      "cell_type": "markdown",
      "source": [
        "1) Change number of hidden layers and the activation to tanh or elu"
      ],
      "metadata": {
        "id": "pD50Bi1LM5xF"
      }
    },
    {
      "cell_type": "code",
      "source": [
        "model2 = Sequential()\n",
        "\n",
        "# Using the tanh activation\n",
        "model2.add(Dense(512, activation='tanh', input_shape=(dimData,)))\n",
        "model2.add(Dense(512, activation='tanh'))\n",
        "\n",
        "# Add new hidden layers\n",
        "model2.add(Dense(25, activation='tanh'))\n",
        "model2.add(Dense(15, activation='tanh'))\n",
        "model2.add(Dense(20, activation='tanh'))\n",
        "\n",
        "model2.add(Dense(10, activation='softmax'))"
      ],
      "metadata": {
        "id": "gzcgHixDMiyh"
      },
      "execution_count": 9,
      "outputs": []
    },
    {
      "cell_type": "code",
      "source": [
        "# Compile the model\n",
        "model2.compile(optimizer='rmsprop', loss='categorical_crossentropy', metrics=['accuracy'])\n",
        "\n",
        "# Fit the model with the data\n",
        "history2 = model2.fit(train_data, train_labels_one_hot, batch_size=256, epochs=20, verbose=1, validation_data=(test_data, test_labels_one_hot))"
      ],
      "metadata": {
        "colab": {
          "base_uri": "https://localhost:8080/"
        },
        "id": "_YXBxGkzN9nt",
        "outputId": "75e1327b-f248-4672-9a26-a67276071373"
      },
      "execution_count": 10,
      "outputs": [
        {
          "output_type": "stream",
          "name": "stdout",
          "text": [
            "Epoch 1/20\n",
            "235/235 [==============================] - 8s 29ms/step - loss: 0.6380 - accuracy: 0.8624 - val_loss: 0.4901 - val_accuracy: 0.8646\n",
            "Epoch 2/20\n",
            "235/235 [==============================] - 7s 28ms/step - loss: 0.2202 - accuracy: 0.9423 - val_loss: 0.2177 - val_accuracy: 0.9382\n",
            "Epoch 3/20\n",
            "235/235 [==============================] - 7s 28ms/step - loss: 0.1455 - accuracy: 0.9600 - val_loss: 0.1714 - val_accuracy: 0.9519\n",
            "Epoch 4/20\n",
            "235/235 [==============================] - 7s 28ms/step - loss: 0.1094 - accuracy: 0.9694 - val_loss: 0.1320 - val_accuracy: 0.9620\n",
            "Epoch 5/20\n",
            "235/235 [==============================] - 7s 29ms/step - loss: 0.0849 - accuracy: 0.9766 - val_loss: 0.1680 - val_accuracy: 0.9498\n",
            "Epoch 6/20\n",
            "235/235 [==============================] - 7s 29ms/step - loss: 0.0672 - accuracy: 0.9806 - val_loss: 0.1676 - val_accuracy: 0.9526\n",
            "Epoch 7/20\n",
            "235/235 [==============================] - 7s 29ms/step - loss: 0.0559 - accuracy: 0.9837 - val_loss: 0.1048 - val_accuracy: 0.9694\n",
            "Epoch 8/20\n",
            "235/235 [==============================] - 7s 29ms/step - loss: 0.0458 - accuracy: 0.9862 - val_loss: 0.0970 - val_accuracy: 0.9721\n",
            "Epoch 9/20\n",
            "235/235 [==============================] - 7s 28ms/step - loss: 0.0386 - accuracy: 0.9883 - val_loss: 0.0966 - val_accuracy: 0.9739\n",
            "Epoch 10/20\n",
            "235/235 [==============================] - 7s 28ms/step - loss: 0.0332 - accuracy: 0.9904 - val_loss: 0.0860 - val_accuracy: 0.9782\n",
            "Epoch 11/20\n",
            "235/235 [==============================] - 7s 28ms/step - loss: 0.0269 - accuracy: 0.9922 - val_loss: 0.0952 - val_accuracy: 0.9749\n",
            "Epoch 12/20\n",
            "235/235 [==============================] - 6s 28ms/step - loss: 0.0241 - accuracy: 0.9932 - val_loss: 0.0977 - val_accuracy: 0.9733\n",
            "Epoch 13/20\n",
            "235/235 [==============================] - 7s 28ms/step - loss: 0.0207 - accuracy: 0.9939 - val_loss: 0.1062 - val_accuracy: 0.9717\n",
            "Epoch 14/20\n",
            "235/235 [==============================] - 7s 28ms/step - loss: 0.0181 - accuracy: 0.9948 - val_loss: 0.0908 - val_accuracy: 0.9777\n",
            "Epoch 15/20\n",
            "235/235 [==============================] - 7s 28ms/step - loss: 0.0170 - accuracy: 0.9952 - val_loss: 0.0851 - val_accuracy: 0.9777\n",
            "Epoch 16/20\n",
            "235/235 [==============================] - 6s 27ms/step - loss: 0.0147 - accuracy: 0.9956 - val_loss: 0.0906 - val_accuracy: 0.9780\n",
            "Epoch 17/20\n",
            "235/235 [==============================] - 7s 28ms/step - loss: 0.0127 - accuracy: 0.9965 - val_loss: 0.0904 - val_accuracy: 0.9784\n",
            "Epoch 18/20\n",
            "235/235 [==============================] - 6s 27ms/step - loss: 0.0111 - accuracy: 0.9968 - val_loss: 0.0874 - val_accuracy: 0.9786\n",
            "Epoch 19/20\n",
            "235/235 [==============================] - 6s 27ms/step - loss: 0.0111 - accuracy: 0.9970 - val_loss: 0.0979 - val_accuracy: 0.9774\n",
            "Epoch 20/20\n",
            "235/235 [==============================] - 6s 27ms/step - loss: 0.0095 - accuracy: 0.9972 - val_loss: 0.0941 - val_accuracy: 0.9793\n"
          ]
        }
      ]
    },
    {
      "cell_type": "code",
      "source": [
        "# Evaluate the model to find the loss and accuracy\n",
        "[test_loss2, test_acc2] = model2.evaluate(test_data, test_labels_one_hot)\n",
        "\n",
        "print(\"Evaluation result on Test Data: Loss = {}, Accuracy = {}\".format(test_loss2, test_acc2))"
      ],
      "metadata": {
        "colab": {
          "base_uri": "https://localhost:8080/"
        },
        "id": "Vx248dVbODOa",
        "outputId": "a7e7c857-0ee7-4dcd-eef5-24025e7bcb88"
      },
      "execution_count": 11,
      "outputs": [
        {
          "output_type": "stream",
          "name": "stdout",
          "text": [
            "313/313 [==============================] - 1s 4ms/step - loss: 0.0941 - accuracy: 0.9793\n",
            "Evaluation result on Test Data: Loss = 0.09406201541423798, Accuracy = 0.9793000221252441\n"
          ]
        }
      ]
    },
    {
      "cell_type": "markdown",
      "source": [
        "The new model had an accuracy of about 0.979 and a loss of about 0.0941. By changing the activation from relu to tanh and adding more dense layers, we were able to see that the model had a lower accuracy and lower loss compared to the original model. \n"
      ],
      "metadata": {
        "id": "dqkjC96jQySK"
      }
    },
    {
      "cell_type": "markdown",
      "source": [
        "2) Plot the loss and accuracy for both training and testing data"
      ],
      "metadata": {
        "id": "sole9eBARf6S"
      }
    },
    {
      "cell_type": "code",
      "source": [
        "# check key values \n",
        "print(history.history.keys())"
      ],
      "metadata": {
        "colab": {
          "base_uri": "https://localhost:8080/"
        },
        "id": "TAEk2ZowfCQv",
        "outputId": "94f27c20-0888-4617-ccbc-d9a54c12f1bc"
      },
      "execution_count": 12,
      "outputs": [
        {
          "output_type": "stream",
          "name": "stdout",
          "text": [
            "dict_keys(['loss', 'accuracy', 'val_loss', 'val_accuracy'])\n"
          ]
        }
      ]
    },
    {
      "cell_type": "code",
      "source": [
        "#Plot the accuracies of the training and testing datasets from the history object\n",
        "plt.plot(history.history['accuracy'])\n",
        "plt.plot(history.history['val_accuracy'])\n",
        "\n",
        "#Modify the graph to have the correct labels\n",
        "plt.title('Fitted Model Accuracy')\n",
        "plt.ylabel('Accuracy')\n",
        "plt.xlabel('Epoch')\n",
        "plt.legend(['train', 'test'])\n",
        "plt.show()"
      ],
      "metadata": {
        "id": "ZpEC8cveRm5g",
        "colab": {
          "base_uri": "https://localhost:8080/",
          "height": 295
        },
        "outputId": "9c785997-767c-4066-8645-5c469ab0adc9"
      },
      "execution_count": 13,
      "outputs": [
        {
          "output_type": "display_data",
          "data": {
            "text/plain": [
              "<Figure size 432x288 with 1 Axes>"
            ],
            "image/png": "[encoded data removed]"
          },
          "metadata": {
            "needs_background": "light"
          }
        }
      ]
    },
    {
      "cell_type": "code",
      "source": [
        "#Plot the losses of the training and testing datasets from the history object\n",
        "plt.plot(history.history['loss'])\n",
        "plt.plot(history.history['val_loss'])\n",
        "\n",
        "#Modify the graph to have the correct labels\n",
        "plt.title('Fitted Model Loss')\n",
        "plt.ylabel('Loss')\n",
        "plt.xlabel('Epoch')\n",
        "plt.legend(['train', 'test'])\n",
        "plt.show()"
      ],
      "metadata": {
        "colab": {
          "base_uri": "https://localhost:8080/",
          "height": 295
        },
        "id": "yl62U-V_hkoX",
        "outputId": "580c9aab-974b-4887-bade-959750f4f8e1"
      },
      "execution_count": 14,
      "outputs": [
        {
          "output_type": "display_data",
          "data": {
            "text/plain": [
              "<Figure size 432x288 with 1 Axes>"
            ],
            "image/png": "[encoded data removed]"
          },
          "metadata": {
            "needs_background": "light"
          }
        }
      ]
    },
    {
      "cell_type": "markdown",
      "source": [
        "Looking at the graphs for accuracy and loss for the history object, we can see that the training and testing lines follow similar waveforms in the accuracy graph, but differ in the loss graph. With the training data, the accuracy increases and then plateaus when approaching 1.0 while the loss decreases and plateaus when approaching 0.0. The training data also produced smooth curves and show distinct plateaus as epoch increases. The testing data does show similar behaviors in the beginning for both accuracy and loss; however after a certain point, the testing data is a bit more scattered and does not form a smooth plateau like the training data does. "
      ],
      "metadata": {
        "id": "nEdGEQLKjHaj"
      }
    },
    {
      "cell_type": "markdown",
      "source": [
        "3) Run the same code without scaling the images"
      ],
      "metadata": {
        "id": "qckK_NWTzZsG"
      }
    },
    {
      "cell_type": "code",
      "source": [
        "# Get nonscaled training and testing datasets\n",
        "train_data2 = train_images.reshape(train_images.shape[0], dimData)\n",
        "test_data2 = test_images.reshape(test_images.shape[0], dimData)"
      ],
      "metadata": {
        "id": "oF6XfCqqzkXU"
      },
      "execution_count": 15,
      "outputs": []
    },
    {
      "cell_type": "code",
      "source": [
        "# Initialize the model\n",
        "model3 = Sequential()\n",
        "model3.add(Dense(512, activation='relu', input_shape=(dimData,)))\n",
        "model3.add(Dense(512, activation='relu'))\n",
        "model3.add(Dense(10, activation='softmax'))"
      ],
      "metadata": {
        "id": "OGpKoVgzbNNY"
      },
      "execution_count": 16,
      "outputs": []
    },
    {
      "cell_type": "code",
      "source": [
        "# Compile the model\n",
        "model3.compile(optimizer='rmsprop', loss='categorical_crossentropy', metrics=['accuracy'])\n",
        "\n",
        "# Fit the model with the data\n",
        "history3 = model3.fit(train_data2, train_labels_one_hot, batch_size=256, epochs=20, verbose=1, validation_data=(test_data2, test_labels_one_hot))"
      ],
      "metadata": {
        "colab": {
          "base_uri": "https://localhost:8080/"
        },
        "id": "XDPPHXgldqnM",
        "outputId": "70d42a56-1fb8-4779-9c4e-6bab4f3bd79c"
      },
      "execution_count": 17,
      "outputs": [
        {
          "output_type": "stream",
          "name": "stdout",
          "text": [
            "Epoch 1/20\n",
            "235/235 [==============================] - 7s 28ms/step - loss: 6.4745 - accuracy: 0.8731 - val_loss: 1.0136 - val_accuracy: 0.9014\n",
            "Epoch 2/20\n",
            "235/235 [==============================] - 6s 27ms/step - loss: 0.4307 - accuracy: 0.9444 - val_loss: 0.3227 - val_accuracy: 0.9453\n",
            "Epoch 3/20\n",
            "235/235 [==============================] - 6s 27ms/step - loss: 0.2200 - accuracy: 0.9599 - val_loss: 0.3776 - val_accuracy: 0.9430\n",
            "Epoch 4/20\n",
            "235/235 [==============================] - 6s 27ms/step - loss: 0.1684 - accuracy: 0.9674 - val_loss: 0.3040 - val_accuracy: 0.9548\n",
            "Epoch 5/20\n",
            "235/235 [==============================] - 6s 27ms/step - loss: 0.1400 - accuracy: 0.9726 - val_loss: 0.2604 - val_accuracy: 0.9598\n",
            "Epoch 6/20\n",
            "235/235 [==============================] - 6s 27ms/step - loss: 0.1327 - accuracy: 0.9762 - val_loss: 0.2856 - val_accuracy: 0.9602\n",
            "Epoch 7/20\n",
            "235/235 [==============================] - 6s 27ms/step - loss: 0.1403 - accuracy: 0.9780 - val_loss: 0.3107 - val_accuracy: 0.9619\n",
            "Epoch 8/20\n",
            "235/235 [==============================] - 6s 27ms/step - loss: 0.1226 - accuracy: 0.9801 - val_loss: 0.4404 - val_accuracy: 0.9611\n",
            "Epoch 9/20\n",
            "235/235 [==============================] - 6s 27ms/step - loss: 0.1180 - accuracy: 0.9829 - val_loss: 0.4470 - val_accuracy: 0.9648\n",
            "Epoch 10/20\n",
            "235/235 [==============================] - 6s 27ms/step - loss: 0.1101 - accuracy: 0.9844 - val_loss: 0.3273 - val_accuracy: 0.9674\n",
            "Epoch 11/20\n",
            "235/235 [==============================] - 6s 27ms/step - loss: 0.0997 - accuracy: 0.9865 - val_loss: 0.4554 - val_accuracy: 0.9645\n",
            "Epoch 12/20\n",
            "235/235 [==============================] - 6s 27ms/step - loss: 0.0957 - accuracy: 0.9869 - val_loss: 0.3452 - val_accuracy: 0.9734\n",
            "Epoch 13/20\n",
            "235/235 [==============================] - 6s 27ms/step - loss: 0.1037 - accuracy: 0.9868 - val_loss: 0.4427 - val_accuracy: 0.9713\n",
            "Epoch 14/20\n",
            "235/235 [==============================] - 6s 27ms/step - loss: 0.1065 - accuracy: 0.9881 - val_loss: 0.4043 - val_accuracy: 0.9719\n",
            "Epoch 15/20\n",
            "235/235 [==============================] - 6s 27ms/step - loss: 0.0945 - accuracy: 0.9890 - val_loss: 0.4798 - val_accuracy: 0.9701\n",
            "Epoch 16/20\n",
            "235/235 [==============================] - 6s 27ms/step - loss: 0.0939 - accuracy: 0.9901 - val_loss: 0.4773 - val_accuracy: 0.9757\n",
            "Epoch 17/20\n",
            "235/235 [==============================] - 6s 27ms/step - loss: 0.0900 - accuracy: 0.9908 - val_loss: 0.5283 - val_accuracy: 0.9717\n",
            "Epoch 18/20\n",
            "235/235 [==============================] - 7s 29ms/step - loss: 0.0880 - accuracy: 0.9915 - val_loss: 0.6277 - val_accuracy: 0.9753\n",
            "Epoch 19/20\n",
            "235/235 [==============================] - 6s 27ms/step - loss: 0.0849 - accuracy: 0.9919 - val_loss: 0.4566 - val_accuracy: 0.9761\n",
            "Epoch 20/20\n",
            "235/235 [==============================] - 6s 27ms/step - loss: 0.0838 - accuracy: 0.9918 - val_loss: 0.7043 - val_accuracy: 0.9701\n"
          ]
        }
      ]
    },
    {
      "cell_type": "code",
      "source": [
        "# Evaluate the model to find the loss and accuracy\n",
        "[test_loss3, test_acc3] = model3.evaluate(test_data2, test_labels_one_hot)\n",
        "\n",
        "print(\"Evaluation result on Test Data: Loss = {}, Accuracy = {}\".format(test_loss3, test_acc3))"
      ],
      "metadata": {
        "colab": {
          "base_uri": "https://localhost:8080/"
        },
        "id": "txBUivFDd8wu",
        "outputId": "4303eecd-2257-44dd-d56f-5f0aa7054424"
      },
      "execution_count": 18,
      "outputs": [
        {
          "output_type": "stream",
          "name": "stdout",
          "text": [
            "313/313 [==============================] - 1s 4ms/step - loss: 0.7043 - accuracy: 0.9701\n",
            "Evaluation result on Test Data: Loss = 0.7043426632881165, Accuracy = 0.9700999855995178\n"
          ]
        }
      ]
    },
    {
      "cell_type": "markdown",
      "source": [
        "Compared to the original model, the model without scaling the images had a lower accuracy with a value of 0.97 and a higher loss with a value of 0.704. \n"
      ],
      "metadata": {
        "id": "LjwUjZPBsCjF"
      }
    },
    {
      "cell_type": "markdown",
      "source": [
        "4) Convert the sequential model to a functional API model"
      ],
      "metadata": {
        "id": "q3UZHxCttF4_"
      }
    },
    {
      "cell_type": "code",
      "source": [
        "# Form the functional API model using the same settings as the sequential model\n",
        "input_layer = Input(shape=(dimData,))\n",
        "hidden_layer1 = Dense(512, activation='relu')(input_layer)\n",
        "hidden_layer2 = Dense(512, activation='relu')(hidden_layer1)\n",
        "out_layer = Dense(10, activation='softmax')(hidden_layer2)"
      ],
      "metadata": {
        "id": "qIme6FXftO8W"
      },
      "execution_count": 40,
      "outputs": []
    },
    {
      "cell_type": "code",
      "source": [
        "# Create the model by specifying the input and output in the layers\n",
        "model4 = keras.Model(inputs=input_layer, outputs=out_layer, name=\"mnist_functional_model\")"
      ],
      "metadata": {
        "id": "p5uTlWniIuTn"
      },
      "execution_count": 41,
      "outputs": []
    },
    {
      "cell_type": "code",
      "source": [
        "# Compile the model with the loss, optimizer, and metrics used in the sequential model\n",
        "model4.compile(optimizer='rmsprop', loss='categorical_crossentropy', metrics=['accuracy'])\n",
        "\n",
        "# Fit the data to the model\n",
        "history4 = model4.fit(train_data, train_labels_one_hot, batch_size=256, epochs=20, verbose=1, validation_data=(test_data, test_labels_one_hot))"
      ],
      "metadata": {
        "colab": {
          "base_uri": "https://localhost:8080/"
        },
        "id": "S-F_02gpJO4E",
        "outputId": "6b85dd47-bbf1-4039-ce80-adce8b9ea3cd"
      },
      "execution_count": 42,
      "outputs": [
        {
          "output_type": "stream",
          "name": "stdout",
          "text": [
            "Epoch 1/20\n",
            "235/235 [==============================] - 7s 29ms/step - loss: 0.2701 - accuracy: 0.9164 - val_loss: 0.1450 - val_accuracy: 0.9533\n",
            "Epoch 2/20\n",
            "235/235 [==============================] - 6s 27ms/step - loss: 0.0923 - accuracy: 0.9713 - val_loss: 0.0894 - val_accuracy: 0.9716\n",
            "Epoch 3/20\n",
            "235/235 [==============================] - 6s 27ms/step - loss: 0.0580 - accuracy: 0.9818 - val_loss: 0.0783 - val_accuracy: 0.9763\n",
            "Epoch 4/20\n",
            "235/235 [==============================] - 6s 27ms/step - loss: 0.0398 - accuracy: 0.9876 - val_loss: 0.0927 - val_accuracy: 0.9727\n",
            "Epoch 5/20\n",
            "235/235 [==============================] - 6s 28ms/step - loss: 0.0285 - accuracy: 0.9906 - val_loss: 0.0671 - val_accuracy: 0.9807\n",
            "Epoch 6/20\n",
            "235/235 [==============================] - 6s 28ms/step - loss: 0.0225 - accuracy: 0.9927 - val_loss: 0.0694 - val_accuracy: 0.9813\n",
            "Epoch 7/20\n",
            "235/235 [==============================] - 8s 33ms/step - loss: 0.0161 - accuracy: 0.9945 - val_loss: 0.0821 - val_accuracy: 0.9816\n",
            "Epoch 8/20\n",
            "235/235 [==============================] - 6s 27ms/step - loss: 0.0130 - accuracy: 0.9958 - val_loss: 0.0942 - val_accuracy: 0.9786\n",
            "Epoch 9/20\n",
            "235/235 [==============================] - 6s 28ms/step - loss: 0.0114 - accuracy: 0.9963 - val_loss: 0.0788 - val_accuracy: 0.9826\n",
            "Epoch 10/20\n",
            "235/235 [==============================] - 7s 31ms/step - loss: 0.0099 - accuracy: 0.9967 - val_loss: 0.0872 - val_accuracy: 0.9840\n",
            "Epoch 11/20\n",
            "235/235 [==============================] - 7s 28ms/step - loss: 0.0073 - accuracy: 0.9974 - val_loss: 0.0886 - val_accuracy: 0.9841\n",
            "Epoch 12/20\n",
            "235/235 [==============================] - 7s 28ms/step - loss: 0.0065 - accuracy: 0.9977 - val_loss: 0.1090 - val_accuracy: 0.9805\n",
            "Epoch 13/20\n",
            "235/235 [==============================] - 7s 30ms/step - loss: 0.0061 - accuracy: 0.9981 - val_loss: 0.0862 - val_accuracy: 0.9825\n",
            "Epoch 14/20\n",
            "235/235 [==============================] - 7s 29ms/step - loss: 0.0056 - accuracy: 0.9982 - val_loss: 0.0943 - val_accuracy: 0.9853\n",
            "Epoch 15/20\n",
            "235/235 [==============================] - 6s 27ms/step - loss: 0.0049 - accuracy: 0.9984 - val_loss: 0.0952 - val_accuracy: 0.9838\n",
            "Epoch 16/20\n",
            "235/235 [==============================] - 6s 27ms/step - loss: 0.0048 - accuracy: 0.9984 - val_loss: 0.1058 - val_accuracy: 0.9848\n",
            "Epoch 17/20\n",
            "235/235 [==============================] - 6s 27ms/step - loss: 0.0047 - accuracy: 0.9986 - val_loss: 0.1325 - val_accuracy: 0.9824\n",
            "Epoch 18/20\n",
            "235/235 [==============================] - 7s 28ms/step - loss: 0.0051 - accuracy: 0.9985 - val_loss: 0.1175 - val_accuracy: 0.9832\n",
            "Epoch 19/20\n",
            "235/235 [==============================] - 7s 28ms/step - loss: 0.0034 - accuracy: 0.9989 - val_loss: 0.1215 - val_accuracy: 0.9845\n",
            "Epoch 20/20\n",
            "235/235 [==============================] - 6s 27ms/step - loss: 0.0040 - accuracy: 0.9988 - val_loss: 0.1297 - val_accuracy: 0.9810\n"
          ]
        }
      ]
    },
    {
      "cell_type": "code",
      "source": [
        "# Evaluate the accuracy and loss for the model\n",
        "[test_loss4, test_acc4] = model4.evaluate(test_data, test_labels_one_hot)\n",
        "\n",
        "print(\"Evaluation result on Test Data: Loss = {}, Accuracy = {}\".format(test_loss4, test_acc4))"
      ],
      "metadata": {
        "colab": {
          "base_uri": "https://localhost:8080/"
        },
        "id": "vy2OqtXEL9eC",
        "outputId": "6c1ef3e8-46ec-48f2-93a5-fd6b157191f3"
      },
      "execution_count": 43,
      "outputs": [
        {
          "output_type": "stream",
          "name": "stdout",
          "text": [
            "313/313 [==============================] - 1s 4ms/step - loss: 0.1297 - accuracy: 0.9810\n",
            "Evaluation result on Test Data: Loss = 0.12972307205200195, Accuracy = 0.9810000061988831\n"
          ]
        }
      ]
    },
    {
      "cell_type": "markdown",
      "source": [
        "Compared to the sequential model, the functional model has a similar accuracy value of about 0.98 and a lower loss value of 0.13."
      ],
      "metadata": {
        "id": "2hhc78yXSjlK"
      }
    },
    {
      "cell_type": "markdown",
      "source": [
        "5) Plot an image from the test data and do inferencing to check the model's prediction on the image"
      ],
      "metadata": {
        "id": "lAsPF8Y1S2iK"
      }
    },
    {
      "cell_type": "code",
      "source": [
        "# Pick an image from the test images and show its label\n",
        "plt.imshow(test_images[5,:,:], cmap='gray')\n",
        "plt.title('Ground Truth: {}'.format(test_labels[5]))"
      ],
      "metadata": {
        "colab": {
          "base_uri": "https://localhost:8080/",
          "height": 298
        },
        "id": "xq0Tvq9STE8z",
        "outputId": "d893667a-5ecb-47fd-f117-bb2aac5387ec"
      },
      "execution_count": 23,
      "outputs": [
        {
          "output_type": "execute_result",
          "data": {
            "text/plain": [
              "Text(0.5, 1.0, 'Ground Truth: 1')"
            ]
          },
          "metadata": {},
          "execution_count": 23
        },
        {
          "output_type": "display_data",
          "data": {
            "text/plain": [
              "<Figure size 432x288 with 1 Axes>"
            ],
            "image/png": "[encoded data removed]"
          },
          "metadata": {
            "needs_background": "light"
          }
        }
      ]
    },
    {
      "cell_type": "code",
      "source": [
        "# predict_classes method was not working so had to use the predict and argmax methods to get the model's prediction\n",
        "\n",
        "# Send the corresponding image from the test dataset and have the model predict the resulting class\n",
        "pred = model.predict(test_data[[5],:])\n",
        "classes = np.argmax(pred, axis = 1)\n",
        "\n",
        "# Show what the model predicted\n",
        "print(\"The model identified the image to be a {}.\".format(classes))"
      ],
      "metadata": {
        "colab": {
          "base_uri": "https://localhost:8080/"
        },
        "id": "j22Hie8EVqjx",
        "outputId": "29710d69-5a52-43f6-cd98-20cc30d8ecf5"
      },
      "execution_count": 24,
      "outputs": [
        {
          "output_type": "stream",
          "name": "stdout",
          "text": [
            "The model identified the image to be a [1].\n"
          ]
        }
      ]
    },
    {
      "cell_type": "markdown",
      "source": [
        "Extra Credit"
      ],
      "metadata": {
        "id": "MwEEPncVgla7"
      }
    },
    {
      "cell_type": "markdown",
      "source": [
        "1) Change the loss method to sparce categorical cross entropy"
      ],
      "metadata": {
        "id": "cWrusssYgqDD"
      }
    },
    {
      "cell_type": "code",
      "source": [
        "# Initialize the model\n",
        "model5 = Sequential()\n",
        "model5.add(Dense(512, activation='relu', input_shape=(dimData,)))\n",
        "model5.add(Dense(512, activation='relu'))\n",
        "model5.add(Dense(10, activation='softmax'))"
      ],
      "metadata": {
        "id": "_rYhK2fJgxnE"
      },
      "execution_count": 25,
      "outputs": []
    },
    {
      "cell_type": "code",
      "source": [
        "# Code in this segment is meant to see the error detected by the code when using the sparse categorical cross entropy method.\n",
        "\n",
        "# Compile the model\n",
        "model5.compile(optimizer='rmsprop', loss='sparse_categorical_crossentropy', metrics=['accuracy'])\n",
        "\n",
        "# Fit the model with the data\n",
        "history5 = model5.fit(train_data, train_labels_one_hot, batch_size=256, epochs=20, verbose=1, validation_data=(test_data, test_labels_one_hot))"
      ],
      "metadata": {
        "colab": {
          "base_uri": "https://localhost:8080/",
          "height": 1000
        },
        "id": "GG-Ah0Awg0Az",
        "outputId": "4d05b8d5-a890-49ec-9f50-bc9bea4e3224"
      },
      "execution_count": 26,
      "outputs": [
        {
          "output_type": "stream",
          "name": "stdout",
          "text": [
            "Epoch 1/20\n"
          ]
        },
        {
          "output_type": "error",
          "ename": "InvalidArgumentError",
          "evalue": "ignored",
          "traceback": [
            "\u001b[0;31m---------------------------------------------------------------------------\u001b[0m",
            "\u001b[0;31mInvalidArgumentError\u001b[0m                      Traceback (most recent call last)",
            "\u001b[0;32m<ipython-input-26-00e5b55cb45b>\u001b[0m in \u001b[0;36m<module>\u001b[0;34m()\u001b[0m\n\u001b[1;32m      5\u001b[0m \u001b[0;34m\u001b[0m\u001b[0m\n\u001b[1;32m      6\u001b[0m \u001b[0;31m# Fit the model with the data\u001b[0m\u001b[0;34m\u001b[0m\u001b[0;34m\u001b[0m\u001b[0;34m\u001b[0m\u001b[0m\n\u001b[0;32m----> 7\u001b[0;31m \u001b[0mhistory5\u001b[0m \u001b[0;34m=\u001b[0m \u001b[0mmodel5\u001b[0m\u001b[0;34m.\u001b[0m\u001b[0mfit\u001b[0m\u001b[0;34m(\u001b[0m\u001b[0mtrain_data\u001b[0m\u001b[0;34m,\u001b[0m \u001b[0mtrain_labels_one_hot\u001b[0m\u001b[0;34m,\u001b[0m \u001b[0mbatch_size\u001b[0m\u001b[0;34m=\u001b[0m\u001b[0;36m256\u001b[0m\u001b[0;34m,\u001b[0m \u001b[0mepochs\u001b[0m\u001b[0;34m=\u001b[0m\u001b[0;36m20\u001b[0m\u001b[0;34m,\u001b[0m \u001b[0mverbose\u001b[0m\u001b[0;34m=\u001b[0m\u001b[0;36m1\u001b[0m\u001b[0;34m,\u001b[0m \u001b[0mvalidation_data\u001b[0m\u001b[0;34m=\u001b[0m\u001b[0;34m(\u001b[0m\u001b[0mtest_data\u001b[0m\u001b[0;34m,\u001b[0m \u001b[0mtest_labels_one_hot\u001b[0m\u001b[0;34m)\u001b[0m\u001b[0;34m)\u001b[0m\u001b[0;34m\u001b[0m\u001b[0;34m\u001b[0m\u001b[0m\n\u001b[0m",
            "\u001b[0;32m/usr/local/lib/python3.7/dist-packages/keras/utils/traceback_utils.py\u001b[0m in \u001b[0;36merror_handler\u001b[0;34m(*args, **kwargs)\u001b[0m\n\u001b[1;32m     65\u001b[0m     \u001b[0;32mexcept\u001b[0m \u001b[0mException\u001b[0m \u001b[0;32mas\u001b[0m \u001b[0me\u001b[0m\u001b[0;34m:\u001b[0m  \u001b[0;31m# pylint: disable=broad-except\u001b[0m\u001b[0;34m\u001b[0m\u001b[0;34m\u001b[0m\u001b[0m\n\u001b[1;32m     66\u001b[0m       \u001b[0mfiltered_tb\u001b[0m \u001b[0;34m=\u001b[0m \u001b[0m_process_traceback_frames\u001b[0m\u001b[0;34m(\u001b[0m\u001b[0me\u001b[0m\u001b[0;34m.\u001b[0m\u001b[0m__traceback__\u001b[0m\u001b[0;34m)\u001b[0m\u001b[0;34m\u001b[0m\u001b[0;34m\u001b[0m\u001b[0m\n\u001b[0;32m---> 67\u001b[0;31m       \u001b[0;32mraise\u001b[0m \u001b[0me\u001b[0m\u001b[0;34m.\u001b[0m\u001b[0mwith_traceback\u001b[0m\u001b[0;34m(\u001b[0m\u001b[0mfiltered_tb\u001b[0m\u001b[0;34m)\u001b[0m \u001b[0;32mfrom\u001b[0m \u001b[0;32mNone\u001b[0m\u001b[0;34m\u001b[0m\u001b[0;34m\u001b[0m\u001b[0m\n\u001b[0m\u001b[1;32m     68\u001b[0m     \u001b[0;32mfinally\u001b[0m\u001b[0;34m:\u001b[0m\u001b[0;34m\u001b[0m\u001b[0;34m\u001b[0m\u001b[0m\n\u001b[1;32m     69\u001b[0m       \u001b[0;32mdel\u001b[0m \u001b[0mfiltered_tb\u001b[0m\u001b[0;34m\u001b[0m\u001b[0;34m\u001b[0m\u001b[0m\n",
            "\u001b[0;32m/usr/local/lib/python3.7/dist-packages/tensorflow/python/eager/execute.py\u001b[0m in \u001b[0;36mquick_execute\u001b[0;34m(op_name, num_outputs, inputs, attrs, ctx, name)\u001b[0m\n\u001b[1;32m     53\u001b[0m     \u001b[0mctx\u001b[0m\u001b[0;34m.\u001b[0m\u001b[0mensure_initialized\u001b[0m\u001b[0;34m(\u001b[0m\u001b[0;34m)\u001b[0m\u001b[0;34m\u001b[0m\u001b[0;34m\u001b[0m\u001b[0m\n\u001b[1;32m     54\u001b[0m     tensors = pywrap_tfe.TFE_Py_Execute(ctx._handle, device_name, op_name,\n\u001b[0;32m---> 55\u001b[0;31m                                         inputs, attrs, num_outputs)\n\u001b[0m\u001b[1;32m     56\u001b[0m   \u001b[0;32mexcept\u001b[0m \u001b[0mcore\u001b[0m\u001b[0;34m.\u001b[0m\u001b[0m_NotOkStatusException\u001b[0m \u001b[0;32mas\u001b[0m \u001b[0me\u001b[0m\u001b[0;34m:\u001b[0m\u001b[0;34m\u001b[0m\u001b[0;34m\u001b[0m\u001b[0m\n\u001b[1;32m     57\u001b[0m     \u001b[0;32mif\u001b[0m \u001b[0mname\u001b[0m \u001b[0;32mis\u001b[0m \u001b[0;32mnot\u001b[0m \u001b[0;32mNone\u001b[0m\u001b[0;34m:\u001b[0m\u001b[0;34m\u001b[0m\u001b[0;34m\u001b[0m\u001b[0m\n",
            "\u001b[0;31mInvalidArgumentError\u001b[0m: Graph execution error:\n\nDetected at node 'sparse_categorical_crossentropy/SparseSoftmaxCrossEntropyWithLogits/SparseSoftmaxCrossEntropyWithLogits' defined at (most recent call last):\n    File \"/usr/lib/python3.7/runpy.py\", line 193, in _run_module_as_main\n      \"__main__\", mod_spec)\n    File \"/usr/lib/python3.7/runpy.py\", line 85, in _run_code\n      exec(code, run_globals)\n    File \"/usr/local/lib/python3.7/dist-packages/ipykernel_launcher.py\", line 16, in <module>\n      app.launch_new_instance()\n    File \"/usr/local/lib/python3.7/dist-packages/traitlets/config/application.py\", line 846, in launch_instance\n      app.start()\n    File \"/usr/local/lib/python3.7/dist-packages/ipykernel/kernelapp.py\", line 499, in start\n      self.io_loop.start()\n    File \"/usr/local/lib/python3.7/dist-packages/tornado/platform/asyncio.py\", line 132, in start\n      self.asyncio_loop.run_forever()\n    File \"/usr/lib/python3.7/asyncio/base_events.py\", line 541, in run_forever\n      self._run_once()\n    File \"/usr/lib/python3.7/asyncio/base_events.py\", line 1786, in _run_once\n      handle._run()\n    File \"/usr/lib/python3.7/asyncio/events.py\", line 88, in _run\n      self._context.run(self._callback, *self._args)\n    File \"/usr/local/lib/python3.7/dist-packages/tornado/platform/asyncio.py\", line 122, in _handle_events\n      handler_func(fileobj, events)\n    File \"/usr/local/lib/python3.7/dist-packages/tornado/stack_context.py\", line 300, in null_wrapper\n      return fn(*args, **kwargs)\n    File \"/usr/local/lib/python3.7/dist-packages/zmq/eventloop/zmqstream.py\", line 452, in _handle_events\n      self._handle_recv()\n    File \"/usr/local/lib/python3.7/dist-packages/zmq/eventloop/zmqstream.py\", line 481, in _handle_recv\n      self._run_callback(callback, msg)\n    File \"/usr/local/lib/python3.7/dist-packages/zmq/eventloop/zmqstream.py\", line 431, in _run_callback\n      callback(*args, **kwargs)\n    File \"/usr/local/lib/python3.7/dist-packages/tornado/stack_context.py\", line 300, in null_wrapper\n      return fn(*args, **kwargs)\n    File \"/usr/local/lib/python3.7/dist-packages/ipykernel/kernelbase.py\", line 283, in dispatcher\n      return self.dispatch_shell(stream, msg)\n    File \"/usr/local/lib/python3.7/dist-packages/ipykernel/kernelbase.py\", line 233, in dispatch_shell\n      handler(stream, idents, msg)\n    File \"/usr/local/lib/python3.7/dist-packages/ipykernel/kernelbase.py\", line 399, in execute_request\n      user_expressions, allow_stdin)\n    File \"/usr/local/lib/python3.7/dist-packages/ipykernel/ipkernel.py\", line 208, in do_execute\n      res = shell.run_cell(code, store_history=store_history, silent=silent)\n    File \"/usr/local/lib/python3.7/dist-packages/ipykernel/zmqshell.py\", line 537, in run_cell\n      return super(ZMQInteractiveShell, self).run_cell(*args, **kwargs)\n    File \"/usr/local/lib/python3.7/dist-packages/IPython/core/interactiveshell.py\", line 2718, in run_cell\n      interactivity=interactivity, compiler=compiler, result=result)\n    File \"/usr/local/lib/python3.7/dist-packages/IPython/core/interactiveshell.py\", line 2822, in run_ast_nodes\n      if self.run_code(code, result):\n    File \"/usr/local/lib/python3.7/dist-packages/IPython/core/interactiveshell.py\", line 2882, in run_code\n      exec(code_obj, self.user_global_ns, self.user_ns)\n    File \"<ipython-input-26-00e5b55cb45b>\", line 7, in <module>\n      history5 = model5.fit(train_data, train_labels_one_hot, batch_size=256, epochs=20, verbose=1, validation_data=(test_data, test_labels_one_hot))\n    File \"/usr/local/lib/python3.7/dist-packages/keras/utils/traceback_utils.py\", line 64, in error_handler\n      return fn(*args, **kwargs)\n    File \"/usr/local/lib/python3.7/dist-packages/keras/engine/training.py\", line 1384, in fit\n      tmp_logs = self.train_function(iterator)\n    File \"/usr/local/lib/python3.7/dist-packages/keras/engine/training.py\", line 1021, in train_function\n      return step_function(self, iterator)\n    File \"/usr/local/lib/python3.7/dist-packages/keras/engine/training.py\", line 1010, in step_function\n      outputs = model.distribute_strategy.run(run_step, args=(data,))\n    File \"/usr/local/lib/python3.7/dist-packages/keras/engine/training.py\", line 1000, in run_step\n      outputs = model.train_step(data)\n    File \"/usr/local/lib/python3.7/dist-packages/keras/engine/training.py\", line 860, in train_step\n      loss = self.compute_loss(x, y, y_pred, sample_weight)\n    File \"/usr/local/lib/python3.7/dist-packages/keras/engine/training.py\", line 919, in compute_loss\n      y, y_pred, sample_weight, regularization_losses=self.losses)\n    File \"/usr/local/lib/python3.7/dist-packages/keras/engine/compile_utils.py\", line 201, in __call__\n      loss_value = loss_obj(y_t, y_p, sample_weight=sw)\n    File \"/usr/local/lib/python3.7/dist-packages/keras/losses.py\", line 141, in __call__\n      losses = call_fn(y_true, y_pred)\n    File \"/usr/local/lib/python3.7/dist-packages/keras/losses.py\", line 245, in call\n      return ag_fn(y_true, y_pred, **self._fn_kwargs)\n    File \"/usr/local/lib/python3.7/dist-packages/keras/losses.py\", line 1863, in sparse_categorical_crossentropy\n      y_true, y_pred, from_logits=from_logits, axis=axis)\n    File \"/usr/local/lib/python3.7/dist-packages/keras/backend.py\", line 5203, in sparse_categorical_crossentropy\n      labels=target, logits=output)\nNode: 'sparse_categorical_crossentropy/SparseSoftmaxCrossEntropyWithLogits/SparseSoftmaxCrossEntropyWithLogits'\nlogits and labels must have the same first dimension, got logits shape [256,10] and labels shape [2560]\n\t [[{{node sparse_categorical_crossentropy/SparseSoftmaxCrossEntropyWithLogits/SparseSoftmaxCrossEntropyWithLogits}}]] [Op:__inference_train_function_99344]"
          ]
        }
      ]
    },
    {
      "cell_type": "markdown",
      "source": [
        "When fitting the model that was compiled using the sparse categorial cross entropy, we get an invalid argument error. This error appears because the one-hot encoding labels do not fit the criteria for the sparse categorical cross entropy where it is expecting integers and the one-hot encoding labels are floats."
      ],
      "metadata": {
        "id": "AU9J9EyslHSH"
      }
    },
    {
      "cell_type": "markdown",
      "source": [
        "To overcome this error, we used the test_train_split method to get our labels rather than using the to_categorical method. We also used a flatten layer for the input layer that used an input shape of 28 x 28 for the images. The process we used is shown below with the following model."
      ],
      "metadata": {
        "id": "JTyQIlVPu36s"
      }
    },
    {
      "cell_type": "code",
      "source": [
        "# Get the training and testing labels and images from the dataset\n",
        "(train_images6, train_labels6), (test_images6, test_labels6) = mnist.load_data()"
      ],
      "metadata": {
        "id": "xadKNxy1lHA_"
      },
      "execution_count": 27,
      "outputs": []
    },
    {
      "cell_type": "code",
      "source": [
        "# Scale the values between 0 and 1\n",
        "train_data6 = train_images6 / 255.0\n",
        "test_data6 = test_images6 / 255.0\n",
        "\n",
        "# data split\n",
        "train_data6, test_data6, train_labels6, test_labels6 = train_test_split(train_data6, train_labels6, test_size=0.2, random_state=42)"
      ],
      "metadata": {
        "id": "fN80x2vWveue"
      },
      "execution_count": 28,
      "outputs": []
    },
    {
      "cell_type": "code",
      "source": [
        "# reshape data.\n",
        "train_data6 = train_data6.reshape((train_data6.shape[0], 28,28,1))\n",
        "test_data6 = test_data6.reshape((test_data6.shape[0], 28,28,1))"
      ],
      "metadata": {
        "id": "yDnt1s8mv0pB"
      },
      "execution_count": 29,
      "outputs": []
    },
    {
      "cell_type": "code",
      "source": [
        "# Initialize the model\n",
        "model6 = Sequential()\n",
        "model6.add(keras.layers.Flatten(input_shape=(28, 28)))\n",
        "model6.add(Dense(512, activation='relu'))\n",
        "model6.add(Dense(512, activation='relu'))\n",
        "model6.add(Dense(10, activation='softmax'))"
      ],
      "metadata": {
        "id": "QTwTWvaFv3P4"
      },
      "execution_count": 30,
      "outputs": []
    },
    {
      "cell_type": "code",
      "source": [
        "# Compile the model\n",
        "model6.compile(optimizer='rmsprop', loss='sparse_categorical_crossentropy', metrics=['accuracy'])\n",
        "\n",
        "# Fit the model with the data\n",
        "history6 = model6.fit(train_data6, train_labels6, batch_size=256, epochs=20, verbose=1)"
      ],
      "metadata": {
        "colab": {
          "base_uri": "https://localhost:8080/"
        },
        "id": "2fMgM6A0v_je",
        "outputId": "57a75d15-0d2b-46b0-89d2-a2a6c9eb2131"
      },
      "execution_count": 31,
      "outputs": [
        {
          "output_type": "stream",
          "name": "stdout",
          "text": [
            "Epoch 1/20\n",
            "188/188 [==============================] - 5s 26ms/step - loss: 0.3063 - accuracy: 0.9068\n",
            "Epoch 2/20\n",
            "188/188 [==============================] - 5s 25ms/step - loss: 0.1062 - accuracy: 0.9669\n",
            "Epoch 3/20\n",
            "188/188 [==============================] - 5s 25ms/step - loss: 0.0658 - accuracy: 0.9797\n",
            "Epoch 4/20\n",
            "188/188 [==============================] - 5s 25ms/step - loss: 0.0437 - accuracy: 0.9866\n",
            "Epoch 5/20\n",
            "188/188 [==============================] - 5s 26ms/step - loss: 0.0310 - accuracy: 0.9899\n",
            "Epoch 6/20\n",
            "188/188 [==============================] - 5s 25ms/step - loss: 0.0239 - accuracy: 0.9919\n",
            "Epoch 7/20\n",
            "188/188 [==============================] - 5s 26ms/step - loss: 0.0174 - accuracy: 0.9943\n",
            "Epoch 8/20\n",
            "188/188 [==============================] - 5s 25ms/step - loss: 0.0139 - accuracy: 0.9958\n",
            "Epoch 9/20\n",
            "188/188 [==============================] - 5s 25ms/step - loss: 0.0116 - accuracy: 0.9961\n",
            "Epoch 10/20\n",
            "188/188 [==============================] - 5s 26ms/step - loss: 0.0096 - accuracy: 0.9968\n",
            "Epoch 11/20\n",
            "188/188 [==============================] - 5s 25ms/step - loss: 0.0081 - accuracy: 0.9974\n",
            "Epoch 12/20\n",
            "188/188 [==============================] - 5s 25ms/step - loss: 0.0066 - accuracy: 0.9977\n",
            "Epoch 13/20\n",
            "188/188 [==============================] - 5s 27ms/step - loss: 0.0064 - accuracy: 0.9982\n",
            "Epoch 14/20\n",
            "188/188 [==============================] - 5s 28ms/step - loss: 0.0058 - accuracy: 0.9981\n",
            "Epoch 15/20\n",
            "188/188 [==============================] - 5s 26ms/step - loss: 0.0058 - accuracy: 0.9985\n",
            "Epoch 16/20\n",
            "188/188 [==============================] - 5s 26ms/step - loss: 0.0047 - accuracy: 0.9986\n",
            "Epoch 17/20\n",
            "188/188 [==============================] - 5s 25ms/step - loss: 0.0045 - accuracy: 0.9984\n",
            "Epoch 18/20\n",
            "188/188 [==============================] - 5s 25ms/step - loss: 0.0042 - accuracy: 0.9988\n",
            "Epoch 19/20\n",
            "188/188 [==============================] - 5s 25ms/step - loss: 0.0041 - accuracy: 0.9987\n",
            "Epoch 20/20\n",
            "188/188 [==============================] - 5s 25ms/step - loss: 0.0047 - accuracy: 0.9986\n"
          ]
        }
      ]
    },
    {
      "cell_type": "code",
      "source": [
        "# Evaluate the model to find the loss and accuracy\n",
        "[test_loss6, test_acc6] = model6.evaluate(test_data6, test_labels6)\n",
        "\n",
        "print(\"Evaluation result on Test Data: Loss = {}, Accuracy = {}\".format(test_loss6, test_acc6))"
      ],
      "metadata": {
        "colab": {
          "base_uri": "https://localhost:8080/"
        },
        "id": "FiQ71NVXwOqj",
        "outputId": "238a87d5-52fd-4096-f8e6-7dd84aef4112"
      },
      "execution_count": 32,
      "outputs": [
        {
          "output_type": "stream",
          "name": "stdout",
          "text": [
            "375/375 [==============================] - 2s 4ms/step - loss: 0.1520 - accuracy: 0.9806\n",
            "Evaluation result on Test Data: Loss = 0.15199847519397736, Accuracy = 0.9805833101272583\n"
          ]
        }
      ]
    },
    {
      "cell_type": "markdown",
      "source": [
        "2) Use a method from NumPy to print the correct class from the model prediction"
      ],
      "metadata": {
        "id": "ZqMN6Clf0e3i"
      }
    },
    {
      "cell_type": "markdown",
      "source": [
        "To print the correct class from the model's prediction, we have to use the Numpy's argmax method. As we have shown in problem 5 in the ICP, the predication of the model is sent to the argmax method to identify the maximum value of the prediction array, which identifies the class the model believes the image is depicting. The code below helps demonstrate a couple instances of how the agrmax method is used to help identify the correct class of the model's prediction."
      ],
      "metadata": {
        "id": "2ebb1QWk0l7H"
      }
    },
    {
      "cell_type": "code",
      "source": [
        "# Pick an image from the test images and show its label\n",
        "plt.imshow(test_images[5,:,:], cmap='gray')\n",
        "plt.title('Ground Truth: {}'.format(test_labels[5]))"
      ],
      "metadata": {
        "colab": {
          "base_uri": "https://localhost:8080/",
          "height": 298
        },
        "id": "iufHNbui200b",
        "outputId": "d5fef1df-a6b4-4182-b7ff-580f5208bb17"
      },
      "execution_count": 33,
      "outputs": [
        {
          "output_type": "execute_result",
          "data": {
            "text/plain": [
              "Text(0.5, 1.0, 'Ground Truth: 1')"
            ]
          },
          "metadata": {},
          "execution_count": 33
        },
        {
          "output_type": "display_data",
          "data": {
            "text/plain": [
              "<Figure size 432x288 with 1 Axes>"
            ],
            "image/png": "[encoded data removed]"
          },
          "metadata": {
            "needs_background": "light"
          }
        }
      ]
    },
    {
      "cell_type": "code",
      "source": [
        "# Send the corresponding image from the test dataset and have the model predict the resulting class\n",
        "pred = model.predict(test_data[[5],:])\n",
        "classes = np.argmax(pred, axis = 1)\n",
        "\n",
        "# Show what the model predicted\n",
        "print(\"The model identified the image to be a {}.\".format(classes))"
      ],
      "metadata": {
        "colab": {
          "base_uri": "https://localhost:8080/"
        },
        "id": "N8jWxEKx0lRW",
        "outputId": "d0b1143d-f991-4e06-99dc-04c6a5f927a8"
      },
      "execution_count": 34,
      "outputs": [
        {
          "output_type": "stream",
          "name": "stdout",
          "text": [
            "The model identified the image to be a [1].\n"
          ]
        }
      ]
    },
    {
      "cell_type": "code",
      "source": [
        "# Pick an image from the test images and show its label\n",
        "plt.imshow(test_images[1,:,:], cmap='gray')\n",
        "plt.title('Ground Truth: {}'.format(test_labels[1]))"
      ],
      "metadata": {
        "colab": {
          "base_uri": "https://localhost:8080/",
          "height": 298
        },
        "id": "dWwJIrUQ221V",
        "outputId": "3305ab59-4382-4586-fd07-4557d72d3f44"
      },
      "execution_count": 35,
      "outputs": [
        {
          "output_type": "execute_result",
          "data": {
            "text/plain": [
              "Text(0.5, 1.0, 'Ground Truth: 2')"
            ]
          },
          "metadata": {},
          "execution_count": 35
        },
        {
          "output_type": "display_data",
          "data": {
            "text/plain": [
              "<Figure size 432x288 with 1 Axes>"
            ],
            "image/png": "[encoded data removed]"
          },
          "metadata": {
            "needs_background": "light"
          }
        }
      ]
    },
    {
      "cell_type": "code",
      "source": [
        "# Send the corresponding image from the test dataset and have the model predict the resulting class\n",
        "pred = model.predict(test_data[[1],:])\n",
        "classes = np.argmax(pred, axis = 1)\n",
        "\n",
        "# Show what the model predicted\n",
        "print(\"The model identified the image to be a {}.\".format(classes))"
      ],
      "metadata": {
        "colab": {
          "base_uri": "https://localhost:8080/"
        },
        "id": "_Zig3kZB25tS",
        "outputId": "5f3e4ee5-4cf7-4d2b-b43c-e24c8f990f0a"
      },
      "execution_count": 36,
      "outputs": [
        {
          "output_type": "stream",
          "name": "stdout",
          "text": [
            "The model identified the image to be a [2].\n"
          ]
        }
      ]
    },
    {
      "cell_type": "code",
      "source": [
        "# Pick an image from the test images and show its label\n",
        "plt.imshow(test_images[10,:,:], cmap='gray')\n",
        "plt.title('Ground Truth: {}'.format(test_labels[10]))"
      ],
      "metadata": {
        "colab": {
          "base_uri": "https://localhost:8080/",
          "height": 298
        },
        "id": "0Ifr1DQs292y",
        "outputId": "b96fe30c-2c26-489d-82fb-94e772fd10ed"
      },
      "execution_count": 37,
      "outputs": [
        {
          "output_type": "execute_result",
          "data": {
            "text/plain": [
              "Text(0.5, 1.0, 'Ground Truth: 0')"
            ]
          },
          "metadata": {},
          "execution_count": 37
        },
        {
          "output_type": "display_data",
          "data": {
            "text/plain": [
              "<Figure size 432x288 with 1 Axes>"
            ],
            "image/png": "[encoded data removed]"
          },
          "metadata": {
            "needs_background": "light"
          }
        }
      ]
    },
    {
      "cell_type": "code",
      "source": [
        "# Send the corresponding image from the test dataset and have the model predict the resulting class\n",
        "pred = model.predict(test_data[[10],:])\n",
        "classes = np.argmax(pred, axis = 1)\n",
        "\n",
        "# Show what the model predicted\n",
        "print(\"The model identified the image to be a {}.\".format(classes))"
      ],
      "metadata": {
        "colab": {
          "base_uri": "https://localhost:8080/"
        },
        "id": "S10AjZkW29cC",
        "outputId": "0b001464-758a-4af8-affc-e483f9494570"
      },
      "execution_count": 38,
      "outputs": [
        {
          "output_type": "stream",
          "name": "stdout",
          "text": [
            "The model identified the image to be a [0].\n"
          ]
        }
      ]
    }
  ]
}
