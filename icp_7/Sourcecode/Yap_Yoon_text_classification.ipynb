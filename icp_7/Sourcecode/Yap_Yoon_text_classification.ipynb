{
 "cells": [
  {
   "cell_type": "code",
   "execution_count": 15,
   "metadata": {
    "id": "YZ6pNkwj5bPf"
   },
   "outputs": [],
   "source": [
    "from sklearn.datasets import fetch_20newsgroups\n",
    "\n",
    "from sklearn.feature_extraction.text import CountVectorizer, TfidfVectorizer\n",
    "from sklearn.feature_extraction.text import TfidfTransformer\n",
    "from sklearn import metrics\n",
    "from sklearn.pipeline import Pipeline\n",
    "from sklearn.naive_bayes import MultinomialNB"
   ]
  },
  {
   "cell_type": "code",
   "execution_count": 16,
   "metadata": {
    "id": "rDJ_LuMK56-F"
   },
   "outputs": [],
   "source": [
    "twenty_train = fetch_20newsgroups(subset='train', shuffle=True)"
   ]
  },
  {
   "cell_type": "code",
   "execution_count": 17,
   "metadata": {
    "colab": {
     "base_uri": "https://localhost:8080/"
    },
    "id": "QF61mPSh59hT",
    "outputId": "c72ee459-b221-449f-8b65-c34e06a9f0db"
   },
   "outputs": [
    {
     "data": {
      "text/plain": [
       "MultinomialNB()"
      ]
     },
     "execution_count": 17,
     "metadata": {},
     "output_type": "execute_result"
    }
   ],
   "source": [
    "tfidf_Vect = TfidfVectorizer()\n",
    "X_train_tfidf = tfidf_Vect.fit_transform(twenty_train.data)\n",
    "\n",
    "clf = MultinomialNB()\n",
    "clf.fit(X_train_tfidf, twenty_train.target)"
   ]
  },
  {
   "cell_type": "code",
   "execution_count": 18,
   "metadata": {
    "id": "8ssbDU7p6AWH"
   },
   "outputs": [],
   "source": [
    "twenty_test = fetch_20newsgroups(subset='test', shuffle=True)"
   ]
  },
  {
   "cell_type": "code",
   "execution_count": 19,
   "metadata": {
    "id": "sjVlq5up6F3R"
   },
   "outputs": [],
   "source": [
    "X_test_tfidf = tfidf_Vect.transform(twenty_test.data)"
   ]
  },
  {
   "cell_type": "code",
   "execution_count": 20,
   "metadata": {
    "id": "TQfLohRJjzFw"
   },
   "outputs": [],
   "source": [
    "predicted = clf.predict(X_test_tfidf)"
   ]
  },
  {
   "cell_type": "code",
   "execution_count": 21,
   "metadata": {
    "colab": {
     "base_uri": "https://localhost:8080/"
    },
    "id": "rSW8Aw1ljzJH",
    "outputId": "c666fb23-f0c9-428a-8106-af9f6c48b277"
   },
   "outputs": [
    {
     "name": "stdout",
     "output_type": "stream",
     "text": [
      "0.7738980350504514\n"
     ]
    }
   ],
   "source": [
    "score = metrics.accuracy_score(twenty_test.target, predicted)\n",
    "print(score)"
   ]
  },
  {
   "cell_type": "markdown",
   "metadata": {
    "id": "npvzaQdrEhPS"
   },
   "source": [
    "Martin Yap\n",
    "Hoyun Yoon\n",
    "ICP 7"
   ]
  },
  {
   "cell_type": "code",
   "execution_count": 22,
   "metadata": {
    "id": "6vZ1AOiVQNXs"
   },
   "outputs": [],
   "source": [
    "from sklearn import svm\n",
    "from sklearn.neighbors import KNeighborsClassifier"
   ]
  },
  {
   "cell_type": "code",
   "execution_count": 23,
   "metadata": {
    "id": "TYNXH9B_FyB1"
   },
   "outputs": [],
   "source": [
    "vec = svm.SVC()\n",
    "knn = KNeighborsClassifier(n_neighbors=5)"
   ]
  },
  {
   "cell_type": "markdown",
   "metadata": {
    "id": "1wLTr8acE-80"
   },
   "source": [
    "a) Apply the SVM algorithm to the data"
   ]
  },
  {
   "cell_type": "code",
   "execution_count": 24,
   "metadata": {
    "colab": {
     "base_uri": "https://localhost:8080/"
    },
    "id": "AFi49RdDGDXT",
    "outputId": "1ff69482-1475-40c8-fb77-d5f121b689b9"
   },
   "outputs": [
    {
     "data": {
      "text/plain": [
       "SVC()"
      ]
     },
     "execution_count": 24,
     "metadata": {},
     "output_type": "execute_result"
    }
   ],
   "source": [
    "# Fit the training data to the SVM model\n",
    "vec.fit(X_train_tfidf, twenty_train.target)"
   ]
  },
  {
   "cell_type": "code",
   "execution_count": null,
   "metadata": {
    "id": "ly-FvfXiG4Q6"
   },
   "outputs": [],
   "source": [
    "# Use the fitted svm model to get the predictions for the test dataset\n",
    "vec_pred = vec.predict(X_test_tfidf)"
   ]
  },
  {
   "cell_type": "code",
   "execution_count": null,
   "metadata": {
    "colab": {
     "base_uri": "https://localhost:8080/"
    },
    "id": "FSXws0w-HFXl",
    "outputId": "2bab261a-3612-4c8e-ebd5-2c3b502f405a"
   },
   "outputs": [],
   "source": [
    "# Calculate the accuracy score for the SVM model\n",
    "vec_score = metrics.accuracy_score(twenty_test.target, vec_pred)\n",
    "print(vec_score)"
   ]
  },
  {
   "cell_type": "markdown",
   "metadata": {
    "id": "AMPv8oJNJ9WV"
   },
   "source": [
    "b) Apply KNN classifier to the data"
   ]
  },
  {
   "cell_type": "code",
   "execution_count": null,
   "metadata": {
    "colab": {
     "base_uri": "https://localhost:8080/"
    },
    "id": "Kuot-Uy8J9uz",
    "outputId": "0eda268e-aaa0-467e-a863-6866a2d2e78a"
   },
   "outputs": [],
   "source": [
    "# Fit the training data to the KNN model\n",
    "knn.fit(X_train_tfidf, twenty_train.target)"
   ]
  },
  {
   "cell_type": "code",
   "execution_count": null,
   "metadata": {
    "id": "swo7KT4IOGdD"
   },
   "outputs": [],
   "source": [
    "# Use the knn fitted model to get the predictions for the test data\n",
    "knn_pred = knn.predict(X_test_tfidf)"
   ]
  },
  {
   "cell_type": "code",
   "execution_count": null,
   "metadata": {
    "colab": {
     "base_uri": "https://localhost:8080/"
    },
    "id": "mIJa0OygOGwJ",
    "outputId": "088593ff-f8bf-4af1-c352-bbedb931cd32"
   },
   "outputs": [],
   "source": [
    "# Calculate the accuracy score for the KNN model\n",
    "knn_score = metrics.accuracy_score(twenty_test.target, knn_pred)\n",
    "print(knn_score)"
   ]
  },
  {
   "cell_type": "markdown",
   "metadata": {
    "id": "5wRBwjo6OsM0"
   },
   "source": [
    "c) Print classification report for each classifier"
   ]
  },
  {
   "cell_type": "code",
   "execution_count": 21,
   "metadata": {
    "colab": {
     "base_uri": "https://localhost:8080/"
    },
    "id": "oRFh16NpOwIL",
    "outputId": "701234c6-ef92-44dc-97c7-52c7ef358b06"
   },
   "outputs": [
    {
     "name": "stdout",
     "output_type": "stream",
     "text": [
      "              precision    recall  f1-score   support\n",
      "\n",
      "           0       0.80      0.52      0.63       319\n",
      "           1       0.81      0.65      0.72       389\n",
      "           2       0.82      0.65      0.73       394\n",
      "           3       0.67      0.78      0.72       392\n",
      "           4       0.86      0.77      0.81       385\n",
      "           5       0.89      0.75      0.82       395\n",
      "           6       0.93      0.69      0.80       390\n",
      "           7       0.85      0.92      0.88       396\n",
      "           8       0.94      0.93      0.93       398\n",
      "           9       0.92      0.90      0.91       397\n",
      "          10       0.89      0.97      0.93       399\n",
      "          11       0.59      0.97      0.74       396\n",
      "          12       0.84      0.60      0.70       393\n",
      "          13       0.92      0.74      0.82       396\n",
      "          14       0.84      0.89      0.87       394\n",
      "          15       0.44      0.98      0.61       398\n",
      "          16       0.64      0.94      0.76       364\n",
      "          17       0.93      0.91      0.92       376\n",
      "          18       0.96      0.42      0.58       310\n",
      "          19       0.97      0.14      0.24       251\n",
      "\n",
      "    accuracy                           0.77      7532\n",
      "   macro avg       0.83      0.76      0.76      7532\n",
      "weighted avg       0.82      0.77      0.77      7532\n",
      "\n"
     ]
    }
   ],
   "source": [
    "# Classification report for the multinomial naive bayes classifier\n",
    "print(metrics.classification_report(twenty_test.target, predicted))"
   ]
  },
  {
   "cell_type": "code",
   "execution_count": 22,
   "metadata": {
    "colab": {
     "base_uri": "https://localhost:8080/"
    },
    "id": "ZDqmX38tOw2h",
    "outputId": "45ad0cac-234f-4525-9b96-debcd6a22db7"
   },
   "outputs": [
    {
     "name": "stdout",
     "output_type": "stream",
     "text": [
      "              precision    recall  f1-score   support\n",
      "\n",
      "           0       0.83      0.71      0.76       319\n",
      "           1       0.62      0.82      0.71       389\n",
      "           2       0.80      0.70      0.75       394\n",
      "           3       0.73      0.78      0.76       392\n",
      "           4       0.82      0.83      0.82       385\n",
      "           5       0.83      0.73      0.77       395\n",
      "           6       0.73      0.91      0.81       390\n",
      "           7       0.90      0.87      0.89       396\n",
      "           8       0.96      0.93      0.95       398\n",
      "           9       0.88      0.91      0.90       397\n",
      "          10       0.97      0.91      0.94       399\n",
      "          11       0.96      0.85      0.90       396\n",
      "          12       0.65      0.85      0.74       393\n",
      "          13       0.88      0.78      0.82       396\n",
      "          14       0.93      0.88      0.90       394\n",
      "          15       0.79      0.92      0.85       398\n",
      "          16       0.75      0.88      0.81       364\n",
      "          17       0.97      0.81      0.88       376\n",
      "          18       0.75      0.59      0.66       310\n",
      "          19       0.79      0.55      0.65       251\n",
      "\n",
      "    accuracy                           0.82      7532\n",
      "   macro avg       0.83      0.81      0.81      7532\n",
      "weighted avg       0.83      0.82      0.82      7532\n",
      "\n"
     ]
    }
   ],
   "source": [
    "# Classification report for the SVM classifier\n",
    "print(metrics.classification_report(twenty_test.target, vec_pred))"
   ]
  },
  {
   "cell_type": "code",
   "execution_count": 23,
   "metadata": {
    "colab": {
     "base_uri": "https://localhost:8080/"
    },
    "id": "UfLHu2E3OxIU",
    "outputId": "bf7ed45b-634d-498e-aba0-19e90ff2eb04"
   },
   "outputs": [
    {
     "name": "stdout",
     "output_type": "stream",
     "text": [
      "              precision    recall  f1-score   support\n",
      "\n",
      "           0       0.43      0.76      0.55       319\n",
      "           1       0.50      0.61      0.55       389\n",
      "           2       0.56      0.57      0.57       394\n",
      "           3       0.53      0.58      0.56       392\n",
      "           4       0.59      0.56      0.57       385\n",
      "           5       0.69      0.60      0.64       395\n",
      "           6       0.58      0.45      0.51       390\n",
      "           7       0.75      0.69      0.72       396\n",
      "           8       0.84      0.81      0.82       398\n",
      "           9       0.77      0.72      0.74       397\n",
      "          10       0.85      0.84      0.84       399\n",
      "          11       0.76      0.84      0.80       396\n",
      "          12       0.70      0.50      0.58       393\n",
      "          13       0.82      0.49      0.62       396\n",
      "          14       0.79      0.76      0.78       394\n",
      "          15       0.75      0.76      0.76       398\n",
      "          16       0.70      0.73      0.72       364\n",
      "          17       0.62      0.76      0.69       376\n",
      "          18       0.55      0.61      0.58       310\n",
      "          19       0.56      0.49      0.52       251\n",
      "\n",
      "    accuracy                           0.66      7532\n",
      "   macro avg       0.67      0.66      0.65      7532\n",
      "weighted avg       0.67      0.66      0.66      7532\n",
      "\n"
     ]
    }
   ],
   "source": [
    "# Classification report for the KNN classifier\n",
    "print(metrics.classification_report(twenty_test.target, knn_pred))"
   ]
  },
  {
   "cell_type": "markdown",
   "metadata": {
    "id": "lcnniwDlPdJe"
   },
   "source": [
    "Comparing all the classifiers, we can see that the SVM model has the highest accuracy with 0.82. The Multinomial Naive Bayes classifier is next with 0.77 and is then followed by the KNN classifier with an accuracy of 0.66. The accuracy of the KNN model can be improved if we could find a good k value to use for the number of clusters.  "
   ]
  },
  {
   "cell_type": "markdown",
   "metadata": {
    "id": "RPgQPS1pRCXt"
   },
   "source": [
    "Looking more closely at the classification reports of the classifiers, we can see that the KNN model had low precision and recall, resulting in a low F1 score. The SVM model had relatively high precision and recall, with a few low recall scores. In the Multinomial Naive Bayes model, it had relatively high precision, however, its recall scores were lower in comparison to those seen in the SVM model. These scores caused the F1 scores to be lower for some of the elements. "
   ]
  },
  {
   "cell_type": "markdown",
   "metadata": {
    "id": "Q64dVphqRr6e"
   },
   "source": [
    "d) Use bigram with the tfidf vectorizer"
   ]
  },
  {
   "cell_type": "code",
   "execution_count": 10,
   "metadata": {
    "id": "jnRwgQG8SAA_"
   },
   "outputs": [],
   "source": [
    "# Set ngram range to use only and create the new training and testing datasets\n",
    "bi_tfidf_Vect = TfidfVectorizer(ngram_range = (2, 2))\n",
    "X_train_bi_tfidf = bi_tfidf_Vect.fit_transform(twenty_train.data)\n",
    "X_test_bi_tfidf = bi_tfidf_Vect.transform(twenty_test.data)"
   ]
  },
  {
   "cell_type": "markdown",
   "metadata": {
    "id": "QtqS3o9ITAJ2"
   },
   "source": [
    "Use the Multinomial Naive Bayes model with the data"
   ]
  },
  {
   "cell_type": "code",
   "execution_count": 11,
   "metadata": {
    "colab": {
     "base_uri": "https://localhost:8080/"
    },
    "id": "oVZ28Pe0S_dO",
    "outputId": "28691533-f679-4c00-d48f-c20d0e5a49ed"
   },
   "outputs": [
    {
     "data": {
      "text/plain": [
       "MultinomialNB()"
      ]
     },
     "execution_count": 11,
     "metadata": {},
     "output_type": "execute_result"
    }
   ],
   "source": [
    "# Fit the new training data to the model\n",
    "clf.fit(X_train_bi_tfidf, twenty_train.target)"
   ]
  },
  {
   "cell_type": "code",
   "execution_count": 12,
   "metadata": {
    "id": "cxJfWctzTYaH"
   },
   "outputs": [],
   "source": [
    "# Find the predictions made by the Multinomial model\n",
    "bi_predicted = clf.predict(X_test_bi_tfidf)"
   ]
  },
  {
   "cell_type": "code",
   "execution_count": 13,
   "metadata": {
    "colab": {
     "base_uri": "https://localhost:8080/"
    },
    "id": "xjyNk_BITbk7",
    "outputId": "21dd7d6f-6969-47b8-fa83-b05612767320"
   },
   "outputs": [
    {
     "name": "stdout",
     "output_type": "stream",
     "text": [
      "0.7327403080191184\n"
     ]
    }
   ],
   "source": [
    "# Calculate how accurate the Multinomial model is\n",
    "bi_score = metrics.accuracy_score(twenty_test.target, bi_predicted)\n",
    "print(bi_score)"
   ]
  },
  {
   "cell_type": "markdown",
   "metadata": {
    "id": "QYRdvc8dTPK7"
   },
   "source": [
    "e) Use stop words with the tfidf vectorizer"
   ]
  },
  {
   "cell_type": "code",
   "execution_count": 6,
   "metadata": {
    "id": "kynfVw_ZTS-u"
   },
   "outputs": [],
   "source": [
    "# Set stop words to english and create the new training and testing datasets\n",
    "stop_tfidf_Vect = TfidfVectorizer(stop_words='english')\n",
    "X_train_stop_tfidf = stop_tfidf_Vect.fit_transform(twenty_train.data)\n",
    "X_test_stop_tfidf = stop_tfidf_Vect.transform(twenty_test.data)"
   ]
  },
  {
   "cell_type": "markdown",
   "metadata": {
    "id": "FbfNVCAYh_ja"
   },
   "source": [
    "Applying these datasets to the Multinomial Naive Bayes classifier"
   ]
  },
  {
   "cell_type": "code",
   "execution_count": 7,
   "metadata": {
    "colab": {
     "base_uri": "https://localhost:8080/"
    },
    "id": "lzvt9Q16i1G3",
    "outputId": "38fa84b1-5e70-4274-e95f-8ee0b3cfbb76"
   },
   "outputs": [
    {
     "data": {
      "text/plain": [
       "MultinomialNB()"
      ]
     },
     "execution_count": 7,
     "metadata": {},
     "output_type": "execute_result"
    }
   ],
   "source": [
    "# Fit the new training data to the model\n",
    "clf.fit(X_train_stop_tfidf, twenty_train.target)"
   ]
  },
  {
   "cell_type": "code",
   "execution_count": 8,
   "metadata": {
    "id": "e1RjY8DhjyZr"
   },
   "outputs": [],
   "source": [
    "# Find the predictions made by the Multinomial model\n",
    "stop_predicted = clf.predict(X_test_stop_tfidf)"
   ]
  },
  {
   "cell_type": "code",
   "execution_count": 9,
   "metadata": {
    "colab": {
     "base_uri": "https://localhost:8080/"
    },
    "id": "-vE3MCeEj1vg",
    "outputId": "6e2670fd-4210-4178-c18d-50e05534b551"
   },
   "outputs": [
    {
     "name": "stdout",
     "output_type": "stream",
     "text": [
      "0.8169144981412639\n"
     ]
    }
   ],
   "source": [
    "# Calculate how accurate the Multinomial model is\n",
    "stop_score = metrics.accuracy_score(twenty_test.target, stop_predicted)\n",
    "print(stop_score)"
   ]
  },
  {
   "cell_type": "markdown",
   "metadata": {
    "id": "j8dO2pswkYtq"
   },
   "source": [
    "Comparing the two accuracy scores obtained in parts d and e with the original score found by the multinomial naive bayes classifier, using the stop words produced a higher accuracy score and using the bigrams produced a lower accuracy score. Based on these results, we can improve the classifier performance by removing the stop words from datasets. "
   ]
  }
 ],
 "metadata": {
  "colab": {
   "collapsed_sections": [],
   "name": "Yap_Yoon_text_classification.ipynb",
   "provenance": []
  },
  "kernelspec": {
   "display_name": "Python 3 (ipykernel)",
   "language": "python",
   "name": "python3"
  },
  "language_info": {
   "codemirror_mode": {
    "name": "ipython",
    "version": 3
   },
   "file_extension": ".py",
   "mimetype": "text/x-python",
   "name": "python",
   "nbconvert_exporter": "python",
   "pygments_lexer": "ipython3",
   "version": "3.9.7"
  }
 },
 "nbformat": 4,
 "nbformat_minor": 1
}
