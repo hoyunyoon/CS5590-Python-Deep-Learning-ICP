{
 "cells": [
  {
   "cell_type": "markdown",
   "metadata": {
    "id": "ldmcf8RP9C1s"
   },
   "source": [
    "Yap Yoon 5590 ICP 4"
   ]
  },
  {
   "cell_type": "markdown",
   "metadata": {
    "id": "MBOahsTh9GZG"
   },
   "source": [
    "1) Numpy"
   ]
  },
  {
   "cell_type": "markdown",
   "metadata": {
    "id": "tk5gvRN0AsbT"
   },
   "source": [
    "Import the numpy library"
   ]
  },
  {
   "cell_type": "code",
   "execution_count": 1,
   "metadata": {
    "id": "oeBYsuTBpIuF"
   },
   "outputs": [],
   "source": [
    "import numpy as np"
   ]
  },
  {
   "cell_type": "markdown",
   "metadata": {
    "id": "j9bUoiqjAvhx"
   },
   "source": [
    "Create the initial vector"
   ]
  },
  {
   "cell_type": "code",
   "execution_count": 2,
   "metadata": {
    "colab": {
     "base_uri": "https://localhost:8080/"
    },
    "id": "fP_5GjU2Ac6l",
    "outputId": "6170702c-4fca-42d0-8ee8-e775f7567b1c"
   },
   "outputs": [
    {
     "name": "stdout",
     "output_type": "stream",
     "text": [
      "Initial vector of 15\n",
      "[[17 16 17  8 11 16 10  4 18 16  8 11 14 11 14]]\n"
     ]
    }
   ],
   "source": [
    "vect = np.random.randint(1, 21, size = (1,15))\n",
    "print(\"Initial vector of 15\")\n",
    "print(vect)"
   ]
  },
  {
   "cell_type": "markdown",
   "metadata": {
    "id": "jg3PmFMkA19E"
   },
   "source": [
    "Reshape the vector into a 3 by 5 array"
   ]
  },
  {
   "cell_type": "code",
   "execution_count": 3,
   "metadata": {
    "colab": {
     "base_uri": "https://localhost:8080/"
    },
    "id": "lDwiwiGuA2Um",
    "outputId": "9dc45f8e-f6e7-4ea5-94db-a72910fa522f"
   },
   "outputs": [
    {
     "name": "stdout",
     "output_type": "stream",
     "text": [
      "Reshaped array\n",
      "[[17 16 17  8 11]\n",
      " [16 10  4 18 16]\n",
      " [ 8 11 14 11 14]]\n"
     ]
    }
   ],
   "source": [
    "reshap = vect.reshape(3, 5)\n",
    "print(\"Reshaped array\")\n",
    "print(reshap)"
   ]
  },
  {
   "cell_type": "markdown",
   "metadata": {
    "id": "h7G4_1v9A9bO"
   },
   "source": [
    "Print the array shape"
   ]
  },
  {
   "cell_type": "code",
   "execution_count": 4,
   "metadata": {
    "colab": {
     "base_uri": "https://localhost:8080/"
    },
    "id": "HHqzKvM2A7v5",
    "outputId": "759ac2be-b01f-4afe-faba-9ec1cd7cc146"
   },
   "outputs": [
    {
     "name": "stdout",
     "output_type": "stream",
     "text": [
      "Shape of the array\n",
      "(3, 5)\n"
     ]
    }
   ],
   "source": [
    "print(\"Shape of the array\")\n",
    "print(reshap.shape)"
   ]
  },
  {
   "cell_type": "markdown",
   "metadata": {
    "id": "b74StJLPA_B_"
   },
   "source": [
    "Find the max values of each row. Replace the max in each row with 0 using the where method to identify the max in each row and replace the value with 0"
   ]
  },
  {
   "cell_type": "code",
   "execution_count": 6,
   "metadata": {
    "colab": {
     "base_uri": "https://localhost:8080/"
    },
    "id": "9u0FQVSoBDPE",
    "outputId": "4a68400c-337c-4a12-c202-f6d923ea02e4"
   },
   "outputs": [
    {
     "data": {
      "text/plain": [
       "array([[ 0, 16,  0,  8, 11],\n",
       "       [16, 10,  4,  0, 16],\n",
       "       [ 8, 11,  0, 11,  0]])"
      ]
     },
     "execution_count": 6,
     "metadata": {},
     "output_type": "execute_result"
    }
   ],
   "source": [
    "row_max = reshap.max(axis = 1).reshape(-1, 1)\n",
    "np.where(reshap != row_max, reshap, 0)"
   ]
  },
  {
   "cell_type": "markdown",
   "metadata": {
    "id": "55krnSNMMTe2"
   },
   "source": [
    "Extract a diagonal from the reshap array and construct a diagonal array. The diagonal extracted and the diagonal array are saved to separate .npy file. The files are loaded and printed out to make sure the files were created correctly."
   ]
  },
  {
   "cell_type": "code",
   "execution_count": 8,
   "metadata": {
    "colab": {
     "base_uri": "https://localhost:8080/"
    },
    "id": "pbjQksmjMb8f",
    "outputId": "ebbc2c9a-db08-4742-96a0-ca43d87c5a84"
   },
   "outputs": [
    {
     "name": "stdout",
     "output_type": "stream",
     "text": [
      "[17 10 14]\n",
      "[[17  0  0]\n",
      " [ 0 10  0]\n",
      " [ 0  0 14]]\n",
      "\n",
      "\n",
      "[17 10 14]\n",
      "[[17  0  0]\n",
      " [ 0 10  0]\n",
      " [ 0  0 14]]\n"
     ]
    }
   ],
   "source": [
    "dia1 = np.diag(reshap)\n",
    "dia2 = np.diag(dia1)\n",
    "print(dia1)\n",
    "print(dia2)\n",
    "np.save('outfile1.npy', dia1)\n",
    "np.save('outfile2.npy', dia2)\n",
    "\n",
    "data = np.load('outfile1.npy')\n",
    "print('\\n')\n",
    "print(data)\n",
    "data = np.load('outfile2.npy')\n",
    "print(data)"
   ]
  },
  {
   "cell_type": "markdown",
   "metadata": {
    "id": "SiP7L-xy9NDP"
   },
   "source": [
    "2) Pandas"
   ]
  },
  {
   "cell_type": "markdown",
   "metadata": {
    "id": "jiERrT7_OOH_"
   },
   "source": [
    "Import the pandas library"
   ]
  },
  {
   "cell_type": "code",
   "execution_count": 9,
   "metadata": {
    "id": "KyHma9l5OOeQ"
   },
   "outputs": [],
   "source": [
    "import pandas as pd"
   ]
  },
  {
   "cell_type": "markdown",
   "metadata": {
    "id": "5J8RPnG_N7SA"
   },
   "source": [
    "Read the data.csv file"
   ]
  },
  {
   "cell_type": "code",
   "execution_count": 11,
   "metadata": {
    "id": "yTzkUz6r9BUk"
   },
   "outputs": [],
   "source": [
    "data = pd.read_csv(\"data.csv\")"
   ]
  },
  {
   "cell_type": "markdown",
   "metadata": {
    "id": "zWtR0JaGOo-k"
   },
   "source": [
    "Show the basic statistical description on the data"
   ]
  },
  {
   "cell_type": "code",
   "execution_count": 12,
   "metadata": {
    "colab": {
     "base_uri": "https://localhost:8080/",
     "height": 300
    },
    "id": "srn6sT3kOy9J",
    "outputId": "bef9a96c-7f7b-4b8a-ae66-350699b10d68"
   },
   "outputs": [
    {
     "data": {
      "text/html": [
       "<div>\n",
       "<style scoped>\n",
       "    .dataframe tbody tr th:only-of-type {\n",
       "        vertical-align: middle;\n",
       "    }\n",
       "\n",
       "    .dataframe tbody tr th {\n",
       "        vertical-align: top;\n",
       "    }\n",
       "\n",
       "    .dataframe thead th {\n",
       "        text-align: right;\n",
       "    }\n",
       "</style>\n",
       "<table border=\"1\" class=\"dataframe\">\n",
       "  <thead>\n",
       "    <tr style=\"text-align: right;\">\n",
       "      <th></th>\n",
       "      <th>Duration</th>\n",
       "      <th>Pulse</th>\n",
       "      <th>Maxpulse</th>\n",
       "      <th>Calories</th>\n",
       "    </tr>\n",
       "  </thead>\n",
       "  <tbody>\n",
       "    <tr>\n",
       "      <th>count</th>\n",
       "      <td>169.000000</td>\n",
       "      <td>169.000000</td>\n",
       "      <td>169.000000</td>\n",
       "      <td>164.000000</td>\n",
       "    </tr>\n",
       "    <tr>\n",
       "      <th>mean</th>\n",
       "      <td>63.846154</td>\n",
       "      <td>107.461538</td>\n",
       "      <td>134.047337</td>\n",
       "      <td>375.790244</td>\n",
       "    </tr>\n",
       "    <tr>\n",
       "      <th>std</th>\n",
       "      <td>42.299949</td>\n",
       "      <td>14.510259</td>\n",
       "      <td>16.450434</td>\n",
       "      <td>266.379919</td>\n",
       "    </tr>\n",
       "    <tr>\n",
       "      <th>min</th>\n",
       "      <td>15.000000</td>\n",
       "      <td>80.000000</td>\n",
       "      <td>100.000000</td>\n",
       "      <td>50.300000</td>\n",
       "    </tr>\n",
       "    <tr>\n",
       "      <th>25%</th>\n",
       "      <td>45.000000</td>\n",
       "      <td>100.000000</td>\n",
       "      <td>124.000000</td>\n",
       "      <td>250.925000</td>\n",
       "    </tr>\n",
       "    <tr>\n",
       "      <th>50%</th>\n",
       "      <td>60.000000</td>\n",
       "      <td>105.000000</td>\n",
       "      <td>131.000000</td>\n",
       "      <td>318.600000</td>\n",
       "    </tr>\n",
       "    <tr>\n",
       "      <th>75%</th>\n",
       "      <td>60.000000</td>\n",
       "      <td>111.000000</td>\n",
       "      <td>141.000000</td>\n",
       "      <td>387.600000</td>\n",
       "    </tr>\n",
       "    <tr>\n",
       "      <th>max</th>\n",
       "      <td>300.000000</td>\n",
       "      <td>159.000000</td>\n",
       "      <td>184.000000</td>\n",
       "      <td>1860.400000</td>\n",
       "    </tr>\n",
       "  </tbody>\n",
       "</table>\n",
       "</div>"
      ],
      "text/plain": [
       "         Duration       Pulse    Maxpulse     Calories\n",
       "count  169.000000  169.000000  169.000000   164.000000\n",
       "mean    63.846154  107.461538  134.047337   375.790244\n",
       "std     42.299949   14.510259   16.450434   266.379919\n",
       "min     15.000000   80.000000  100.000000    50.300000\n",
       "25%     45.000000  100.000000  124.000000   250.925000\n",
       "50%     60.000000  105.000000  131.000000   318.600000\n",
       "75%     60.000000  111.000000  141.000000   387.600000\n",
       "max    300.000000  159.000000  184.000000  1860.400000"
      ]
     },
     "execution_count": 12,
     "metadata": {},
     "output_type": "execute_result"
    }
   ],
   "source": [
    "data.describe()"
   ]
  },
  {
   "cell_type": "markdown",
   "metadata": {
    "id": "D9tNUL4zPRoq"
   },
   "source": [
    "Check the data for any null values"
   ]
  },
  {
   "cell_type": "code",
   "execution_count": 13,
   "metadata": {
    "colab": {
     "base_uri": "https://localhost:8080/",
     "height": 206
    },
    "id": "C0LK2JauPR_Z",
    "outputId": "4296f5c5-21a0-40ca-88b5-ead6bac8536e"
   },
   "outputs": [
    {
     "data": {
      "text/html": [
       "<div>\n",
       "<style scoped>\n",
       "    .dataframe tbody tr th:only-of-type {\n",
       "        vertical-align: middle;\n",
       "    }\n",
       "\n",
       "    .dataframe tbody tr th {\n",
       "        vertical-align: top;\n",
       "    }\n",
       "\n",
       "    .dataframe thead th {\n",
       "        text-align: right;\n",
       "    }\n",
       "</style>\n",
       "<table border=\"1\" class=\"dataframe\">\n",
       "  <thead>\n",
       "    <tr style=\"text-align: right;\">\n",
       "      <th></th>\n",
       "      <th>Duration</th>\n",
       "      <th>Pulse</th>\n",
       "      <th>Maxpulse</th>\n",
       "      <th>Calories</th>\n",
       "    </tr>\n",
       "  </thead>\n",
       "  <tbody>\n",
       "    <tr>\n",
       "      <th>17</th>\n",
       "      <td>45</td>\n",
       "      <td>90</td>\n",
       "      <td>112</td>\n",
       "      <td>NaN</td>\n",
       "    </tr>\n",
       "    <tr>\n",
       "      <th>27</th>\n",
       "      <td>60</td>\n",
       "      <td>103</td>\n",
       "      <td>132</td>\n",
       "      <td>NaN</td>\n",
       "    </tr>\n",
       "    <tr>\n",
       "      <th>91</th>\n",
       "      <td>45</td>\n",
       "      <td>107</td>\n",
       "      <td>137</td>\n",
       "      <td>NaN</td>\n",
       "    </tr>\n",
       "    <tr>\n",
       "      <th>118</th>\n",
       "      <td>60</td>\n",
       "      <td>105</td>\n",
       "      <td>125</td>\n",
       "      <td>NaN</td>\n",
       "    </tr>\n",
       "    <tr>\n",
       "      <th>141</th>\n",
       "      <td>60</td>\n",
       "      <td>97</td>\n",
       "      <td>127</td>\n",
       "      <td>NaN</td>\n",
       "    </tr>\n",
       "  </tbody>\n",
       "</table>\n",
       "</div>"
      ],
      "text/plain": [
       "     Duration  Pulse  Maxpulse  Calories\n",
       "17         45     90       112       NaN\n",
       "27         60    103       132       NaN\n",
       "91         45    107       137       NaN\n",
       "118        60    105       125       NaN\n",
       "141        60     97       127       NaN"
      ]
     },
     "execution_count": 13,
     "metadata": {},
     "output_type": "execute_result"
    }
   ],
   "source": [
    "data[data.isnull().any(axis = 1)].head()"
   ]
  },
  {
   "cell_type": "markdown",
   "metadata": {
    "id": "IU36DQ6lP4v9"
   },
   "source": [
    "Replace the NaN values with the mean"
   ]
  },
  {
   "cell_type": "code",
   "execution_count": 14,
   "metadata": {
    "colab": {
     "base_uri": "https://localhost:8080/"
    },
    "id": "XNDD6hqAP4Vd",
    "outputId": "5a57b338-83f6-4113-ab9c-238d216edb29"
   },
   "outputs": [
    {
     "name": "stdout",
     "output_type": "stream",
     "text": [
      "     Duration  Pulse  Maxpulse  Calories\n",
      "0          60    110       130     409.1\n",
      "1          60    117       145     479.0\n",
      "2          60    103       135     340.0\n",
      "3          45    109       175     282.4\n",
      "4          45    117       148     406.0\n",
      "..        ...    ...       ...       ...\n",
      "164        60    105       140     290.8\n",
      "165        60    110       145     300.0\n",
      "166        60    115       145     310.2\n",
      "167        75    120       150     320.4\n",
      "168        75    125       150     330.4\n",
      "\n",
      "[169 rows x 4 columns]\n"
     ]
    }
   ],
   "source": [
    "data['Calories'].fillna(value = data['Calories'].mean(), inplace=True)\n",
    "print(data)"
   ]
  },
  {
   "cell_type": "markdown",
   "metadata": {
    "id": "HXx7PLu8RX2v"
   },
   "source": [
    "Checking if there are NaN values left in the data"
   ]
  },
  {
   "cell_type": "code",
   "execution_count": 15,
   "metadata": {
    "colab": {
     "base_uri": "https://localhost:8080/",
     "height": 49
    },
    "id": "qTodGhufRTHr",
    "outputId": "0157217d-d237-46d1-b3fe-4b6899aac0ca"
   },
   "outputs": [
    {
     "data": {
      "text/html": [
       "<div>\n",
       "<style scoped>\n",
       "    .dataframe tbody tr th:only-of-type {\n",
       "        vertical-align: middle;\n",
       "    }\n",
       "\n",
       "    .dataframe tbody tr th {\n",
       "        vertical-align: top;\n",
       "    }\n",
       "\n",
       "    .dataframe thead th {\n",
       "        text-align: right;\n",
       "    }\n",
       "</style>\n",
       "<table border=\"1\" class=\"dataframe\">\n",
       "  <thead>\n",
       "    <tr style=\"text-align: right;\">\n",
       "      <th></th>\n",
       "      <th>Duration</th>\n",
       "      <th>Pulse</th>\n",
       "      <th>Maxpulse</th>\n",
       "      <th>Calories</th>\n",
       "    </tr>\n",
       "  </thead>\n",
       "  <tbody>\n",
       "  </tbody>\n",
       "</table>\n",
       "</div>"
      ],
      "text/plain": [
       "Empty DataFrame\n",
       "Columns: [Duration, Pulse, Maxpulse, Calories]\n",
       "Index: []"
      ]
     },
     "execution_count": 15,
     "metadata": {},
     "output_type": "execute_result"
    }
   ],
   "source": [
    "data[data.isnull().any(axis = 1)].head()"
   ]
  },
  {
   "cell_type": "markdown",
   "metadata": {
    "id": "ZxzH73q0Rih-"
   },
   "source": [
    "Aggregating two data columns (Pulse and Maxpulse) with min, max, count, and mean"
   ]
  },
  {
   "cell_type": "code",
   "execution_count": 16,
   "metadata": {
    "colab": {
     "base_uri": "https://localhost:8080/",
     "height": 175
    },
    "id": "zzQNuGF2RxRu",
    "outputId": "4cd586e6-a537-4ebc-a499-0fcd9eb36656"
   },
   "outputs": [
    {
     "data": {
      "text/html": [
       "<div>\n",
       "<style scoped>\n",
       "    .dataframe tbody tr th:only-of-type {\n",
       "        vertical-align: middle;\n",
       "    }\n",
       "\n",
       "    .dataframe tbody tr th {\n",
       "        vertical-align: top;\n",
       "    }\n",
       "\n",
       "    .dataframe thead th {\n",
       "        text-align: right;\n",
       "    }\n",
       "</style>\n",
       "<table border=\"1\" class=\"dataframe\">\n",
       "  <thead>\n",
       "    <tr style=\"text-align: right;\">\n",
       "      <th></th>\n",
       "      <th>Pulse</th>\n",
       "      <th>Maxpulse</th>\n",
       "    </tr>\n",
       "  </thead>\n",
       "  <tbody>\n",
       "    <tr>\n",
       "      <th>min</th>\n",
       "      <td>80.000000</td>\n",
       "      <td>100.000000</td>\n",
       "    </tr>\n",
       "    <tr>\n",
       "      <th>max</th>\n",
       "      <td>159.000000</td>\n",
       "      <td>184.000000</td>\n",
       "    </tr>\n",
       "    <tr>\n",
       "      <th>count</th>\n",
       "      <td>169.000000</td>\n",
       "      <td>169.000000</td>\n",
       "    </tr>\n",
       "    <tr>\n",
       "      <th>mean</th>\n",
       "      <td>107.461538</td>\n",
       "      <td>134.047337</td>\n",
       "    </tr>\n",
       "  </tbody>\n",
       "</table>\n",
       "</div>"
      ],
      "text/plain": [
       "            Pulse    Maxpulse\n",
       "min     80.000000  100.000000\n",
       "max    159.000000  184.000000\n",
       "count  169.000000  169.000000\n",
       "mean   107.461538  134.047337"
      ]
     },
     "execution_count": 16,
     "metadata": {},
     "output_type": "execute_result"
    }
   ],
   "source": [
    "data[['Pulse', 'Maxpulse']].agg(['min', 'max', 'count', 'mean'])"
   ]
  },
  {
   "cell_type": "markdown",
   "metadata": {
    "id": "dXmZu4N4SYDi"
   },
   "source": [
    "Filtering the dataframe to select rows with calories values between 500 and 1000"
   ]
  },
  {
   "cell_type": "code",
   "execution_count": 17,
   "metadata": {
    "colab": {
     "base_uri": "https://localhost:8080/"
    },
    "id": "PPHpIIMISq6P",
    "outputId": "b0491d1e-e884-4722-fe4d-407a5b333713"
   },
   "outputs": [
    {
     "name": "stdout",
     "output_type": "stream",
     "text": [
      "     Duration  Pulse  Maxpulse  Calories\n",
      "51         80    123       146     643.1\n",
      "62        160    109       135     853.0\n",
      "65        180     90       130     800.4\n",
      "66        150    105       135     873.4\n",
      "67        150    107       130     816.0\n",
      "72         90    100       127     700.0\n",
      "73        150     97       127     953.2\n",
      "75         90     98       125     563.2\n",
      "78        120    100       130     500.4\n",
      "83        120    100       130     500.0\n",
      "90        180    101       127     600.1\n",
      "99         90     93       124     604.1\n",
      "101        90     90       110     500.0\n",
      "102        90     90       100     500.0\n",
      "103        90     90       100     500.4\n",
      "106       180     90       120     800.3\n",
      "108        90     90       120     500.3\n"
     ]
    }
   ],
   "source": [
    "sub_data = data[data['Calories'].between(500, 1000)]\n",
    "print(sub_data)"
   ]
  },
  {
   "cell_type": "markdown",
   "metadata": {
    "id": "lg19jezsTggn"
   },
   "source": [
    "Filtering the dataframe to select rows with calories values greater than 500 and pulse values less than 100"
   ]
  },
  {
   "cell_type": "code",
   "execution_count": 19,
   "metadata": {
    "colab": {
     "base_uri": "https://localhost:8080/"
    },
    "id": "MY1bugeiTv6-",
    "outputId": "866d250c-236a-4f56-c3a1-81d457fab727"
   },
   "outputs": [
    {
     "name": "stdout",
     "output_type": "stream",
     "text": [
      "     Duration  Pulse  Maxpulse  Calories\n",
      "65        180     90       130     800.4\n",
      "70        150     97       129    1115.0\n",
      "73        150     97       127     953.2\n",
      "75         90     98       125     563.2\n",
      "99         90     93       124     604.1\n",
      "103        90     90       100     500.4\n",
      "106       180     90       120     800.3\n",
      "108        90     90       120     500.3\n"
     ]
    }
   ],
   "source": [
    "filtered_data = data[data['Calories'] > 500][data[data['Calories'] > 500]['Pulse'] < 100]\n",
    "print(filtered_data)"
   ]
  },
  {
   "cell_type": "markdown",
   "metadata": {
    "id": "shgiyKM4VSe0"
   },
   "source": [
    "Create a modified dataframe that has all the data except for the \"Maxpulse\" column"
   ]
  },
  {
   "cell_type": "code",
   "execution_count": 17,
   "metadata": {
    "colab": {
     "base_uri": "https://localhost:8080/"
    },
    "id": "4Hsv-E7rVkS9",
    "outputId": "efea4e3d-8f3b-4285-d8fc-0c92ade5c317"
   },
   "outputs": [
    {
     "name": "stdout",
     "output_type": "stream",
     "text": [
      "     Duration  Pulse  Calories\n",
      "0          60    110     409.1\n",
      "1          60    117     479.0\n",
      "2          60    103     340.0\n",
      "3          45    109     282.4\n",
      "4          45    117     406.0\n",
      "..        ...    ...       ...\n",
      "164        60    105     290.8\n",
      "165        60    110     300.0\n",
      "166        60    115     310.2\n",
      "167        75    120     320.4\n",
      "168        75    125     330.4\n",
      "\n",
      "[169 rows x 3 columns]\n"
     ]
    }
   ],
   "source": [
    "df_modified = data.loc[:, data.columns != 'Maxpulse']\n",
    "print(df_modified)"
   ]
  },
  {
   "cell_type": "markdown",
   "metadata": {
    "id": "zAqi_ZDjWyvr"
   },
   "source": [
    "Delete the \"Maxpulse\" column from the \"data\" dataframe"
   ]
  },
  {
   "cell_type": "code",
   "execution_count": 18,
   "metadata": {
    "colab": {
     "base_uri": "https://localhost:8080/"
    },
    "id": "xyc0uoprW5wL",
    "outputId": "78ac7a5b-dd66-4a29-d869-79cf445f07b7"
   },
   "outputs": [
    {
     "name": "stdout",
     "output_type": "stream",
     "text": [
      "     Duration  Pulse  Calories\n",
      "0          60    110     409.1\n",
      "1          60    117     479.0\n",
      "2          60    103     340.0\n",
      "3          45    109     282.4\n",
      "4          45    117     406.0\n",
      "..        ...    ...       ...\n",
      "164        60    105     290.8\n",
      "165        60    110     300.0\n",
      "166        60    115     310.2\n",
      "167        75    120     320.4\n",
      "168        75    125     330.4\n",
      "\n",
      "[169 rows x 3 columns]\n"
     ]
    }
   ],
   "source": [
    "del data['Maxpulse']\n",
    "print(data)"
   ]
  },
  {
   "cell_type": "markdown",
   "metadata": {
    "id": "hNOBmkVTXkai"
   },
   "source": [
    "Convert the \"Calories\" column into the int datatype"
   ]
  },
  {
   "cell_type": "code",
   "execution_count": 19,
   "metadata": {
    "colab": {
     "base_uri": "https://localhost:8080/"
    },
    "id": "bk4R5-BfXs8M",
    "outputId": "0d3db299-1aac-4c79-f48c-1bd47a556034"
   },
   "outputs": [
    {
     "name": "stdout",
     "output_type": "stream",
     "text": [
      "Duration    int64\n",
      "Pulse       int64\n",
      "Calories    int64\n",
      "dtype: object\n"
     ]
    }
   ],
   "source": [
    "data[\"Calories\"] = data[\"Calories\"].astype(int)\n",
    "print(data.dtypes)"
   ]
  },
  {
   "cell_type": "markdown",
   "metadata": {
    "id": "tKhfQoRdZys9"
   },
   "source": [
    "Create a scatter plot for the \"Duration\" and \"Calories\" columns"
   ]
  },
  {
   "cell_type": "code",
   "execution_count": 20,
   "metadata": {
    "colab": {
     "base_uri": "https://localhost:8080/",
     "height": 296
    },
    "id": "JbqXyOZ7Z68v",
    "outputId": "0b4f4b23-aa7c-4a4b-a361-0241939978d7"
   },
   "outputs": [
    {
     "data": {
      "text/plain": [
       "<matplotlib.axes._subplots.AxesSubplot at 0x7f27147cc350>"
      ]
     },
     "execution_count": 20,
     "metadata": {},
     "output_type": "execute_result"
    },
    {
     "data": {
      "image/png": "[encoded data removed]",
      "text/plain": [
       "<Figure size 432x288 with 1 Axes>"
      ]
     },
     "metadata": {
      "needs_background": "light"
     },
     "output_type": "display_data"
    }
   ],
   "source": [
    "data.plot.scatter(x = 'Duration', y = 'Calories')"
   ]
  },
  {
   "cell_type": "markdown",
   "metadata": {
    "id": "DimiUQae9QlT"
   },
   "source": [
    "3) Matplotlib"
   ]
  },
  {
   "cell_type": "markdown",
   "metadata": {
    "id": "4XOfqKiRCCz1"
   },
   "source": [
    "Import the pyplot and image libraries from the matplotlib library"
   ]
  },
  {
   "cell_type": "code",
   "execution_count": 22,
   "metadata": {
    "id": "dzehaAE-9BuW"
   },
   "outputs": [],
   "source": [
    "import matplotlib.pyplot as plt\n",
    "import matplotlib.image as mpimg"
   ]
  },
  {
   "cell_type": "markdown",
   "metadata": {
    "id": "SKzAYB2WCVL_"
   },
   "source": [
    "Using matplotlib, read the provided image"
   ]
  },
  {
   "cell_type": "code",
   "execution_count": 23,
   "metadata": {
    "id": "v6r7X3bdCdOI"
   },
   "outputs": [],
   "source": [
    "image = mpimg.imread('umkc.jpg')"
   ]
  },
  {
   "cell_type": "markdown",
   "metadata": {
    "id": "OzLanycgCh3e"
   },
   "source": [
    "Show the image"
   ]
  },
  {
   "cell_type": "code",
   "execution_count": 24,
   "metadata": {
    "colab": {
     "base_uri": "https://localhost:8080/",
     "height": 245
    },
    "id": "58nui-TgChgB",
    "outputId": "0fa5fffd-e70f-4258-aa3f-85b1d0330b17"
   },
   "outputs": [
    {
     "data": {
      "text/plain": [
       "<matplotlib.image.AxesImage at 0x7f270af9b810>"
      ]
     },
     "execution_count": 24,
     "metadata": {},
     "output_type": "execute_result"
    },
    {
     "data": {
      "image/png": "[encoded data removed]",
      "text/plain": [
       "<Figure size 432x288 with 1 Axes>"
      ]
     },
     "metadata": {
      "needs_background": "light"
     },
     "output_type": "display_data"
    }
   ],
   "source": [
    "plt.imshow(image)"
   ]
  },
  {
   "cell_type": "markdown",
   "metadata": {
    "id": "9RGSsTlpCop1"
   },
   "source": [
    "Print the image shape"
   ]
  },
  {
   "cell_type": "code",
   "execution_count": 25,
   "metadata": {
    "colab": {
     "base_uri": "https://localhost:8080/"
    },
    "id": "Tpx6pso4Cq0O",
    "outputId": "d8754fba-055d-4297-92dd-985502e08c4f"
   },
   "outputs": [
    {
     "data": {
      "text/plain": [
       "(630, 1200, 3)"
      ]
     },
     "execution_count": 25,
     "metadata": {},
     "output_type": "execute_result"
    }
   ],
   "source": [
    "image.shape"
   ]
  },
  {
   "cell_type": "markdown",
   "metadata": {
    "id": "PctUfdTjCsjM"
   },
   "source": [
    "Crop the border of the image (background) to keep the word UMKC by splicing the image and using numpy"
   ]
  },
  {
   "cell_type": "code",
   "execution_count": 37,
   "metadata": {
    "colab": {
     "base_uri": "https://localhost:8080/",
     "height": 195
    },
    "id": "IKUE85g6C676",
    "outputId": "8d7cc357-c1d5-4f59-cf44-6d2024439aad"
   },
   "outputs": [
    {
     "data": {
      "text/plain": [
       "<matplotlib.image.AxesImage at 0x7f27092b84d0>"
      ]
     },
     "execution_count": 37,
     "metadata": {},
     "output_type": "execute_result"
    },
    {
     "data": {
      "image/png": "[encoded data removed]",
      "text/plain": [
       "<Figure size 432x288 with 1 Axes>"
      ]
     },
     "metadata": {
      "needs_background": "light"
     },
     "output_type": "display_data"
    }
   ],
   "source": [
    "image_cropped = image[140:430, 270:930]\n",
    "plt.axis(\"off\")\n",
    "plt.imshow(image_cropped)"
   ]
  },
  {
   "cell_type": "markdown",
   "metadata": {
    "id": "bMzC3ATWDvgv"
   },
   "source": [
    "Write the cropped image as a new file called \"cropped_image.jpg\""
   ]
  },
  {
   "cell_type": "code",
   "execution_count": 27,
   "metadata": {
    "id": "Sbjns_sYD55I"
   },
   "outputs": [],
   "source": [
    "plt.imsave('cropped_image.jpg', image_cropped)"
   ]
  },
  {
   "cell_type": "markdown",
   "metadata": {
    "id": "iJzce446D4lf"
   },
   "source": [
    "Change the background of the image to black using the numpy where method"
   ]
  },
  {
   "cell_type": "code",
   "execution_count": 29,
   "metadata": {
    "colab": {
     "base_uri": "https://localhost:8080/",
     "height": 224
    },
    "id": "V0OBStUeHo7Q",
    "outputId": "6da150a4-d8a2-43b3-fcf5-fd8c82dcbcec"
   },
   "outputs": [
    {
     "data": {
      "text/plain": [
       "<matplotlib.image.AxesImage at 0x7f2709662090>"
      ]
     },
     "execution_count": 29,
     "metadata": {},
     "output_type": "execute_result"
    },
    {
     "data": {
      "image/png": "[encoded data removed]",
      "text/plain": [
       "<Figure size 432x288 with 1 Axes>"
      ]
     },
     "metadata": {
      "needs_background": "light"
     },
     "output_type": "display_data"
    }
   ],
   "source": [
    "np_where_image = np.where(image < [200,200,200], [0,0,0], image)\n",
    "plt.axis(\"off\")\n",
    "plt.imshow(np_where_image)"
   ]
  },
  {
   "cell_type": "markdown",
   "metadata": {
    "id": "NlzYJN7f8Noj"
   },
   "source": [
    "Change the array type from int32 to uint8"
   ]
  },
  {
   "cell_type": "code",
   "execution_count": 30,
   "metadata": {
    "colab": {
     "base_uri": "https://localhost:8080/"
    },
    "id": "YknwDckz8OBP",
    "outputId": "c7b4c280-1beb-485e-ab63-3e6a4f1362cc"
   },
   "outputs": [
    {
     "data": {
      "text/plain": [
       "dtype('int64')"
      ]
     },
     "execution_count": 30,
     "metadata": {},
     "output_type": "execute_result"
    }
   ],
   "source": [
    "np_where_image.dtype"
   ]
  },
  {
   "cell_type": "code",
   "execution_count": 31,
   "metadata": {
    "colab": {
     "base_uri": "https://localhost:8080/"
    },
    "id": "exEIgUNP9MQJ",
    "outputId": "a1f05bf0-1777-4819-cb60-535edf28a420"
   },
   "outputs": [
    {
     "data": {
      "text/plain": [
       "dtype('uint8')"
      ]
     },
     "execution_count": 31,
     "metadata": {},
     "output_type": "execute_result"
    }
   ],
   "source": [
    "np_where_image = np_where_image.astype(np.uint8)\n",
    "np_where_image.dtype"
   ]
  },
  {
   "cell_type": "markdown",
   "metadata": {
    "id": "z8hyBPZMWThL"
   },
   "source": [
    "Write the new image as a new file called \"np_where_image.jpg\""
   ]
  },
  {
   "cell_type": "code",
   "execution_count": 32,
   "metadata": {
    "id": "y1mVy07oWfTY"
   },
   "outputs": [],
   "source": [
    "plt.imsave('np_where_image.jpg', np_where_image)"
   ]
  }
 ],
 "metadata": {
  "colab": {
   "name": "Yap_Yoon_5590_ICP_4.ipynb",
   "provenance": []
  },
  "kernelspec": {
   "display_name": "Python 3 (ipykernel)",
   "language": "python",
   "name": "python3"
  },
  "language_info": {
   "codemirror_mode": {
    "name": "ipython",
    "version": 3
   },
   "file_extension": ".py",
   "mimetype": "text/x-python",
   "name": "python",
   "nbconvert_exporter": "python",
   "pygments_lexer": "ipython3",
   "version": "3.9.7"
  }
 },
 "nbformat": 4,
 "nbformat_minor": 1
}
