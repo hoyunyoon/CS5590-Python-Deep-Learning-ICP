{
 "cells": [
  {
   "cell_type": "markdown",
   "metadata": {
    "id": "aeckgex26tRo"
   },
   "source": [
    "Martin Yap,\n",
    "Hoyun Yoon,\n",
    "ICP 5"
   ]
  },
  {
   "cell_type": "markdown",
   "metadata": {
    "id": "rMG9RQGlFVuh"
   },
   "source": [
    "Q2) Optical Recognition of Handwritten Digits Data Set"
   ]
  },
  {
   "cell_type": "markdown",
   "metadata": {
    "id": "Ir4m9yoVFfl1"
   },
   "source": [
    "Import the scikit library and implement the SVM, Naive Bayes, and KNN methods"
   ]
  },
  {
   "cell_type": "code",
   "execution_count": 2,
   "metadata": {
    "id": "tV7Ja0C5JZ4s"
   },
   "outputs": [],
   "source": [
    "from sklearn.model_selection import train_test_split\n",
    "from sklearn.naive_bayes import GaussianNB, BernoulliNB, MultinomialNB\n",
    "from sklearn import svm\n",
    "from sklearn.neighbors import KNeighborsClassifier\n",
    "from sklearn.metrics import accuracy_score, classification_report\n",
    "import numpy as np"
   ]
  },
  {
   "cell_type": "code",
   "execution_count": 3,
   "metadata": {
    "id": "SncCqDZQM6B4"
   },
   "outputs": [],
   "source": [
    "gnb = GaussianNB()\n",
    "bern = BernoulliNB()\n",
    "multi = MultinomialNB()\n",
    "clf = svm.SVC()\n",
    "neigh = KNeighborsClassifier(n_neighbors=5)"
   ]
  },
  {
   "cell_type": "markdown",
   "metadata": {
    "id": "o2QeH4lLKs-i"
   },
   "source": [
    "Import the digits data set"
   ]
  },
  {
   "cell_type": "code",
   "execution_count": 4,
   "metadata": {
    "id": "DgW1RwYGBsbR"
   },
   "outputs": [],
   "source": [
    "from sklearn.datasets import load_digits\n",
    "digits = load_digits()\n",
    "x, y = load_digits(return_X_y=True)"
   ]
  },
  {
   "cell_type": "markdown",
   "metadata": {
    "id": "Vp08TqvhL1Sm"
   },
   "source": [
    "Visualizing some of the images in the dataset"
   ]
  },
  {
   "cell_type": "code",
   "execution_count": 5,
   "metadata": {
    "colab": {
     "base_uri": "https://localhost:8080/",
     "height": 275
    },
    "id": "7wN-mTT7MBMW",
    "outputId": "ab4f73ad-c585-49bc-ac76-e39d395e6480"
   },
   "outputs": [
    {
     "data": {
      "image/png": "[encoded data removed]",
      "text/plain": [
       "<Figure size 288x288 with 1 Axes>"
      ]
     },
     "metadata": {
      "needs_background": "light"
     },
     "output_type": "display_data"
    }
   ],
   "source": [
    "import matplotlib.pyplot as plt\n",
    "plt.matshow(digits.images[1])\n",
    "plt.show()"
   ]
  },
  {
   "cell_type": "code",
   "execution_count": 6,
   "metadata": {
    "colab": {
     "base_uri": "https://localhost:8080/",
     "height": 292
    },
    "id": "ABGibB8igiPd",
    "outputId": "f98172dc-d98f-4876-c743-9b6007deefd0"
   },
   "outputs": [
    {
     "data": {
      "text/plain": [
       "<function matplotlib.pyplot.show(close=None, block=None)>"
      ]
     },
     "execution_count": 6,
     "metadata": {},
     "output_type": "execute_result"
    },
    {
     "data": {
      "image/png": "[encoded data removed]",
      "text/plain": [
       "<Figure size 288x288 with 1 Axes>"
      ]
     },
     "metadata": {
      "needs_background": "light"
     },
     "output_type": "display_data"
    }
   ],
   "source": [
    "plt.matshow(digits.images[20])\n",
    "plt.show"
   ]
  },
  {
   "cell_type": "markdown",
   "metadata": {
    "id": "PhbwXM6UL7oU"
   },
   "source": [
    "Analyzing the data in the digits dataset"
   ]
  },
  {
   "cell_type": "code",
   "execution_count": 7,
   "metadata": {
    "colab": {
     "base_uri": "https://localhost:8080/"
    },
    "id": "7M69suCkMBoG",
    "outputId": "a318b217-1cc1-4c5a-894a-ad7abe897213"
   },
   "outputs": [
    {
     "name": "stdout",
     "output_type": "stream",
     "text": [
      "(1797, 64)\n"
     ]
    }
   ],
   "source": [
    "print(digits.data.shape)"
   ]
  },
  {
   "cell_type": "code",
   "execution_count": 8,
   "metadata": {
    "colab": {
     "base_uri": "https://localhost:8080/"
    },
    "id": "_70N9jpoKJ1p",
    "outputId": "af97812f-080d-4106-d536-83bb0d58855e"
   },
   "outputs": [
    {
     "name": "stdout",
     "output_type": "stream",
     "text": [
      "[0 1 2 3 4 5 6 7 8 9]\n"
     ]
    }
   ],
   "source": [
    "print(digits.target_names)"
   ]
  },
  {
   "cell_type": "code",
   "execution_count": 9,
   "metadata": {
    "colab": {
     "base_uri": "https://localhost:8080/"
    },
    "id": "_QhLqEeAKbH7",
    "outputId": "c36d2812-e1a4-4f7f-807e-b81e5c98a046"
   },
   "outputs": [
    {
     "name": "stdout",
     "output_type": "stream",
     "text": [
      "['pixel_0_0', 'pixel_0_1', 'pixel_0_2', 'pixel_0_3', 'pixel_0_4', 'pixel_0_5', 'pixel_0_6', 'pixel_0_7', 'pixel_1_0', 'pixel_1_1', 'pixel_1_2', 'pixel_1_3', 'pixel_1_4', 'pixel_1_5', 'pixel_1_6', 'pixel_1_7', 'pixel_2_0', 'pixel_2_1', 'pixel_2_2', 'pixel_2_3', 'pixel_2_4', 'pixel_2_5', 'pixel_2_6', 'pixel_2_7', 'pixel_3_0', 'pixel_3_1', 'pixel_3_2', 'pixel_3_3', 'pixel_3_4', 'pixel_3_5', 'pixel_3_6', 'pixel_3_7', 'pixel_4_0', 'pixel_4_1', 'pixel_4_2', 'pixel_4_3', 'pixel_4_4', 'pixel_4_5', 'pixel_4_6', 'pixel_4_7', 'pixel_5_0', 'pixel_5_1', 'pixel_5_2', 'pixel_5_3', 'pixel_5_4', 'pixel_5_5', 'pixel_5_6', 'pixel_5_7', 'pixel_6_0', 'pixel_6_1', 'pixel_6_2', 'pixel_6_3', 'pixel_6_4', 'pixel_6_5', 'pixel_6_6', 'pixel_6_7', 'pixel_7_0', 'pixel_7_1', 'pixel_7_2', 'pixel_7_3', 'pixel_7_4', 'pixel_7_5', 'pixel_7_6', 'pixel_7_7']\n"
     ]
    }
   ],
   "source": [
    "print(digits.feature_names)"
   ]
  },
  {
   "cell_type": "code",
   "execution_count": 10,
   "metadata": {
    "colab": {
     "base_uri": "https://localhost:8080/"
    },
    "id": "t9JGMduHKr5r",
    "outputId": "c5120a74-183f-4a1b-d6af-6ad9d95dce0b"
   },
   "outputs": [
    {
     "name": "stdout",
     "output_type": "stream",
     "text": [
      "[0 1 2 ... 8 9 8]\n"
     ]
    }
   ],
   "source": [
    "print(digits.target)"
   ]
  },
  {
   "cell_type": "markdown",
   "metadata": {
    "id": "6-lUPVqsMCiY"
   },
   "source": [
    "Creating the training and testing datasets"
   ]
  },
  {
   "cell_type": "code",
   "execution_count": 11,
   "metadata": {
    "id": "l3CDf6tpMH03"
   },
   "outputs": [],
   "source": [
    "x_train, x_test, y_train, y_test = train_test_split(x, y, test_size=0.5, random_state=0)"
   ]
  },
  {
   "cell_type": "markdown",
   "metadata": {
    "id": "-WwOkJmkMII7"
   },
   "source": [
    "Evaluating the each of the models to find their accuracy score and classification report"
   ]
  },
  {
   "cell_type": "code",
   "execution_count": 12,
   "metadata": {
    "id": "OKcQ0wqqMQam"
   },
   "outputs": [],
   "source": [
    "y_gnb_pred = gnb.fit(x_train, y_train).predict(x_test)"
   ]
  },
  {
   "cell_type": "code",
   "execution_count": 13,
   "metadata": {
    "colab": {
     "base_uri": "https://localhost:8080/"
    },
    "id": "xENLLKx6HrTo",
    "outputId": "25d779e9-7895-41ce-cac0-1acc58a98a4d"
   },
   "outputs": [
    {
     "data": {
      "text/plain": [
       "0.8342602892102335"
      ]
     },
     "execution_count": 13,
     "metadata": {},
     "output_type": "execute_result"
    }
   ],
   "source": [
    "accuracy_score(y_test, y_gnb_pred)"
   ]
  },
  {
   "cell_type": "code",
   "execution_count": 14,
   "metadata": {
    "colab": {
     "base_uri": "https://localhost:8080/"
    },
    "id": "_1R-Q2PhIJ54",
    "outputId": "9355d028-c714-4850-94b0-b48ae15dd45d"
   },
   "outputs": [
    {
     "name": "stdout",
     "output_type": "stream",
     "text": [
      "              precision    recall  f1-score   support\n",
      "\n",
      "           0       1.00      1.00      1.00        89\n",
      "           1       0.80      0.86      0.83        90\n",
      "           2       0.91      0.57      0.70        92\n",
      "           3       0.76      0.85      0.80        93\n",
      "           4       0.92      0.79      0.85        76\n",
      "           5       0.89      0.90      0.89       108\n",
      "           6       0.98      0.98      0.98        89\n",
      "           7       0.75      0.99      0.85        78\n",
      "           8       0.61      0.84      0.70        92\n",
      "           9       0.92      0.60      0.72        92\n",
      "\n",
      "    accuracy                           0.83       899\n",
      "   macro avg       0.85      0.84      0.83       899\n",
      "weighted avg       0.85      0.83      0.83       899\n",
      "\n"
     ]
    }
   ],
   "source": [
    "print(classification_report(y_test, y_gnb_pred))"
   ]
  },
  {
   "cell_type": "code",
   "execution_count": 15,
   "metadata": {
    "id": "tqh3iS96iISZ"
   },
   "outputs": [],
   "source": [
    "y_bern_pred = bern.fit(x_train, y_train).predict(x_test)"
   ]
  },
  {
   "cell_type": "code",
   "execution_count": 16,
   "metadata": {
    "colab": {
     "base_uri": "https://localhost:8080/"
    },
    "id": "OSkU7O5JiOTE",
    "outputId": "948ab7ba-5514-466f-ba90-a10a101a8fd7"
   },
   "outputs": [
    {
     "data": {
      "text/plain": [
       "0.8431590656284761"
      ]
     },
     "execution_count": 16,
     "metadata": {},
     "output_type": "execute_result"
    }
   ],
   "source": [
    "accuracy_score(y_test, y_bern_pred)"
   ]
  },
  {
   "cell_type": "code",
   "execution_count": 17,
   "metadata": {
    "colab": {
     "base_uri": "https://localhost:8080/"
    },
    "id": "AwmeMKlqiR75",
    "outputId": "1ea345d5-a344-4cbf-c2c3-3de2b22ba91b"
   },
   "outputs": [
    {
     "name": "stdout",
     "output_type": "stream",
     "text": [
      "              precision    recall  f1-score   support\n",
      "\n",
      "           0       0.98      0.99      0.98        89\n",
      "           1       0.71      0.61      0.66        90\n",
      "           2       0.81      0.85      0.83        92\n",
      "           3       0.85      0.83      0.84        93\n",
      "           4       0.91      0.93      0.92        76\n",
      "           5       0.94      0.78      0.85       108\n",
      "           6       0.90      0.94      0.92        89\n",
      "           7       0.87      0.97      0.92        78\n",
      "           8       0.74      0.73      0.74        92\n",
      "           9       0.72      0.85      0.78        92\n",
      "\n",
      "    accuracy                           0.84       899\n",
      "   macro avg       0.84      0.85      0.84       899\n",
      "weighted avg       0.84      0.84      0.84       899\n",
      "\n"
     ]
    }
   ],
   "source": [
    "print(classification_report(y_test, y_bern_pred))"
   ]
  },
  {
   "cell_type": "code",
   "execution_count": 18,
   "metadata": {
    "id": "k_7VmUKWiWA2"
   },
   "outputs": [],
   "source": [
    "y_multi_pred = multi.fit(x_train, y_train).predict(x_test)"
   ]
  },
  {
   "cell_type": "code",
   "execution_count": 19,
   "metadata": {
    "colab": {
     "base_uri": "https://localhost:8080/"
    },
    "id": "IQxxJC04ibKj",
    "outputId": "3dbe4a42-2bb3-4fb7-9d1e-9e64c0089ee0"
   },
   "outputs": [
    {
     "data": {
      "text/plain": [
       "0.8932146829810901"
      ]
     },
     "execution_count": 19,
     "metadata": {},
     "output_type": "execute_result"
    }
   ],
   "source": [
    "accuracy_score(y_test, y_multi_pred)"
   ]
  },
  {
   "cell_type": "code",
   "execution_count": 20,
   "metadata": {
    "colab": {
     "base_uri": "https://localhost:8080/"
    },
    "id": "H6chLBXuifDA",
    "outputId": "096b26db-eddf-4a81-dc92-a85208699a4a"
   },
   "outputs": [
    {
     "name": "stdout",
     "output_type": "stream",
     "text": [
      "              precision    recall  f1-score   support\n",
      "\n",
      "           0       0.99      0.99      0.99        89\n",
      "           1       0.88      0.70      0.78        90\n",
      "           2       0.87      0.91      0.89        92\n",
      "           3       1.00      0.83      0.91        93\n",
      "           4       0.96      0.95      0.95        76\n",
      "           5       0.97      0.84      0.90       108\n",
      "           6       0.96      0.97      0.96        89\n",
      "           7       0.88      1.00      0.93        78\n",
      "           8       0.84      0.87      0.86        92\n",
      "           9       0.69      0.91      0.79        92\n",
      "\n",
      "    accuracy                           0.89       899\n",
      "   macro avg       0.90      0.90      0.90       899\n",
      "weighted avg       0.90      0.89      0.89       899\n",
      "\n"
     ]
    }
   ],
   "source": [
    "print(classification_report(y_test, y_multi_pred))"
   ]
  },
  {
   "cell_type": "code",
   "execution_count": 21,
   "metadata": {
    "id": "JYSPiZ7HGxy4"
   },
   "outputs": [],
   "source": [
    "y_svm_pred = clf.fit(x_train, y_train).predict(x_test)"
   ]
  },
  {
   "cell_type": "code",
   "execution_count": 22,
   "metadata": {
    "colab": {
     "base_uri": "https://localhost:8080/"
    },
    "id": "lt8Vr0FRHrys",
    "outputId": "40be1f2e-a84c-47c0-9f3c-b28040654f63"
   },
   "outputs": [
    {
     "data": {
      "text/plain": [
       "0.9877641824249166"
      ]
     },
     "execution_count": 22,
     "metadata": {},
     "output_type": "execute_result"
    }
   ],
   "source": [
    "accuracy_score(y_test, y_svm_pred)"
   ]
  },
  {
   "cell_type": "code",
   "execution_count": 23,
   "metadata": {
    "colab": {
     "base_uri": "https://localhost:8080/"
    },
    "id": "a_R5_tyrIKqE",
    "outputId": "547461a2-699a-43f0-ae2b-d1f7956faca7"
   },
   "outputs": [
    {
     "name": "stdout",
     "output_type": "stream",
     "text": [
      "              precision    recall  f1-score   support\n",
      "\n",
      "           0       1.00      1.00      1.00        89\n",
      "           1       0.96      1.00      0.98        90\n",
      "           2       1.00      0.99      0.99        92\n",
      "           3       1.00      0.98      0.99        93\n",
      "           4       0.99      1.00      0.99        76\n",
      "           5       0.98      0.97      0.98       108\n",
      "           6       0.98      1.00      0.99        89\n",
      "           7       1.00      1.00      1.00        78\n",
      "           8       0.99      0.96      0.97        92\n",
      "           9       0.99      0.99      0.99        92\n",
      "\n",
      "    accuracy                           0.99       899\n",
      "   macro avg       0.99      0.99      0.99       899\n",
      "weighted avg       0.99      0.99      0.99       899\n",
      "\n"
     ]
    }
   ],
   "source": [
    "print(classification_report(y_test, y_svm_pred))"
   ]
  },
  {
   "cell_type": "code",
   "execution_count": 24,
   "metadata": {
    "id": "VJfG68_pHQXL"
   },
   "outputs": [],
   "source": [
    "y_knn_pred = neigh.fit(x_train, y_train).predict(x_test)"
   ]
  },
  {
   "cell_type": "code",
   "execution_count": 25,
   "metadata": {
    "colab": {
     "base_uri": "https://localhost:8080/"
    },
    "id": "EfjoqaREHsGx",
    "outputId": "5f479b5e-e7e0-4d2d-f71e-95b6ed275d40"
   },
   "outputs": [
    {
     "data": {
      "text/plain": [
       "0.9777530589543938"
      ]
     },
     "execution_count": 25,
     "metadata": {},
     "output_type": "execute_result"
    }
   ],
   "source": [
    "accuracy_score(y_test, y_knn_pred)"
   ]
  },
  {
   "cell_type": "code",
   "execution_count": 26,
   "metadata": {
    "colab": {
     "base_uri": "https://localhost:8080/"
    },
    "id": "kkPYBHrkILUw",
    "outputId": "5e74be7b-3ffc-4898-c99b-989a107cf1a0"
   },
   "outputs": [
    {
     "name": "stdout",
     "output_type": "stream",
     "text": [
      "              precision    recall  f1-score   support\n",
      "\n",
      "           0       1.00      1.00      1.00        89\n",
      "           1       0.94      1.00      0.97        90\n",
      "           2       0.99      0.99      0.99        92\n",
      "           3       0.96      0.99      0.97        93\n",
      "           4       0.99      0.99      0.99        76\n",
      "           5       0.98      0.97      0.98       108\n",
      "           6       0.99      1.00      0.99        89\n",
      "           7       0.99      1.00      0.99        78\n",
      "           8       1.00      0.89      0.94        92\n",
      "           9       0.96      0.96      0.96        92\n",
      "\n",
      "    accuracy                           0.98       899\n",
      "   macro avg       0.98      0.98      0.98       899\n",
      "weighted avg       0.98      0.98      0.98       899\n",
      "\n"
     ]
    }
   ],
   "source": [
    "print(classification_report(y_test, y_knn_pred))"
   ]
  },
  {
   "cell_type": "markdown",
   "metadata": {
    "id": "1UtXutMgMQ-y"
   },
   "source": [
    "Evaluating an image and visualizing its class using the different models"
   ]
  },
  {
   "cell_type": "code",
   "execution_count": 62,
   "metadata": {
    "id": "Salzfx0xmdt-"
   },
   "outputs": [],
   "source": [
    "flat = digits.images[9].reshape((-1, 64))"
   ]
  },
  {
   "cell_type": "code",
   "execution_count": 63,
   "metadata": {
    "colab": {
     "base_uri": "https://localhost:8080/"
    },
    "id": "cTUPOsiNoHTD",
    "outputId": "cedc167f-db58-488a-fa2f-6a766e247037"
   },
   "outputs": [
    {
     "name": "stdout",
     "output_type": "stream",
     "text": [
      "[5]\n"
     ]
    }
   ],
   "source": [
    "image_pred = gnb.fit(x_train, y_train).predict(flat)\n",
    "print(image_pred)"
   ]
  },
  {
   "cell_type": "code",
   "execution_count": 64,
   "metadata": {
    "colab": {
     "base_uri": "https://localhost:8080/"
    },
    "id": "sFFu7LA-obTJ",
    "outputId": "778c7b69-850b-4598-b52e-2821f6f5984e"
   },
   "outputs": [
    {
     "name": "stdout",
     "output_type": "stream",
     "text": [
      "[9]\n"
     ]
    }
   ],
   "source": [
    "image_pred = bern.fit(x_train, y_train).predict(flat)\n",
    "print(image_pred)"
   ]
  },
  {
   "cell_type": "code",
   "execution_count": 65,
   "metadata": {
    "colab": {
     "base_uri": "https://localhost:8080/"
    },
    "id": "rM7eV6b7obnm",
    "outputId": "7ded1446-1cde-4ee8-bcf8-28aaba7d5061"
   },
   "outputs": [
    {
     "name": "stdout",
     "output_type": "stream",
     "text": [
      "[9]\n"
     ]
    }
   ],
   "source": [
    "image_pred = multi.fit(x_train, y_train).predict(flat)\n",
    "print(image_pred)"
   ]
  },
  {
   "cell_type": "code",
   "execution_count": 66,
   "metadata": {
    "colab": {
     "base_uri": "https://localhost:8080/"
    },
    "id": "pFPxQX5nngey",
    "outputId": "403fb6c1-3b0a-41dc-9ebf-d130c4f86498"
   },
   "outputs": [
    {
     "name": "stdout",
     "output_type": "stream",
     "text": [
      "[9]\n"
     ]
    }
   ],
   "source": [
    "image_pred = clf.fit(x_train, y_train).predict(flat)\n",
    "print(image_pred)"
   ]
  },
  {
   "cell_type": "code",
   "execution_count": 67,
   "metadata": {
    "colab": {
     "base_uri": "https://localhost:8080/"
    },
    "id": "7UI-jHUBoG0z",
    "outputId": "8dec5053-ff87-4b4d-c0a1-ed6210fb185b"
   },
   "outputs": [
    {
     "name": "stdout",
     "output_type": "stream",
     "text": [
      "[9]\n"
     ]
    }
   ],
   "source": [
    "image_pred = neigh.fit(x_train, y_train).predict(flat)\n",
    "print(image_pred)"
   ]
  },
  {
   "cell_type": "code",
   "execution_count": 70,
   "metadata": {
    "colab": {
     "base_uri": "https://localhost:8080/",
     "height": 275
    },
    "id": "B4Gf9m4nMWAw",
    "outputId": "95b12e84-28d2-46fc-e894-fdb491599b3e"
   },
   "outputs": [
    {
     "data": {
      "image/png": "[encoded data removed]",
      "text/plain": [
       "<Figure size 288x288 with 1 Axes>"
      ]
     },
     "metadata": {
      "needs_background": "light"
     },
     "output_type": "display_data"
    }
   ],
   "source": [
    "img = digits.images[9]\n",
    "plt.matshow(img)\n",
    "plt.show()"
   ]
  },
  {
   "cell_type": "markdown",
   "metadata": {
    "id": "iJ_8pzn9MWTM"
   },
   "source": [
    "Identifying the best K value for good results"
   ]
  },
  {
   "cell_type": "code",
   "execution_count": null,
   "metadata": {
    "id": "UrR4mlIfNtux"
   },
   "outputs": [],
   "source": [
    "acc = []\n",
    "for i in range(1,50):\n",
    "  knn = KNeighborsClassifier(n_neighbors=i)\n",
    "  i_pred = knn.fit(x_train, y_train).predict(x_test)\n",
    "  acc.append(accuracy_score(y_test, i_pred))"
   ]
  },
  {
   "cell_type": "code",
   "execution_count": null,
   "metadata": {
    "colab": {
     "base_uri": "https://localhost:8080/",
     "height": 312
    },
    "id": "QcXIIR4tMcr1",
    "outputId": "b4142a93-cbe4-40ce-8a49-fc1226ad9496"
   },
   "outputs": [
    {
     "data": {
      "text/plain": [
       "Text(0, 0.5, 'Accuracy Score')"
      ]
     },
     "execution_count": 38,
     "metadata": {},
     "output_type": "execute_result"
    },
    {
     "data": {
      "image/png": "[encoded data removed]",
      "text/plain": [
       "<Figure size 432x288 with 1 Axes>"
      ]
     },
     "metadata": {
      "needs_background": "light"
     },
     "output_type": "display_data"
    }
   ],
   "source": [
    "plt.plot(range(1,50), acc, color='blue', marker='o')\n",
    "plt.title('Accuracy Score K Value')\n",
    "plt.xlabel('K Value')\n",
    "plt.ylabel('Accuracy Score')"
   ]
  },
  {
   "cell_type": "markdown",
   "metadata": {
    "id": "sXCzIXWupU7Z"
   },
   "source": [
    "Based on the accuracy for the K values, a K value of 1 would provide the best results. Aside from the K value of 1, a K value of 3 would also provide good results since it is the next highest accuracy value."
   ]
  }
 ],
 "metadata": {
  "colab": {
   "name": "Yap Yoon 5590 ICP 5 Q2.ipynb",
   "provenance": []
  },
  "kernelspec": {
   "display_name": "Python 3 (ipykernel)",
   "language": "python",
   "name": "python3"
  },
  "language_info": {
   "codemirror_mode": {
    "name": "ipython",
    "version": 3
   },
   "file_extension": ".py",
   "mimetype": "text/x-python",
   "name": "python",
   "nbconvert_exporter": "python",
   "pygments_lexer": "ipython3",
   "version": "3.9.7"
  }
 },
 "nbformat": 4,
 "nbformat_minor": 1
}
