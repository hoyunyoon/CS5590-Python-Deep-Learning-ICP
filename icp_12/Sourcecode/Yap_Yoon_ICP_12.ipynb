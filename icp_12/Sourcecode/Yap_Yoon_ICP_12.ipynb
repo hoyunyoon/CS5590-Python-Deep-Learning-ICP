{
  "nbformat": 4,
  "nbformat_minor": 0,
  "metadata": {
    "colab": {
      "name": "Yap_Yoon_ICP_12.ipynb",
      "provenance": []
    },
    "kernelspec": {
      "name": "python3",
      "display_name": "Python 3"
    },
    "language_info": {
      "name": "python"
    }
  },
  "cells": [
    {
      "cell_type": "markdown",
      "source": [
        "Yap Yoon ICP 12"
      ],
      "metadata": {
        "id": "Uz5Xk33whz-q"
      }
    },
    {
      "cell_type": "code",
      "source": [
        "import pandas as pd\n",
        "import numpy as np\n",
        "import re\n",
        "from tensorflow import keras\n",
        "from keras.preprocessing.text import Tokenizer\n",
        "from keras.preprocessing.sequence import pad_sequences\n",
        "from keras.models import Sequential\n",
        "from keras import layers\n",
        "from sklearn.preprocessing import LabelEncoder\n",
        "from tensorflow.keras.utils import to_categorical\n",
        "from sklearn.model_selection import train_test_split\n",
        "from keras.models import load_model\n",
        "import nltk\n",
        "from nltk.corpus import stopwords\n",
        "from nltk import word_tokenize"
      ],
      "metadata": {
        "id": "aPVTZiiYjDOW"
      },
      "execution_count": 1,
      "outputs": []
    },
    {
      "cell_type": "code",
      "source": [
        "nltk.download('stopwords')\n",
        "nltk.download('punkt')"
      ],
      "metadata": {
        "colab": {
          "base_uri": "https://localhost:8080/"
        },
        "id": "dTYXrEBtXSli",
        "outputId": "f8f362a6-f751-4edb-ee1e-86ebd11c4eab"
      },
      "execution_count": 2,
      "outputs": [
        {
          "output_type": "stream",
          "name": "stdout",
          "text": [
            "[nltk_data] Downloading package stopwords to /root/nltk_data...\n",
            "[nltk_data]   Package stopwords is already up-to-date!\n",
            "[nltk_data] Downloading package punkt to /root/nltk_data...\n",
            "[nltk_data]   Package punkt is already up-to-date!\n"
          ]
        },
        {
          "output_type": "execute_result",
          "data": {
            "text/plain": [
              "True"
            ]
          },
          "metadata": {},
          "execution_count": 2
        }
      ]
    },
    {
      "cell_type": "markdown",
      "source": [
        "1) Load Sentiment.csv and process data"
      ],
      "metadata": {
        "id": "USXWHgRbh2in"
      }
    },
    {
      "cell_type": "code",
      "execution_count": 3,
      "metadata": {
        "id": "cci63N4_SeCV"
      },
      "outputs": [],
      "source": [
        "# Load the sentiment data\n",
        "data = pd.read_csv('/content/Sentiment.csv')\n",
        "\n",
        "# Keep the necessary columns - sentiment, text\n",
        "data = data[['text', 'sentiment']]"
      ]
    },
    {
      "cell_type": "code",
      "source": [
        "# Convert all string to lowercase\n",
        "data['text'] = data['text'].apply(lambda x:x.lower())\n",
        "\n",
        "# Preprocess the text by removing everything that is not [a-zA-z0-9\\s]\n",
        "data['text'] = data['text'].apply((lambda x:re.sub('[^a-zA-Z0-9\\s]',\" \",x)))"
      ],
      "metadata": {
        "id": "us0CpKbyjWsA"
      },
      "execution_count": 4,
      "outputs": []
    },
    {
      "cell_type": "code",
      "source": [
        "# Interate over dataframe rows and remove 'rt' in the start of the text\n",
        "for idx, row in data.iterrows():\n",
        "  row[0] = row[0].replace('rt', ' ')"
      ],
      "metadata": {
        "id": "uU7usGmpkUN1"
      },
      "execution_count": 5,
      "outputs": []
    },
    {
      "cell_type": "code",
      "source": [
        "# Remove the stopwords from the text\n",
        "stopwords = stopwords.words('english')\n",
        "data[\"text\"] = data[\"text\"].apply(lambda x: \" \".join([word for word in x.split() if word not in stopwords]))"
      ],
      "metadata": {
        "id": "gKJs3yFpXP16"
      },
      "execution_count": 6,
      "outputs": []
    },
    {
      "cell_type": "code",
      "source": [
        "# Fit tokenizer with the text values\n",
        "max_features = 2000\n",
        "tokenizer = Tokenizer(num_words=max_features, split=' ')\n",
        "tokenizer.fit_on_texts(data['text'].values)"
      ],
      "metadata": {
        "id": "9GCpXrNQke5T"
      },
      "execution_count": 7,
      "outputs": []
    },
    {
      "cell_type": "code",
      "source": [
        "# Convert text into sequences\n",
        "X = tokenizer.texts_to_sequences(data['text'].values)\n",
        "\n",
        "# Pads sequences to the same length.\n",
        "X = pad_sequences(X)"
      ],
      "metadata": {
        "id": "RSN2GBVJmIjK"
      },
      "execution_count": 8,
      "outputs": []
    },
    {
      "cell_type": "markdown",
      "source": [
        "2) Build Keras model "
      ],
      "metadata": {
        "id": "DN_rUPYkmZvL"
      }
    },
    {
      "cell_type": "code",
      "source": [
        "# Intialize embedding and lstm layer variables\n",
        "embed_dim = 128\n",
        "lstm_out = 196\n",
        "length = X.shape[1]"
      ],
      "metadata": {
        "id": "WBD10GTsmddA"
      },
      "execution_count": 9,
      "outputs": []
    },
    {
      "cell_type": "code",
      "source": [
        "# Build the model\n",
        "model = Sequential()\n",
        "model.add(layers.Embedding(max_features, embed_dim, input_length = length))\n",
        "model.add(layers.LSTM(lstm_out, dropout=0.2, recurrent_dropout=0.2))\n",
        "model.add(layers.Dense(3, activation='softmax'))"
      ],
      "metadata": {
        "id": "gSwtsdYEnQn1"
      },
      "execution_count": 10,
      "outputs": []
    },
    {
      "cell_type": "code",
      "source": [
        "# Compile the model\n",
        "model.compile(loss='categorical_crossentropy', optimizer='adam', metrics=['accuracy'])"
      ],
      "metadata": {
        "id": "YP6Uk7bxpPqC"
      },
      "execution_count": 11,
      "outputs": []
    },
    {
      "cell_type": "markdown",
      "source": [
        "3) Train and save the model"
      ],
      "metadata": {
        "id": "RbDCG6DXsuNT"
      }
    },
    {
      "cell_type": "code",
      "source": [
        "# Encode and one-hot encode the sentiment labels\n",
        "le = LabelEncoder()\n",
        "encode = le.fit_transform(data['sentiment'])\n",
        "y = to_categorical(encode)"
      ],
      "metadata": {
        "id": "W7rN4xNGq944"
      },
      "execution_count": 12,
      "outputs": []
    },
    {
      "cell_type": "code",
      "source": [
        "# Generate the training and testing datasets\n",
        "x_train, x_test, y_train, y_test = train_test_split(X, y, test_size = 0.33, random_state = 42)"
      ],
      "metadata": {
        "id": "RpN1yciZrdRT"
      },
      "execution_count": 13,
      "outputs": []
    },
    {
      "cell_type": "code",
      "source": [
        "# Fit the model\n",
        "batch_size = 32\n",
        "model.fit(x_train, y_train, epochs = 7, batch_size = batch_size, verbose = 2)"
      ],
      "metadata": {
        "id": "9HQkPo0ervOZ",
        "colab": {
          "base_uri": "https://localhost:8080/"
        },
        "outputId": "3a88012e-8abb-4986-facb-4c1835decb5b"
      },
      "execution_count": 14,
      "outputs": [
        {
          "output_type": "stream",
          "name": "stdout",
          "text": [
            "Epoch 1/7\n",
            "291/291 - 48s - loss: 0.8216 - accuracy: 0.6468 - 48s/epoch - 164ms/step\n",
            "Epoch 2/7\n",
            "291/291 - 33s - loss: 0.6701 - accuracy: 0.7114 - 33s/epoch - 113ms/step\n",
            "Epoch 3/7\n",
            "291/291 - 33s - loss: 0.6081 - accuracy: 0.7413 - 33s/epoch - 113ms/step\n",
            "Epoch 4/7\n",
            "291/291 - 34s - loss: 0.5616 - accuracy: 0.7591 - 34s/epoch - 115ms/step\n",
            "Epoch 5/7\n",
            "291/291 - 34s - loss: 0.5219 - accuracy: 0.7813 - 34s/epoch - 117ms/step\n",
            "Epoch 6/7\n",
            "291/291 - 33s - loss: 0.4808 - accuracy: 0.7966 - 33s/epoch - 113ms/step\n",
            "Epoch 7/7\n",
            "291/291 - 33s - loss: 0.4471 - accuracy: 0.8162 - 33s/epoch - 113ms/step\n"
          ]
        },
        {
          "output_type": "execute_result",
          "data": {
            "text/plain": [
              "<keras.callbacks.History at 0x7f955eed54d0>"
            ]
          },
          "metadata": {},
          "execution_count": 14
        }
      ]
    },
    {
      "cell_type": "code",
      "source": [
        "# Evaluate the model\n",
        "score, acc = model.evaluate(x_test, y_test, verbose = 2, batch_size = batch_size)"
      ],
      "metadata": {
        "id": "RIXvP2ggs9X-",
        "colab": {
          "base_uri": "https://localhost:8080/"
        },
        "outputId": "c5b139ba-cbd5-4905-84c4-28ad4f6f38cc"
      },
      "execution_count": 15,
      "outputs": [
        {
          "output_type": "stream",
          "name": "stdout",
          "text": [
            "144/144 - 2s - loss: 0.9709 - accuracy: 0.6551 - 2s/epoch - 17ms/step\n"
          ]
        }
      ]
    },
    {
      "cell_type": "code",
      "source": [
        "# Display loss and accuracy scores\n",
        "print(\"score: %.2f\" %(score))\n",
        "print(\"acc: %.2f\" %(acc))"
      ],
      "metadata": {
        "id": "9MS9A2qOtPOT",
        "colab": {
          "base_uri": "https://localhost:8080/"
        },
        "outputId": "3739009f-d14a-4746-ff03-b291be0c29a7"
      },
      "execution_count": 16,
      "outputs": [
        {
          "output_type": "stream",
          "name": "stdout",
          "text": [
            "score: 0.97\n",
            "acc: 0.66\n"
          ]
        }
      ]
    },
    {
      "cell_type": "code",
      "source": [
        "# Save model\n",
        "model.save('./ICP12model'+'.h5')"
      ],
      "metadata": {
        "id": "e6o4zgF1tOWt"
      },
      "execution_count": 17,
      "outputs": []
    },
    {
      "cell_type": "code",
      "source": [
        "# Load the model\n",
        "model_reload = load_model('/content/ICP12model.h5')"
      ],
      "metadata": {
        "id": "eVTAWE9YtwE_"
      },
      "execution_count": 18,
      "outputs": []
    },
    {
      "cell_type": "code",
      "source": [
        "# Preprocess new text\n",
        "text = [[\"A lot of good things are happening. We are respected again throughout the world, and that's a great thing.@realDonaldTrump \"]]\n",
        "df = pd.DataFrame(text, index = range(0, 1, 1), columns =list('t'))\n",
        "df['t'] = df['t'].apply(lambda x : x.lower())\n",
        "df['t'] = df['t'].apply((lambda x : re.sub('[^a-zA-z0-9\\s]','',x)))"
      ],
      "metadata": {
        "id": "WqnkMuacK994"
      },
      "execution_count": 19,
      "outputs": []
    },
    {
      "cell_type": "code",
      "source": [
        "# Fit tokenizer with the text values\n",
        "max_features = 2000\n",
        "tokenizer = Tokenizer(num_words=max_features, split = ' ')\n",
        "tokenizer.fit_on_texts(df['t'].values)\n",
        "\n",
        "# Convert text into sequences\n",
        "X = tokenizer.texts_to_sequences(df['t'].values)\n",
        "\n",
        "# Pads sequences to the same length.\n",
        "X = pad_sequences(X, maxlen = length)"
      ],
      "metadata": {
        "id": "1JP6TDSKLJt9"
      },
      "execution_count": 20,
      "outputs": []
    },
    {
      "cell_type": "code",
      "source": [
        "# Use the model to predict the sentiment of the text\n",
        "output = model_reload.predict(X)\n",
        "print('Raw prediction:', output)\n",
        "print(\"Model identified sentiment to be class\", np.argmax(output))\n",
        "\n",
        "# Identify the corresponding label and class\n",
        "print(data['sentiment'])\n",
        "print(y)"
      ],
      "metadata": {
        "colab": {
          "base_uri": "https://localhost:8080/"
        },
        "id": "UzP5nxO7LO3Z",
        "outputId": "983b414d-c95c-48d6-89cf-bd1efb21585b"
      },
      "execution_count": 21,
      "outputs": [
        {
          "output_type": "stream",
          "name": "stdout",
          "text": [
            "Raw prediction: [[0.13235769 0.3287208  0.53892154]]\n",
            "Model identified sentiment to be class 2\n",
            "0         Neutral\n",
            "1        Positive\n",
            "2         Neutral\n",
            "3        Positive\n",
            "4        Positive\n",
            "           ...   \n",
            "13866    Negative\n",
            "13867    Positive\n",
            "13868    Positive\n",
            "13869    Negative\n",
            "13870    Positive\n",
            "Name: sentiment, Length: 13871, dtype: object\n",
            "[[0. 1. 0.]\n",
            " [0. 0. 1.]\n",
            " [0. 1. 0.]\n",
            " ...\n",
            " [0. 0. 1.]\n",
            " [1. 0. 0.]\n",
            " [0. 0. 1.]]\n"
          ]
        }
      ]
    },
    {
      "cell_type": "markdown",
      "source": [
        "4) Apply code on spam dataset"
      ],
      "metadata": {
        "id": "FKnXRO3xs21S"
      }
    },
    {
      "cell_type": "code",
      "source": [
        "# Load spam dataset\n",
        "spam = pd.read_csv('/content/spam.csv',encoding='latin-1')"
      ],
      "metadata": {
        "id": "UBt9iC95s2RX"
      },
      "execution_count": 22,
      "outputs": []
    },
    {
      "cell_type": "code",
      "source": [
        "# Keep necessary columns\n",
        "spam = spam[['v1','v2']]\n",
        "\n",
        "# Preprocess the textual data\n",
        "spam['v2'] = spam['v2'].apply(lambda x: x.lower())\n",
        "spam['v2'] = spam['v2'].apply((lambda x: re.sub('[^a-zA-z0-9\\s]', '',x)))\n",
        "spam[\"v2\"] = spam[\"v2\"].apply(lambda x: \" \".join([word for word in x.split() if word not in stopwords]))"
      ],
      "metadata": {
        "id": "cOWiw1UgLXC4",
        "colab": {
          "base_uri": "https://localhost:8080/"
        },
        "outputId": "268f234f-0d27-4200-ba8f-aefd3662c197"
      },
      "execution_count": 23,
      "outputs": [
        {
          "output_type": "stream",
          "name": "stderr",
          "text": [
            "/usr/local/lib/python3.7/dist-packages/ipykernel_launcher.py:5: SettingWithCopyWarning: \n",
            "A value is trying to be set on a copy of a slice from a DataFrame.\n",
            "Try using .loc[row_indexer,col_indexer] = value instead\n",
            "\n",
            "See the caveats in the documentation: https://pandas.pydata.org/pandas-docs/stable/user_guide/indexing.html#returning-a-view-versus-a-copy\n",
            "  \"\"\"\n",
            "/usr/local/lib/python3.7/dist-packages/ipykernel_launcher.py:6: SettingWithCopyWarning: \n",
            "A value is trying to be set on a copy of a slice from a DataFrame.\n",
            "Try using .loc[row_indexer,col_indexer] = value instead\n",
            "\n",
            "See the caveats in the documentation: https://pandas.pydata.org/pandas-docs/stable/user_guide/indexing.html#returning-a-view-versus-a-copy\n",
            "  \n"
          ]
        }
      ]
    },
    {
      "cell_type": "code",
      "source": [
        "# Fit tokenizer with the text values\n",
        "max_features = 2000\n",
        "tokenizer = Tokenizer(num_words = max_features)\n",
        "tokenizer.fit_on_texts(spam['v2'].values)\n",
        "\n",
        "# Convert text into sequences\n",
        "X = tokenizer.texts_to_sequences(spam['v2'].values)\n",
        "\n",
        "# Pads sequences to the same length.\n",
        "X = pad_sequences(X)"
      ],
      "metadata": {
        "id": "HP4edvc7LpDB"
      },
      "execution_count": 24,
      "outputs": []
    },
    {
      "cell_type": "code",
      "source": [
        "# Intialize embedding and lstm layer variables\n",
        "embed_dim = 128\n",
        "lstm_out = 196"
      ],
      "metadata": {
        "id": "uT7LIqtcLtck"
      },
      "execution_count": 25,
      "outputs": []
    },
    {
      "cell_type": "code",
      "source": [
        "# Build the model\n",
        "model2 = Sequential()\n",
        "\n",
        "model2.add(layers.Embedding(max_features, embed_dim, input_length = X.shape[1]))\n",
        "model2.add(layers.LSTM(lstm_out, dropout=0.2, recurrent_dropout =0.2))\n",
        "model2.add(layers.Dense(2, activation = 'softmax'))\n",
        "\n",
        "# Compile the model\n",
        "model2.compile(loss='categorical_crossentropy', optimizer = 'adam', metrics=['accuracy'])\n",
        "\n",
        "model2.summary()"
      ],
      "metadata": {
        "colab": {
          "base_uri": "https://localhost:8080/"
        },
        "id": "scvPub51MM_K",
        "outputId": "d58f51ff-b21c-4911-cb37-ef8a2d6890e1"
      },
      "execution_count": 26,
      "outputs": [
        {
          "output_type": "stream",
          "name": "stdout",
          "text": [
            "Model: \"sequential_1\"\n",
            "_________________________________________________________________\n",
            " Layer (type)                Output Shape              Param #   \n",
            "=================================================================\n",
            " embedding_1 (Embedding)     (None, 62, 128)           256000    \n",
            "                                                                 \n",
            " lstm_1 (LSTM)               (None, 196)               254800    \n",
            "                                                                 \n",
            " dense_1 (Dense)             (None, 2)                 394       \n",
            "                                                                 \n",
            "=================================================================\n",
            "Total params: 511,194\n",
            "Trainable params: 511,194\n",
            "Non-trainable params: 0\n",
            "_________________________________________________________________\n"
          ]
        }
      ]
    },
    {
      "cell_type": "code",
      "source": [
        "# Encode and one-hot encode the sentiment labels\n",
        "le = LabelEncoder()\n",
        "integer_encoded = le.fit_transform(spam['v1'])\n",
        "y = to_categorical(integer_encoded)\n",
        "\n",
        "# Generate the training and testing datasets\n",
        "X_train, X_test, Y_train, Y_test = train_test_split(X, y, test_size = 0.33, random_state=42)"
      ],
      "metadata": {
        "id": "uUH-1tWQMTXm"
      },
      "execution_count": 27,
      "outputs": []
    },
    {
      "cell_type": "code",
      "source": [
        "# Fit the model\n",
        "batch_size = 32\n",
        "model2.fit(X_train, Y_train, epochs = 7, batch_size = batch_size, verbose = 2)"
      ],
      "metadata": {
        "colab": {
          "base_uri": "https://localhost:8080/"
        },
        "id": "lx8-skZaMhGU",
        "outputId": "0f8b1b8a-8c4f-489c-a0cc-757c1ac4ba47"
      },
      "execution_count": 28,
      "outputs": [
        {
          "output_type": "stream",
          "name": "stdout",
          "text": [
            "Epoch 1/7\n",
            "117/117 - 36s - loss: 0.1743 - accuracy: 0.9421 - 36s/epoch - 309ms/step\n",
            "Epoch 2/7\n",
            "117/117 - 34s - loss: 0.0395 - accuracy: 0.9877 - 34s/epoch - 288ms/step\n",
            "Epoch 3/7\n",
            "117/117 - 34s - loss: 0.0194 - accuracy: 0.9952 - 34s/epoch - 288ms/step\n",
            "Epoch 4/7\n",
            "117/117 - 34s - loss: 0.0107 - accuracy: 0.9973 - 34s/epoch - 288ms/step\n",
            "Epoch 5/7\n",
            "117/117 - 34s - loss: 0.0058 - accuracy: 0.9984 - 34s/epoch - 289ms/step\n",
            "Epoch 6/7\n",
            "117/117 - 34s - loss: 0.0028 - accuracy: 0.9989 - 34s/epoch - 290ms/step\n",
            "Epoch 7/7\n",
            "117/117 - 34s - loss: 0.0016 - accuracy: 0.9992 - 34s/epoch - 288ms/step\n"
          ]
        },
        {
          "output_type": "execute_result",
          "data": {
            "text/plain": [
              "<keras.callbacks.History at 0x7f955ab30d50>"
            ]
          },
          "metadata": {},
          "execution_count": 28
        }
      ]
    },
    {
      "cell_type": "code",
      "source": [
        "# Evaluate the model\n",
        "score , acc = model2.evaluate(X_test, Y_test, batch_size = batch_size, verbose = 2)"
      ],
      "metadata": {
        "colab": {
          "base_uri": "https://localhost:8080/"
        },
        "id": "J8hhxw5AMjBt",
        "outputId": "ef3676da-4ede-4693-e708-f6ebe75e8931"
      },
      "execution_count": 29,
      "outputs": [
        {
          "output_type": "stream",
          "name": "stdout",
          "text": [
            "58/58 - 3s - loss: 0.1281 - accuracy: 0.9744 - 3s/epoch - 44ms/step\n"
          ]
        }
      ]
    },
    {
      "cell_type": "code",
      "source": [
        "# Display loss and accuracy scores\n",
        "print(\"score: %.2f\" %(score))\n",
        "print(\"acc: %.2f\" %(acc))"
      ],
      "metadata": {
        "colab": {
          "base_uri": "https://localhost:8080/"
        },
        "id": "fAPmFvycMpIG",
        "outputId": "3e9ffb54-1b29-453e-f4e8-3a770aae500b"
      },
      "execution_count": 30,
      "outputs": [
        {
          "output_type": "stream",
          "name": "stdout",
          "text": [
            "score: 0.13\n",
            "acc: 0.97\n"
          ]
        }
      ]
    },
    {
      "cell_type": "markdown",
      "source": [
        "Transfer Learning"
      ],
      "metadata": {
        "id": "3HwDylDXM8Fd"
      }
    },
    {
      "cell_type": "code",
      "source": [
        "from google.colab import drive\n",
        "drive.mount('/content/drive')"
      ],
      "metadata": {
        "id": "sh1lcI4nM-ND",
        "colab": {
          "base_uri": "https://localhost:8080/"
        },
        "outputId": "3844566b-1a55-40b6-e810-371d17859695"
      },
      "execution_count": 31,
      "outputs": [
        {
          "output_type": "stream",
          "name": "stdout",
          "text": [
            "Drive already mounted at /content/drive; to attempt to forcibly remount, call drive.mount(\"/content/drive\", force_remount=True).\n"
          ]
        }
      ]
    },
    {
      "cell_type": "code",
      "source": [
        "# Define the shape for the images and the paths for the datasets\n",
        "SHAPE = (32, 32)\n",
        "test_path = '/content/drive/MyDrive/5590ICP10dataset/Test'\n",
        "train_path = '/content/drive/MyDrive/5590ICP10dataset/Train'"
      ],
      "metadata": {
        "id": "cxCy6NG8724e"
      },
      "execution_count": 32,
      "outputs": []
    },
    {
      "cell_type": "code",
      "source": [
        "# Define parameters for the image data generator\n",
        "datagen_kwargs = dict(rescale=1./255)\n",
        "\n",
        "# Obtain the testing dataset\n",
        "valid_datagen = keras.preprocessing.image.ImageDataGenerator(**datagen_kwargs)\n",
        "valid_gen = valid_datagen.flow_from_directory(test_path, shuffle=True, target_size=SHAPE, class_mode='categorical')"
      ],
      "metadata": {
        "id": "NpzhpP-LrkjJ",
        "colab": {
          "base_uri": "https://localhost:8080/"
        },
        "outputId": "e05e1fda-ce52-4f7e-8dd1-6956d0abfa2a"
      },
      "execution_count": 33,
      "outputs": [
        {
          "output_type": "stream",
          "name": "stdout",
          "text": [
            "Found 20 images belonging to 10 classes.\n"
          ]
        }
      ]
    },
    {
      "cell_type": "code",
      "source": [
        "# Split the generator into image and label variables\n",
        "img_val, label_val = next(iter(valid_gen))\n",
        "\n",
        "# Display the shapes of the image and label variables\n",
        "print(\"Image shape:\", img_val.shape)\n",
        "print(\"Label shape:\", label_val.shape)"
      ],
      "metadata": {
        "id": "oQbrrrOfrlPR",
        "colab": {
          "base_uri": "https://localhost:8080/"
        },
        "outputId": "bdede662-bdda-41cd-a36a-43eb7b41207d"
      },
      "execution_count": 34,
      "outputs": [
        {
          "output_type": "stream",
          "name": "stdout",
          "text": [
            "Image shape: (20, 32, 32, 3)\n",
            "Label shape: (20, 10)\n"
          ]
        }
      ]
    },
    {
      "cell_type": "code",
      "source": [
        "# Obtain the training dataset\n",
        "train_datagen = keras.preprocessing.image.ImageDataGenerator(**datagen_kwargs)\n",
        "train_gen = train_datagen.flow_from_directory(train_path, shuffle=True, target_size=SHAPE, class_mode='categorical')"
      ],
      "metadata": {
        "id": "N_Y4IqDnroyV",
        "colab": {
          "base_uri": "https://localhost:8080/"
        },
        "outputId": "33d7bbcc-c636-4a7a-cd71-393e83e73dee"
      },
      "execution_count": 35,
      "outputs": [
        {
          "output_type": "stream",
          "name": "stdout",
          "text": [
            "Found 80 images belonging to 10 classes.\n"
          ]
        }
      ]
    },
    {
      "cell_type": "code",
      "source": [
        "# Split the generator into image and label variables\n",
        "img_train, label_train = next(iter(train_gen))\n",
        "\n",
        "# Display the shapes of the image and label variables\n",
        "print(\"Image shape:\", img_train.shape)\n",
        "print(\"Label shape:\", label_train.shape)\n",
        "dataset_labels = sorted(train_gen.class_indices.items(), key=lambda pair:pair[1])\n",
        "\n",
        "# Extract the labels of the images\n",
        "dataset_labels = np.array([key.title() for key, value in dataset_labels])\n",
        "print(dataset_labels)"
      ],
      "metadata": {
        "id": "ZJWZkhePrsFU",
        "colab": {
          "base_uri": "https://localhost:8080/"
        },
        "outputId": "4e661dd2-f280-405d-d621-8d21e63c038b"
      },
      "execution_count": 36,
      "outputs": [
        {
          "output_type": "stream",
          "name": "stderr",
          "text": [
            "/usr/local/lib/python3.7/dist-packages/PIL/Image.py:960: UserWarning: Palette images with Transparency expressed in bytes should be converted to RGBA images\n",
            "  \"Palette images with Transparency expressed in bytes should be \"\n"
          ]
        },
        {
          "output_type": "stream",
          "name": "stdout",
          "text": [
            "Image shape: (32, 32, 32, 3)\n",
            "Label shape: (32, 10)\n",
            "['Bike' 'Boat' 'Bus' 'Car' 'Helicopter' 'Locomotive' 'Motorcycle' 'Plane'\n",
            " 'Scooter' 'Truck']\n"
          ]
        }
      ]
    },
    {
      "cell_type": "code",
      "source": [
        "# Load the model\n",
        "model_custom = keras.models.load_model('/content/model2_withCallbacks.h5')"
      ],
      "metadata": {
        "id": "65kZoFwueKsc"
      },
      "execution_count": 37,
      "outputs": []
    },
    {
      "cell_type": "code",
      "source": [
        "# Remodel the output of the old model\n",
        "output = model_custom.layers[-1].output\n",
        "output = layers.Flatten()(output)\n",
        "model_custom = keras.Model(model_custom.input, output)"
      ],
      "metadata": {
        "id": "Focr10NdOYSf"
      },
      "execution_count": 38,
      "outputs": []
    },
    {
      "cell_type": "code",
      "source": [
        "# Freeze the model layers\n",
        "model_custom.trainable = False\n",
        "for layer in model_custom.layers:\n",
        "  layer.trainable = False"
      ],
      "metadata": {
        "id": "y4BFn93vlYNO"
      },
      "execution_count": 39,
      "outputs": []
    },
    {
      "cell_type": "code",
      "source": [
        "# Check that the layers are frozen\n",
        "import pandas as pd\n",
        "pd.set_option('max_colwidth', -1)\n",
        "m_layers = [(layer, layer.name, layer.trainable) for layer in model_custom.layers]\n",
        "pd.DataFrame(m_layers, columns=['Layer Type', 'Layer Name', 'Layer Trainable'])  "
      ],
      "metadata": {
        "colab": {
          "base_uri": "https://localhost:8080/",
          "height": 763
        },
        "id": "uMNCKy9IQPTU",
        "outputId": "40a216ce-e0c7-4098-b59b-f4126273f648"
      },
      "execution_count": 40,
      "outputs": [
        {
          "output_type": "stream",
          "name": "stderr",
          "text": [
            "/usr/local/lib/python3.7/dist-packages/ipykernel_launcher.py:3: FutureWarning: Passing a negative integer is deprecated in version 1.0 and will not be supported in future version. Instead, use None to not limit the column width.\n",
            "  This is separate from the ipykernel package so we can avoid doing imports until\n"
          ]
        },
        {
          "output_type": "execute_result",
          "data": {
            "text/plain": [
              "                                                        Layer Type  \\\n",
              "0   <keras.engine.input_layer.InputLayer object at 0x7f9557e18e50>   \n",
              "1   <keras.layers.convolutional.Conv2D object at 0x7f9557e1b310>     \n",
              "2   <keras.layers.core.dropout.Dropout object at 0x7f9557e1b810>     \n",
              "3   <keras.layers.convolutional.Conv2D object at 0x7f9557e1bb10>     \n",
              "4   <keras.layers.pooling.MaxPooling2D object at 0x7f9557d9f150>     \n",
              "5   <keras.layers.convolutional.Conv2D object at 0x7f9557d9f710>     \n",
              "6   <keras.layers.core.dropout.Dropout object at 0x7f955688e1d0>     \n",
              "7   <keras.layers.convolutional.Conv2D object at 0x7f9557d9fb50>     \n",
              "8   <keras.layers.pooling.MaxPooling2D object at 0x7f9557da3410>     \n",
              "9   <keras.layers.convolutional.Conv2D object at 0x7f9557da39d0>     \n",
              "10  <keras.layers.core.dropout.Dropout object at 0x7f9557e3e310>     \n",
              "11  <keras.layers.convolutional.Conv2D object at 0x7f9557e3e5d0>     \n",
              "12  <keras.layers.pooling.MaxPooling2D object at 0x7f955688e2d0>     \n",
              "13  <keras.layers.core.flatten.Flatten object at 0x7f9557da3f90>     \n",
              "14  <keras.layers.core.dropout.Dropout object at 0x7f9557e3d050>     \n",
              "15  <keras.layers.core.dense.Dense object at 0x7f9557e3d310>         \n",
              "16  <keras.layers.core.dropout.Dropout object at 0x7f9557e3d750>     \n",
              "17  <keras.layers.core.dense.Dense object at 0x7f9557e3d910>         \n",
              "18  <keras.layers.core.dropout.Dropout object at 0x7f9557e3dd90>     \n",
              "19  <keras.layers.core.dense.Dense object at 0x7f9557e3df50>         \n",
              "20  <keras.layers.core.flatten.Flatten object at 0x7f955689f850>     \n",
              "\n",
              "          Layer Name  Layer Trainable  \n",
              "0   input_7           False            \n",
              "1   conv2d_30         False            \n",
              "2   dropout_18        False            \n",
              "3   conv2d_31         False            \n",
              "4   max_pooling2d_15  False            \n",
              "5   conv2d_32         False            \n",
              "6   dropout_19        False            \n",
              "7   conv2d_33         False            \n",
              "8   max_pooling2d_16  False            \n",
              "9   conv2d_34         False            \n",
              "10  dropout_20        False            \n",
              "11  conv2d_35         False            \n",
              "12  max_pooling2d_17  False            \n",
              "13  flatten_1         False            \n",
              "14  dropout_21        False            \n",
              "15  dense_3           False            \n",
              "16  dropout_22        False            \n",
              "17  dense_4           False            \n",
              "18  dropout_23        False            \n",
              "19  dense_5           False            \n",
              "20  flatten           False            "
            ],
            "text/html": [
              "\n",
              "  <div id=\"df-64508afb-fdf2-481f-85fc-70f3cd81f2a6\">\n",
              "    <div class=\"colab-df-container\">\n",
              "      <div>\n",
              "<style scoped>\n",
              "    .dataframe tbody tr th:only-of-type {\n",
              "        vertical-align: middle;\n",
              "    }\n",
              "\n",
              "    .dataframe tbody tr th {\n",
              "        vertical-align: top;\n",
              "    }\n",
              "\n",
              "    .dataframe thead th {\n",
              "        text-align: right;\n",
              "    }\n",
              "</style>\n",
              "<table border=\"1\" class=\"dataframe\">\n",
              "  <thead>\n",
              "    <tr style=\"text-align: right;\">\n",
              "      <th></th>\n",
              "      <th>Layer Type</th>\n",
              "      <th>Layer Name</th>\n",
              "      <th>Layer Trainable</th>\n",
              "    </tr>\n",
              "  </thead>\n",
              "  <tbody>\n",
              "    <tr>\n",
              "      <th>0</th>\n",
              "      <td>&lt;keras.engine.input_layer.InputLayer object at 0x7f9557e18e50&gt;</td>\n",
              "      <td>input_7</td>\n",
              "      <td>False</td>\n",
              "    </tr>\n",
              "    <tr>\n",
              "      <th>1</th>\n",
              "      <td>&lt;keras.layers.convolutional.Conv2D object at 0x7f9557e1b310&gt;</td>\n",
              "      <td>conv2d_30</td>\n",
              "      <td>False</td>\n",
              "    </tr>\n",
              "    <tr>\n",
              "      <th>2</th>\n",
              "      <td>&lt;keras.layers.core.dropout.Dropout object at 0x7f9557e1b810&gt;</td>\n",
              "      <td>dropout_18</td>\n",
              "      <td>False</td>\n",
              "    </tr>\n",
              "    <tr>\n",
              "      <th>3</th>\n",
              "      <td>&lt;keras.layers.convolutional.Conv2D object at 0x7f9557e1bb10&gt;</td>\n",
              "      <td>conv2d_31</td>\n",
              "      <td>False</td>\n",
              "    </tr>\n",
              "    <tr>\n",
              "      <th>4</th>\n",
              "      <td>&lt;keras.layers.pooling.MaxPooling2D object at 0x7f9557d9f150&gt;</td>\n",
              "      <td>max_pooling2d_15</td>\n",
              "      <td>False</td>\n",
              "    </tr>\n",
              "    <tr>\n",
              "      <th>5</th>\n",
              "      <td>&lt;keras.layers.convolutional.Conv2D object at 0x7f9557d9f710&gt;</td>\n",
              "      <td>conv2d_32</td>\n",
              "      <td>False</td>\n",
              "    </tr>\n",
              "    <tr>\n",
              "      <th>6</th>\n",
              "      <td>&lt;keras.layers.core.dropout.Dropout object at 0x7f955688e1d0&gt;</td>\n",
              "      <td>dropout_19</td>\n",
              "      <td>False</td>\n",
              "    </tr>\n",
              "    <tr>\n",
              "      <th>7</th>\n",
              "      <td>&lt;keras.layers.convolutional.Conv2D object at 0x7f9557d9fb50&gt;</td>\n",
              "      <td>conv2d_33</td>\n",
              "      <td>False</td>\n",
              "    </tr>\n",
              "    <tr>\n",
              "      <th>8</th>\n",
              "      <td>&lt;keras.layers.pooling.MaxPooling2D object at 0x7f9557da3410&gt;</td>\n",
              "      <td>max_pooling2d_16</td>\n",
              "      <td>False</td>\n",
              "    </tr>\n",
              "    <tr>\n",
              "      <th>9</th>\n",
              "      <td>&lt;keras.layers.convolutional.Conv2D object at 0x7f9557da39d0&gt;</td>\n",
              "      <td>conv2d_34</td>\n",
              "      <td>False</td>\n",
              "    </tr>\n",
              "    <tr>\n",
              "      <th>10</th>\n",
              "      <td>&lt;keras.layers.core.dropout.Dropout object at 0x7f9557e3e310&gt;</td>\n",
              "      <td>dropout_20</td>\n",
              "      <td>False</td>\n",
              "    </tr>\n",
              "    <tr>\n",
              "      <th>11</th>\n",
              "      <td>&lt;keras.layers.convolutional.Conv2D object at 0x7f9557e3e5d0&gt;</td>\n",
              "      <td>conv2d_35</td>\n",
              "      <td>False</td>\n",
              "    </tr>\n",
              "    <tr>\n",
              "      <th>12</th>\n",
              "      <td>&lt;keras.layers.pooling.MaxPooling2D object at 0x7f955688e2d0&gt;</td>\n",
              "      <td>max_pooling2d_17</td>\n",
              "      <td>False</td>\n",
              "    </tr>\n",
              "    <tr>\n",
              "      <th>13</th>\n",
              "      <td>&lt;keras.layers.core.flatten.Flatten object at 0x7f9557da3f90&gt;</td>\n",
              "      <td>flatten_1</td>\n",
              "      <td>False</td>\n",
              "    </tr>\n",
              "    <tr>\n",
              "      <th>14</th>\n",
              "      <td>&lt;keras.layers.core.dropout.Dropout object at 0x7f9557e3d050&gt;</td>\n",
              "      <td>dropout_21</td>\n",
              "      <td>False</td>\n",
              "    </tr>\n",
              "    <tr>\n",
              "      <th>15</th>\n",
              "      <td>&lt;keras.layers.core.dense.Dense object at 0x7f9557e3d310&gt;</td>\n",
              "      <td>dense_3</td>\n",
              "      <td>False</td>\n",
              "    </tr>\n",
              "    <tr>\n",
              "      <th>16</th>\n",
              "      <td>&lt;keras.layers.core.dropout.Dropout object at 0x7f9557e3d750&gt;</td>\n",
              "      <td>dropout_22</td>\n",
              "      <td>False</td>\n",
              "    </tr>\n",
              "    <tr>\n",
              "      <th>17</th>\n",
              "      <td>&lt;keras.layers.core.dense.Dense object at 0x7f9557e3d910&gt;</td>\n",
              "      <td>dense_4</td>\n",
              "      <td>False</td>\n",
              "    </tr>\n",
              "    <tr>\n",
              "      <th>18</th>\n",
              "      <td>&lt;keras.layers.core.dropout.Dropout object at 0x7f9557e3dd90&gt;</td>\n",
              "      <td>dropout_23</td>\n",
              "      <td>False</td>\n",
              "    </tr>\n",
              "    <tr>\n",
              "      <th>19</th>\n",
              "      <td>&lt;keras.layers.core.dense.Dense object at 0x7f9557e3df50&gt;</td>\n",
              "      <td>dense_5</td>\n",
              "      <td>False</td>\n",
              "    </tr>\n",
              "    <tr>\n",
              "      <th>20</th>\n",
              "      <td>&lt;keras.layers.core.flatten.Flatten object at 0x7f955689f850&gt;</td>\n",
              "      <td>flatten</td>\n",
              "      <td>False</td>\n",
              "    </tr>\n",
              "  </tbody>\n",
              "</table>\n",
              "</div>\n",
              "      <button class=\"colab-df-convert\" onclick=\"convertToInteractive('df-64508afb-fdf2-481f-85fc-70f3cd81f2a6')\"\n",
              "              title=\"Convert this dataframe to an interactive table.\"\n",
              "              style=\"display:none;\">\n",
              "        \n",
              "  <svg xmlns=\"http://www.w3.org/2000/svg\" height=\"24px\"viewBox=\"0 0 24 24\"\n",
              "       width=\"24px\">\n",
              "    <path d=\"M0 0h24v24H0V0z\" fill=\"none\"/>\n",
              "    <path d=\"M18.56 5.44l.94 2.06.94-2.06 2.06-.94-2.06-.94-.94-2.06-.94 2.06-2.06.94zm-11 1L8.5 8.5l.94-2.06 2.06-.94-2.06-.94L8.5 2.5l-.94 2.06-2.06.94zm10 10l.94 2.06.94-2.06 2.06-.94-2.06-.94-.94-2.06-.94 2.06-2.06.94z\"/><path d=\"M17.41 7.96l-1.37-1.37c-.4-.4-.92-.59-1.43-.59-.52 0-1.04.2-1.43.59L10.3 9.45l-7.72 7.72c-.78.78-.78 2.05 0 2.83L4 21.41c.39.39.9.59 1.41.59.51 0 1.02-.2 1.41-.59l7.78-7.78 2.81-2.81c.8-.78.8-2.07 0-2.86zM5.41 20L4 18.59l7.72-7.72 1.47 1.35L5.41 20z\"/>\n",
              "  </svg>\n",
              "      </button>\n",
              "      \n",
              "  <style>\n",
              "    .colab-df-container {\n",
              "      display:flex;\n",
              "      flex-wrap:wrap;\n",
              "      gap: 12px;\n",
              "    }\n",
              "\n",
              "    .colab-df-convert {\n",
              "      background-color: #E8F0FE;\n",
              "      border: none;\n",
              "      border-radius: 50%;\n",
              "      cursor: pointer;\n",
              "      display: none;\n",
              "      fill: #1967D2;\n",
              "      height: 32px;\n",
              "      padding: 0 0 0 0;\n",
              "      width: 32px;\n",
              "    }\n",
              "\n",
              "    .colab-df-convert:hover {\n",
              "      background-color: #E2EBFA;\n",
              "      box-shadow: 0px 1px 2px rgba(60, 64, 67, 0.3), 0px 1px 3px 1px rgba(60, 64, 67, 0.15);\n",
              "      fill: #174EA6;\n",
              "    }\n",
              "\n",
              "    [theme=dark] .colab-df-convert {\n",
              "      background-color: #3B4455;\n",
              "      fill: #D2E3FC;\n",
              "    }\n",
              "\n",
              "    [theme=dark] .colab-df-convert:hover {\n",
              "      background-color: #434B5C;\n",
              "      box-shadow: 0px 1px 3px 1px rgba(0, 0, 0, 0.15);\n",
              "      filter: drop-shadow(0px 1px 2px rgba(0, 0, 0, 0.3));\n",
              "      fill: #FFFFFF;\n",
              "    }\n",
              "  </style>\n",
              "\n",
              "      <script>\n",
              "        const buttonEl =\n",
              "          document.querySelector('#df-64508afb-fdf2-481f-85fc-70f3cd81f2a6 button.colab-df-convert');\n",
              "        buttonEl.style.display =\n",
              "          google.colab.kernel.accessAllowed ? 'block' : 'none';\n",
              "\n",
              "        async function convertToInteractive(key) {\n",
              "          const element = document.querySelector('#df-64508afb-fdf2-481f-85fc-70f3cd81f2a6');\n",
              "          const dataTable =\n",
              "            await google.colab.kernel.invokeFunction('convertToInteractive',\n",
              "                                                     [key], {});\n",
              "          if (!dataTable) return;\n",
              "\n",
              "          const docLinkHtml = 'Like what you see? Visit the ' +\n",
              "            '<a target=\"_blank\" href=https://colab.research.google.com/notebooks/data_table.ipynb>data table notebook</a>'\n",
              "            + ' to learn more about interactive tables.';\n",
              "          element.innerHTML = '';\n",
              "          dataTable['output_type'] = 'display_data';\n",
              "          await google.colab.output.renderOutput(dataTable, element);\n",
              "          const docLink = document.createElement('div');\n",
              "          docLink.innerHTML = docLinkHtml;\n",
              "          element.appendChild(docLink);\n",
              "        }\n",
              "      </script>\n",
              "    </div>\n",
              "  </div>\n",
              "  "
            ]
          },
          "metadata": {},
          "execution_count": 40
        }
      ]
    },
    {
      "cell_type": "code",
      "source": [
        "# Build new model that works with the loaded model\n",
        "input = keras.Input(shape=(32,32,3))\n",
        "\n",
        "origin = model_custom(input, training=False)\n",
        "den1 = layers.Dense(32, activation='relu')(origin)\n",
        "drop1 = layers.Dropout(0.2)(den1)\n",
        "den2 = layers.Dense(500, activation='relu')(drop1)\n",
        "drop2 = layers.Dropout(0.2)(den2)\n",
        "den3 = layers.Dense(250, activation='relu')(drop2)\n",
        "out = layers.Dense(10, activation='softmax')(den3)"
      ],
      "metadata": {
        "id": "p5svgLIPlg_l"
      },
      "execution_count": 41,
      "outputs": []
    },
    {
      "cell_type": "code",
      "source": [
        "transfer_model = keras.Model(input, out)"
      ],
      "metadata": {
        "id": "SrA3xavTqiOs"
      },
      "execution_count": 42,
      "outputs": []
    },
    {
      "cell_type": "code",
      "source": [
        "# Compile model\n",
        "transfer_model.compile(optimizer='SGD', loss='categorical_crossentropy', metrics=['accuracy'])"
      ],
      "metadata": {
        "id": "VvHbaTrGq3Rj"
      },
      "execution_count": 43,
      "outputs": []
    },
    {
      "cell_type": "code",
      "source": [
        "# Fit the training data to the model\n",
        "history = transfer_model.fit(img_train, label_train, batch_size=10, epochs=50, validation_data=(img_val, label_val), shuffle=True)"
      ],
      "metadata": {
        "id": "rFCGp-W3rEqX",
        "colab": {
          "base_uri": "https://localhost:8080/"
        },
        "outputId": "03b2946e-ee16-4f3e-fdd3-bec0b040e16a"
      },
      "execution_count": 44,
      "outputs": [
        {
          "output_type": "stream",
          "name": "stdout",
          "text": [
            "Epoch 1/50\n",
            "4/4 [==============================] - 1s 180ms/step - loss: 2.3003 - accuracy: 0.1562 - val_loss: 2.2992 - val_accuracy: 0.2000\n",
            "Epoch 2/50\n",
            "4/4 [==============================] - 0s 39ms/step - loss: 2.3021 - accuracy: 0.1875 - val_loss: 2.2989 - val_accuracy: 0.2000\n",
            "Epoch 3/50\n",
            "4/4 [==============================] - 0s 38ms/step - loss: 2.3054 - accuracy: 0.0938 - val_loss: 2.2984 - val_accuracy: 0.2000\n",
            "Epoch 4/50\n",
            "4/4 [==============================] - 0s 36ms/step - loss: 2.3059 - accuracy: 0.0938 - val_loss: 2.2978 - val_accuracy: 0.1500\n",
            "Epoch 5/50\n",
            "4/4 [==============================] - 0s 36ms/step - loss: 2.2998 - accuracy: 0.1250 - val_loss: 2.2970 - val_accuracy: 0.2000\n",
            "Epoch 6/50\n",
            "4/4 [==============================] - 0s 41ms/step - loss: 2.3052 - accuracy: 0.0938 - val_loss: 2.2968 - val_accuracy: 0.1500\n",
            "Epoch 7/50\n",
            "4/4 [==============================] - 0s 39ms/step - loss: 2.2948 - accuracy: 0.1562 - val_loss: 2.2962 - val_accuracy: 0.1500\n",
            "Epoch 8/50\n",
            "4/4 [==============================] - 0s 37ms/step - loss: 2.2936 - accuracy: 0.1250 - val_loss: 2.2959 - val_accuracy: 0.1500\n",
            "Epoch 9/50\n",
            "4/4 [==============================] - 0s 36ms/step - loss: 2.2892 - accuracy: 0.1250 - val_loss: 2.2950 - val_accuracy: 0.1500\n",
            "Epoch 10/50\n",
            "4/4 [==============================] - 0s 39ms/step - loss: 2.2892 - accuracy: 0.1562 - val_loss: 2.2948 - val_accuracy: 0.1000\n",
            "Epoch 11/50\n",
            "4/4 [==============================] - 0s 38ms/step - loss: 2.2879 - accuracy: 0.1250 - val_loss: 2.2941 - val_accuracy: 0.1000\n",
            "Epoch 12/50\n",
            "4/4 [==============================] - 0s 36ms/step - loss: 2.2928 - accuracy: 0.1250 - val_loss: 2.2937 - val_accuracy: 0.1500\n",
            "Epoch 13/50\n",
            "4/4 [==============================] - 0s 41ms/step - loss: 2.2892 - accuracy: 0.1250 - val_loss: 2.2931 - val_accuracy: 0.1000\n",
            "Epoch 14/50\n",
            "4/4 [==============================] - 0s 36ms/step - loss: 2.2833 - accuracy: 0.1250 - val_loss: 2.2927 - val_accuracy: 0.1000\n",
            "Epoch 15/50\n",
            "4/4 [==============================] - 0s 34ms/step - loss: 2.2748 - accuracy: 0.1250 - val_loss: 2.2923 - val_accuracy: 0.1000\n",
            "Epoch 16/50\n",
            "4/4 [==============================] - 0s 39ms/step - loss: 2.2796 - accuracy: 0.1562 - val_loss: 2.2919 - val_accuracy: 0.1000\n",
            "Epoch 17/50\n",
            "4/4 [==============================] - 0s 35ms/step - loss: 2.2823 - accuracy: 0.1562 - val_loss: 2.2920 - val_accuracy: 0.1000\n",
            "Epoch 18/50\n",
            "4/4 [==============================] - 0s 37ms/step - loss: 2.2713 - accuracy: 0.1250 - val_loss: 2.2914 - val_accuracy: 0.1000\n",
            "Epoch 19/50\n",
            "4/4 [==============================] - 0s 37ms/step - loss: 2.2781 - accuracy: 0.1250 - val_loss: 2.2914 - val_accuracy: 0.1000\n",
            "Epoch 20/50\n",
            "4/4 [==============================] - 0s 40ms/step - loss: 2.2764 - accuracy: 0.2188 - val_loss: 2.2913 - val_accuracy: 0.1000\n",
            "Epoch 21/50\n",
            "4/4 [==============================] - 0s 39ms/step - loss: 2.2717 - accuracy: 0.1875 - val_loss: 2.2910 - val_accuracy: 0.1000\n",
            "Epoch 22/50\n",
            "4/4 [==============================] - 0s 34ms/step - loss: 2.2658 - accuracy: 0.2812 - val_loss: 2.2907 - val_accuracy: 0.1000\n",
            "Epoch 23/50\n",
            "4/4 [==============================] - 0s 35ms/step - loss: 2.2600 - accuracy: 0.1875 - val_loss: 2.2902 - val_accuracy: 0.1000\n",
            "Epoch 24/50\n",
            "4/4 [==============================] - 0s 34ms/step - loss: 2.2630 - accuracy: 0.1875 - val_loss: 2.2901 - val_accuracy: 0.0500\n",
            "Epoch 25/50\n",
            "4/4 [==============================] - 0s 36ms/step - loss: 2.2550 - accuracy: 0.2188 - val_loss: 2.2899 - val_accuracy: 0.0500\n",
            "Epoch 26/50\n",
            "4/4 [==============================] - 0s 36ms/step - loss: 2.2643 - accuracy: 0.2812 - val_loss: 2.2896 - val_accuracy: 0.1000\n",
            "Epoch 27/50\n",
            "4/4 [==============================] - 0s 46ms/step - loss: 2.2578 - accuracy: 0.1875 - val_loss: 2.2893 - val_accuracy: 0.1000\n",
            "Epoch 28/50\n",
            "4/4 [==============================] - 0s 38ms/step - loss: 2.2502 - accuracy: 0.3438 - val_loss: 2.2888 - val_accuracy: 0.1500\n",
            "Epoch 29/50\n",
            "4/4 [==============================] - 0s 33ms/step - loss: 2.2477 - accuracy: 0.2500 - val_loss: 2.2882 - val_accuracy: 0.1500\n",
            "Epoch 30/50\n",
            "4/4 [==============================] - 0s 38ms/step - loss: 2.2527 - accuracy: 0.2188 - val_loss: 2.2874 - val_accuracy: 0.1000\n",
            "Epoch 31/50\n",
            "4/4 [==============================] - 0s 39ms/step - loss: 2.2500 - accuracy: 0.2188 - val_loss: 2.2870 - val_accuracy: 0.1500\n",
            "Epoch 32/50\n",
            "4/4 [==============================] - 0s 35ms/step - loss: 2.2485 - accuracy: 0.2188 - val_loss: 2.2868 - val_accuracy: 0.1000\n",
            "Epoch 33/50\n",
            "4/4 [==============================] - 0s 41ms/step - loss: 2.2479 - accuracy: 0.2188 - val_loss: 2.2860 - val_accuracy: 0.1000\n",
            "Epoch 34/50\n",
            "4/4 [==============================] - 0s 36ms/step - loss: 2.2556 - accuracy: 0.2812 - val_loss: 2.2855 - val_accuracy: 0.1000\n",
            "Epoch 35/50\n",
            "4/4 [==============================] - 0s 39ms/step - loss: 2.2417 - accuracy: 0.2500 - val_loss: 2.2849 - val_accuracy: 0.1000\n",
            "Epoch 36/50\n",
            "4/4 [==============================] - 0s 37ms/step - loss: 2.2420 - accuracy: 0.3125 - val_loss: 2.2840 - val_accuracy: 0.1000\n",
            "Epoch 37/50\n",
            "4/4 [==============================] - 0s 38ms/step - loss: 2.2367 - accuracy: 0.3125 - val_loss: 2.2831 - val_accuracy: 0.1000\n",
            "Epoch 38/50\n",
            "4/4 [==============================] - 0s 37ms/step - loss: 2.2393 - accuracy: 0.2812 - val_loss: 2.2829 - val_accuracy: 0.1000\n",
            "Epoch 39/50\n",
            "4/4 [==============================] - 0s 38ms/step - loss: 2.2391 - accuracy: 0.2188 - val_loss: 2.2830 - val_accuracy: 0.1000\n",
            "Epoch 40/50\n",
            "4/4 [==============================] - 0s 36ms/step - loss: 2.2431 - accuracy: 0.2188 - val_loss: 2.2832 - val_accuracy: 0.1000\n",
            "Epoch 41/50\n",
            "4/4 [==============================] - 0s 35ms/step - loss: 2.2354 - accuracy: 0.2812 - val_loss: 2.2828 - val_accuracy: 0.1000\n",
            "Epoch 42/50\n",
            "4/4 [==============================] - 0s 43ms/step - loss: 2.2336 - accuracy: 0.3125 - val_loss: 2.2823 - val_accuracy: 0.1500\n",
            "Epoch 43/50\n",
            "4/4 [==============================] - 0s 38ms/step - loss: 2.2281 - accuracy: 0.2188 - val_loss: 2.2823 - val_accuracy: 0.1500\n",
            "Epoch 44/50\n",
            "4/4 [==============================] - 0s 35ms/step - loss: 2.2238 - accuracy: 0.2500 - val_loss: 2.2820 - val_accuracy: 0.1500\n",
            "Epoch 45/50\n",
            "4/4 [==============================] - 0s 36ms/step - loss: 2.2235 - accuracy: 0.2500 - val_loss: 2.2817 - val_accuracy: 0.1500\n",
            "Epoch 46/50\n",
            "4/4 [==============================] - 0s 37ms/step - loss: 2.2358 - accuracy: 0.1875 - val_loss: 2.2816 - val_accuracy: 0.1000\n",
            "Epoch 47/50\n",
            "4/4 [==============================] - 0s 36ms/step - loss: 2.2278 - accuracy: 0.2188 - val_loss: 2.2808 - val_accuracy: 0.1000\n",
            "Epoch 48/50\n",
            "4/4 [==============================] - 0s 40ms/step - loss: 2.2213 - accuracy: 0.2812 - val_loss: 2.2807 - val_accuracy: 0.1000\n",
            "Epoch 49/50\n",
            "4/4 [==============================] - 0s 41ms/step - loss: 2.2212 - accuracy: 0.2812 - val_loss: 2.2803 - val_accuracy: 0.1000\n",
            "Epoch 50/50\n",
            "4/4 [==============================] - 0s 37ms/step - loss: 2.2167 - accuracy: 0.2188 - val_loss: 2.2800 - val_accuracy: 0.1000\n"
          ]
        }
      ]
    },
    {
      "cell_type": "code",
      "source": [
        "# Predict the first 5 images\n",
        "pred = transfer_model.predict(img_val[0:5, :])\n",
        "classes = np.argmax(pred, axis = 1)\n",
        "actual = np.argmax(label_val[0:5], axis = 1)\n",
        "\n",
        "# Show what the model predicted\n",
        "print(\"The model identified the images to belong to classes {}.\".format(classes))\n",
        "# Show actual labels\n",
        "print(\"The model identified the images to belong to classes {}.\".format(actual))"
      ],
      "metadata": {
        "colab": {
          "base_uri": "https://localhost:8080/"
        },
        "id": "kFRr7vMrHxZ0",
        "outputId": "08f13d3f-d141-4f67-b39d-cf69c4ca7db2"
      },
      "execution_count": 45,
      "outputs": [
        {
          "output_type": "stream",
          "name": "stdout",
          "text": [
            "The model identified the images to belong to classes [0 6 0 0 6].\n",
            "The model identified the images to belong to classes [1 5 8 5 2].\n"
          ]
        }
      ]
    },
    {
      "cell_type": "code",
      "source": [
        "model_custom.trainable = True\n",
        "set_trainable = False \n",
        "\n",
        "# Unfreeze some of the layers of the loaded model\n",
        "for layer in model_custom.layers:\n",
        "  if layer.name in ['conv2d_34', 'conv2d_35\t']:\n",
        "    set_trainable = True\n",
        "  if set_trainable:\n",
        "    layer.trainable = True\n",
        "  else:\n",
        "    layer.trainable = False"
      ],
      "metadata": {
        "id": "wndMlpfHr5KF"
      },
      "execution_count": 46,
      "outputs": []
    },
    {
      "cell_type": "code",
      "source": [
        "# Check that some of the layers are unfrozen\n",
        "transfer_model2 = keras.Model(input, out)\n",
        "m_layers = [(layer, layer.name, layer.trainable) for layer in model_custom.layers]\n",
        "pd.DataFrame(m_layers, columns=['Layer Type', 'Layer Name', 'Layer Trainable'])  "
      ],
      "metadata": {
        "colab": {
          "base_uri": "https://localhost:8080/",
          "height": 708
        },
        "id": "Mt1ihycQXA1I",
        "outputId": "04286c5e-0a16-4eaa-def3-6bbf340041f0"
      },
      "execution_count": 47,
      "outputs": [
        {
          "output_type": "execute_result",
          "data": {
            "text/plain": [
              "                                                        Layer Type  \\\n",
              "0   <keras.engine.input_layer.InputLayer object at 0x7f9557e18e50>   \n",
              "1   <keras.layers.convolutional.Conv2D object at 0x7f9557e1b310>     \n",
              "2   <keras.layers.core.dropout.Dropout object at 0x7f9557e1b810>     \n",
              "3   <keras.layers.convolutional.Conv2D object at 0x7f9557e1bb10>     \n",
              "4   <keras.layers.pooling.MaxPooling2D object at 0x7f9557d9f150>     \n",
              "5   <keras.layers.convolutional.Conv2D object at 0x7f9557d9f710>     \n",
              "6   <keras.layers.core.dropout.Dropout object at 0x7f955688e1d0>     \n",
              "7   <keras.layers.convolutional.Conv2D object at 0x7f9557d9fb50>     \n",
              "8   <keras.layers.pooling.MaxPooling2D object at 0x7f9557da3410>     \n",
              "9   <keras.layers.convolutional.Conv2D object at 0x7f9557da39d0>     \n",
              "10  <keras.layers.core.dropout.Dropout object at 0x7f9557e3e310>     \n",
              "11  <keras.layers.convolutional.Conv2D object at 0x7f9557e3e5d0>     \n",
              "12  <keras.layers.pooling.MaxPooling2D object at 0x7f955688e2d0>     \n",
              "13  <keras.layers.core.flatten.Flatten object at 0x7f9557da3f90>     \n",
              "14  <keras.layers.core.dropout.Dropout object at 0x7f9557e3d050>     \n",
              "15  <keras.layers.core.dense.Dense object at 0x7f9557e3d310>         \n",
              "16  <keras.layers.core.dropout.Dropout object at 0x7f9557e3d750>     \n",
              "17  <keras.layers.core.dense.Dense object at 0x7f9557e3d910>         \n",
              "18  <keras.layers.core.dropout.Dropout object at 0x7f9557e3dd90>     \n",
              "19  <keras.layers.core.dense.Dense object at 0x7f9557e3df50>         \n",
              "20  <keras.layers.core.flatten.Flatten object at 0x7f955689f850>     \n",
              "\n",
              "          Layer Name  Layer Trainable  \n",
              "0   input_7           False            \n",
              "1   conv2d_30         False            \n",
              "2   dropout_18        False            \n",
              "3   conv2d_31         False            \n",
              "4   max_pooling2d_15  False            \n",
              "5   conv2d_32         False            \n",
              "6   dropout_19        False            \n",
              "7   conv2d_33         False            \n",
              "8   max_pooling2d_16  False            \n",
              "9   conv2d_34         True             \n",
              "10  dropout_20        True             \n",
              "11  conv2d_35         True             \n",
              "12  max_pooling2d_17  True             \n",
              "13  flatten_1         True             \n",
              "14  dropout_21        True             \n",
              "15  dense_3           True             \n",
              "16  dropout_22        True             \n",
              "17  dense_4           True             \n",
              "18  dropout_23        True             \n",
              "19  dense_5           True             \n",
              "20  flatten           True             "
            ],
            "text/html": [
              "\n",
              "  <div id=\"df-f0f43bb6-551b-4ac2-b08e-46af198fae4b\">\n",
              "    <div class=\"colab-df-container\">\n",
              "      <div>\n",
              "<style scoped>\n",
              "    .dataframe tbody tr th:only-of-type {\n",
              "        vertical-align: middle;\n",
              "    }\n",
              "\n",
              "    .dataframe tbody tr th {\n",
              "        vertical-align: top;\n",
              "    }\n",
              "\n",
              "    .dataframe thead th {\n",
              "        text-align: right;\n",
              "    }\n",
              "</style>\n",
              "<table border=\"1\" class=\"dataframe\">\n",
              "  <thead>\n",
              "    <tr style=\"text-align: right;\">\n",
              "      <th></th>\n",
              "      <th>Layer Type</th>\n",
              "      <th>Layer Name</th>\n",
              "      <th>Layer Trainable</th>\n",
              "    </tr>\n",
              "  </thead>\n",
              "  <tbody>\n",
              "    <tr>\n",
              "      <th>0</th>\n",
              "      <td>&lt;keras.engine.input_layer.InputLayer object at 0x7f9557e18e50&gt;</td>\n",
              "      <td>input_7</td>\n",
              "      <td>False</td>\n",
              "    </tr>\n",
              "    <tr>\n",
              "      <th>1</th>\n",
              "      <td>&lt;keras.layers.convolutional.Conv2D object at 0x7f9557e1b310&gt;</td>\n",
              "      <td>conv2d_30</td>\n",
              "      <td>False</td>\n",
              "    </tr>\n",
              "    <tr>\n",
              "      <th>2</th>\n",
              "      <td>&lt;keras.layers.core.dropout.Dropout object at 0x7f9557e1b810&gt;</td>\n",
              "      <td>dropout_18</td>\n",
              "      <td>False</td>\n",
              "    </tr>\n",
              "    <tr>\n",
              "      <th>3</th>\n",
              "      <td>&lt;keras.layers.convolutional.Conv2D object at 0x7f9557e1bb10&gt;</td>\n",
              "      <td>conv2d_31</td>\n",
              "      <td>False</td>\n",
              "    </tr>\n",
              "    <tr>\n",
              "      <th>4</th>\n",
              "      <td>&lt;keras.layers.pooling.MaxPooling2D object at 0x7f9557d9f150&gt;</td>\n",
              "      <td>max_pooling2d_15</td>\n",
              "      <td>False</td>\n",
              "    </tr>\n",
              "    <tr>\n",
              "      <th>5</th>\n",
              "      <td>&lt;keras.layers.convolutional.Conv2D object at 0x7f9557d9f710&gt;</td>\n",
              "      <td>conv2d_32</td>\n",
              "      <td>False</td>\n",
              "    </tr>\n",
              "    <tr>\n",
              "      <th>6</th>\n",
              "      <td>&lt;keras.layers.core.dropout.Dropout object at 0x7f955688e1d0&gt;</td>\n",
              "      <td>dropout_19</td>\n",
              "      <td>False</td>\n",
              "    </tr>\n",
              "    <tr>\n",
              "      <th>7</th>\n",
              "      <td>&lt;keras.layers.convolutional.Conv2D object at 0x7f9557d9fb50&gt;</td>\n",
              "      <td>conv2d_33</td>\n",
              "      <td>False</td>\n",
              "    </tr>\n",
              "    <tr>\n",
              "      <th>8</th>\n",
              "      <td>&lt;keras.layers.pooling.MaxPooling2D object at 0x7f9557da3410&gt;</td>\n",
              "      <td>max_pooling2d_16</td>\n",
              "      <td>False</td>\n",
              "    </tr>\n",
              "    <tr>\n",
              "      <th>9</th>\n",
              "      <td>&lt;keras.layers.convolutional.Conv2D object at 0x7f9557da39d0&gt;</td>\n",
              "      <td>conv2d_34</td>\n",
              "      <td>True</td>\n",
              "    </tr>\n",
              "    <tr>\n",
              "      <th>10</th>\n",
              "      <td>&lt;keras.layers.core.dropout.Dropout object at 0x7f9557e3e310&gt;</td>\n",
              "      <td>dropout_20</td>\n",
              "      <td>True</td>\n",
              "    </tr>\n",
              "    <tr>\n",
              "      <th>11</th>\n",
              "      <td>&lt;keras.layers.convolutional.Conv2D object at 0x7f9557e3e5d0&gt;</td>\n",
              "      <td>conv2d_35</td>\n",
              "      <td>True</td>\n",
              "    </tr>\n",
              "    <tr>\n",
              "      <th>12</th>\n",
              "      <td>&lt;keras.layers.pooling.MaxPooling2D object at 0x7f955688e2d0&gt;</td>\n",
              "      <td>max_pooling2d_17</td>\n",
              "      <td>True</td>\n",
              "    </tr>\n",
              "    <tr>\n",
              "      <th>13</th>\n",
              "      <td>&lt;keras.layers.core.flatten.Flatten object at 0x7f9557da3f90&gt;</td>\n",
              "      <td>flatten_1</td>\n",
              "      <td>True</td>\n",
              "    </tr>\n",
              "    <tr>\n",
              "      <th>14</th>\n",
              "      <td>&lt;keras.layers.core.dropout.Dropout object at 0x7f9557e3d050&gt;</td>\n",
              "      <td>dropout_21</td>\n",
              "      <td>True</td>\n",
              "    </tr>\n",
              "    <tr>\n",
              "      <th>15</th>\n",
              "      <td>&lt;keras.layers.core.dense.Dense object at 0x7f9557e3d310&gt;</td>\n",
              "      <td>dense_3</td>\n",
              "      <td>True</td>\n",
              "    </tr>\n",
              "    <tr>\n",
              "      <th>16</th>\n",
              "      <td>&lt;keras.layers.core.dropout.Dropout object at 0x7f9557e3d750&gt;</td>\n",
              "      <td>dropout_22</td>\n",
              "      <td>True</td>\n",
              "    </tr>\n",
              "    <tr>\n",
              "      <th>17</th>\n",
              "      <td>&lt;keras.layers.core.dense.Dense object at 0x7f9557e3d910&gt;</td>\n",
              "      <td>dense_4</td>\n",
              "      <td>True</td>\n",
              "    </tr>\n",
              "    <tr>\n",
              "      <th>18</th>\n",
              "      <td>&lt;keras.layers.core.dropout.Dropout object at 0x7f9557e3dd90&gt;</td>\n",
              "      <td>dropout_23</td>\n",
              "      <td>True</td>\n",
              "    </tr>\n",
              "    <tr>\n",
              "      <th>19</th>\n",
              "      <td>&lt;keras.layers.core.dense.Dense object at 0x7f9557e3df50&gt;</td>\n",
              "      <td>dense_5</td>\n",
              "      <td>True</td>\n",
              "    </tr>\n",
              "    <tr>\n",
              "      <th>20</th>\n",
              "      <td>&lt;keras.layers.core.flatten.Flatten object at 0x7f955689f850&gt;</td>\n",
              "      <td>flatten</td>\n",
              "      <td>True</td>\n",
              "    </tr>\n",
              "  </tbody>\n",
              "</table>\n",
              "</div>\n",
              "      <button class=\"colab-df-convert\" onclick=\"convertToInteractive('df-f0f43bb6-551b-4ac2-b08e-46af198fae4b')\"\n",
              "              title=\"Convert this dataframe to an interactive table.\"\n",
              "              style=\"display:none;\">\n",
              "        \n",
              "  <svg xmlns=\"http://www.w3.org/2000/svg\" height=\"24px\"viewBox=\"0 0 24 24\"\n",
              "       width=\"24px\">\n",
              "    <path d=\"M0 0h24v24H0V0z\" fill=\"none\"/>\n",
              "    <path d=\"M18.56 5.44l.94 2.06.94-2.06 2.06-.94-2.06-.94-.94-2.06-.94 2.06-2.06.94zm-11 1L8.5 8.5l.94-2.06 2.06-.94-2.06-.94L8.5 2.5l-.94 2.06-2.06.94zm10 10l.94 2.06.94-2.06 2.06-.94-2.06-.94-.94-2.06-.94 2.06-2.06.94z\"/><path d=\"M17.41 7.96l-1.37-1.37c-.4-.4-.92-.59-1.43-.59-.52 0-1.04.2-1.43.59L10.3 9.45l-7.72 7.72c-.78.78-.78 2.05 0 2.83L4 21.41c.39.39.9.59 1.41.59.51 0 1.02-.2 1.41-.59l7.78-7.78 2.81-2.81c.8-.78.8-2.07 0-2.86zM5.41 20L4 18.59l7.72-7.72 1.47 1.35L5.41 20z\"/>\n",
              "  </svg>\n",
              "      </button>\n",
              "      \n",
              "  <style>\n",
              "    .colab-df-container {\n",
              "      display:flex;\n",
              "      flex-wrap:wrap;\n",
              "      gap: 12px;\n",
              "    }\n",
              "\n",
              "    .colab-df-convert {\n",
              "      background-color: #E8F0FE;\n",
              "      border: none;\n",
              "      border-radius: 50%;\n",
              "      cursor: pointer;\n",
              "      display: none;\n",
              "      fill: #1967D2;\n",
              "      height: 32px;\n",
              "      padding: 0 0 0 0;\n",
              "      width: 32px;\n",
              "    }\n",
              "\n",
              "    .colab-df-convert:hover {\n",
              "      background-color: #E2EBFA;\n",
              "      box-shadow: 0px 1px 2px rgba(60, 64, 67, 0.3), 0px 1px 3px 1px rgba(60, 64, 67, 0.15);\n",
              "      fill: #174EA6;\n",
              "    }\n",
              "\n",
              "    [theme=dark] .colab-df-convert {\n",
              "      background-color: #3B4455;\n",
              "      fill: #D2E3FC;\n",
              "    }\n",
              "\n",
              "    [theme=dark] .colab-df-convert:hover {\n",
              "      background-color: #434B5C;\n",
              "      box-shadow: 0px 1px 3px 1px rgba(0, 0, 0, 0.15);\n",
              "      filter: drop-shadow(0px 1px 2px rgba(0, 0, 0, 0.3));\n",
              "      fill: #FFFFFF;\n",
              "    }\n",
              "  </style>\n",
              "\n",
              "      <script>\n",
              "        const buttonEl =\n",
              "          document.querySelector('#df-f0f43bb6-551b-4ac2-b08e-46af198fae4b button.colab-df-convert');\n",
              "        buttonEl.style.display =\n",
              "          google.colab.kernel.accessAllowed ? 'block' : 'none';\n",
              "\n",
              "        async function convertToInteractive(key) {\n",
              "          const element = document.querySelector('#df-f0f43bb6-551b-4ac2-b08e-46af198fae4b');\n",
              "          const dataTable =\n",
              "            await google.colab.kernel.invokeFunction('convertToInteractive',\n",
              "                                                     [key], {});\n",
              "          if (!dataTable) return;\n",
              "\n",
              "          const docLinkHtml = 'Like what you see? Visit the ' +\n",
              "            '<a target=\"_blank\" href=https://colab.research.google.com/notebooks/data_table.ipynb>data table notebook</a>'\n",
              "            + ' to learn more about interactive tables.';\n",
              "          element.innerHTML = '';\n",
              "          dataTable['output_type'] = 'display_data';\n",
              "          await google.colab.output.renderOutput(dataTable, element);\n",
              "          const docLink = document.createElement('div');\n",
              "          docLink.innerHTML = docLinkHtml;\n",
              "          element.appendChild(docLink);\n",
              "        }\n",
              "      </script>\n",
              "    </div>\n",
              "  </div>\n",
              "  "
            ]
          },
          "metadata": {},
          "execution_count": 47
        }
      ]
    },
    {
      "cell_type": "code",
      "source": [
        "# Build a model with the unfrozen layers\n",
        "input = keras.Input(shape=(32,32,3))\n",
        "\n",
        "origin = model_custom(input)\n",
        "den1 = layers.Dense(32, activation='relu')(origin)\n",
        "drop1 = layers.Dropout(0.2)(den1)\n",
        "den2 = layers.Dense(500, activation='relu')(drop1)\n",
        "drop2 = layers.Dropout(0.2)(den2)\n",
        "den3 = layers.Dense(250, activation='relu')(drop2)\n",
        "out = layers.Dense(10, activation='softmax')(den3)"
      ],
      "metadata": {
        "id": "8xJJcJYdW7SC"
      },
      "execution_count": 48,
      "outputs": []
    },
    {
      "cell_type": "code",
      "source": [
        "# Compile model\n",
        "transfer_model2.compile(optimizer='SGD', loss='categorical_crossentropy', metrics=['accuracy'])"
      ],
      "metadata": {
        "id": "eDu08l4br-yE"
      },
      "execution_count": 49,
      "outputs": []
    },
    {
      "cell_type": "code",
      "source": [
        "# Fit the training data to the model\n",
        "transfer_model2.fit(img_train, label_train, batch_size=10, epochs=50, verbose=1,\n",
        "                            validation_data=(img_val, label_val),\n",
        "                            shuffle=True)"
      ],
      "metadata": {
        "id": "VTD2S3vFsHtv",
        "colab": {
          "base_uri": "https://localhost:8080/"
        },
        "outputId": "e88b86b9-25c6-4a08-e62b-635d33f65fdd"
      },
      "execution_count": 50,
      "outputs": [
        {
          "output_type": "stream",
          "name": "stdout",
          "text": [
            "Epoch 1/50\n",
            "4/4 [==============================] - 1s 141ms/step - loss: 2.2095 - accuracy: 0.2500 - val_loss: 2.2798 - val_accuracy: 0.1000\n",
            "Epoch 2/50\n",
            "4/4 [==============================] - 0s 65ms/step - loss: 2.2119 - accuracy: 0.2188 - val_loss: 2.2796 - val_accuracy: 0.1000\n",
            "Epoch 3/50\n",
            "4/4 [==============================] - 0s 64ms/step - loss: 2.2019 - accuracy: 0.2500 - val_loss: 2.2793 - val_accuracy: 0.1000\n",
            "Epoch 4/50\n",
            "4/4 [==============================] - 0s 66ms/step - loss: 2.1988 - accuracy: 0.2812 - val_loss: 2.2794 - val_accuracy: 0.1000\n",
            "Epoch 5/50\n",
            "4/4 [==============================] - 0s 71ms/step - loss: 2.1976 - accuracy: 0.2500 - val_loss: 2.2794 - val_accuracy: 0.1000\n",
            "Epoch 6/50\n",
            "4/4 [==============================] - 0s 68ms/step - loss: 2.1937 - accuracy: 0.2500 - val_loss: 2.2786 - val_accuracy: 0.1000\n",
            "Epoch 7/50\n",
            "4/4 [==============================] - 0s 65ms/step - loss: 2.1865 - accuracy: 0.2812 - val_loss: 2.2779 - val_accuracy: 0.1000\n",
            "Epoch 8/50\n",
            "4/4 [==============================] - 0s 63ms/step - loss: 2.1816 - accuracy: 0.2812 - val_loss: 2.2776 - val_accuracy: 0.1000\n",
            "Epoch 9/50\n",
            "4/4 [==============================] - 0s 67ms/step - loss: 2.1883 - accuracy: 0.2812 - val_loss: 2.2766 - val_accuracy: 0.1000\n",
            "Epoch 10/50\n",
            "4/4 [==============================] - 0s 67ms/step - loss: 2.2025 - accuracy: 0.2500 - val_loss: 2.2750 - val_accuracy: 0.1000\n",
            "Epoch 11/50\n",
            "4/4 [==============================] - 0s 67ms/step - loss: 2.1881 - accuracy: 0.3125 - val_loss: 2.2738 - val_accuracy: 0.1000\n",
            "Epoch 12/50\n",
            "4/4 [==============================] - 0s 69ms/step - loss: 2.1844 - accuracy: 0.2812 - val_loss: 2.2735 - val_accuracy: 0.1000\n",
            "Epoch 13/50\n",
            "4/4 [==============================] - 0s 68ms/step - loss: 2.1858 - accuracy: 0.2188 - val_loss: 2.2726 - val_accuracy: 0.1000\n",
            "Epoch 14/50\n",
            "4/4 [==============================] - 0s 68ms/step - loss: 2.1812 - accuracy: 0.2812 - val_loss: 2.2716 - val_accuracy: 0.1000\n",
            "Epoch 15/50\n",
            "4/4 [==============================] - 0s 66ms/step - loss: 2.1657 - accuracy: 0.3125 - val_loss: 2.2711 - val_accuracy: 0.1000\n",
            "Epoch 16/50\n",
            "4/4 [==============================] - 0s 66ms/step - loss: 2.1823 - accuracy: 0.2500 - val_loss: 2.2701 - val_accuracy: 0.1000\n",
            "Epoch 17/50\n",
            "4/4 [==============================] - 0s 67ms/step - loss: 2.1556 - accuracy: 0.2812 - val_loss: 2.2695 - val_accuracy: 0.1000\n",
            "Epoch 18/50\n",
            "4/4 [==============================] - 0s 65ms/step - loss: 2.1647 - accuracy: 0.2812 - val_loss: 2.2684 - val_accuracy: 0.1000\n",
            "Epoch 19/50\n",
            "4/4 [==============================] - 0s 63ms/step - loss: 2.1671 - accuracy: 0.2500 - val_loss: 2.2676 - val_accuracy: 0.1000\n",
            "Epoch 20/50\n",
            "4/4 [==============================] - 0s 66ms/step - loss: 2.1542 - accuracy: 0.2812 - val_loss: 2.2670 - val_accuracy: 0.1000\n",
            "Epoch 21/50\n",
            "4/4 [==============================] - 0s 68ms/step - loss: 2.1545 - accuracy: 0.2812 - val_loss: 2.2664 - val_accuracy: 0.1000\n",
            "Epoch 22/50\n",
            "4/4 [==============================] - 0s 65ms/step - loss: 2.1563 - accuracy: 0.2812 - val_loss: 2.2665 - val_accuracy: 0.1000\n",
            "Epoch 23/50\n",
            "4/4 [==============================] - 0s 65ms/step - loss: 2.1580 - accuracy: 0.2812 - val_loss: 2.2649 - val_accuracy: 0.1000\n",
            "Epoch 24/50\n",
            "4/4 [==============================] - 0s 64ms/step - loss: 2.1593 - accuracy: 0.2812 - val_loss: 2.2646 - val_accuracy: 0.1000\n",
            "Epoch 25/50\n",
            "4/4 [==============================] - 0s 65ms/step - loss: 2.1453 - accuracy: 0.2812 - val_loss: 2.2642 - val_accuracy: 0.1000\n",
            "Epoch 26/50\n",
            "4/4 [==============================] - 0s 66ms/step - loss: 2.1381 - accuracy: 0.3125 - val_loss: 2.2638 - val_accuracy: 0.1000\n",
            "Epoch 27/50\n",
            "4/4 [==============================] - 0s 65ms/step - loss: 2.1380 - accuracy: 0.3125 - val_loss: 2.2628 - val_accuracy: 0.1000\n",
            "Epoch 28/50\n",
            "4/4 [==============================] - 0s 67ms/step - loss: 2.1196 - accuracy: 0.3125 - val_loss: 2.2622 - val_accuracy: 0.1000\n",
            "Epoch 29/50\n",
            "4/4 [==============================] - 0s 65ms/step - loss: 2.1336 - accuracy: 0.2812 - val_loss: 2.2615 - val_accuracy: 0.1000\n",
            "Epoch 30/50\n",
            "4/4 [==============================] - 0s 67ms/step - loss: 2.1337 - accuracy: 0.2500 - val_loss: 2.2603 - val_accuracy: 0.1000\n",
            "Epoch 31/50\n",
            "4/4 [==============================] - 0s 67ms/step - loss: 2.1350 - accuracy: 0.3125 - val_loss: 2.2592 - val_accuracy: 0.1000\n",
            "Epoch 32/50\n",
            "4/4 [==============================] - 0s 66ms/step - loss: 2.1177 - accuracy: 0.2500 - val_loss: 2.2577 - val_accuracy: 0.1000\n",
            "Epoch 33/50\n",
            "4/4 [==============================] - 0s 67ms/step - loss: 2.1147 - accuracy: 0.3125 - val_loss: 2.2573 - val_accuracy: 0.1500\n",
            "Epoch 34/50\n",
            "4/4 [==============================] - 0s 67ms/step - loss: 2.1305 - accuracy: 0.2812 - val_loss: 2.2561 - val_accuracy: 0.1500\n",
            "Epoch 35/50\n",
            "4/4 [==============================] - 0s 67ms/step - loss: 2.1290 - accuracy: 0.3125 - val_loss: 2.2555 - val_accuracy: 0.1500\n",
            "Epoch 36/50\n",
            "4/4 [==============================] - 0s 68ms/step - loss: 2.1054 - accuracy: 0.3438 - val_loss: 2.2553 - val_accuracy: 0.1000\n",
            "Epoch 37/50\n",
            "4/4 [==============================] - 0s 66ms/step - loss: 2.1025 - accuracy: 0.2500 - val_loss: 2.2550 - val_accuracy: 0.1000\n",
            "Epoch 38/50\n",
            "4/4 [==============================] - 0s 66ms/step - loss: 2.1046 - accuracy: 0.3125 - val_loss: 2.2545 - val_accuracy: 0.1000\n",
            "Epoch 39/50\n",
            "4/4 [==============================] - 0s 61ms/step - loss: 2.0808 - accuracy: 0.3125 - val_loss: 2.2536 - val_accuracy: 0.1000\n",
            "Epoch 40/50\n",
            "4/4 [==============================] - 0s 79ms/step - loss: 2.0902 - accuracy: 0.3125 - val_loss: 2.2526 - val_accuracy: 0.1500\n",
            "Epoch 41/50\n",
            "4/4 [==============================] - 0s 68ms/step - loss: 2.0856 - accuracy: 0.3125 - val_loss: 2.2485 - val_accuracy: 0.1500\n",
            "Epoch 42/50\n",
            "4/4 [==============================] - 0s 67ms/step - loss: 2.0783 - accuracy: 0.2812 - val_loss: 2.2472 - val_accuracy: 0.1000\n",
            "Epoch 43/50\n",
            "4/4 [==============================] - 0s 65ms/step - loss: 2.0743 - accuracy: 0.3438 - val_loss: 2.2472 - val_accuracy: 0.1000\n",
            "Epoch 44/50\n",
            "4/4 [==============================] - 0s 71ms/step - loss: 2.0727 - accuracy: 0.3438 - val_loss: 2.2457 - val_accuracy: 0.1000\n",
            "Epoch 45/50\n",
            "4/4 [==============================] - 0s 64ms/step - loss: 2.0676 - accuracy: 0.4062 - val_loss: 2.2449 - val_accuracy: 0.2000\n",
            "Epoch 46/50\n",
            "4/4 [==============================] - 0s 64ms/step - loss: 2.0645 - accuracy: 0.3750 - val_loss: 2.2439 - val_accuracy: 0.2000\n",
            "Epoch 47/50\n",
            "4/4 [==============================] - 0s 63ms/step - loss: 2.0730 - accuracy: 0.3438 - val_loss: 2.2438 - val_accuracy: 0.2000\n",
            "Epoch 48/50\n",
            "4/4 [==============================] - 0s 61ms/step - loss: 2.0414 - accuracy: 0.3750 - val_loss: 2.2440 - val_accuracy: 0.2000\n",
            "Epoch 49/50\n",
            "4/4 [==============================] - 0s 66ms/step - loss: 2.0586 - accuracy: 0.3750 - val_loss: 2.2444 - val_accuracy: 0.2500\n",
            "Epoch 50/50\n",
            "4/4 [==============================] - 0s 66ms/step - loss: 2.0460 - accuracy: 0.4688 - val_loss: 2.2436 - val_accuracy: 0.2500\n"
          ]
        },
        {
          "output_type": "execute_result",
          "data": {
            "text/plain": [
              "<keras.callbacks.History at 0x7f9557a9f250>"
            ]
          },
          "metadata": {},
          "execution_count": 50
        }
      ]
    },
    {
      "cell_type": "code",
      "source": [
        "# Predict the first 5 images\n",
        "pred = transfer_model2.predict(img_val[0:5, :])\n",
        "classes2 = np.argmax(pred, axis = 1)\n",
        "actual2 = np.argmax(label_val[0:5], axis = 1)\n",
        "\n",
        "# Show what the model predicted\n",
        "print(\"The model identified the images to belong to classes {}.\".format(classes2))\n",
        "# Show actual labels\n",
        "print(\"The model identified the images to belong to classes {}.\".format(actual2))"
      ],
      "metadata": {
        "colab": {
          "base_uri": "https://localhost:8080/"
        },
        "id": "c75I9OKajsf3",
        "outputId": "095c5585-2460-496e-f0af-77e19d2ba647"
      },
      "execution_count": 51,
      "outputs": [
        {
          "output_type": "stream",
          "name": "stdout",
          "text": [
            "The model identified the images to belong to classes [0 6 0 0 6].\n",
            "The model identified the images to belong to classes [1 5 8 5 2].\n"
          ]
        }
      ]
    }
  ]
}